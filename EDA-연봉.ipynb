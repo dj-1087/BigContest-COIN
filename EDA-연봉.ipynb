{
 "cells": [
  {
   "cell_type": "markdown",
   "metadata": {},
   "source": [
    "### load csv [for 연봉]"
   ]
  },
  {
   "cell_type": "code",
   "execution_count": 67,
   "metadata": {
    "slideshow": {
     "slide_type": "-"
    }
   },
   "outputs": [
    {
     "data": {
      "text/plain": [
       "OB    5\n",
       "LT    5\n",
       "NC    5\n",
       "WO    5\n",
       "SK    5\n",
       "SS    5\n",
       "HT    5\n",
       "LG    5\n",
       "HH    5\n",
       "KT    5\n",
       "Name: T_ID, dtype: int64"
      ]
     },
     "execution_count": 67,
     "metadata": {},
     "output_type": "execute_result"
    }
   ],
   "source": [
    "import numpy as np\n",
    "import pandas as pd\n",
    "# 선수, 팀 데이터\n",
    "PATH_P = \"C:/Users/home/DA(inflearn)/individual_pitcher/2020빅콘테스트 문제데이터(데이터분석분야-퓨처스리그)/2020빅콘테스트 데이터분석분야-퓨쳐스리그_스포츠투아이_제공데이터(.CSV)_시즌별, 시트별 구분/2020빅콘테스트_스포츠투아이_제공데이터_선수_\"\n",
    "PATH_T = \"C:/Users/home/DA(inflearn)/individual_pitcher/2020빅콘테스트 문제데이터(데이터분석분야-퓨처스리그)/2020빅콘테스트 데이터분석분야-퓨쳐스리그_스포츠투아이_제공데이터(.CSV)_시즌별, 시트별 구분/2020빅콘테스트_스포츠투아이_제공데이터_팀_\"\n",
    "\n",
    "doc_p = None\n",
    "doc_t = None\n",
    "for i in [2016, 2017, 2018, 2019, 2020]:\n",
    "    doc_i = pd.read_csv(PATH_P+str(i)+\".csv\", encoding='CP949')\n",
    "    doc_p = pd.concat([doc_p, doc_i], axis=0)\n",
    "    doc_j = pd.read_csv(PATH_T+str(i)+\".csv\", encoding='CP949')\n",
    "    doc_t = pd.concat([doc_t, doc_j], axis=0)\n",
    "\n",
    "# 시즌에 따라 팀명이 바뀌는 지 확인\n",
    "doc_t.iloc[:,0].value_counts() #안 바뀜"
   ]
  },
  {
   "cell_type": "markdown",
   "metadata": {},
   "source": [
    "### 데이터 가공"
   ]
  },
  {
   "cell_type": "code",
   "execution_count": 68,
   "metadata": {},
   "outputs": [
    {
     "data": {
      "text/html": [
       "<div>\n",
       "<style scoped>\n",
       "    .dataframe tbody tr th:only-of-type {\n",
       "        vertical-align: middle;\n",
       "    }\n",
       "\n",
       "    .dataframe tbody tr th {\n",
       "        vertical-align: top;\n",
       "    }\n",
       "\n",
       "    .dataframe thead th {\n",
       "        text-align: right;\n",
       "    }\n",
       "</style>\n",
       "<table border=\"1\" class=\"dataframe\">\n",
       "  <thead>\n",
       "    <tr style=\"text-align: right;\">\n",
       "      <th></th>\n",
       "      <th>GYEAR</th>\n",
       "      <th>PCODE</th>\n",
       "      <th>NAME</th>\n",
       "      <th>T_ID</th>\n",
       "      <th>T_NM</th>\n",
       "      <th>POSITION</th>\n",
       "      <th>AGE_VA</th>\n",
       "      <th>MONEY</th>\n",
       "    </tr>\n",
       "  </thead>\n",
       "  <tbody>\n",
       "    <tr>\n",
       "      <th>0</th>\n",
       "      <td>2016</td>\n",
       "      <td>60100</td>\n",
       "      <td>백창수</td>\n",
       "      <td>LG</td>\n",
       "      <td>LG</td>\n",
       "      <td>내</td>\n",
       "      <td>28</td>\n",
       "      <td>4000만원</td>\n",
       "    </tr>\n",
       "    <tr>\n",
       "      <th>1</th>\n",
       "      <td>2016</td>\n",
       "      <td>60105</td>\n",
       "      <td>배민관</td>\n",
       "      <td>LG</td>\n",
       "      <td>LG</td>\n",
       "      <td>투</td>\n",
       "      <td>25</td>\n",
       "      <td>2700만원</td>\n",
       "    </tr>\n",
       "    <tr>\n",
       "      <th>2</th>\n",
       "      <td>2016</td>\n",
       "      <td>60146</td>\n",
       "      <td>이승현</td>\n",
       "      <td>LG</td>\n",
       "      <td>LG</td>\n",
       "      <td>투</td>\n",
       "      <td>25</td>\n",
       "      <td>3700만원</td>\n",
       "    </tr>\n",
       "    <tr>\n",
       "      <th>3</th>\n",
       "      <td>2016</td>\n",
       "      <td>60164</td>\n",
       "      <td>유경국</td>\n",
       "      <td>LG</td>\n",
       "      <td>LG</td>\n",
       "      <td>투</td>\n",
       "      <td>25</td>\n",
       "      <td>2700만원</td>\n",
       "    </tr>\n",
       "    <tr>\n",
       "      <th>4</th>\n",
       "      <td>2016</td>\n",
       "      <td>60181</td>\n",
       "      <td>김지용</td>\n",
       "      <td>LG</td>\n",
       "      <td>LG</td>\n",
       "      <td>투</td>\n",
       "      <td>28</td>\n",
       "      <td>4000만원</td>\n",
       "    </tr>\n",
       "    <tr>\n",
       "      <th>...</th>\n",
       "      <td>...</td>\n",
       "      <td>...</td>\n",
       "      <td>...</td>\n",
       "      <td>...</td>\n",
       "      <td>...</td>\n",
       "      <td>...</td>\n",
       "      <td>...</td>\n",
       "      <td>...</td>\n",
       "    </tr>\n",
       "    <tr>\n",
       "      <th>3266</th>\n",
       "      <td>2020</td>\n",
       "      <td>79705</td>\n",
       "      <td>김회성</td>\n",
       "      <td>HH</td>\n",
       "      <td>한화</td>\n",
       "      <td>내</td>\n",
       "      <td>35</td>\n",
       "      <td>6500만원</td>\n",
       "    </tr>\n",
       "    <tr>\n",
       "      <th>3267</th>\n",
       "      <td>2020</td>\n",
       "      <td>79764</td>\n",
       "      <td>장민재</td>\n",
       "      <td>HH</td>\n",
       "      <td>한화</td>\n",
       "      <td>투</td>\n",
       "      <td>30</td>\n",
       "      <td>11000만원</td>\n",
       "    </tr>\n",
       "    <tr>\n",
       "      <th>3268</th>\n",
       "      <td>2020</td>\n",
       "      <td>79825</td>\n",
       "      <td>여건욱</td>\n",
       "      <td>LG</td>\n",
       "      <td>LG</td>\n",
       "      <td>투</td>\n",
       "      <td>34</td>\n",
       "      <td>7000만원</td>\n",
       "    </tr>\n",
       "    <tr>\n",
       "      <th>3269</th>\n",
       "      <td>2020</td>\n",
       "      <td>79847</td>\n",
       "      <td>김태훈</td>\n",
       "      <td>SK</td>\n",
       "      <td>SK</td>\n",
       "      <td>투</td>\n",
       "      <td>30</td>\n",
       "      <td>24000만원</td>\n",
       "    </tr>\n",
       "    <tr>\n",
       "      <th>3270</th>\n",
       "      <td>2020</td>\n",
       "      <td>99445</td>\n",
       "      <td>권오준</td>\n",
       "      <td>SS</td>\n",
       "      <td>삼성</td>\n",
       "      <td>투</td>\n",
       "      <td>40</td>\n",
       "      <td>8000만원</td>\n",
       "    </tr>\n",
       "  </tbody>\n",
       "</table>\n",
       "<p>3271 rows × 8 columns</p>\n",
       "</div>"
      ],
      "text/plain": [
       "      GYEAR  PCODE NAME T_ID T_NM POSITION  AGE_VA    MONEY\n",
       "0      2016  60100  백창수   LG   LG        내      28   4000만원\n",
       "1      2016  60105  배민관   LG   LG        투      25   2700만원\n",
       "2      2016  60146  이승현   LG   LG        투      25   3700만원\n",
       "3      2016  60164  유경국   LG   LG        투      25   2700만원\n",
       "4      2016  60181  김지용   LG   LG        투      28   4000만원\n",
       "...     ...    ...  ...  ...  ...      ...     ...      ...\n",
       "3266   2020  79705  김회성   HH   한화        내      35   6500만원\n",
       "3267   2020  79764  장민재   HH   한화        투      30  11000만원\n",
       "3268   2020  79825  여건욱   LG   LG        투      34   7000만원\n",
       "3269   2020  79847  김태훈   SK   SK        투      30  24000만원\n",
       "3270   2020  99445  권오준   SS   삼성        투      40   8000만원\n",
       "\n",
       "[3271 rows x 8 columns]"
      ]
     },
     "execution_count": 68,
     "metadata": {},
     "output_type": "execute_result"
    }
   ],
   "source": [
    "# 팀+선수 & 컬럼 순서 교체\n",
    "doc_t = pd.read_csv(PATH_T+\"2020\"+\".csv\", encoding='CP949')\n",
    "p_df = pd.merge(doc_p, doc_t, on=\"T_ID\", how=\"left\")\n",
    "p_df = p_df[[\"GYEAR\",\"PCODE\",\"NAME\",\"T_ID\",\"T_NM\",\"POSITION\",\"AGE_VA\",\"MONEY\"]]\n",
    "p_df"
   ]
  },
  {
   "cell_type": "code",
   "execution_count": 69,
   "metadata": {},
   "outputs": [
    {
     "data": {
      "text/html": [
       "<div>\n",
       "<style scoped>\n",
       "    .dataframe tbody tr th:only-of-type {\n",
       "        vertical-align: middle;\n",
       "    }\n",
       "\n",
       "    .dataframe tbody tr th {\n",
       "        vertical-align: top;\n",
       "    }\n",
       "\n",
       "    .dataframe thead th {\n",
       "        text-align: right;\n",
       "    }\n",
       "</style>\n",
       "<table border=\"1\" class=\"dataframe\">\n",
       "  <thead>\n",
       "    <tr style=\"text-align: right;\">\n",
       "      <th></th>\n",
       "      <th>시즌</th>\n",
       "      <th>선수코드</th>\n",
       "      <th>선수명</th>\n",
       "      <th>팀코드</th>\n",
       "      <th>팀명</th>\n",
       "      <th>포지션</th>\n",
       "      <th>나이</th>\n",
       "      <th>연봉</th>\n",
       "    </tr>\n",
       "  </thead>\n",
       "  <tbody>\n",
       "    <tr>\n",
       "      <th>0</th>\n",
       "      <td>2016</td>\n",
       "      <td>60100</td>\n",
       "      <td>백창수</td>\n",
       "      <td>LG</td>\n",
       "      <td>LG</td>\n",
       "      <td>내</td>\n",
       "      <td>28</td>\n",
       "      <td>4000만원</td>\n",
       "    </tr>\n",
       "    <tr>\n",
       "      <th>1</th>\n",
       "      <td>2016</td>\n",
       "      <td>60105</td>\n",
       "      <td>배민관</td>\n",
       "      <td>LG</td>\n",
       "      <td>LG</td>\n",
       "      <td>투</td>\n",
       "      <td>25</td>\n",
       "      <td>2700만원</td>\n",
       "    </tr>\n",
       "    <tr>\n",
       "      <th>2</th>\n",
       "      <td>2016</td>\n",
       "      <td>60146</td>\n",
       "      <td>이승현</td>\n",
       "      <td>LG</td>\n",
       "      <td>LG</td>\n",
       "      <td>투</td>\n",
       "      <td>25</td>\n",
       "      <td>3700만원</td>\n",
       "    </tr>\n",
       "    <tr>\n",
       "      <th>3</th>\n",
       "      <td>2016</td>\n",
       "      <td>60164</td>\n",
       "      <td>유경국</td>\n",
       "      <td>LG</td>\n",
       "      <td>LG</td>\n",
       "      <td>투</td>\n",
       "      <td>25</td>\n",
       "      <td>2700만원</td>\n",
       "    </tr>\n",
       "    <tr>\n",
       "      <th>4</th>\n",
       "      <td>2016</td>\n",
       "      <td>60181</td>\n",
       "      <td>김지용</td>\n",
       "      <td>LG</td>\n",
       "      <td>LG</td>\n",
       "      <td>투</td>\n",
       "      <td>28</td>\n",
       "      <td>4000만원</td>\n",
       "    </tr>\n",
       "    <tr>\n",
       "      <th>...</th>\n",
       "      <td>...</td>\n",
       "      <td>...</td>\n",
       "      <td>...</td>\n",
       "      <td>...</td>\n",
       "      <td>...</td>\n",
       "      <td>...</td>\n",
       "      <td>...</td>\n",
       "      <td>...</td>\n",
       "    </tr>\n",
       "    <tr>\n",
       "      <th>3266</th>\n",
       "      <td>2020</td>\n",
       "      <td>79705</td>\n",
       "      <td>김회성</td>\n",
       "      <td>HH</td>\n",
       "      <td>한화</td>\n",
       "      <td>내</td>\n",
       "      <td>35</td>\n",
       "      <td>6500만원</td>\n",
       "    </tr>\n",
       "    <tr>\n",
       "      <th>3267</th>\n",
       "      <td>2020</td>\n",
       "      <td>79764</td>\n",
       "      <td>장민재</td>\n",
       "      <td>HH</td>\n",
       "      <td>한화</td>\n",
       "      <td>투</td>\n",
       "      <td>30</td>\n",
       "      <td>11000만원</td>\n",
       "    </tr>\n",
       "    <tr>\n",
       "      <th>3268</th>\n",
       "      <td>2020</td>\n",
       "      <td>79825</td>\n",
       "      <td>여건욱</td>\n",
       "      <td>LG</td>\n",
       "      <td>LG</td>\n",
       "      <td>투</td>\n",
       "      <td>34</td>\n",
       "      <td>7000만원</td>\n",
       "    </tr>\n",
       "    <tr>\n",
       "      <th>3269</th>\n",
       "      <td>2020</td>\n",
       "      <td>79847</td>\n",
       "      <td>김태훈</td>\n",
       "      <td>SK</td>\n",
       "      <td>SK</td>\n",
       "      <td>투</td>\n",
       "      <td>30</td>\n",
       "      <td>24000만원</td>\n",
       "    </tr>\n",
       "    <tr>\n",
       "      <th>3270</th>\n",
       "      <td>2020</td>\n",
       "      <td>99445</td>\n",
       "      <td>권오준</td>\n",
       "      <td>SS</td>\n",
       "      <td>삼성</td>\n",
       "      <td>투</td>\n",
       "      <td>40</td>\n",
       "      <td>8000만원</td>\n",
       "    </tr>\n",
       "  </tbody>\n",
       "</table>\n",
       "<p>3271 rows × 8 columns</p>\n",
       "</div>"
      ],
      "text/plain": [
       "        시즌   선수코드  선수명 팀코드  팀명 포지션  나이       연봉\n",
       "0     2016  60100  백창수  LG  LG   내  28   4000만원\n",
       "1     2016  60105  배민관  LG  LG   투  25   2700만원\n",
       "2     2016  60146  이승현  LG  LG   투  25   3700만원\n",
       "3     2016  60164  유경국  LG  LG   투  25   2700만원\n",
       "4     2016  60181  김지용  LG  LG   투  28   4000만원\n",
       "...    ...    ...  ...  ..  ..  ..  ..      ...\n",
       "3266  2020  79705  김회성  HH  한화   내  35   6500만원\n",
       "3267  2020  79764  장민재  HH  한화   투  30  11000만원\n",
       "3268  2020  79825  여건욱  LG  LG   투  34   7000만원\n",
       "3269  2020  79847  김태훈  SK  SK   투  30  24000만원\n",
       "3270  2020  99445  권오준  SS  삼성   투  40   8000만원\n",
       "\n",
       "[3271 rows x 8 columns]"
      ]
     },
     "execution_count": 69,
     "metadata": {},
     "output_type": "execute_result"
    }
   ],
   "source": [
    "# 컬럼명 변경\n",
    "p_df.columns = [\"시즌\", \"선수코드\", \"선수명\", \"팀코드\", \"팀명\", \"포지션\", \"나이\", \"연봉\"]\n",
    "p_df = p_df.set_index(pd.Index(range(0,p_df.shape[0])))\n",
    "p_df"
   ]
  },
  {
   "cell_type": "code",
   "execution_count": 70,
   "metadata": {},
   "outputs": [
    {
     "name": "stdout",
     "output_type": "stream",
     "text": [
      "<class 'pandas.core.frame.DataFrame'>\n",
      "RangeIndex: 3271 entries, 0 to 3270\n",
      "Data columns (total 8 columns):\n",
      " #   Column  Non-Null Count  Dtype \n",
      "---  ------  --------------  ----- \n",
      " 0   시즌      3271 non-null   int64 \n",
      " 1   선수코드    3271 non-null   int64 \n",
      " 2   선수명     3271 non-null   object\n",
      " 3   팀코드     3271 non-null   object\n",
      " 4   팀명      3271 non-null   object\n",
      " 5   포지션     3271 non-null   object\n",
      " 6   나이      3271 non-null   int64 \n",
      " 7   연봉      3270 non-null   object\n",
      "dtypes: int64(3), object(5)\n",
      "memory usage: 204.6+ KB\n"
     ]
    }
   ],
   "source": [
    "# 결측치 확인\n",
    "p_df.info()"
   ]
  },
  {
   "cell_type": "code",
   "execution_count": 71,
   "metadata": {},
   "outputs": [
    {
     "name": "stdout",
     "output_type": "stream",
     "text": [
      "연봉    0\n",
      "dtype: int64\n"
     ]
    }
   ],
   "source": [
    "# 결측치 정제\n",
    "p_df = p_df.fillna({\"연봉\":\"0만원\"})\n",
    "print(p_df[[\"연봉\"]].isnull().sum())"
   ]
  },
  {
   "cell_type": "code",
   "execution_count": 72,
   "metadata": {},
   "outputs": [
    {
     "name": "stderr",
     "output_type": "stream",
     "text": [
      "C:\\Users\\home\\anaconda3\\lib\\site-packages\\ipykernel_launcher.py:2: DeprecationWarning:\n",
      "\n",
      "The default dtype for empty Series will be 'object' instead of 'float64' in a future version. Specify a dtype explicitly to silence this warning.\n",
      "\n"
     ]
    },
    {
     "data": {
      "text/plain": [
       "만원    3091\n",
       "달러     179\n",
       "0엔       1\n",
       "dtype: int64"
      ]
     },
     "execution_count": 72,
     "metadata": {},
     "output_type": "execute_result"
    }
   ],
   "source": [
    "# 연봉 단위 확인\n",
    "unit = pd.Series(index=range(p_df.shape[0]))\n",
    "for i, row in p_df.iterrows():\n",
    "    unit[i] = p_df.at[i,\"연봉\"][-2:]\n",
    "unit.value_counts()"
   ]
  },
  {
   "cell_type": "code",
   "execution_count": 73,
   "metadata": {},
   "outputs": [
    {
     "data": {
      "text/html": [
       "<div>\n",
       "<style scoped>\n",
       "    .dataframe tbody tr th:only-of-type {\n",
       "        vertical-align: middle;\n",
       "    }\n",
       "\n",
       "    .dataframe tbody tr th {\n",
       "        vertical-align: top;\n",
       "    }\n",
       "\n",
       "    .dataframe thead th {\n",
       "        text-align: right;\n",
       "    }\n",
       "</style>\n",
       "<table border=\"1\" class=\"dataframe\">\n",
       "  <thead>\n",
       "    <tr style=\"text-align: right;\">\n",
       "      <th></th>\n",
       "      <th>연봉</th>\n",
       "    </tr>\n",
       "  </thead>\n",
       "  <tbody>\n",
       "    <tr>\n",
       "      <th>0</th>\n",
       "      <td>4000</td>\n",
       "    </tr>\n",
       "    <tr>\n",
       "      <th>1</th>\n",
       "      <td>2700</td>\n",
       "    </tr>\n",
       "    <tr>\n",
       "      <th>2</th>\n",
       "      <td>3700</td>\n",
       "    </tr>\n",
       "    <tr>\n",
       "      <th>3</th>\n",
       "      <td>2700</td>\n",
       "    </tr>\n",
       "    <tr>\n",
       "      <th>4</th>\n",
       "      <td>4000</td>\n",
       "    </tr>\n",
       "    <tr>\n",
       "      <th>...</th>\n",
       "      <td>...</td>\n",
       "    </tr>\n",
       "    <tr>\n",
       "      <th>3266</th>\n",
       "      <td>6500</td>\n",
       "    </tr>\n",
       "    <tr>\n",
       "      <th>3267</th>\n",
       "      <td>11000</td>\n",
       "    </tr>\n",
       "    <tr>\n",
       "      <th>3268</th>\n",
       "      <td>7000</td>\n",
       "    </tr>\n",
       "    <tr>\n",
       "      <th>3269</th>\n",
       "      <td>24000</td>\n",
       "    </tr>\n",
       "    <tr>\n",
       "      <th>3270</th>\n",
       "      <td>8000</td>\n",
       "    </tr>\n",
       "  </tbody>\n",
       "</table>\n",
       "<p>3271 rows × 1 columns</p>\n",
       "</div>"
      ],
      "text/plain": [
       "         연봉\n",
       "0      4000\n",
       "1      2700\n",
       "2      3700\n",
       "3      2700\n",
       "4      4000\n",
       "...     ...\n",
       "3266   6500\n",
       "3267  11000\n",
       "3268   7000\n",
       "3269  24000\n",
       "3270   8000\n",
       "\n",
       "[3271 rows x 1 columns]"
      ]
     },
     "execution_count": 73,
     "metadata": {},
     "output_type": "execute_result"
    }
   ],
   "source": [
    "# 단위 통일 + 환율 계산\n",
    "for i, row in p_df.iterrows():\n",
    "    money = int(p_df.at[i,\"연봉\"][:-2])\n",
    "    if(p_df.at[i,\"연봉\"][-2:]==\"달러\"):\n",
    "        money *= 0.11\n",
    "        p_df.at[i,\"연봉\"] = money\n",
    "    elif(p_df.at[i,\"연봉\"][-2:]==\"0엔\"):\n",
    "        money = int(p_df.at[i,\"연봉\"][:-1])\n",
    "        money *= 0.0011\n",
    "        p_df.at[i,\"연봉\"] = money\n",
    "    else:\n",
    "        p_df.at[i,\"연봉\"] = money\n",
    "p_df[[\"연봉\"]]"
   ]
  },
  {
   "cell_type": "code",
   "execution_count": 74,
   "metadata": {},
   "outputs": [
    {
     "data": {
      "text/plain": [
       "시즌        2016\n",
       "선수코드     61240\n",
       "선수명        니퍼트\n",
       "팀코드         OB\n",
       "팀명          두산\n",
       "포지션          투\n",
       "나이          35\n",
       "연봉      132000\n",
       "Name: 54, dtype: object"
      ]
     },
     "execution_count": 74,
     "metadata": {},
     "output_type": "execute_result"
    }
   ],
   "source": [
    "# 확인\n",
    "p_df.iloc[54]"
   ]
  },
  {
   "cell_type": "code",
   "execution_count": 75,
   "metadata": {},
   "outputs": [
    {
     "data": {
      "text/plain": [
       "132000.0"
      ]
     },
     "execution_count": 75,
     "metadata": {},
     "output_type": "execute_result"
    }
   ],
   "source": [
    "1200000*0.11"
   ]
  },
  {
   "cell_type": "code",
   "execution_count": 76,
   "metadata": {},
   "outputs": [
    {
     "data": {
      "text/plain": [
       "22000.0"
      ]
     },
     "execution_count": 76,
     "metadata": {},
     "output_type": "execute_result"
    }
   ],
   "source": [
    "# 확인2\n",
    "20000000*0.0011"
   ]
  },
  {
   "cell_type": "code",
   "execution_count": 77,
   "metadata": {},
   "outputs": [
    {
     "data": {
      "text/plain": [
       "시즌       2016\n",
       "선수코드    66748\n",
       "선수명     마에스트리\n",
       "팀코드        HH\n",
       "팀명         한화\n",
       "포지션         투\n",
       "나이         31\n",
       "연봉      22000\n",
       "Name: 367, dtype: object"
      ]
     },
     "execution_count": 77,
     "metadata": {},
     "output_type": "execute_result"
    }
   ],
   "source": [
    "p_df.iloc[367]"
   ]
  },
  {
   "cell_type": "code",
   "execution_count": 78,
   "metadata": {},
   "outputs": [
    {
     "data": {
      "text/plain": [
       "연봉    object\n",
       "dtype: object"
      ]
     },
     "execution_count": 78,
     "metadata": {},
     "output_type": "execute_result"
    }
   ],
   "source": [
    "# 데이터 타입 확인\n",
    "p_df[[\"연봉\"]].dtypes"
   ]
  },
  {
   "cell_type": "code",
   "execution_count": 79,
   "metadata": {},
   "outputs": [
    {
     "data": {
      "text/html": [
       "<div>\n",
       "<style scoped>\n",
       "    .dataframe tbody tr th:only-of-type {\n",
       "        vertical-align: middle;\n",
       "    }\n",
       "\n",
       "    .dataframe tbody tr th {\n",
       "        vertical-align: top;\n",
       "    }\n",
       "\n",
       "    .dataframe thead th {\n",
       "        text-align: right;\n",
       "    }\n",
       "</style>\n",
       "<table border=\"1\" class=\"dataframe\">\n",
       "  <thead>\n",
       "    <tr style=\"text-align: right;\">\n",
       "      <th></th>\n",
       "      <th>연봉</th>\n",
       "    </tr>\n",
       "  </thead>\n",
       "  <tbody>\n",
       "    <tr>\n",
       "      <th>0</th>\n",
       "      <td>4000.0</td>\n",
       "    </tr>\n",
       "    <tr>\n",
       "      <th>1</th>\n",
       "      <td>2700.0</td>\n",
       "    </tr>\n",
       "    <tr>\n",
       "      <th>2</th>\n",
       "      <td>3700.0</td>\n",
       "    </tr>\n",
       "    <tr>\n",
       "      <th>3</th>\n",
       "      <td>2700.0</td>\n",
       "    </tr>\n",
       "    <tr>\n",
       "      <th>4</th>\n",
       "      <td>4000.0</td>\n",
       "    </tr>\n",
       "    <tr>\n",
       "      <th>...</th>\n",
       "      <td>...</td>\n",
       "    </tr>\n",
       "    <tr>\n",
       "      <th>3266</th>\n",
       "      <td>6500.0</td>\n",
       "    </tr>\n",
       "    <tr>\n",
       "      <th>3267</th>\n",
       "      <td>11000.0</td>\n",
       "    </tr>\n",
       "    <tr>\n",
       "      <th>3268</th>\n",
       "      <td>7000.0</td>\n",
       "    </tr>\n",
       "    <tr>\n",
       "      <th>3269</th>\n",
       "      <td>24000.0</td>\n",
       "    </tr>\n",
       "    <tr>\n",
       "      <th>3270</th>\n",
       "      <td>8000.0</td>\n",
       "    </tr>\n",
       "  </tbody>\n",
       "</table>\n",
       "<p>3271 rows × 1 columns</p>\n",
       "</div>"
      ],
      "text/plain": [
       "           연봉\n",
       "0      4000.0\n",
       "1      2700.0\n",
       "2      3700.0\n",
       "3      2700.0\n",
       "4      4000.0\n",
       "...       ...\n",
       "3266   6500.0\n",
       "3267  11000.0\n",
       "3268   7000.0\n",
       "3269  24000.0\n",
       "3270   8000.0\n",
       "\n",
       "[3271 rows x 1 columns]"
      ]
     },
     "execution_count": 79,
     "metadata": {},
     "output_type": "execute_result"
    }
   ],
   "source": [
    "# 데이터 타입 변경(obj -> float)\n",
    "p_df[[\"연봉\"]] = p_df[[\"연봉\"]].astype(str).astype(\"float64\")\n",
    "p_df[[\"연봉\"]]"
   ]
  },
  {
   "cell_type": "code",
   "execution_count": 108,
   "metadata": {},
   "outputs": [
    {
     "data": {
      "text/html": [
       "<div>\n",
       "<style scoped>\n",
       "    .dataframe tbody tr th:only-of-type {\n",
       "        vertical-align: middle;\n",
       "    }\n",
       "\n",
       "    .dataframe tbody tr th {\n",
       "        vertical-align: top;\n",
       "    }\n",
       "\n",
       "    .dataframe thead th {\n",
       "        text-align: right;\n",
       "    }\n",
       "</style>\n",
       "<table border=\"1\" class=\"dataframe\">\n",
       "  <thead>\n",
       "    <tr style=\"text-align: right;\">\n",
       "      <th></th>\n",
       "      <th>시즌</th>\n",
       "      <th>팀코드</th>\n",
       "      <th>팀명</th>\n",
       "      <th>연봉</th>\n",
       "    </tr>\n",
       "  </thead>\n",
       "  <tbody>\n",
       "    <tr>\n",
       "      <th>0</th>\n",
       "      <td>2016</td>\n",
       "      <td>WO</td>\n",
       "      <td>키움</td>\n",
       "      <td>577200.0</td>\n",
       "    </tr>\n",
       "    <tr>\n",
       "      <th>1</th>\n",
       "      <td>2016</td>\n",
       "      <td>KT</td>\n",
       "      <td>KT</td>\n",
       "      <td>726300.0</td>\n",
       "    </tr>\n",
       "    <tr>\n",
       "      <th>2</th>\n",
       "      <td>2016</td>\n",
       "      <td>NC</td>\n",
       "      <td>NC</td>\n",
       "      <td>872200.0</td>\n",
       "    </tr>\n",
       "    <tr>\n",
       "      <th>3</th>\n",
       "      <td>2016</td>\n",
       "      <td>LG</td>\n",
       "      <td>LG</td>\n",
       "      <td>925700.0</td>\n",
       "    </tr>\n",
       "    <tr>\n",
       "      <th>4</th>\n",
       "      <td>2016</td>\n",
       "      <td>SK</td>\n",
       "      <td>SK</td>\n",
       "      <td>955500.0</td>\n",
       "    </tr>\n",
       "    <tr>\n",
       "      <th>5</th>\n",
       "      <td>2016</td>\n",
       "      <td>OB</td>\n",
       "      <td>두산</td>\n",
       "      <td>1005900.0</td>\n",
       "    </tr>\n",
       "    <tr>\n",
       "      <th>6</th>\n",
       "      <td>2016</td>\n",
       "      <td>HT</td>\n",
       "      <td>KIA</td>\n",
       "      <td>1058700.0</td>\n",
       "    </tr>\n",
       "    <tr>\n",
       "      <th>7</th>\n",
       "      <td>2016</td>\n",
       "      <td>LT</td>\n",
       "      <td>롯데</td>\n",
       "      <td>1088400.0</td>\n",
       "    </tr>\n",
       "    <tr>\n",
       "      <th>8</th>\n",
       "      <td>2016</td>\n",
       "      <td>SS</td>\n",
       "      <td>삼성</td>\n",
       "      <td>1116400.0</td>\n",
       "    </tr>\n",
       "    <tr>\n",
       "      <th>9</th>\n",
       "      <td>2016</td>\n",
       "      <td>HH</td>\n",
       "      <td>한화</td>\n",
       "      <td>1454500.0</td>\n",
       "    </tr>\n",
       "    <tr>\n",
       "      <th>10</th>\n",
       "      <td>2017</td>\n",
       "      <td>KT</td>\n",
       "      <td>KT</td>\n",
       "      <td>639600.0</td>\n",
       "    </tr>\n",
       "    <tr>\n",
       "      <th>11</th>\n",
       "      <td>2017</td>\n",
       "      <td>WO</td>\n",
       "      <td>키움</td>\n",
       "      <td>851900.0</td>\n",
       "    </tr>\n",
       "    <tr>\n",
       "      <th>12</th>\n",
       "      <td>2017</td>\n",
       "      <td>NC</td>\n",
       "      <td>NC</td>\n",
       "      <td>975700.0</td>\n",
       "    </tr>\n",
       "    <tr>\n",
       "      <th>13</th>\n",
       "      <td>2017</td>\n",
       "      <td>LG</td>\n",
       "      <td>LG</td>\n",
       "      <td>1019200.0</td>\n",
       "    </tr>\n",
       "    <tr>\n",
       "      <th>14</th>\n",
       "      <td>2017</td>\n",
       "      <td>SK</td>\n",
       "      <td>SK</td>\n",
       "      <td>1041500.0</td>\n",
       "    </tr>\n",
       "    <tr>\n",
       "      <th>15</th>\n",
       "      <td>2017</td>\n",
       "      <td>SS</td>\n",
       "      <td>삼성</td>\n",
       "      <td>1089800.0</td>\n",
       "    </tr>\n",
       "    <tr>\n",
       "      <th>16</th>\n",
       "      <td>2017</td>\n",
       "      <td>OB</td>\n",
       "      <td>두산</td>\n",
       "      <td>1160000.0</td>\n",
       "    </tr>\n",
       "    <tr>\n",
       "      <th>17</th>\n",
       "      <td>2017</td>\n",
       "      <td>LT</td>\n",
       "      <td>롯데</td>\n",
       "      <td>1243150.0</td>\n",
       "    </tr>\n",
       "    <tr>\n",
       "      <th>18</th>\n",
       "      <td>2017</td>\n",
       "      <td>HT</td>\n",
       "      <td>KIA</td>\n",
       "      <td>1366200.0</td>\n",
       "    </tr>\n",
       "    <tr>\n",
       "      <th>19</th>\n",
       "      <td>2017</td>\n",
       "      <td>HH</td>\n",
       "      <td>한화</td>\n",
       "      <td>1495600.0</td>\n",
       "    </tr>\n",
       "    <tr>\n",
       "      <th>20</th>\n",
       "      <td>2018</td>\n",
       "      <td>NC</td>\n",
       "      <td>NC</td>\n",
       "      <td>722500.0</td>\n",
       "    </tr>\n",
       "    <tr>\n",
       "      <th>21</th>\n",
       "      <td>2018</td>\n",
       "      <td>KT</td>\n",
       "      <td>KT</td>\n",
       "      <td>807300.0</td>\n",
       "    </tr>\n",
       "    <tr>\n",
       "      <th>22</th>\n",
       "      <td>2018</td>\n",
       "      <td>WO</td>\n",
       "      <td>키움</td>\n",
       "      <td>906800.0</td>\n",
       "    </tr>\n",
       "    <tr>\n",
       "      <th>23</th>\n",
       "      <td>2018</td>\n",
       "      <td>SS</td>\n",
       "      <td>삼성</td>\n",
       "      <td>1086300.0</td>\n",
       "    </tr>\n",
       "    <tr>\n",
       "      <th>24</th>\n",
       "      <td>2018</td>\n",
       "      <td>HH</td>\n",
       "      <td>한화</td>\n",
       "      <td>1108550.0</td>\n",
       "    </tr>\n",
       "    <tr>\n",
       "      <th>25</th>\n",
       "      <td>2018</td>\n",
       "      <td>LG</td>\n",
       "      <td>LG</td>\n",
       "      <td>1140200.0</td>\n",
       "    </tr>\n",
       "    <tr>\n",
       "      <th>26</th>\n",
       "      <td>2018</td>\n",
       "      <td>OB</td>\n",
       "      <td>두산</td>\n",
       "      <td>1148900.0</td>\n",
       "    </tr>\n",
       "    <tr>\n",
       "      <th>27</th>\n",
       "      <td>2018</td>\n",
       "      <td>SK</td>\n",
       "      <td>SK</td>\n",
       "      <td>1150000.0</td>\n",
       "    </tr>\n",
       "    <tr>\n",
       "      <th>28</th>\n",
       "      <td>2018</td>\n",
       "      <td>LT</td>\n",
       "      <td>롯데</td>\n",
       "      <td>1325600.0</td>\n",
       "    </tr>\n",
       "    <tr>\n",
       "      <th>29</th>\n",
       "      <td>2018</td>\n",
       "      <td>HT</td>\n",
       "      <td>KIA</td>\n",
       "      <td>1464500.0</td>\n",
       "    </tr>\n",
       "    <tr>\n",
       "      <th>30</th>\n",
       "      <td>2019</td>\n",
       "      <td>KT</td>\n",
       "      <td>KT</td>\n",
       "      <td>706700.0</td>\n",
       "    </tr>\n",
       "    <tr>\n",
       "      <th>31</th>\n",
       "      <td>2019</td>\n",
       "      <td>WO</td>\n",
       "      <td>키움</td>\n",
       "      <td>780100.0</td>\n",
       "    </tr>\n",
       "    <tr>\n",
       "      <th>32</th>\n",
       "      <td>2019</td>\n",
       "      <td>HH</td>\n",
       "      <td>한화</td>\n",
       "      <td>917500.0</td>\n",
       "    </tr>\n",
       "    <tr>\n",
       "      <th>33</th>\n",
       "      <td>2019</td>\n",
       "      <td>SS</td>\n",
       "      <td>삼성</td>\n",
       "      <td>1052800.0</td>\n",
       "    </tr>\n",
       "    <tr>\n",
       "      <th>34</th>\n",
       "      <td>2019</td>\n",
       "      <td>NC</td>\n",
       "      <td>NC</td>\n",
       "      <td>1082200.0</td>\n",
       "    </tr>\n",
       "    <tr>\n",
       "      <th>35</th>\n",
       "      <td>2019</td>\n",
       "      <td>LG</td>\n",
       "      <td>LG</td>\n",
       "      <td>1092500.0</td>\n",
       "    </tr>\n",
       "    <tr>\n",
       "      <th>36</th>\n",
       "      <td>2019</td>\n",
       "      <td>HT</td>\n",
       "      <td>KIA</td>\n",
       "      <td>1174400.0</td>\n",
       "    </tr>\n",
       "    <tr>\n",
       "      <th>37</th>\n",
       "      <td>2019</td>\n",
       "      <td>OB</td>\n",
       "      <td>두산</td>\n",
       "      <td>1178300.0</td>\n",
       "    </tr>\n",
       "    <tr>\n",
       "      <th>38</th>\n",
       "      <td>2019</td>\n",
       "      <td>SK</td>\n",
       "      <td>SK</td>\n",
       "      <td>1227400.0</td>\n",
       "    </tr>\n",
       "    <tr>\n",
       "      <th>39</th>\n",
       "      <td>2019</td>\n",
       "      <td>LT</td>\n",
       "      <td>롯데</td>\n",
       "      <td>1428210.0</td>\n",
       "    </tr>\n",
       "    <tr>\n",
       "      <th>40</th>\n",
       "      <td>2020</td>\n",
       "      <td>KT</td>\n",
       "      <td>KT</td>\n",
       "      <td>750700.0</td>\n",
       "    </tr>\n",
       "    <tr>\n",
       "      <th>41</th>\n",
       "      <td>2020</td>\n",
       "      <td>HH</td>\n",
       "      <td>한화</td>\n",
       "      <td>875100.0</td>\n",
       "    </tr>\n",
       "    <tr>\n",
       "      <th>42</th>\n",
       "      <td>2020</td>\n",
       "      <td>WO</td>\n",
       "      <td>키움</td>\n",
       "      <td>885600.0</td>\n",
       "    </tr>\n",
       "    <tr>\n",
       "      <th>43</th>\n",
       "      <td>2020</td>\n",
       "      <td>SK</td>\n",
       "      <td>SK</td>\n",
       "      <td>935800.0</td>\n",
       "    </tr>\n",
       "    <tr>\n",
       "      <th>44</th>\n",
       "      <td>2020</td>\n",
       "      <td>SS</td>\n",
       "      <td>삼성</td>\n",
       "      <td>970500.0</td>\n",
       "    </tr>\n",
       "    <tr>\n",
       "      <th>45</th>\n",
       "      <td>2020</td>\n",
       "      <td>OB</td>\n",
       "      <td>두산</td>\n",
       "      <td>975000.0</td>\n",
       "    </tr>\n",
       "    <tr>\n",
       "      <th>46</th>\n",
       "      <td>2020</td>\n",
       "      <td>HT</td>\n",
       "      <td>KIA</td>\n",
       "      <td>998090.0</td>\n",
       "    </tr>\n",
       "    <tr>\n",
       "      <th>47</th>\n",
       "      <td>2020</td>\n",
       "      <td>LT</td>\n",
       "      <td>롯데</td>\n",
       "      <td>1067700.0</td>\n",
       "    </tr>\n",
       "    <tr>\n",
       "      <th>48</th>\n",
       "      <td>2020</td>\n",
       "      <td>NC</td>\n",
       "      <td>NC</td>\n",
       "      <td>1101000.0</td>\n",
       "    </tr>\n",
       "    <tr>\n",
       "      <th>49</th>\n",
       "      <td>2020</td>\n",
       "      <td>LG</td>\n",
       "      <td>LG</td>\n",
       "      <td>1108900.0</td>\n",
       "    </tr>\n",
       "  </tbody>\n",
       "</table>\n",
       "</div>"
      ],
      "text/plain": [
       "      시즌 팀코드   팀명         연봉\n",
       "0   2016  WO   키움   577200.0\n",
       "1   2016  KT   KT   726300.0\n",
       "2   2016  NC   NC   872200.0\n",
       "3   2016  LG   LG   925700.0\n",
       "4   2016  SK   SK   955500.0\n",
       "5   2016  OB   두산  1005900.0\n",
       "6   2016  HT  KIA  1058700.0\n",
       "7   2016  LT   롯데  1088400.0\n",
       "8   2016  SS   삼성  1116400.0\n",
       "9   2016  HH   한화  1454500.0\n",
       "10  2017  KT   KT   639600.0\n",
       "11  2017  WO   키움   851900.0\n",
       "12  2017  NC   NC   975700.0\n",
       "13  2017  LG   LG  1019200.0\n",
       "14  2017  SK   SK  1041500.0\n",
       "15  2017  SS   삼성  1089800.0\n",
       "16  2017  OB   두산  1160000.0\n",
       "17  2017  LT   롯데  1243150.0\n",
       "18  2017  HT  KIA  1366200.0\n",
       "19  2017  HH   한화  1495600.0\n",
       "20  2018  NC   NC   722500.0\n",
       "21  2018  KT   KT   807300.0\n",
       "22  2018  WO   키움   906800.0\n",
       "23  2018  SS   삼성  1086300.0\n",
       "24  2018  HH   한화  1108550.0\n",
       "25  2018  LG   LG  1140200.0\n",
       "26  2018  OB   두산  1148900.0\n",
       "27  2018  SK   SK  1150000.0\n",
       "28  2018  LT   롯데  1325600.0\n",
       "29  2018  HT  KIA  1464500.0\n",
       "30  2019  KT   KT   706700.0\n",
       "31  2019  WO   키움   780100.0\n",
       "32  2019  HH   한화   917500.0\n",
       "33  2019  SS   삼성  1052800.0\n",
       "34  2019  NC   NC  1082200.0\n",
       "35  2019  LG   LG  1092500.0\n",
       "36  2019  HT  KIA  1174400.0\n",
       "37  2019  OB   두산  1178300.0\n",
       "38  2019  SK   SK  1227400.0\n",
       "39  2019  LT   롯데  1428210.0\n",
       "40  2020  KT   KT   750700.0\n",
       "41  2020  HH   한화   875100.0\n",
       "42  2020  WO   키움   885600.0\n",
       "43  2020  SK   SK   935800.0\n",
       "44  2020  SS   삼성   970500.0\n",
       "45  2020  OB   두산   975000.0\n",
       "46  2020  HT  KIA   998090.0\n",
       "47  2020  LT   롯데  1067700.0\n",
       "48  2020  NC   NC  1101000.0\n",
       "49  2020  LG   LG  1108900.0"
      ]
     },
     "execution_count": 108,
     "metadata": {},
     "output_type": "execute_result"
    }
   ],
   "source": [
    "# 팀별 연봉 계산(sum)\n",
    "t_df = p_df.groupby(by=[\"시즌\",\"팀코드\",\"팀명\"])\n",
    "t_df_sum = t_df.sum().sort_values(by=[\"시즌\",\"연봉\"])[[\"연봉\"]]\n",
    "t_df_sum = t_df_sum.reset_index()\n",
    "t_df_sum"
   ]
  },
  {
   "cell_type": "code",
   "execution_count": 82,
   "metadata": {},
   "outputs": [
    {
     "data": {
      "text/plain": [
       "0    WO\n",
       "1    KT\n",
       "2    NC\n",
       "3    LG\n",
       "4    SK\n",
       "5    OB\n",
       "6    HT\n",
       "7    LT\n",
       "8    SS\n",
       "9    HH\n",
       "Name: 팀코드, dtype: object"
      ]
     },
     "execution_count": 82,
     "metadata": {},
     "output_type": "execute_result"
    }
   ],
   "source": [
    "# 팀명 serise\n",
    "tim_labels = t_df_sum.iloc[0:10,1]\n",
    "tim_labels"
   ]
  },
  {
   "cell_type": "markdown",
   "metadata": {},
   "source": [
    "### 시각화"
   ]
  },
  {
   "cell_type": "code",
   "execution_count": 83,
   "metadata": {
    "scrolled": true
   },
   "outputs": [
    {
     "data": {
      "application/vnd.plotly.v1+json": {
       "config": {
        "plotlyServerURL": "https://plotly.com"
       },
       "data": [
        {
         "alignmentgroup": "True",
         "hovertemplate": "팀명=%{y}<br>시즌=2016<br>연봉=%{x}<extra></extra>",
         "legendgroup": "키움",
         "marker": {
          "color": "#636efa"
         },
         "name": "키움",
         "offsetgroup": "키움",
         "orientation": "h",
         "showlegend": true,
         "textposition": "auto",
         "type": "bar",
         "x": [
          577200
         ],
         "xaxis": "x5",
         "y": [
          "키움"
         ],
         "yaxis": "y5"
        },
        {
         "alignmentgroup": "True",
         "hovertemplate": "팀명=%{y}<br>시즌=2017<br>연봉=%{x}<extra></extra>",
         "legendgroup": "키움",
         "marker": {
          "color": "#636efa"
         },
         "name": "키움",
         "offsetgroup": "키움",
         "orientation": "h",
         "showlegend": false,
         "textposition": "auto",
         "type": "bar",
         "x": [
          851900
         ],
         "xaxis": "x4",
         "y": [
          "키움"
         ],
         "yaxis": "y4"
        },
        {
         "alignmentgroup": "True",
         "hovertemplate": "팀명=%{y}<br>시즌=2018<br>연봉=%{x}<extra></extra>",
         "legendgroup": "키움",
         "marker": {
          "color": "#636efa"
         },
         "name": "키움",
         "offsetgroup": "키움",
         "orientation": "h",
         "showlegend": false,
         "textposition": "auto",
         "type": "bar",
         "x": [
          906800
         ],
         "xaxis": "x3",
         "y": [
          "키움"
         ],
         "yaxis": "y3"
        },
        {
         "alignmentgroup": "True",
         "hovertemplate": "팀명=%{y}<br>시즌=2019<br>연봉=%{x}<extra></extra>",
         "legendgroup": "키움",
         "marker": {
          "color": "#636efa"
         },
         "name": "키움",
         "offsetgroup": "키움",
         "orientation": "h",
         "showlegend": false,
         "textposition": "auto",
         "type": "bar",
         "x": [
          780100
         ],
         "xaxis": "x2",
         "y": [
          "키움"
         ],
         "yaxis": "y2"
        },
        {
         "alignmentgroup": "True",
         "hovertemplate": "팀명=%{y}<br>시즌=2020<br>연봉=%{x}<extra></extra>",
         "legendgroup": "키움",
         "marker": {
          "color": "#636efa"
         },
         "name": "키움",
         "offsetgroup": "키움",
         "orientation": "h",
         "showlegend": false,
         "textposition": "auto",
         "type": "bar",
         "x": [
          885600
         ],
         "xaxis": "x",
         "y": [
          "키움"
         ],
         "yaxis": "y"
        },
        {
         "alignmentgroup": "True",
         "hovertemplate": "팀명=%{y}<br>시즌=2016<br>연봉=%{x}<extra></extra>",
         "legendgroup": "KT",
         "marker": {
          "color": "#EF553B"
         },
         "name": "KT",
         "offsetgroup": "KT",
         "orientation": "h",
         "showlegend": true,
         "textposition": "auto",
         "type": "bar",
         "x": [
          726300
         ],
         "xaxis": "x5",
         "y": [
          "KT"
         ],
         "yaxis": "y5"
        },
        {
         "alignmentgroup": "True",
         "hovertemplate": "팀명=%{y}<br>시즌=2017<br>연봉=%{x}<extra></extra>",
         "legendgroup": "KT",
         "marker": {
          "color": "#EF553B"
         },
         "name": "KT",
         "offsetgroup": "KT",
         "orientation": "h",
         "showlegend": false,
         "textposition": "auto",
         "type": "bar",
         "x": [
          639600
         ],
         "xaxis": "x4",
         "y": [
          "KT"
         ],
         "yaxis": "y4"
        },
        {
         "alignmentgroup": "True",
         "hovertemplate": "팀명=%{y}<br>시즌=2018<br>연봉=%{x}<extra></extra>",
         "legendgroup": "KT",
         "marker": {
          "color": "#EF553B"
         },
         "name": "KT",
         "offsetgroup": "KT",
         "orientation": "h",
         "showlegend": false,
         "textposition": "auto",
         "type": "bar",
         "x": [
          807300
         ],
         "xaxis": "x3",
         "y": [
          "KT"
         ],
         "yaxis": "y3"
        },
        {
         "alignmentgroup": "True",
         "hovertemplate": "팀명=%{y}<br>시즌=2019<br>연봉=%{x}<extra></extra>",
         "legendgroup": "KT",
         "marker": {
          "color": "#EF553B"
         },
         "name": "KT",
         "offsetgroup": "KT",
         "orientation": "h",
         "showlegend": false,
         "textposition": "auto",
         "type": "bar",
         "x": [
          706700
         ],
         "xaxis": "x2",
         "y": [
          "KT"
         ],
         "yaxis": "y2"
        },
        {
         "alignmentgroup": "True",
         "hovertemplate": "팀명=%{y}<br>시즌=2020<br>연봉=%{x}<extra></extra>",
         "legendgroup": "KT",
         "marker": {
          "color": "#EF553B"
         },
         "name": "KT",
         "offsetgroup": "KT",
         "orientation": "h",
         "showlegend": false,
         "textposition": "auto",
         "type": "bar",
         "x": [
          750700
         ],
         "xaxis": "x",
         "y": [
          "KT"
         ],
         "yaxis": "y"
        },
        {
         "alignmentgroup": "True",
         "hovertemplate": "팀명=%{y}<br>시즌=2016<br>연봉=%{x}<extra></extra>",
         "legendgroup": "NC",
         "marker": {
          "color": "#00cc96"
         },
         "name": "NC",
         "offsetgroup": "NC",
         "orientation": "h",
         "showlegend": true,
         "textposition": "auto",
         "type": "bar",
         "x": [
          872200
         ],
         "xaxis": "x5",
         "y": [
          "NC"
         ],
         "yaxis": "y5"
        },
        {
         "alignmentgroup": "True",
         "hovertemplate": "팀명=%{y}<br>시즌=2017<br>연봉=%{x}<extra></extra>",
         "legendgroup": "NC",
         "marker": {
          "color": "#00cc96"
         },
         "name": "NC",
         "offsetgroup": "NC",
         "orientation": "h",
         "showlegend": false,
         "textposition": "auto",
         "type": "bar",
         "x": [
          975700
         ],
         "xaxis": "x4",
         "y": [
          "NC"
         ],
         "yaxis": "y4"
        },
        {
         "alignmentgroup": "True",
         "hovertemplate": "팀명=%{y}<br>시즌=2018<br>연봉=%{x}<extra></extra>",
         "legendgroup": "NC",
         "marker": {
          "color": "#00cc96"
         },
         "name": "NC",
         "offsetgroup": "NC",
         "orientation": "h",
         "showlegend": false,
         "textposition": "auto",
         "type": "bar",
         "x": [
          722500
         ],
         "xaxis": "x3",
         "y": [
          "NC"
         ],
         "yaxis": "y3"
        },
        {
         "alignmentgroup": "True",
         "hovertemplate": "팀명=%{y}<br>시즌=2019<br>연봉=%{x}<extra></extra>",
         "legendgroup": "NC",
         "marker": {
          "color": "#00cc96"
         },
         "name": "NC",
         "offsetgroup": "NC",
         "orientation": "h",
         "showlegend": false,
         "textposition": "auto",
         "type": "bar",
         "x": [
          1082200
         ],
         "xaxis": "x2",
         "y": [
          "NC"
         ],
         "yaxis": "y2"
        },
        {
         "alignmentgroup": "True",
         "hovertemplate": "팀명=%{y}<br>시즌=2020<br>연봉=%{x}<extra></extra>",
         "legendgroup": "NC",
         "marker": {
          "color": "#00cc96"
         },
         "name": "NC",
         "offsetgroup": "NC",
         "orientation": "h",
         "showlegend": false,
         "textposition": "auto",
         "type": "bar",
         "x": [
          1101000
         ],
         "xaxis": "x",
         "y": [
          "NC"
         ],
         "yaxis": "y"
        },
        {
         "alignmentgroup": "True",
         "hovertemplate": "팀명=%{y}<br>시즌=2016<br>연봉=%{x}<extra></extra>",
         "legendgroup": "LG",
         "marker": {
          "color": "#ab63fa"
         },
         "name": "LG",
         "offsetgroup": "LG",
         "orientation": "h",
         "showlegend": true,
         "textposition": "auto",
         "type": "bar",
         "x": [
          925700
         ],
         "xaxis": "x5",
         "y": [
          "LG"
         ],
         "yaxis": "y5"
        },
        {
         "alignmentgroup": "True",
         "hovertemplate": "팀명=%{y}<br>시즌=2017<br>연봉=%{x}<extra></extra>",
         "legendgroup": "LG",
         "marker": {
          "color": "#ab63fa"
         },
         "name": "LG",
         "offsetgroup": "LG",
         "orientation": "h",
         "showlegend": false,
         "textposition": "auto",
         "type": "bar",
         "x": [
          1019200
         ],
         "xaxis": "x4",
         "y": [
          "LG"
         ],
         "yaxis": "y4"
        },
        {
         "alignmentgroup": "True",
         "hovertemplate": "팀명=%{y}<br>시즌=2018<br>연봉=%{x}<extra></extra>",
         "legendgroup": "LG",
         "marker": {
          "color": "#ab63fa"
         },
         "name": "LG",
         "offsetgroup": "LG",
         "orientation": "h",
         "showlegend": false,
         "textposition": "auto",
         "type": "bar",
         "x": [
          1140200
         ],
         "xaxis": "x3",
         "y": [
          "LG"
         ],
         "yaxis": "y3"
        },
        {
         "alignmentgroup": "True",
         "hovertemplate": "팀명=%{y}<br>시즌=2019<br>연봉=%{x}<extra></extra>",
         "legendgroup": "LG",
         "marker": {
          "color": "#ab63fa"
         },
         "name": "LG",
         "offsetgroup": "LG",
         "orientation": "h",
         "showlegend": false,
         "textposition": "auto",
         "type": "bar",
         "x": [
          1092500
         ],
         "xaxis": "x2",
         "y": [
          "LG"
         ],
         "yaxis": "y2"
        },
        {
         "alignmentgroup": "True",
         "hovertemplate": "팀명=%{y}<br>시즌=2020<br>연봉=%{x}<extra></extra>",
         "legendgroup": "LG",
         "marker": {
          "color": "#ab63fa"
         },
         "name": "LG",
         "offsetgroup": "LG",
         "orientation": "h",
         "showlegend": false,
         "textposition": "auto",
         "type": "bar",
         "x": [
          1108900
         ],
         "xaxis": "x",
         "y": [
          "LG"
         ],
         "yaxis": "y"
        },
        {
         "alignmentgroup": "True",
         "hovertemplate": "팀명=%{y}<br>시즌=2016<br>연봉=%{x}<extra></extra>",
         "legendgroup": "SK",
         "marker": {
          "color": "#FFA15A"
         },
         "name": "SK",
         "offsetgroup": "SK",
         "orientation": "h",
         "showlegend": true,
         "textposition": "auto",
         "type": "bar",
         "x": [
          955500
         ],
         "xaxis": "x5",
         "y": [
          "SK"
         ],
         "yaxis": "y5"
        },
        {
         "alignmentgroup": "True",
         "hovertemplate": "팀명=%{y}<br>시즌=2017<br>연봉=%{x}<extra></extra>",
         "legendgroup": "SK",
         "marker": {
          "color": "#FFA15A"
         },
         "name": "SK",
         "offsetgroup": "SK",
         "orientation": "h",
         "showlegend": false,
         "textposition": "auto",
         "type": "bar",
         "x": [
          1041500
         ],
         "xaxis": "x4",
         "y": [
          "SK"
         ],
         "yaxis": "y4"
        },
        {
         "alignmentgroup": "True",
         "hovertemplate": "팀명=%{y}<br>시즌=2018<br>연봉=%{x}<extra></extra>",
         "legendgroup": "SK",
         "marker": {
          "color": "#FFA15A"
         },
         "name": "SK",
         "offsetgroup": "SK",
         "orientation": "h",
         "showlegend": false,
         "textposition": "auto",
         "type": "bar",
         "x": [
          1150000
         ],
         "xaxis": "x3",
         "y": [
          "SK"
         ],
         "yaxis": "y3"
        },
        {
         "alignmentgroup": "True",
         "hovertemplate": "팀명=%{y}<br>시즌=2019<br>연봉=%{x}<extra></extra>",
         "legendgroup": "SK",
         "marker": {
          "color": "#FFA15A"
         },
         "name": "SK",
         "offsetgroup": "SK",
         "orientation": "h",
         "showlegend": false,
         "textposition": "auto",
         "type": "bar",
         "x": [
          1227400
         ],
         "xaxis": "x2",
         "y": [
          "SK"
         ],
         "yaxis": "y2"
        },
        {
         "alignmentgroup": "True",
         "hovertemplate": "팀명=%{y}<br>시즌=2020<br>연봉=%{x}<extra></extra>",
         "legendgroup": "SK",
         "marker": {
          "color": "#FFA15A"
         },
         "name": "SK",
         "offsetgroup": "SK",
         "orientation": "h",
         "showlegend": false,
         "textposition": "auto",
         "type": "bar",
         "x": [
          935800
         ],
         "xaxis": "x",
         "y": [
          "SK"
         ],
         "yaxis": "y"
        },
        {
         "alignmentgroup": "True",
         "hovertemplate": "팀명=%{y}<br>시즌=2016<br>연봉=%{x}<extra></extra>",
         "legendgroup": "두산",
         "marker": {
          "color": "#19d3f3"
         },
         "name": "두산",
         "offsetgroup": "두산",
         "orientation": "h",
         "showlegend": true,
         "textposition": "auto",
         "type": "bar",
         "x": [
          1005900
         ],
         "xaxis": "x5",
         "y": [
          "두산"
         ],
         "yaxis": "y5"
        },
        {
         "alignmentgroup": "True",
         "hovertemplate": "팀명=%{y}<br>시즌=2017<br>연봉=%{x}<extra></extra>",
         "legendgroup": "두산",
         "marker": {
          "color": "#19d3f3"
         },
         "name": "두산",
         "offsetgroup": "두산",
         "orientation": "h",
         "showlegend": false,
         "textposition": "auto",
         "type": "bar",
         "x": [
          1160000
         ],
         "xaxis": "x4",
         "y": [
          "두산"
         ],
         "yaxis": "y4"
        },
        {
         "alignmentgroup": "True",
         "hovertemplate": "팀명=%{y}<br>시즌=2018<br>연봉=%{x}<extra></extra>",
         "legendgroup": "두산",
         "marker": {
          "color": "#19d3f3"
         },
         "name": "두산",
         "offsetgroup": "두산",
         "orientation": "h",
         "showlegend": false,
         "textposition": "auto",
         "type": "bar",
         "x": [
          1148900
         ],
         "xaxis": "x3",
         "y": [
          "두산"
         ],
         "yaxis": "y3"
        },
        {
         "alignmentgroup": "True",
         "hovertemplate": "팀명=%{y}<br>시즌=2019<br>연봉=%{x}<extra></extra>",
         "legendgroup": "두산",
         "marker": {
          "color": "#19d3f3"
         },
         "name": "두산",
         "offsetgroup": "두산",
         "orientation": "h",
         "showlegend": false,
         "textposition": "auto",
         "type": "bar",
         "x": [
          1178300
         ],
         "xaxis": "x2",
         "y": [
          "두산"
         ],
         "yaxis": "y2"
        },
        {
         "alignmentgroup": "True",
         "hovertemplate": "팀명=%{y}<br>시즌=2020<br>연봉=%{x}<extra></extra>",
         "legendgroup": "두산",
         "marker": {
          "color": "#19d3f3"
         },
         "name": "두산",
         "offsetgroup": "두산",
         "orientation": "h",
         "showlegend": false,
         "textposition": "auto",
         "type": "bar",
         "x": [
          975000
         ],
         "xaxis": "x",
         "y": [
          "두산"
         ],
         "yaxis": "y"
        },
        {
         "alignmentgroup": "True",
         "hovertemplate": "팀명=%{y}<br>시즌=2016<br>연봉=%{x}<extra></extra>",
         "legendgroup": "KIA",
         "marker": {
          "color": "#FF6692"
         },
         "name": "KIA",
         "offsetgroup": "KIA",
         "orientation": "h",
         "showlegend": true,
         "textposition": "auto",
         "type": "bar",
         "x": [
          1058700
         ],
         "xaxis": "x5",
         "y": [
          "KIA"
         ],
         "yaxis": "y5"
        },
        {
         "alignmentgroup": "True",
         "hovertemplate": "팀명=%{y}<br>시즌=2017<br>연봉=%{x}<extra></extra>",
         "legendgroup": "KIA",
         "marker": {
          "color": "#FF6692"
         },
         "name": "KIA",
         "offsetgroup": "KIA",
         "orientation": "h",
         "showlegend": false,
         "textposition": "auto",
         "type": "bar",
         "x": [
          1366200
         ],
         "xaxis": "x4",
         "y": [
          "KIA"
         ],
         "yaxis": "y4"
        },
        {
         "alignmentgroup": "True",
         "hovertemplate": "팀명=%{y}<br>시즌=2018<br>연봉=%{x}<extra></extra>",
         "legendgroup": "KIA",
         "marker": {
          "color": "#FF6692"
         },
         "name": "KIA",
         "offsetgroup": "KIA",
         "orientation": "h",
         "showlegend": false,
         "textposition": "auto",
         "type": "bar",
         "x": [
          1464500
         ],
         "xaxis": "x3",
         "y": [
          "KIA"
         ],
         "yaxis": "y3"
        },
        {
         "alignmentgroup": "True",
         "hovertemplate": "팀명=%{y}<br>시즌=2019<br>연봉=%{x}<extra></extra>",
         "legendgroup": "KIA",
         "marker": {
          "color": "#FF6692"
         },
         "name": "KIA",
         "offsetgroup": "KIA",
         "orientation": "h",
         "showlegend": false,
         "textposition": "auto",
         "type": "bar",
         "x": [
          1174400
         ],
         "xaxis": "x2",
         "y": [
          "KIA"
         ],
         "yaxis": "y2"
        },
        {
         "alignmentgroup": "True",
         "hovertemplate": "팀명=%{y}<br>시즌=2020<br>연봉=%{x}<extra></extra>",
         "legendgroup": "KIA",
         "marker": {
          "color": "#FF6692"
         },
         "name": "KIA",
         "offsetgroup": "KIA",
         "orientation": "h",
         "showlegend": false,
         "textposition": "auto",
         "type": "bar",
         "x": [
          998090
         ],
         "xaxis": "x",
         "y": [
          "KIA"
         ],
         "yaxis": "y"
        },
        {
         "alignmentgroup": "True",
         "hovertemplate": "팀명=%{y}<br>시즌=2016<br>연봉=%{x}<extra></extra>",
         "legendgroup": "롯데",
         "marker": {
          "color": "#B6E880"
         },
         "name": "롯데",
         "offsetgroup": "롯데",
         "orientation": "h",
         "showlegend": true,
         "textposition": "auto",
         "type": "bar",
         "x": [
          1088400
         ],
         "xaxis": "x5",
         "y": [
          "롯데"
         ],
         "yaxis": "y5"
        },
        {
         "alignmentgroup": "True",
         "hovertemplate": "팀명=%{y}<br>시즌=2017<br>연봉=%{x}<extra></extra>",
         "legendgroup": "롯데",
         "marker": {
          "color": "#B6E880"
         },
         "name": "롯데",
         "offsetgroup": "롯데",
         "orientation": "h",
         "showlegend": false,
         "textposition": "auto",
         "type": "bar",
         "x": [
          1243150
         ],
         "xaxis": "x4",
         "y": [
          "롯데"
         ],
         "yaxis": "y4"
        },
        {
         "alignmentgroup": "True",
         "hovertemplate": "팀명=%{y}<br>시즌=2018<br>연봉=%{x}<extra></extra>",
         "legendgroup": "롯데",
         "marker": {
          "color": "#B6E880"
         },
         "name": "롯데",
         "offsetgroup": "롯데",
         "orientation": "h",
         "showlegend": false,
         "textposition": "auto",
         "type": "bar",
         "x": [
          1325600
         ],
         "xaxis": "x3",
         "y": [
          "롯데"
         ],
         "yaxis": "y3"
        },
        {
         "alignmentgroup": "True",
         "hovertemplate": "팀명=%{y}<br>시즌=2019<br>연봉=%{x}<extra></extra>",
         "legendgroup": "롯데",
         "marker": {
          "color": "#B6E880"
         },
         "name": "롯데",
         "offsetgroup": "롯데",
         "orientation": "h",
         "showlegend": false,
         "textposition": "auto",
         "type": "bar",
         "x": [
          1428210
         ],
         "xaxis": "x2",
         "y": [
          "롯데"
         ],
         "yaxis": "y2"
        },
        {
         "alignmentgroup": "True",
         "hovertemplate": "팀명=%{y}<br>시즌=2020<br>연봉=%{x}<extra></extra>",
         "legendgroup": "롯데",
         "marker": {
          "color": "#B6E880"
         },
         "name": "롯데",
         "offsetgroup": "롯데",
         "orientation": "h",
         "showlegend": false,
         "textposition": "auto",
         "type": "bar",
         "x": [
          1067700
         ],
         "xaxis": "x",
         "y": [
          "롯데"
         ],
         "yaxis": "y"
        },
        {
         "alignmentgroup": "True",
         "hovertemplate": "팀명=%{y}<br>시즌=2016<br>연봉=%{x}<extra></extra>",
         "legendgroup": "삼성",
         "marker": {
          "color": "#FF97FF"
         },
         "name": "삼성",
         "offsetgroup": "삼성",
         "orientation": "h",
         "showlegend": true,
         "textposition": "auto",
         "type": "bar",
         "x": [
          1116400
         ],
         "xaxis": "x5",
         "y": [
          "삼성"
         ],
         "yaxis": "y5"
        },
        {
         "alignmentgroup": "True",
         "hovertemplate": "팀명=%{y}<br>시즌=2017<br>연봉=%{x}<extra></extra>",
         "legendgroup": "삼성",
         "marker": {
          "color": "#FF97FF"
         },
         "name": "삼성",
         "offsetgroup": "삼성",
         "orientation": "h",
         "showlegend": false,
         "textposition": "auto",
         "type": "bar",
         "x": [
          1089800
         ],
         "xaxis": "x4",
         "y": [
          "삼성"
         ],
         "yaxis": "y4"
        },
        {
         "alignmentgroup": "True",
         "hovertemplate": "팀명=%{y}<br>시즌=2018<br>연봉=%{x}<extra></extra>",
         "legendgroup": "삼성",
         "marker": {
          "color": "#FF97FF"
         },
         "name": "삼성",
         "offsetgroup": "삼성",
         "orientation": "h",
         "showlegend": false,
         "textposition": "auto",
         "type": "bar",
         "x": [
          1086300
         ],
         "xaxis": "x3",
         "y": [
          "삼성"
         ],
         "yaxis": "y3"
        },
        {
         "alignmentgroup": "True",
         "hovertemplate": "팀명=%{y}<br>시즌=2019<br>연봉=%{x}<extra></extra>",
         "legendgroup": "삼성",
         "marker": {
          "color": "#FF97FF"
         },
         "name": "삼성",
         "offsetgroup": "삼성",
         "orientation": "h",
         "showlegend": false,
         "textposition": "auto",
         "type": "bar",
         "x": [
          1052800
         ],
         "xaxis": "x2",
         "y": [
          "삼성"
         ],
         "yaxis": "y2"
        },
        {
         "alignmentgroup": "True",
         "hovertemplate": "팀명=%{y}<br>시즌=2020<br>연봉=%{x}<extra></extra>",
         "legendgroup": "삼성",
         "marker": {
          "color": "#FF97FF"
         },
         "name": "삼성",
         "offsetgroup": "삼성",
         "orientation": "h",
         "showlegend": false,
         "textposition": "auto",
         "type": "bar",
         "x": [
          970500
         ],
         "xaxis": "x",
         "y": [
          "삼성"
         ],
         "yaxis": "y"
        },
        {
         "alignmentgroup": "True",
         "hovertemplate": "팀명=%{y}<br>시즌=2016<br>연봉=%{x}<extra></extra>",
         "legendgroup": "한화",
         "marker": {
          "color": "#FECB52"
         },
         "name": "한화",
         "offsetgroup": "한화",
         "orientation": "h",
         "showlegend": true,
         "textposition": "auto",
         "type": "bar",
         "x": [
          1454500
         ],
         "xaxis": "x5",
         "y": [
          "한화"
         ],
         "yaxis": "y5"
        },
        {
         "alignmentgroup": "True",
         "hovertemplate": "팀명=%{y}<br>시즌=2017<br>연봉=%{x}<extra></extra>",
         "legendgroup": "한화",
         "marker": {
          "color": "#FECB52"
         },
         "name": "한화",
         "offsetgroup": "한화",
         "orientation": "h",
         "showlegend": false,
         "textposition": "auto",
         "type": "bar",
         "x": [
          1495600
         ],
         "xaxis": "x4",
         "y": [
          "한화"
         ],
         "yaxis": "y4"
        },
        {
         "alignmentgroup": "True",
         "hovertemplate": "팀명=%{y}<br>시즌=2018<br>연봉=%{x}<extra></extra>",
         "legendgroup": "한화",
         "marker": {
          "color": "#FECB52"
         },
         "name": "한화",
         "offsetgroup": "한화",
         "orientation": "h",
         "showlegend": false,
         "textposition": "auto",
         "type": "bar",
         "x": [
          1108550
         ],
         "xaxis": "x3",
         "y": [
          "한화"
         ],
         "yaxis": "y3"
        },
        {
         "alignmentgroup": "True",
         "hovertemplate": "팀명=%{y}<br>시즌=2019<br>연봉=%{x}<extra></extra>",
         "legendgroup": "한화",
         "marker": {
          "color": "#FECB52"
         },
         "name": "한화",
         "offsetgroup": "한화",
         "orientation": "h",
         "showlegend": false,
         "textposition": "auto",
         "type": "bar",
         "x": [
          917500
         ],
         "xaxis": "x2",
         "y": [
          "한화"
         ],
         "yaxis": "y2"
        },
        {
         "alignmentgroup": "True",
         "hovertemplate": "팀명=%{y}<br>시즌=2020<br>연봉=%{x}<extra></extra>",
         "legendgroup": "한화",
         "marker": {
          "color": "#FECB52"
         },
         "name": "한화",
         "offsetgroup": "한화",
         "orientation": "h",
         "showlegend": false,
         "textposition": "auto",
         "type": "bar",
         "x": [
          875100
         ],
         "xaxis": "x",
         "y": [
          "한화"
         ],
         "yaxis": "y"
        }
       ],
       "layout": {
        "annotations": [
         {
          "font": {},
          "showarrow": false,
          "text": "시즌=2020",
          "textangle": 90,
          "x": 0.98,
          "xanchor": "left",
          "xref": "paper",
          "y": 0.08800000000000001,
          "yanchor": "middle",
          "yref": "paper"
         },
         {
          "font": {},
          "showarrow": false,
          "text": "시즌=2019",
          "textangle": 90,
          "x": 0.98,
          "xanchor": "left",
          "xref": "paper",
          "y": 0.29400000000000004,
          "yanchor": "middle",
          "yref": "paper"
         },
         {
          "font": {},
          "showarrow": false,
          "text": "시즌=2018",
          "textangle": 90,
          "x": 0.98,
          "xanchor": "left",
          "xref": "paper",
          "y": 0.5,
          "yanchor": "middle",
          "yref": "paper"
         },
         {
          "font": {},
          "showarrow": false,
          "text": "시즌=2017",
          "textangle": 90,
          "x": 0.98,
          "xanchor": "left",
          "xref": "paper",
          "y": 0.706,
          "yanchor": "middle",
          "yref": "paper"
         },
         {
          "font": {},
          "showarrow": false,
          "text": "시즌=2016",
          "textangle": 90,
          "x": 0.98,
          "xanchor": "left",
          "xref": "paper",
          "y": 0.912,
          "yanchor": "middle",
          "yref": "paper"
         }
        ],
        "barmode": "group",
        "height": 1000,
        "legend": {
         "title": {
          "text": "팀명"
         },
         "tracegroupgap": 0
        },
        "template": {
         "data": {
          "bar": [
           {
            "error_x": {
             "color": "#2a3f5f"
            },
            "error_y": {
             "color": "#2a3f5f"
            },
            "marker": {
             "line": {
              "color": "#E5ECF6",
              "width": 0.5
             }
            },
            "type": "bar"
           }
          ],
          "barpolar": [
           {
            "marker": {
             "line": {
              "color": "#E5ECF6",
              "width": 0.5
             }
            },
            "type": "barpolar"
           }
          ],
          "carpet": [
           {
            "aaxis": {
             "endlinecolor": "#2a3f5f",
             "gridcolor": "white",
             "linecolor": "white",
             "minorgridcolor": "white",
             "startlinecolor": "#2a3f5f"
            },
            "baxis": {
             "endlinecolor": "#2a3f5f",
             "gridcolor": "white",
             "linecolor": "white",
             "minorgridcolor": "white",
             "startlinecolor": "#2a3f5f"
            },
            "type": "carpet"
           }
          ],
          "choropleth": [
           {
            "colorbar": {
             "outlinewidth": 0,
             "ticks": ""
            },
            "type": "choropleth"
           }
          ],
          "contour": [
           {
            "colorbar": {
             "outlinewidth": 0,
             "ticks": ""
            },
            "colorscale": [
             [
              0,
              "#0d0887"
             ],
             [
              0.1111111111111111,
              "#46039f"
             ],
             [
              0.2222222222222222,
              "#7201a8"
             ],
             [
              0.3333333333333333,
              "#9c179e"
             ],
             [
              0.4444444444444444,
              "#bd3786"
             ],
             [
              0.5555555555555556,
              "#d8576b"
             ],
             [
              0.6666666666666666,
              "#ed7953"
             ],
             [
              0.7777777777777778,
              "#fb9f3a"
             ],
             [
              0.8888888888888888,
              "#fdca26"
             ],
             [
              1,
              "#f0f921"
             ]
            ],
            "type": "contour"
           }
          ],
          "contourcarpet": [
           {
            "colorbar": {
             "outlinewidth": 0,
             "ticks": ""
            },
            "type": "contourcarpet"
           }
          ],
          "heatmap": [
           {
            "colorbar": {
             "outlinewidth": 0,
             "ticks": ""
            },
            "colorscale": [
             [
              0,
              "#0d0887"
             ],
             [
              0.1111111111111111,
              "#46039f"
             ],
             [
              0.2222222222222222,
              "#7201a8"
             ],
             [
              0.3333333333333333,
              "#9c179e"
             ],
             [
              0.4444444444444444,
              "#bd3786"
             ],
             [
              0.5555555555555556,
              "#d8576b"
             ],
             [
              0.6666666666666666,
              "#ed7953"
             ],
             [
              0.7777777777777778,
              "#fb9f3a"
             ],
             [
              0.8888888888888888,
              "#fdca26"
             ],
             [
              1,
              "#f0f921"
             ]
            ],
            "type": "heatmap"
           }
          ],
          "heatmapgl": [
           {
            "colorbar": {
             "outlinewidth": 0,
             "ticks": ""
            },
            "colorscale": [
             [
              0,
              "#0d0887"
             ],
             [
              0.1111111111111111,
              "#46039f"
             ],
             [
              0.2222222222222222,
              "#7201a8"
             ],
             [
              0.3333333333333333,
              "#9c179e"
             ],
             [
              0.4444444444444444,
              "#bd3786"
             ],
             [
              0.5555555555555556,
              "#d8576b"
             ],
             [
              0.6666666666666666,
              "#ed7953"
             ],
             [
              0.7777777777777778,
              "#fb9f3a"
             ],
             [
              0.8888888888888888,
              "#fdca26"
             ],
             [
              1,
              "#f0f921"
             ]
            ],
            "type": "heatmapgl"
           }
          ],
          "histogram": [
           {
            "marker": {
             "colorbar": {
              "outlinewidth": 0,
              "ticks": ""
             }
            },
            "type": "histogram"
           }
          ],
          "histogram2d": [
           {
            "colorbar": {
             "outlinewidth": 0,
             "ticks": ""
            },
            "colorscale": [
             [
              0,
              "#0d0887"
             ],
             [
              0.1111111111111111,
              "#46039f"
             ],
             [
              0.2222222222222222,
              "#7201a8"
             ],
             [
              0.3333333333333333,
              "#9c179e"
             ],
             [
              0.4444444444444444,
              "#bd3786"
             ],
             [
              0.5555555555555556,
              "#d8576b"
             ],
             [
              0.6666666666666666,
              "#ed7953"
             ],
             [
              0.7777777777777778,
              "#fb9f3a"
             ],
             [
              0.8888888888888888,
              "#fdca26"
             ],
             [
              1,
              "#f0f921"
             ]
            ],
            "type": "histogram2d"
           }
          ],
          "histogram2dcontour": [
           {
            "colorbar": {
             "outlinewidth": 0,
             "ticks": ""
            },
            "colorscale": [
             [
              0,
              "#0d0887"
             ],
             [
              0.1111111111111111,
              "#46039f"
             ],
             [
              0.2222222222222222,
              "#7201a8"
             ],
             [
              0.3333333333333333,
              "#9c179e"
             ],
             [
              0.4444444444444444,
              "#bd3786"
             ],
             [
              0.5555555555555556,
              "#d8576b"
             ],
             [
              0.6666666666666666,
              "#ed7953"
             ],
             [
              0.7777777777777778,
              "#fb9f3a"
             ],
             [
              0.8888888888888888,
              "#fdca26"
             ],
             [
              1,
              "#f0f921"
             ]
            ],
            "type": "histogram2dcontour"
           }
          ],
          "mesh3d": [
           {
            "colorbar": {
             "outlinewidth": 0,
             "ticks": ""
            },
            "type": "mesh3d"
           }
          ],
          "parcoords": [
           {
            "line": {
             "colorbar": {
              "outlinewidth": 0,
              "ticks": ""
             }
            },
            "type": "parcoords"
           }
          ],
          "pie": [
           {
            "automargin": true,
            "type": "pie"
           }
          ],
          "scatter": [
           {
            "marker": {
             "colorbar": {
              "outlinewidth": 0,
              "ticks": ""
             }
            },
            "type": "scatter"
           }
          ],
          "scatter3d": [
           {
            "line": {
             "colorbar": {
              "outlinewidth": 0,
              "ticks": ""
             }
            },
            "marker": {
             "colorbar": {
              "outlinewidth": 0,
              "ticks": ""
             }
            },
            "type": "scatter3d"
           }
          ],
          "scattercarpet": [
           {
            "marker": {
             "colorbar": {
              "outlinewidth": 0,
              "ticks": ""
             }
            },
            "type": "scattercarpet"
           }
          ],
          "scattergeo": [
           {
            "marker": {
             "colorbar": {
              "outlinewidth": 0,
              "ticks": ""
             }
            },
            "type": "scattergeo"
           }
          ],
          "scattergl": [
           {
            "marker": {
             "colorbar": {
              "outlinewidth": 0,
              "ticks": ""
             }
            },
            "type": "scattergl"
           }
          ],
          "scattermapbox": [
           {
            "marker": {
             "colorbar": {
              "outlinewidth": 0,
              "ticks": ""
             }
            },
            "type": "scattermapbox"
           }
          ],
          "scatterpolar": [
           {
            "marker": {
             "colorbar": {
              "outlinewidth": 0,
              "ticks": ""
             }
            },
            "type": "scatterpolar"
           }
          ],
          "scatterpolargl": [
           {
            "marker": {
             "colorbar": {
              "outlinewidth": 0,
              "ticks": ""
             }
            },
            "type": "scatterpolargl"
           }
          ],
          "scatterternary": [
           {
            "marker": {
             "colorbar": {
              "outlinewidth": 0,
              "ticks": ""
             }
            },
            "type": "scatterternary"
           }
          ],
          "surface": [
           {
            "colorbar": {
             "outlinewidth": 0,
             "ticks": ""
            },
            "colorscale": [
             [
              0,
              "#0d0887"
             ],
             [
              0.1111111111111111,
              "#46039f"
             ],
             [
              0.2222222222222222,
              "#7201a8"
             ],
             [
              0.3333333333333333,
              "#9c179e"
             ],
             [
              0.4444444444444444,
              "#bd3786"
             ],
             [
              0.5555555555555556,
              "#d8576b"
             ],
             [
              0.6666666666666666,
              "#ed7953"
             ],
             [
              0.7777777777777778,
              "#fb9f3a"
             ],
             [
              0.8888888888888888,
              "#fdca26"
             ],
             [
              1,
              "#f0f921"
             ]
            ],
            "type": "surface"
           }
          ],
          "table": [
           {
            "cells": {
             "fill": {
              "color": "#EBF0F8"
             },
             "line": {
              "color": "white"
             }
            },
            "header": {
             "fill": {
              "color": "#C8D4E3"
             },
             "line": {
              "color": "white"
             }
            },
            "type": "table"
           }
          ]
         },
         "layout": {
          "annotationdefaults": {
           "arrowcolor": "#2a3f5f",
           "arrowhead": 0,
           "arrowwidth": 1
          },
          "coloraxis": {
           "colorbar": {
            "outlinewidth": 0,
            "ticks": ""
           }
          },
          "colorscale": {
           "diverging": [
            [
             0,
             "#8e0152"
            ],
            [
             0.1,
             "#c51b7d"
            ],
            [
             0.2,
             "#de77ae"
            ],
            [
             0.3,
             "#f1b6da"
            ],
            [
             0.4,
             "#fde0ef"
            ],
            [
             0.5,
             "#f7f7f7"
            ],
            [
             0.6,
             "#e6f5d0"
            ],
            [
             0.7,
             "#b8e186"
            ],
            [
             0.8,
             "#7fbc41"
            ],
            [
             0.9,
             "#4d9221"
            ],
            [
             1,
             "#276419"
            ]
           ],
           "sequential": [
            [
             0,
             "#0d0887"
            ],
            [
             0.1111111111111111,
             "#46039f"
            ],
            [
             0.2222222222222222,
             "#7201a8"
            ],
            [
             0.3333333333333333,
             "#9c179e"
            ],
            [
             0.4444444444444444,
             "#bd3786"
            ],
            [
             0.5555555555555556,
             "#d8576b"
            ],
            [
             0.6666666666666666,
             "#ed7953"
            ],
            [
             0.7777777777777778,
             "#fb9f3a"
            ],
            [
             0.8888888888888888,
             "#fdca26"
            ],
            [
             1,
             "#f0f921"
            ]
           ],
           "sequentialminus": [
            [
             0,
             "#0d0887"
            ],
            [
             0.1111111111111111,
             "#46039f"
            ],
            [
             0.2222222222222222,
             "#7201a8"
            ],
            [
             0.3333333333333333,
             "#9c179e"
            ],
            [
             0.4444444444444444,
             "#bd3786"
            ],
            [
             0.5555555555555556,
             "#d8576b"
            ],
            [
             0.6666666666666666,
             "#ed7953"
            ],
            [
             0.7777777777777778,
             "#fb9f3a"
            ],
            [
             0.8888888888888888,
             "#fdca26"
            ],
            [
             1,
             "#f0f921"
            ]
           ]
          },
          "colorway": [
           "#636efa",
           "#EF553B",
           "#00cc96",
           "#ab63fa",
           "#FFA15A",
           "#19d3f3",
           "#FF6692",
           "#B6E880",
           "#FF97FF",
           "#FECB52"
          ],
          "font": {
           "color": "#2a3f5f"
          },
          "geo": {
           "bgcolor": "white",
           "lakecolor": "white",
           "landcolor": "#E5ECF6",
           "showlakes": true,
           "showland": true,
           "subunitcolor": "white"
          },
          "hoverlabel": {
           "align": "left"
          },
          "hovermode": "closest",
          "mapbox": {
           "style": "light"
          },
          "paper_bgcolor": "white",
          "plot_bgcolor": "#E5ECF6",
          "polar": {
           "angularaxis": {
            "gridcolor": "white",
            "linecolor": "white",
            "ticks": ""
           },
           "bgcolor": "#E5ECF6",
           "radialaxis": {
            "gridcolor": "white",
            "linecolor": "white",
            "ticks": ""
           }
          },
          "scene": {
           "xaxis": {
            "backgroundcolor": "#E5ECF6",
            "gridcolor": "white",
            "gridwidth": 2,
            "linecolor": "white",
            "showbackground": true,
            "ticks": "",
            "zerolinecolor": "white"
           },
           "yaxis": {
            "backgroundcolor": "#E5ECF6",
            "gridcolor": "white",
            "gridwidth": 2,
            "linecolor": "white",
            "showbackground": true,
            "ticks": "",
            "zerolinecolor": "white"
           },
           "zaxis": {
            "backgroundcolor": "#E5ECF6",
            "gridcolor": "white",
            "gridwidth": 2,
            "linecolor": "white",
            "showbackground": true,
            "ticks": "",
            "zerolinecolor": "white"
           }
          },
          "shapedefaults": {
           "line": {
            "color": "#2a3f5f"
           }
          },
          "ternary": {
           "aaxis": {
            "gridcolor": "white",
            "linecolor": "white",
            "ticks": ""
           },
           "baxis": {
            "gridcolor": "white",
            "linecolor": "white",
            "ticks": ""
           },
           "bgcolor": "#E5ECF6",
           "caxis": {
            "gridcolor": "white",
            "linecolor": "white",
            "ticks": ""
           }
          },
          "title": {
           "x": 0.05
          },
          "xaxis": {
           "automargin": true,
           "gridcolor": "white",
           "linecolor": "white",
           "ticks": "",
           "title": {
            "standoff": 15
           },
           "zerolinecolor": "white",
           "zerolinewidth": 2
          },
          "yaxis": {
           "automargin": true,
           "gridcolor": "white",
           "linecolor": "white",
           "ticks": "",
           "title": {
            "standoff": 15
           },
           "zerolinecolor": "white",
           "zerolinewidth": 2
          }
         }
        },
        "title": {
         "text": "<b>시즌/팀</b> 별 연봉 그래프"
        },
        "width": 1000,
        "xaxis": {
         "anchor": "y",
         "domain": [
          0,
          0.98
         ],
         "title": {
          "text": "연봉"
         }
        },
        "xaxis2": {
         "anchor": "y2",
         "domain": [
          0,
          0.98
         ],
         "matches": "x",
         "showticklabels": false
        },
        "xaxis3": {
         "anchor": "y3",
         "domain": [
          0,
          0.98
         ],
         "matches": "x",
         "showticklabels": false
        },
        "xaxis4": {
         "anchor": "y4",
         "domain": [
          0,
          0.98
         ],
         "matches": "x",
         "showticklabels": false
        },
        "xaxis5": {
         "anchor": "y5",
         "domain": [
          0,
          0.98
         ],
         "matches": "x",
         "showticklabels": false
        },
        "yaxis": {
         "anchor": "x",
         "categoryarray": [
          "한화",
          "삼성",
          "롯데",
          "KIA",
          "두산",
          "SK",
          "LG",
          "NC",
          "KT",
          "키움"
         ],
         "categoryorder": "array",
         "domain": [
          0,
          0.17600000000000002
         ],
         "title": {
          "text": "팀명"
         }
        },
        "yaxis2": {
         "anchor": "x2",
         "categoryarray": [
          "한화",
          "삼성",
          "롯데",
          "KIA",
          "두산",
          "SK",
          "LG",
          "NC",
          "KT",
          "키움"
         ],
         "categoryorder": "array",
         "domain": [
          0.20600000000000002,
          0.382
         ],
         "matches": "y",
         "title": {
          "text": "팀명"
         }
        },
        "yaxis3": {
         "anchor": "x3",
         "categoryarray": [
          "한화",
          "삼성",
          "롯데",
          "KIA",
          "두산",
          "SK",
          "LG",
          "NC",
          "KT",
          "키움"
         ],
         "categoryorder": "array",
         "domain": [
          0.41200000000000003,
          0.5880000000000001
         ],
         "matches": "y",
         "title": {
          "text": "팀명"
         }
        },
        "yaxis4": {
         "anchor": "x4",
         "categoryarray": [
          "한화",
          "삼성",
          "롯데",
          "KIA",
          "두산",
          "SK",
          "LG",
          "NC",
          "KT",
          "키움"
         ],
         "categoryorder": "array",
         "domain": [
          0.618,
          0.794
         ],
         "matches": "y",
         "title": {
          "text": "팀명"
         }
        },
        "yaxis5": {
         "anchor": "x5",
         "categoryarray": [
          "한화",
          "삼성",
          "롯데",
          "KIA",
          "두산",
          "SK",
          "LG",
          "NC",
          "KT",
          "키움"
         ],
         "categoryorder": "array",
         "domain": [
          0.8240000000000001,
          1
         ],
         "matches": "y",
         "title": {
          "text": "팀명"
         }
        }
       }
      },
      "text/html": [
       "<div>\n",
       "        \n",
       "        \n",
       "            <div id=\"0a5a804c-6f61-4768-8763-1de50f71ae26\" class=\"plotly-graph-div\" style=\"height:1000px; width:1000px;\"></div>\n",
       "            <script type=\"text/javascript\">\n",
       "                require([\"plotly\"], function(Plotly) {\n",
       "                    window.PLOTLYENV=window.PLOTLYENV || {};\n",
       "                    \n",
       "                if (document.getElementById(\"0a5a804c-6f61-4768-8763-1de50f71ae26\")) {\n",
       "                    Plotly.newPlot(\n",
       "                        '0a5a804c-6f61-4768-8763-1de50f71ae26',\n",
       "                        [{\"alignmentgroup\": \"True\", \"hovertemplate\": \"\\ud300\\uba85=%{y}<br>\\uc2dc\\uc98c=2016<br>\\uc5f0\\ubd09=%{x}<extra></extra>\", \"legendgroup\": \"\\ud0a4\\uc6c0\", \"marker\": {\"color\": \"#636efa\"}, \"name\": \"\\ud0a4\\uc6c0\", \"offsetgroup\": \"\\ud0a4\\uc6c0\", \"orientation\": \"h\", \"showlegend\": true, \"textposition\": \"auto\", \"type\": \"bar\", \"x\": [577200.0], \"xaxis\": \"x5\", \"y\": [\"\\ud0a4\\uc6c0\"], \"yaxis\": \"y5\"}, {\"alignmentgroup\": \"True\", \"hovertemplate\": \"\\ud300\\uba85=%{y}<br>\\uc2dc\\uc98c=2017<br>\\uc5f0\\ubd09=%{x}<extra></extra>\", \"legendgroup\": \"\\ud0a4\\uc6c0\", \"marker\": {\"color\": \"#636efa\"}, \"name\": \"\\ud0a4\\uc6c0\", \"offsetgroup\": \"\\ud0a4\\uc6c0\", \"orientation\": \"h\", \"showlegend\": false, \"textposition\": \"auto\", \"type\": \"bar\", \"x\": [851900.0], \"xaxis\": \"x4\", \"y\": [\"\\ud0a4\\uc6c0\"], \"yaxis\": \"y4\"}, {\"alignmentgroup\": \"True\", \"hovertemplate\": \"\\ud300\\uba85=%{y}<br>\\uc2dc\\uc98c=2018<br>\\uc5f0\\ubd09=%{x}<extra></extra>\", \"legendgroup\": \"\\ud0a4\\uc6c0\", \"marker\": {\"color\": \"#636efa\"}, \"name\": \"\\ud0a4\\uc6c0\", \"offsetgroup\": \"\\ud0a4\\uc6c0\", \"orientation\": \"h\", \"showlegend\": false, \"textposition\": \"auto\", \"type\": \"bar\", \"x\": [906800.0], \"xaxis\": \"x3\", \"y\": [\"\\ud0a4\\uc6c0\"], \"yaxis\": \"y3\"}, {\"alignmentgroup\": \"True\", \"hovertemplate\": \"\\ud300\\uba85=%{y}<br>\\uc2dc\\uc98c=2019<br>\\uc5f0\\ubd09=%{x}<extra></extra>\", \"legendgroup\": \"\\ud0a4\\uc6c0\", \"marker\": {\"color\": \"#636efa\"}, \"name\": \"\\ud0a4\\uc6c0\", \"offsetgroup\": \"\\ud0a4\\uc6c0\", \"orientation\": \"h\", \"showlegend\": false, \"textposition\": \"auto\", \"type\": \"bar\", \"x\": [780100.0], \"xaxis\": \"x2\", \"y\": [\"\\ud0a4\\uc6c0\"], \"yaxis\": \"y2\"}, {\"alignmentgroup\": \"True\", \"hovertemplate\": \"\\ud300\\uba85=%{y}<br>\\uc2dc\\uc98c=2020<br>\\uc5f0\\ubd09=%{x}<extra></extra>\", \"legendgroup\": \"\\ud0a4\\uc6c0\", \"marker\": {\"color\": \"#636efa\"}, \"name\": \"\\ud0a4\\uc6c0\", \"offsetgroup\": \"\\ud0a4\\uc6c0\", \"orientation\": \"h\", \"showlegend\": false, \"textposition\": \"auto\", \"type\": \"bar\", \"x\": [885600.0], \"xaxis\": \"x\", \"y\": [\"\\ud0a4\\uc6c0\"], \"yaxis\": \"y\"}, {\"alignmentgroup\": \"True\", \"hovertemplate\": \"\\ud300\\uba85=%{y}<br>\\uc2dc\\uc98c=2016<br>\\uc5f0\\ubd09=%{x}<extra></extra>\", \"legendgroup\": \"KT\", \"marker\": {\"color\": \"#EF553B\"}, \"name\": \"KT\", \"offsetgroup\": \"KT\", \"orientation\": \"h\", \"showlegend\": true, \"textposition\": \"auto\", \"type\": \"bar\", \"x\": [726300.0], \"xaxis\": \"x5\", \"y\": [\"KT\"], \"yaxis\": \"y5\"}, {\"alignmentgroup\": \"True\", \"hovertemplate\": \"\\ud300\\uba85=%{y}<br>\\uc2dc\\uc98c=2017<br>\\uc5f0\\ubd09=%{x}<extra></extra>\", \"legendgroup\": \"KT\", \"marker\": {\"color\": \"#EF553B\"}, \"name\": \"KT\", \"offsetgroup\": \"KT\", \"orientation\": \"h\", \"showlegend\": false, \"textposition\": \"auto\", \"type\": \"bar\", \"x\": [639600.0], \"xaxis\": \"x4\", \"y\": [\"KT\"], \"yaxis\": \"y4\"}, {\"alignmentgroup\": \"True\", \"hovertemplate\": \"\\ud300\\uba85=%{y}<br>\\uc2dc\\uc98c=2018<br>\\uc5f0\\ubd09=%{x}<extra></extra>\", \"legendgroup\": \"KT\", \"marker\": {\"color\": \"#EF553B\"}, \"name\": \"KT\", \"offsetgroup\": \"KT\", \"orientation\": \"h\", \"showlegend\": false, \"textposition\": \"auto\", \"type\": \"bar\", \"x\": [807300.0], \"xaxis\": \"x3\", \"y\": [\"KT\"], \"yaxis\": \"y3\"}, {\"alignmentgroup\": \"True\", \"hovertemplate\": \"\\ud300\\uba85=%{y}<br>\\uc2dc\\uc98c=2019<br>\\uc5f0\\ubd09=%{x}<extra></extra>\", \"legendgroup\": \"KT\", \"marker\": {\"color\": \"#EF553B\"}, \"name\": \"KT\", \"offsetgroup\": \"KT\", \"orientation\": \"h\", \"showlegend\": false, \"textposition\": \"auto\", \"type\": \"bar\", \"x\": [706700.0], \"xaxis\": \"x2\", \"y\": [\"KT\"], \"yaxis\": \"y2\"}, {\"alignmentgroup\": \"True\", \"hovertemplate\": \"\\ud300\\uba85=%{y}<br>\\uc2dc\\uc98c=2020<br>\\uc5f0\\ubd09=%{x}<extra></extra>\", \"legendgroup\": \"KT\", \"marker\": {\"color\": \"#EF553B\"}, \"name\": \"KT\", \"offsetgroup\": \"KT\", \"orientation\": \"h\", \"showlegend\": false, \"textposition\": \"auto\", \"type\": \"bar\", \"x\": [750700.0], \"xaxis\": \"x\", \"y\": [\"KT\"], \"yaxis\": \"y\"}, {\"alignmentgroup\": \"True\", \"hovertemplate\": \"\\ud300\\uba85=%{y}<br>\\uc2dc\\uc98c=2016<br>\\uc5f0\\ubd09=%{x}<extra></extra>\", \"legendgroup\": \"NC\", \"marker\": {\"color\": \"#00cc96\"}, \"name\": \"NC\", \"offsetgroup\": \"NC\", \"orientation\": \"h\", \"showlegend\": true, \"textposition\": \"auto\", \"type\": \"bar\", \"x\": [872200.0], \"xaxis\": \"x5\", \"y\": [\"NC\"], \"yaxis\": \"y5\"}, {\"alignmentgroup\": \"True\", \"hovertemplate\": \"\\ud300\\uba85=%{y}<br>\\uc2dc\\uc98c=2017<br>\\uc5f0\\ubd09=%{x}<extra></extra>\", \"legendgroup\": \"NC\", \"marker\": {\"color\": \"#00cc96\"}, \"name\": \"NC\", \"offsetgroup\": \"NC\", \"orientation\": \"h\", \"showlegend\": false, \"textposition\": \"auto\", \"type\": \"bar\", \"x\": [975700.0], \"xaxis\": \"x4\", \"y\": [\"NC\"], \"yaxis\": \"y4\"}, {\"alignmentgroup\": \"True\", \"hovertemplate\": \"\\ud300\\uba85=%{y}<br>\\uc2dc\\uc98c=2018<br>\\uc5f0\\ubd09=%{x}<extra></extra>\", \"legendgroup\": \"NC\", \"marker\": {\"color\": \"#00cc96\"}, \"name\": \"NC\", \"offsetgroup\": \"NC\", \"orientation\": \"h\", \"showlegend\": false, \"textposition\": \"auto\", \"type\": \"bar\", \"x\": [722500.0], \"xaxis\": \"x3\", \"y\": [\"NC\"], \"yaxis\": \"y3\"}, {\"alignmentgroup\": \"True\", \"hovertemplate\": \"\\ud300\\uba85=%{y}<br>\\uc2dc\\uc98c=2019<br>\\uc5f0\\ubd09=%{x}<extra></extra>\", \"legendgroup\": \"NC\", \"marker\": {\"color\": \"#00cc96\"}, \"name\": \"NC\", \"offsetgroup\": \"NC\", \"orientation\": \"h\", \"showlegend\": false, \"textposition\": \"auto\", \"type\": \"bar\", \"x\": [1082200.0], \"xaxis\": \"x2\", \"y\": [\"NC\"], \"yaxis\": \"y2\"}, {\"alignmentgroup\": \"True\", \"hovertemplate\": \"\\ud300\\uba85=%{y}<br>\\uc2dc\\uc98c=2020<br>\\uc5f0\\ubd09=%{x}<extra></extra>\", \"legendgroup\": \"NC\", \"marker\": {\"color\": \"#00cc96\"}, \"name\": \"NC\", \"offsetgroup\": \"NC\", \"orientation\": \"h\", \"showlegend\": false, \"textposition\": \"auto\", \"type\": \"bar\", \"x\": [1101000.0], \"xaxis\": \"x\", \"y\": [\"NC\"], \"yaxis\": \"y\"}, {\"alignmentgroup\": \"True\", \"hovertemplate\": \"\\ud300\\uba85=%{y}<br>\\uc2dc\\uc98c=2016<br>\\uc5f0\\ubd09=%{x}<extra></extra>\", \"legendgroup\": \"LG\", \"marker\": {\"color\": \"#ab63fa\"}, \"name\": \"LG\", \"offsetgroup\": \"LG\", \"orientation\": \"h\", \"showlegend\": true, \"textposition\": \"auto\", \"type\": \"bar\", \"x\": [925700.0], \"xaxis\": \"x5\", \"y\": [\"LG\"], \"yaxis\": \"y5\"}, {\"alignmentgroup\": \"True\", \"hovertemplate\": \"\\ud300\\uba85=%{y}<br>\\uc2dc\\uc98c=2017<br>\\uc5f0\\ubd09=%{x}<extra></extra>\", \"legendgroup\": \"LG\", \"marker\": {\"color\": \"#ab63fa\"}, \"name\": \"LG\", \"offsetgroup\": \"LG\", \"orientation\": \"h\", \"showlegend\": false, \"textposition\": \"auto\", \"type\": \"bar\", \"x\": [1019200.0], \"xaxis\": \"x4\", \"y\": [\"LG\"], \"yaxis\": \"y4\"}, {\"alignmentgroup\": \"True\", \"hovertemplate\": \"\\ud300\\uba85=%{y}<br>\\uc2dc\\uc98c=2018<br>\\uc5f0\\ubd09=%{x}<extra></extra>\", \"legendgroup\": \"LG\", \"marker\": {\"color\": \"#ab63fa\"}, \"name\": \"LG\", \"offsetgroup\": \"LG\", \"orientation\": \"h\", \"showlegend\": false, \"textposition\": \"auto\", \"type\": \"bar\", \"x\": [1140200.0], \"xaxis\": \"x3\", \"y\": [\"LG\"], \"yaxis\": \"y3\"}, {\"alignmentgroup\": \"True\", \"hovertemplate\": \"\\ud300\\uba85=%{y}<br>\\uc2dc\\uc98c=2019<br>\\uc5f0\\ubd09=%{x}<extra></extra>\", \"legendgroup\": \"LG\", \"marker\": {\"color\": \"#ab63fa\"}, \"name\": \"LG\", \"offsetgroup\": \"LG\", \"orientation\": \"h\", \"showlegend\": false, \"textposition\": \"auto\", \"type\": \"bar\", \"x\": [1092500.0], \"xaxis\": \"x2\", \"y\": [\"LG\"], \"yaxis\": \"y2\"}, {\"alignmentgroup\": \"True\", \"hovertemplate\": \"\\ud300\\uba85=%{y}<br>\\uc2dc\\uc98c=2020<br>\\uc5f0\\ubd09=%{x}<extra></extra>\", \"legendgroup\": \"LG\", \"marker\": {\"color\": \"#ab63fa\"}, \"name\": \"LG\", \"offsetgroup\": \"LG\", \"orientation\": \"h\", \"showlegend\": false, \"textposition\": \"auto\", \"type\": \"bar\", \"x\": [1108900.0], \"xaxis\": \"x\", \"y\": [\"LG\"], \"yaxis\": \"y\"}, {\"alignmentgroup\": \"True\", \"hovertemplate\": \"\\ud300\\uba85=%{y}<br>\\uc2dc\\uc98c=2016<br>\\uc5f0\\ubd09=%{x}<extra></extra>\", \"legendgroup\": \"SK\", \"marker\": {\"color\": \"#FFA15A\"}, \"name\": \"SK\", \"offsetgroup\": \"SK\", \"orientation\": \"h\", \"showlegend\": true, \"textposition\": \"auto\", \"type\": \"bar\", \"x\": [955500.0], \"xaxis\": \"x5\", \"y\": [\"SK\"], \"yaxis\": \"y5\"}, {\"alignmentgroup\": \"True\", \"hovertemplate\": \"\\ud300\\uba85=%{y}<br>\\uc2dc\\uc98c=2017<br>\\uc5f0\\ubd09=%{x}<extra></extra>\", \"legendgroup\": \"SK\", \"marker\": {\"color\": \"#FFA15A\"}, \"name\": \"SK\", \"offsetgroup\": \"SK\", \"orientation\": \"h\", \"showlegend\": false, \"textposition\": \"auto\", \"type\": \"bar\", \"x\": [1041500.0], \"xaxis\": \"x4\", \"y\": [\"SK\"], \"yaxis\": \"y4\"}, {\"alignmentgroup\": \"True\", \"hovertemplate\": \"\\ud300\\uba85=%{y}<br>\\uc2dc\\uc98c=2018<br>\\uc5f0\\ubd09=%{x}<extra></extra>\", \"legendgroup\": \"SK\", \"marker\": {\"color\": \"#FFA15A\"}, \"name\": \"SK\", \"offsetgroup\": \"SK\", \"orientation\": \"h\", \"showlegend\": false, \"textposition\": \"auto\", \"type\": \"bar\", \"x\": [1150000.0], \"xaxis\": \"x3\", \"y\": [\"SK\"], \"yaxis\": \"y3\"}, {\"alignmentgroup\": \"True\", \"hovertemplate\": \"\\ud300\\uba85=%{y}<br>\\uc2dc\\uc98c=2019<br>\\uc5f0\\ubd09=%{x}<extra></extra>\", \"legendgroup\": \"SK\", \"marker\": {\"color\": \"#FFA15A\"}, \"name\": \"SK\", \"offsetgroup\": \"SK\", \"orientation\": \"h\", \"showlegend\": false, \"textposition\": \"auto\", \"type\": \"bar\", \"x\": [1227400.0], \"xaxis\": \"x2\", \"y\": [\"SK\"], \"yaxis\": \"y2\"}, {\"alignmentgroup\": \"True\", \"hovertemplate\": \"\\ud300\\uba85=%{y}<br>\\uc2dc\\uc98c=2020<br>\\uc5f0\\ubd09=%{x}<extra></extra>\", \"legendgroup\": \"SK\", \"marker\": {\"color\": \"#FFA15A\"}, \"name\": \"SK\", \"offsetgroup\": \"SK\", \"orientation\": \"h\", \"showlegend\": false, \"textposition\": \"auto\", \"type\": \"bar\", \"x\": [935800.0], \"xaxis\": \"x\", \"y\": [\"SK\"], \"yaxis\": \"y\"}, {\"alignmentgroup\": \"True\", \"hovertemplate\": \"\\ud300\\uba85=%{y}<br>\\uc2dc\\uc98c=2016<br>\\uc5f0\\ubd09=%{x}<extra></extra>\", \"legendgroup\": \"\\ub450\\uc0b0\", \"marker\": {\"color\": \"#19d3f3\"}, \"name\": \"\\ub450\\uc0b0\", \"offsetgroup\": \"\\ub450\\uc0b0\", \"orientation\": \"h\", \"showlegend\": true, \"textposition\": \"auto\", \"type\": \"bar\", \"x\": [1005900.0], \"xaxis\": \"x5\", \"y\": [\"\\ub450\\uc0b0\"], \"yaxis\": \"y5\"}, {\"alignmentgroup\": \"True\", \"hovertemplate\": \"\\ud300\\uba85=%{y}<br>\\uc2dc\\uc98c=2017<br>\\uc5f0\\ubd09=%{x}<extra></extra>\", \"legendgroup\": \"\\ub450\\uc0b0\", \"marker\": {\"color\": \"#19d3f3\"}, \"name\": \"\\ub450\\uc0b0\", \"offsetgroup\": \"\\ub450\\uc0b0\", \"orientation\": \"h\", \"showlegend\": false, \"textposition\": \"auto\", \"type\": \"bar\", \"x\": [1160000.0], \"xaxis\": \"x4\", \"y\": [\"\\ub450\\uc0b0\"], \"yaxis\": \"y4\"}, {\"alignmentgroup\": \"True\", \"hovertemplate\": \"\\ud300\\uba85=%{y}<br>\\uc2dc\\uc98c=2018<br>\\uc5f0\\ubd09=%{x}<extra></extra>\", \"legendgroup\": \"\\ub450\\uc0b0\", \"marker\": {\"color\": \"#19d3f3\"}, \"name\": \"\\ub450\\uc0b0\", \"offsetgroup\": \"\\ub450\\uc0b0\", \"orientation\": \"h\", \"showlegend\": false, \"textposition\": \"auto\", \"type\": \"bar\", \"x\": [1148900.0], \"xaxis\": \"x3\", \"y\": [\"\\ub450\\uc0b0\"], \"yaxis\": \"y3\"}, {\"alignmentgroup\": \"True\", \"hovertemplate\": \"\\ud300\\uba85=%{y}<br>\\uc2dc\\uc98c=2019<br>\\uc5f0\\ubd09=%{x}<extra></extra>\", \"legendgroup\": \"\\ub450\\uc0b0\", \"marker\": {\"color\": \"#19d3f3\"}, \"name\": \"\\ub450\\uc0b0\", \"offsetgroup\": \"\\ub450\\uc0b0\", \"orientation\": \"h\", \"showlegend\": false, \"textposition\": \"auto\", \"type\": \"bar\", \"x\": [1178300.0], \"xaxis\": \"x2\", \"y\": [\"\\ub450\\uc0b0\"], \"yaxis\": \"y2\"}, {\"alignmentgroup\": \"True\", \"hovertemplate\": \"\\ud300\\uba85=%{y}<br>\\uc2dc\\uc98c=2020<br>\\uc5f0\\ubd09=%{x}<extra></extra>\", \"legendgroup\": \"\\ub450\\uc0b0\", \"marker\": {\"color\": \"#19d3f3\"}, \"name\": \"\\ub450\\uc0b0\", \"offsetgroup\": \"\\ub450\\uc0b0\", \"orientation\": \"h\", \"showlegend\": false, \"textposition\": \"auto\", \"type\": \"bar\", \"x\": [975000.0], \"xaxis\": \"x\", \"y\": [\"\\ub450\\uc0b0\"], \"yaxis\": \"y\"}, {\"alignmentgroup\": \"True\", \"hovertemplate\": \"\\ud300\\uba85=%{y}<br>\\uc2dc\\uc98c=2016<br>\\uc5f0\\ubd09=%{x}<extra></extra>\", \"legendgroup\": \"KIA\", \"marker\": {\"color\": \"#FF6692\"}, \"name\": \"KIA\", \"offsetgroup\": \"KIA\", \"orientation\": \"h\", \"showlegend\": true, \"textposition\": \"auto\", \"type\": \"bar\", \"x\": [1058700.0], \"xaxis\": \"x5\", \"y\": [\"KIA\"], \"yaxis\": \"y5\"}, {\"alignmentgroup\": \"True\", \"hovertemplate\": \"\\ud300\\uba85=%{y}<br>\\uc2dc\\uc98c=2017<br>\\uc5f0\\ubd09=%{x}<extra></extra>\", \"legendgroup\": \"KIA\", \"marker\": {\"color\": \"#FF6692\"}, \"name\": \"KIA\", \"offsetgroup\": \"KIA\", \"orientation\": \"h\", \"showlegend\": false, \"textposition\": \"auto\", \"type\": \"bar\", \"x\": [1366200.0], \"xaxis\": \"x4\", \"y\": [\"KIA\"], \"yaxis\": \"y4\"}, {\"alignmentgroup\": \"True\", \"hovertemplate\": \"\\ud300\\uba85=%{y}<br>\\uc2dc\\uc98c=2018<br>\\uc5f0\\ubd09=%{x}<extra></extra>\", \"legendgroup\": \"KIA\", \"marker\": {\"color\": \"#FF6692\"}, \"name\": \"KIA\", \"offsetgroup\": \"KIA\", \"orientation\": \"h\", \"showlegend\": false, \"textposition\": \"auto\", \"type\": \"bar\", \"x\": [1464500.0], \"xaxis\": \"x3\", \"y\": [\"KIA\"], \"yaxis\": \"y3\"}, {\"alignmentgroup\": \"True\", \"hovertemplate\": \"\\ud300\\uba85=%{y}<br>\\uc2dc\\uc98c=2019<br>\\uc5f0\\ubd09=%{x}<extra></extra>\", \"legendgroup\": \"KIA\", \"marker\": {\"color\": \"#FF6692\"}, \"name\": \"KIA\", \"offsetgroup\": \"KIA\", \"orientation\": \"h\", \"showlegend\": false, \"textposition\": \"auto\", \"type\": \"bar\", \"x\": [1174400.0], \"xaxis\": \"x2\", \"y\": [\"KIA\"], \"yaxis\": \"y2\"}, {\"alignmentgroup\": \"True\", \"hovertemplate\": \"\\ud300\\uba85=%{y}<br>\\uc2dc\\uc98c=2020<br>\\uc5f0\\ubd09=%{x}<extra></extra>\", \"legendgroup\": \"KIA\", \"marker\": {\"color\": \"#FF6692\"}, \"name\": \"KIA\", \"offsetgroup\": \"KIA\", \"orientation\": \"h\", \"showlegend\": false, \"textposition\": \"auto\", \"type\": \"bar\", \"x\": [998090.0], \"xaxis\": \"x\", \"y\": [\"KIA\"], \"yaxis\": \"y\"}, {\"alignmentgroup\": \"True\", \"hovertemplate\": \"\\ud300\\uba85=%{y}<br>\\uc2dc\\uc98c=2016<br>\\uc5f0\\ubd09=%{x}<extra></extra>\", \"legendgroup\": \"\\ub86f\\ub370\", \"marker\": {\"color\": \"#B6E880\"}, \"name\": \"\\ub86f\\ub370\", \"offsetgroup\": \"\\ub86f\\ub370\", \"orientation\": \"h\", \"showlegend\": true, \"textposition\": \"auto\", \"type\": \"bar\", \"x\": [1088400.0], \"xaxis\": \"x5\", \"y\": [\"\\ub86f\\ub370\"], \"yaxis\": \"y5\"}, {\"alignmentgroup\": \"True\", \"hovertemplate\": \"\\ud300\\uba85=%{y}<br>\\uc2dc\\uc98c=2017<br>\\uc5f0\\ubd09=%{x}<extra></extra>\", \"legendgroup\": \"\\ub86f\\ub370\", \"marker\": {\"color\": \"#B6E880\"}, \"name\": \"\\ub86f\\ub370\", \"offsetgroup\": \"\\ub86f\\ub370\", \"orientation\": \"h\", \"showlegend\": false, \"textposition\": \"auto\", \"type\": \"bar\", \"x\": [1243150.0], \"xaxis\": \"x4\", \"y\": [\"\\ub86f\\ub370\"], \"yaxis\": \"y4\"}, {\"alignmentgroup\": \"True\", \"hovertemplate\": \"\\ud300\\uba85=%{y}<br>\\uc2dc\\uc98c=2018<br>\\uc5f0\\ubd09=%{x}<extra></extra>\", \"legendgroup\": \"\\ub86f\\ub370\", \"marker\": {\"color\": \"#B6E880\"}, \"name\": \"\\ub86f\\ub370\", \"offsetgroup\": \"\\ub86f\\ub370\", \"orientation\": \"h\", \"showlegend\": false, \"textposition\": \"auto\", \"type\": \"bar\", \"x\": [1325600.0], \"xaxis\": \"x3\", \"y\": [\"\\ub86f\\ub370\"], \"yaxis\": \"y3\"}, {\"alignmentgroup\": \"True\", \"hovertemplate\": \"\\ud300\\uba85=%{y}<br>\\uc2dc\\uc98c=2019<br>\\uc5f0\\ubd09=%{x}<extra></extra>\", \"legendgroup\": \"\\ub86f\\ub370\", \"marker\": {\"color\": \"#B6E880\"}, \"name\": \"\\ub86f\\ub370\", \"offsetgroup\": \"\\ub86f\\ub370\", \"orientation\": \"h\", \"showlegend\": false, \"textposition\": \"auto\", \"type\": \"bar\", \"x\": [1428210.0], \"xaxis\": \"x2\", \"y\": [\"\\ub86f\\ub370\"], \"yaxis\": \"y2\"}, {\"alignmentgroup\": \"True\", \"hovertemplate\": \"\\ud300\\uba85=%{y}<br>\\uc2dc\\uc98c=2020<br>\\uc5f0\\ubd09=%{x}<extra></extra>\", \"legendgroup\": \"\\ub86f\\ub370\", \"marker\": {\"color\": \"#B6E880\"}, \"name\": \"\\ub86f\\ub370\", \"offsetgroup\": \"\\ub86f\\ub370\", \"orientation\": \"h\", \"showlegend\": false, \"textposition\": \"auto\", \"type\": \"bar\", \"x\": [1067700.0], \"xaxis\": \"x\", \"y\": [\"\\ub86f\\ub370\"], \"yaxis\": \"y\"}, {\"alignmentgroup\": \"True\", \"hovertemplate\": \"\\ud300\\uba85=%{y}<br>\\uc2dc\\uc98c=2016<br>\\uc5f0\\ubd09=%{x}<extra></extra>\", \"legendgroup\": \"\\uc0bc\\uc131\", \"marker\": {\"color\": \"#FF97FF\"}, \"name\": \"\\uc0bc\\uc131\", \"offsetgroup\": \"\\uc0bc\\uc131\", \"orientation\": \"h\", \"showlegend\": true, \"textposition\": \"auto\", \"type\": \"bar\", \"x\": [1116400.0], \"xaxis\": \"x5\", \"y\": [\"\\uc0bc\\uc131\"], \"yaxis\": \"y5\"}, {\"alignmentgroup\": \"True\", \"hovertemplate\": \"\\ud300\\uba85=%{y}<br>\\uc2dc\\uc98c=2017<br>\\uc5f0\\ubd09=%{x}<extra></extra>\", \"legendgroup\": \"\\uc0bc\\uc131\", \"marker\": {\"color\": \"#FF97FF\"}, \"name\": \"\\uc0bc\\uc131\", \"offsetgroup\": \"\\uc0bc\\uc131\", \"orientation\": \"h\", \"showlegend\": false, \"textposition\": \"auto\", \"type\": \"bar\", \"x\": [1089800.0], \"xaxis\": \"x4\", \"y\": [\"\\uc0bc\\uc131\"], \"yaxis\": \"y4\"}, {\"alignmentgroup\": \"True\", \"hovertemplate\": \"\\ud300\\uba85=%{y}<br>\\uc2dc\\uc98c=2018<br>\\uc5f0\\ubd09=%{x}<extra></extra>\", \"legendgroup\": \"\\uc0bc\\uc131\", \"marker\": {\"color\": \"#FF97FF\"}, \"name\": \"\\uc0bc\\uc131\", \"offsetgroup\": \"\\uc0bc\\uc131\", \"orientation\": \"h\", \"showlegend\": false, \"textposition\": \"auto\", \"type\": \"bar\", \"x\": [1086300.0], \"xaxis\": \"x3\", \"y\": [\"\\uc0bc\\uc131\"], \"yaxis\": \"y3\"}, {\"alignmentgroup\": \"True\", \"hovertemplate\": \"\\ud300\\uba85=%{y}<br>\\uc2dc\\uc98c=2019<br>\\uc5f0\\ubd09=%{x}<extra></extra>\", \"legendgroup\": \"\\uc0bc\\uc131\", \"marker\": {\"color\": \"#FF97FF\"}, \"name\": \"\\uc0bc\\uc131\", \"offsetgroup\": \"\\uc0bc\\uc131\", \"orientation\": \"h\", \"showlegend\": false, \"textposition\": \"auto\", \"type\": \"bar\", \"x\": [1052800.0], \"xaxis\": \"x2\", \"y\": [\"\\uc0bc\\uc131\"], \"yaxis\": \"y2\"}, {\"alignmentgroup\": \"True\", \"hovertemplate\": \"\\ud300\\uba85=%{y}<br>\\uc2dc\\uc98c=2020<br>\\uc5f0\\ubd09=%{x}<extra></extra>\", \"legendgroup\": \"\\uc0bc\\uc131\", \"marker\": {\"color\": \"#FF97FF\"}, \"name\": \"\\uc0bc\\uc131\", \"offsetgroup\": \"\\uc0bc\\uc131\", \"orientation\": \"h\", \"showlegend\": false, \"textposition\": \"auto\", \"type\": \"bar\", \"x\": [970500.0], \"xaxis\": \"x\", \"y\": [\"\\uc0bc\\uc131\"], \"yaxis\": \"y\"}, {\"alignmentgroup\": \"True\", \"hovertemplate\": \"\\ud300\\uba85=%{y}<br>\\uc2dc\\uc98c=2016<br>\\uc5f0\\ubd09=%{x}<extra></extra>\", \"legendgroup\": \"\\ud55c\\ud654\", \"marker\": {\"color\": \"#FECB52\"}, \"name\": \"\\ud55c\\ud654\", \"offsetgroup\": \"\\ud55c\\ud654\", \"orientation\": \"h\", \"showlegend\": true, \"textposition\": \"auto\", \"type\": \"bar\", \"x\": [1454500.0], \"xaxis\": \"x5\", \"y\": [\"\\ud55c\\ud654\"], \"yaxis\": \"y5\"}, {\"alignmentgroup\": \"True\", \"hovertemplate\": \"\\ud300\\uba85=%{y}<br>\\uc2dc\\uc98c=2017<br>\\uc5f0\\ubd09=%{x}<extra></extra>\", \"legendgroup\": \"\\ud55c\\ud654\", \"marker\": {\"color\": \"#FECB52\"}, \"name\": \"\\ud55c\\ud654\", \"offsetgroup\": \"\\ud55c\\ud654\", \"orientation\": \"h\", \"showlegend\": false, \"textposition\": \"auto\", \"type\": \"bar\", \"x\": [1495600.0], \"xaxis\": \"x4\", \"y\": [\"\\ud55c\\ud654\"], \"yaxis\": \"y4\"}, {\"alignmentgroup\": \"True\", \"hovertemplate\": \"\\ud300\\uba85=%{y}<br>\\uc2dc\\uc98c=2018<br>\\uc5f0\\ubd09=%{x}<extra></extra>\", \"legendgroup\": \"\\ud55c\\ud654\", \"marker\": {\"color\": \"#FECB52\"}, \"name\": \"\\ud55c\\ud654\", \"offsetgroup\": \"\\ud55c\\ud654\", \"orientation\": \"h\", \"showlegend\": false, \"textposition\": \"auto\", \"type\": \"bar\", \"x\": [1108550.0], \"xaxis\": \"x3\", \"y\": [\"\\ud55c\\ud654\"], \"yaxis\": \"y3\"}, {\"alignmentgroup\": \"True\", \"hovertemplate\": \"\\ud300\\uba85=%{y}<br>\\uc2dc\\uc98c=2019<br>\\uc5f0\\ubd09=%{x}<extra></extra>\", \"legendgroup\": \"\\ud55c\\ud654\", \"marker\": {\"color\": \"#FECB52\"}, \"name\": \"\\ud55c\\ud654\", \"offsetgroup\": \"\\ud55c\\ud654\", \"orientation\": \"h\", \"showlegend\": false, \"textposition\": \"auto\", \"type\": \"bar\", \"x\": [917500.0], \"xaxis\": \"x2\", \"y\": [\"\\ud55c\\ud654\"], \"yaxis\": \"y2\"}, {\"alignmentgroup\": \"True\", \"hovertemplate\": \"\\ud300\\uba85=%{y}<br>\\uc2dc\\uc98c=2020<br>\\uc5f0\\ubd09=%{x}<extra></extra>\", \"legendgroup\": \"\\ud55c\\ud654\", \"marker\": {\"color\": \"#FECB52\"}, \"name\": \"\\ud55c\\ud654\", \"offsetgroup\": \"\\ud55c\\ud654\", \"orientation\": \"h\", \"showlegend\": false, \"textposition\": \"auto\", \"type\": \"bar\", \"x\": [875100.0], \"xaxis\": \"x\", \"y\": [\"\\ud55c\\ud654\"], \"yaxis\": \"y\"}],\n",
       "                        {\"annotations\": [{\"font\": {}, \"showarrow\": false, \"text\": \"\\uc2dc\\uc98c=2020\", \"textangle\": 90, \"x\": 0.98, \"xanchor\": \"left\", \"xref\": \"paper\", \"y\": 0.08800000000000001, \"yanchor\": \"middle\", \"yref\": \"paper\"}, {\"font\": {}, \"showarrow\": false, \"text\": \"\\uc2dc\\uc98c=2019\", \"textangle\": 90, \"x\": 0.98, \"xanchor\": \"left\", \"xref\": \"paper\", \"y\": 0.29400000000000004, \"yanchor\": \"middle\", \"yref\": \"paper\"}, {\"font\": {}, \"showarrow\": false, \"text\": \"\\uc2dc\\uc98c=2018\", \"textangle\": 90, \"x\": 0.98, \"xanchor\": \"left\", \"xref\": \"paper\", \"y\": 0.5, \"yanchor\": \"middle\", \"yref\": \"paper\"}, {\"font\": {}, \"showarrow\": false, \"text\": \"\\uc2dc\\uc98c=2017\", \"textangle\": 90, \"x\": 0.98, \"xanchor\": \"left\", \"xref\": \"paper\", \"y\": 0.706, \"yanchor\": \"middle\", \"yref\": \"paper\"}, {\"font\": {}, \"showarrow\": false, \"text\": \"\\uc2dc\\uc98c=2016\", \"textangle\": 90, \"x\": 0.98, \"xanchor\": \"left\", \"xref\": \"paper\", \"y\": 0.912, \"yanchor\": \"middle\", \"yref\": \"paper\"}], \"barmode\": \"group\", \"height\": 1000, \"legend\": {\"title\": {\"text\": \"\\ud300\\uba85\"}, \"tracegroupgap\": 0}, \"template\": {\"data\": {\"bar\": [{\"error_x\": {\"color\": \"#2a3f5f\"}, \"error_y\": {\"color\": \"#2a3f5f\"}, \"marker\": {\"line\": {\"color\": \"#E5ECF6\", \"width\": 0.5}}, \"type\": \"bar\"}], \"barpolar\": [{\"marker\": {\"line\": {\"color\": \"#E5ECF6\", \"width\": 0.5}}, \"type\": \"barpolar\"}], \"carpet\": [{\"aaxis\": {\"endlinecolor\": \"#2a3f5f\", \"gridcolor\": \"white\", \"linecolor\": \"white\", \"minorgridcolor\": \"white\", \"startlinecolor\": \"#2a3f5f\"}, \"baxis\": {\"endlinecolor\": \"#2a3f5f\", \"gridcolor\": \"white\", \"linecolor\": \"white\", \"minorgridcolor\": \"white\", \"startlinecolor\": \"#2a3f5f\"}, \"type\": \"carpet\"}], \"choropleth\": [{\"colorbar\": {\"outlinewidth\": 0, \"ticks\": \"\"}, \"type\": \"choropleth\"}], \"contour\": [{\"colorbar\": {\"outlinewidth\": 0, \"ticks\": \"\"}, \"colorscale\": [[0.0, \"#0d0887\"], [0.1111111111111111, \"#46039f\"], [0.2222222222222222, \"#7201a8\"], [0.3333333333333333, \"#9c179e\"], [0.4444444444444444, \"#bd3786\"], [0.5555555555555556, \"#d8576b\"], [0.6666666666666666, \"#ed7953\"], [0.7777777777777778, \"#fb9f3a\"], [0.8888888888888888, \"#fdca26\"], [1.0, \"#f0f921\"]], \"type\": \"contour\"}], \"contourcarpet\": [{\"colorbar\": {\"outlinewidth\": 0, \"ticks\": \"\"}, \"type\": \"contourcarpet\"}], \"heatmap\": [{\"colorbar\": {\"outlinewidth\": 0, \"ticks\": \"\"}, \"colorscale\": [[0.0, \"#0d0887\"], [0.1111111111111111, \"#46039f\"], [0.2222222222222222, \"#7201a8\"], [0.3333333333333333, \"#9c179e\"], [0.4444444444444444, \"#bd3786\"], [0.5555555555555556, \"#d8576b\"], [0.6666666666666666, \"#ed7953\"], [0.7777777777777778, \"#fb9f3a\"], [0.8888888888888888, \"#fdca26\"], [1.0, \"#f0f921\"]], \"type\": \"heatmap\"}], \"heatmapgl\": [{\"colorbar\": {\"outlinewidth\": 0, \"ticks\": \"\"}, \"colorscale\": [[0.0, \"#0d0887\"], [0.1111111111111111, \"#46039f\"], [0.2222222222222222, \"#7201a8\"], [0.3333333333333333, \"#9c179e\"], [0.4444444444444444, \"#bd3786\"], [0.5555555555555556, \"#d8576b\"], [0.6666666666666666, \"#ed7953\"], [0.7777777777777778, \"#fb9f3a\"], [0.8888888888888888, \"#fdca26\"], [1.0, \"#f0f921\"]], \"type\": \"heatmapgl\"}], \"histogram\": [{\"marker\": {\"colorbar\": {\"outlinewidth\": 0, \"ticks\": \"\"}}, \"type\": \"histogram\"}], \"histogram2d\": [{\"colorbar\": {\"outlinewidth\": 0, \"ticks\": \"\"}, \"colorscale\": [[0.0, \"#0d0887\"], [0.1111111111111111, \"#46039f\"], [0.2222222222222222, \"#7201a8\"], [0.3333333333333333, \"#9c179e\"], [0.4444444444444444, \"#bd3786\"], [0.5555555555555556, \"#d8576b\"], [0.6666666666666666, \"#ed7953\"], [0.7777777777777778, \"#fb9f3a\"], [0.8888888888888888, \"#fdca26\"], [1.0, \"#f0f921\"]], \"type\": \"histogram2d\"}], \"histogram2dcontour\": [{\"colorbar\": {\"outlinewidth\": 0, \"ticks\": \"\"}, \"colorscale\": [[0.0, \"#0d0887\"], [0.1111111111111111, \"#46039f\"], [0.2222222222222222, \"#7201a8\"], [0.3333333333333333, \"#9c179e\"], [0.4444444444444444, \"#bd3786\"], [0.5555555555555556, \"#d8576b\"], [0.6666666666666666, \"#ed7953\"], [0.7777777777777778, \"#fb9f3a\"], [0.8888888888888888, \"#fdca26\"], [1.0, \"#f0f921\"]], \"type\": \"histogram2dcontour\"}], \"mesh3d\": [{\"colorbar\": {\"outlinewidth\": 0, \"ticks\": \"\"}, \"type\": \"mesh3d\"}], \"parcoords\": [{\"line\": {\"colorbar\": {\"outlinewidth\": 0, \"ticks\": \"\"}}, \"type\": \"parcoords\"}], \"pie\": [{\"automargin\": true, \"type\": \"pie\"}], \"scatter\": [{\"marker\": {\"colorbar\": {\"outlinewidth\": 0, \"ticks\": \"\"}}, \"type\": \"scatter\"}], \"scatter3d\": [{\"line\": {\"colorbar\": {\"outlinewidth\": 0, \"ticks\": \"\"}}, \"marker\": {\"colorbar\": {\"outlinewidth\": 0, \"ticks\": \"\"}}, \"type\": \"scatter3d\"}], \"scattercarpet\": [{\"marker\": {\"colorbar\": {\"outlinewidth\": 0, \"ticks\": \"\"}}, \"type\": \"scattercarpet\"}], \"scattergeo\": [{\"marker\": {\"colorbar\": {\"outlinewidth\": 0, \"ticks\": \"\"}}, \"type\": \"scattergeo\"}], \"scattergl\": [{\"marker\": {\"colorbar\": {\"outlinewidth\": 0, \"ticks\": \"\"}}, \"type\": \"scattergl\"}], \"scattermapbox\": [{\"marker\": {\"colorbar\": {\"outlinewidth\": 0, \"ticks\": \"\"}}, \"type\": \"scattermapbox\"}], \"scatterpolar\": [{\"marker\": {\"colorbar\": {\"outlinewidth\": 0, \"ticks\": \"\"}}, \"type\": \"scatterpolar\"}], \"scatterpolargl\": [{\"marker\": {\"colorbar\": {\"outlinewidth\": 0, \"ticks\": \"\"}}, \"type\": \"scatterpolargl\"}], \"scatterternary\": [{\"marker\": {\"colorbar\": {\"outlinewidth\": 0, \"ticks\": \"\"}}, \"type\": \"scatterternary\"}], \"surface\": [{\"colorbar\": {\"outlinewidth\": 0, \"ticks\": \"\"}, \"colorscale\": [[0.0, \"#0d0887\"], [0.1111111111111111, \"#46039f\"], [0.2222222222222222, \"#7201a8\"], [0.3333333333333333, \"#9c179e\"], [0.4444444444444444, \"#bd3786\"], [0.5555555555555556, \"#d8576b\"], [0.6666666666666666, \"#ed7953\"], [0.7777777777777778, \"#fb9f3a\"], [0.8888888888888888, \"#fdca26\"], [1.0, \"#f0f921\"]], \"type\": \"surface\"}], \"table\": [{\"cells\": {\"fill\": {\"color\": \"#EBF0F8\"}, \"line\": {\"color\": \"white\"}}, \"header\": {\"fill\": {\"color\": \"#C8D4E3\"}, \"line\": {\"color\": \"white\"}}, \"type\": \"table\"}]}, \"layout\": {\"annotationdefaults\": {\"arrowcolor\": \"#2a3f5f\", \"arrowhead\": 0, \"arrowwidth\": 1}, \"coloraxis\": {\"colorbar\": {\"outlinewidth\": 0, \"ticks\": \"\"}}, \"colorscale\": {\"diverging\": [[0, \"#8e0152\"], [0.1, \"#c51b7d\"], [0.2, \"#de77ae\"], [0.3, \"#f1b6da\"], [0.4, \"#fde0ef\"], [0.5, \"#f7f7f7\"], [0.6, \"#e6f5d0\"], [0.7, \"#b8e186\"], [0.8, \"#7fbc41\"], [0.9, \"#4d9221\"], [1, \"#276419\"]], \"sequential\": [[0.0, \"#0d0887\"], [0.1111111111111111, \"#46039f\"], [0.2222222222222222, \"#7201a8\"], [0.3333333333333333, \"#9c179e\"], [0.4444444444444444, \"#bd3786\"], [0.5555555555555556, \"#d8576b\"], [0.6666666666666666, \"#ed7953\"], [0.7777777777777778, \"#fb9f3a\"], [0.8888888888888888, \"#fdca26\"], [1.0, \"#f0f921\"]], \"sequentialminus\": [[0.0, \"#0d0887\"], [0.1111111111111111, \"#46039f\"], [0.2222222222222222, \"#7201a8\"], [0.3333333333333333, \"#9c179e\"], [0.4444444444444444, \"#bd3786\"], [0.5555555555555556, \"#d8576b\"], [0.6666666666666666, \"#ed7953\"], [0.7777777777777778, \"#fb9f3a\"], [0.8888888888888888, \"#fdca26\"], [1.0, \"#f0f921\"]]}, \"colorway\": [\"#636efa\", \"#EF553B\", \"#00cc96\", \"#ab63fa\", \"#FFA15A\", \"#19d3f3\", \"#FF6692\", \"#B6E880\", \"#FF97FF\", \"#FECB52\"], \"font\": {\"color\": \"#2a3f5f\"}, \"geo\": {\"bgcolor\": \"white\", \"lakecolor\": \"white\", \"landcolor\": \"#E5ECF6\", \"showlakes\": true, \"showland\": true, \"subunitcolor\": \"white\"}, \"hoverlabel\": {\"align\": \"left\"}, \"hovermode\": \"closest\", \"mapbox\": {\"style\": \"light\"}, \"paper_bgcolor\": \"white\", \"plot_bgcolor\": \"#E5ECF6\", \"polar\": {\"angularaxis\": {\"gridcolor\": \"white\", \"linecolor\": \"white\", \"ticks\": \"\"}, \"bgcolor\": \"#E5ECF6\", \"radialaxis\": {\"gridcolor\": \"white\", \"linecolor\": \"white\", \"ticks\": \"\"}}, \"scene\": {\"xaxis\": {\"backgroundcolor\": \"#E5ECF6\", \"gridcolor\": \"white\", \"gridwidth\": 2, \"linecolor\": \"white\", \"showbackground\": true, \"ticks\": \"\", \"zerolinecolor\": \"white\"}, \"yaxis\": {\"backgroundcolor\": \"#E5ECF6\", \"gridcolor\": \"white\", \"gridwidth\": 2, \"linecolor\": \"white\", \"showbackground\": true, \"ticks\": \"\", \"zerolinecolor\": \"white\"}, \"zaxis\": {\"backgroundcolor\": \"#E5ECF6\", \"gridcolor\": \"white\", \"gridwidth\": 2, \"linecolor\": \"white\", \"showbackground\": true, \"ticks\": \"\", \"zerolinecolor\": \"white\"}}, \"shapedefaults\": {\"line\": {\"color\": \"#2a3f5f\"}}, \"ternary\": {\"aaxis\": {\"gridcolor\": \"white\", \"linecolor\": \"white\", \"ticks\": \"\"}, \"baxis\": {\"gridcolor\": \"white\", \"linecolor\": \"white\", \"ticks\": \"\"}, \"bgcolor\": \"#E5ECF6\", \"caxis\": {\"gridcolor\": \"white\", \"linecolor\": \"white\", \"ticks\": \"\"}}, \"title\": {\"x\": 0.05}, \"xaxis\": {\"automargin\": true, \"gridcolor\": \"white\", \"linecolor\": \"white\", \"ticks\": \"\", \"title\": {\"standoff\": 15}, \"zerolinecolor\": \"white\", \"zerolinewidth\": 2}, \"yaxis\": {\"automargin\": true, \"gridcolor\": \"white\", \"linecolor\": \"white\", \"ticks\": \"\", \"title\": {\"standoff\": 15}, \"zerolinecolor\": \"white\", \"zerolinewidth\": 2}}}, \"title\": {\"text\": \"<b>\\uc2dc\\uc98c/\\ud300</b> \\ubcc4 \\uc5f0\\ubd09 \\uadf8\\ub798\\ud504\"}, \"width\": 1000, \"xaxis\": {\"anchor\": \"y\", \"domain\": [0.0, 0.98], \"title\": {\"text\": \"\\uc5f0\\ubd09\"}}, \"xaxis2\": {\"anchor\": \"y2\", \"domain\": [0.0, 0.98], \"matches\": \"x\", \"showticklabels\": false}, \"xaxis3\": {\"anchor\": \"y3\", \"domain\": [0.0, 0.98], \"matches\": \"x\", \"showticklabels\": false}, \"xaxis4\": {\"anchor\": \"y4\", \"domain\": [0.0, 0.98], \"matches\": \"x\", \"showticklabels\": false}, \"xaxis5\": {\"anchor\": \"y5\", \"domain\": [0.0, 0.98], \"matches\": \"x\", \"showticklabels\": false}, \"yaxis\": {\"anchor\": \"x\", \"categoryarray\": [\"\\ud55c\\ud654\", \"\\uc0bc\\uc131\", \"\\ub86f\\ub370\", \"KIA\", \"\\ub450\\uc0b0\", \"SK\", \"LG\", \"NC\", \"KT\", \"\\ud0a4\\uc6c0\"], \"categoryorder\": \"array\", \"domain\": [0.0, 0.17600000000000002], \"title\": {\"text\": \"\\ud300\\uba85\"}}, \"yaxis2\": {\"anchor\": \"x2\", \"categoryarray\": [\"\\ud55c\\ud654\", \"\\uc0bc\\uc131\", \"\\ub86f\\ub370\", \"KIA\", \"\\ub450\\uc0b0\", \"SK\", \"LG\", \"NC\", \"KT\", \"\\ud0a4\\uc6c0\"], \"categoryorder\": \"array\", \"domain\": [0.20600000000000002, 0.382], \"matches\": \"y\", \"title\": {\"text\": \"\\ud300\\uba85\"}}, \"yaxis3\": {\"anchor\": \"x3\", \"categoryarray\": [\"\\ud55c\\ud654\", \"\\uc0bc\\uc131\", \"\\ub86f\\ub370\", \"KIA\", \"\\ub450\\uc0b0\", \"SK\", \"LG\", \"NC\", \"KT\", \"\\ud0a4\\uc6c0\"], \"categoryorder\": \"array\", \"domain\": [0.41200000000000003, 0.5880000000000001], \"matches\": \"y\", \"title\": {\"text\": \"\\ud300\\uba85\"}}, \"yaxis4\": {\"anchor\": \"x4\", \"categoryarray\": [\"\\ud55c\\ud654\", \"\\uc0bc\\uc131\", \"\\ub86f\\ub370\", \"KIA\", \"\\ub450\\uc0b0\", \"SK\", \"LG\", \"NC\", \"KT\", \"\\ud0a4\\uc6c0\"], \"categoryorder\": \"array\", \"domain\": [0.618, 0.794], \"matches\": \"y\", \"title\": {\"text\": \"\\ud300\\uba85\"}}, \"yaxis5\": {\"anchor\": \"x5\", \"categoryarray\": [\"\\ud55c\\ud654\", \"\\uc0bc\\uc131\", \"\\ub86f\\ub370\", \"KIA\", \"\\ub450\\uc0b0\", \"SK\", \"LG\", \"NC\", \"KT\", \"\\ud0a4\\uc6c0\"], \"categoryorder\": \"array\", \"domain\": [0.8240000000000001, 1.0], \"matches\": \"y\", \"title\": {\"text\": \"\\ud300\\uba85\"}}},\n",
       "                        {\"responsive\": true}\n",
       "                    ).then(function(){\n",
       "                            \n",
       "var gd = document.getElementById('0a5a804c-6f61-4768-8763-1de50f71ae26');\n",
       "var x = new MutationObserver(function (mutations, observer) {{\n",
       "        var display = window.getComputedStyle(gd).display;\n",
       "        if (!display || display === 'none') {{\n",
       "            console.log([gd, 'removed!']);\n",
       "            Plotly.purge(gd);\n",
       "            observer.disconnect();\n",
       "        }}\n",
       "}});\n",
       "\n",
       "// Listen for the removal of the full notebook cells\n",
       "var notebookContainer = gd.closest('#notebook-container');\n",
       "if (notebookContainer) {{\n",
       "    x.observe(notebookContainer, {childList: true});\n",
       "}}\n",
       "\n",
       "// Listen for the clearing of the current output cell\n",
       "var outputEl = gd.closest('.output');\n",
       "if (outputEl) {{\n",
       "    x.observe(outputEl, {childList: true});\n",
       "}}\n",
       "\n",
       "                        })\n",
       "                };\n",
       "                });\n",
       "            </script>\n",
       "        </div>"
      ]
     },
     "metadata": {},
     "output_type": "display_data"
    }
   ],
   "source": [
    "# 시즌/팀 별 연봉 그래프 (Bar)\n",
    "import plotly.express as px\n",
    "fig = px.bar(t_df_sum, x=\"연봉\", y=\"팀명\", barmode=\"group\",\n",
    "             facet_row=\"시즌\", orientation='h',\n",
    "             category_orders={\"시즌\": [\"2016\", \"2017\", \"2018\", \"2019\", \"2020\"]},\n",
    "             title=\"<b>시즌/팀</b> 별 연봉 그래프\", width=1000, height=1000,\n",
    "             color=\"팀명\")\n",
    "fig.show()"
   ]
  },
  {
   "cell_type": "code",
   "execution_count": 84,
   "metadata": {},
   "outputs": [
    {
     "data": {
      "text/html": [
       "<div>\n",
       "<style scoped>\n",
       "    .dataframe tbody tr th:only-of-type {\n",
       "        vertical-align: middle;\n",
       "    }\n",
       "\n",
       "    .dataframe tbody tr th {\n",
       "        vertical-align: top;\n",
       "    }\n",
       "\n",
       "    .dataframe thead th {\n",
       "        text-align: right;\n",
       "    }\n",
       "</style>\n",
       "<table border=\"1\" class=\"dataframe\">\n",
       "  <thead>\n",
       "    <tr style=\"text-align: right;\">\n",
       "      <th></th>\n",
       "      <th>index</th>\n",
       "      <th>시즌</th>\n",
       "      <th>팀코드</th>\n",
       "      <th>팀명</th>\n",
       "      <th>연봉</th>\n",
       "    </tr>\n",
       "  </thead>\n",
       "  <tbody>\n",
       "    <tr>\n",
       "      <th>0</th>\n",
       "      <td>0</td>\n",
       "      <td>2016</td>\n",
       "      <td>WO</td>\n",
       "      <td>키움</td>\n",
       "      <td>577200.0</td>\n",
       "    </tr>\n",
       "    <tr>\n",
       "      <th>1</th>\n",
       "      <td>1</td>\n",
       "      <td>2016</td>\n",
       "      <td>KT</td>\n",
       "      <td>KT</td>\n",
       "      <td>726300.0</td>\n",
       "    </tr>\n",
       "    <tr>\n",
       "      <th>2</th>\n",
       "      <td>2</td>\n",
       "      <td>2016</td>\n",
       "      <td>NC</td>\n",
       "      <td>NC</td>\n",
       "      <td>872200.0</td>\n",
       "    </tr>\n",
       "    <tr>\n",
       "      <th>3</th>\n",
       "      <td>3</td>\n",
       "      <td>2016</td>\n",
       "      <td>LG</td>\n",
       "      <td>LG</td>\n",
       "      <td>925700.0</td>\n",
       "    </tr>\n",
       "    <tr>\n",
       "      <th>4</th>\n",
       "      <td>4</td>\n",
       "      <td>2016</td>\n",
       "      <td>SK</td>\n",
       "      <td>SK</td>\n",
       "      <td>955500.0</td>\n",
       "    </tr>\n",
       "    <tr>\n",
       "      <th>5</th>\n",
       "      <td>5</td>\n",
       "      <td>2016</td>\n",
       "      <td>OB</td>\n",
       "      <td>두산</td>\n",
       "      <td>1005900.0</td>\n",
       "    </tr>\n",
       "    <tr>\n",
       "      <th>6</th>\n",
       "      <td>6</td>\n",
       "      <td>2016</td>\n",
       "      <td>HT</td>\n",
       "      <td>KIA</td>\n",
       "      <td>1058700.0</td>\n",
       "    </tr>\n",
       "    <tr>\n",
       "      <th>7</th>\n",
       "      <td>7</td>\n",
       "      <td>2016</td>\n",
       "      <td>LT</td>\n",
       "      <td>롯데</td>\n",
       "      <td>1088400.0</td>\n",
       "    </tr>\n",
       "    <tr>\n",
       "      <th>8</th>\n",
       "      <td>8</td>\n",
       "      <td>2016</td>\n",
       "      <td>SS</td>\n",
       "      <td>삼성</td>\n",
       "      <td>1116400.0</td>\n",
       "    </tr>\n",
       "    <tr>\n",
       "      <th>9</th>\n",
       "      <td>9</td>\n",
       "      <td>2016</td>\n",
       "      <td>HH</td>\n",
       "      <td>한화</td>\n",
       "      <td>1454500.0</td>\n",
       "    </tr>\n",
       "    <tr>\n",
       "      <th>10</th>\n",
       "      <td>10</td>\n",
       "      <td>2017</td>\n",
       "      <td>KT</td>\n",
       "      <td>KT</td>\n",
       "      <td>639600.0</td>\n",
       "    </tr>\n",
       "    <tr>\n",
       "      <th>11</th>\n",
       "      <td>11</td>\n",
       "      <td>2017</td>\n",
       "      <td>WO</td>\n",
       "      <td>키움</td>\n",
       "      <td>851900.0</td>\n",
       "    </tr>\n",
       "    <tr>\n",
       "      <th>12</th>\n",
       "      <td>12</td>\n",
       "      <td>2017</td>\n",
       "      <td>NC</td>\n",
       "      <td>NC</td>\n",
       "      <td>975700.0</td>\n",
       "    </tr>\n",
       "    <tr>\n",
       "      <th>13</th>\n",
       "      <td>13</td>\n",
       "      <td>2017</td>\n",
       "      <td>LG</td>\n",
       "      <td>LG</td>\n",
       "      <td>1019200.0</td>\n",
       "    </tr>\n",
       "    <tr>\n",
       "      <th>14</th>\n",
       "      <td>14</td>\n",
       "      <td>2017</td>\n",
       "      <td>SK</td>\n",
       "      <td>SK</td>\n",
       "      <td>1041500.0</td>\n",
       "    </tr>\n",
       "    <tr>\n",
       "      <th>15</th>\n",
       "      <td>15</td>\n",
       "      <td>2017</td>\n",
       "      <td>SS</td>\n",
       "      <td>삼성</td>\n",
       "      <td>1089800.0</td>\n",
       "    </tr>\n",
       "    <tr>\n",
       "      <th>16</th>\n",
       "      <td>16</td>\n",
       "      <td>2017</td>\n",
       "      <td>OB</td>\n",
       "      <td>두산</td>\n",
       "      <td>1160000.0</td>\n",
       "    </tr>\n",
       "    <tr>\n",
       "      <th>17</th>\n",
       "      <td>17</td>\n",
       "      <td>2017</td>\n",
       "      <td>LT</td>\n",
       "      <td>롯데</td>\n",
       "      <td>1243150.0</td>\n",
       "    </tr>\n",
       "    <tr>\n",
       "      <th>18</th>\n",
       "      <td>18</td>\n",
       "      <td>2017</td>\n",
       "      <td>HT</td>\n",
       "      <td>KIA</td>\n",
       "      <td>1366200.0</td>\n",
       "    </tr>\n",
       "    <tr>\n",
       "      <th>19</th>\n",
       "      <td>19</td>\n",
       "      <td>2017</td>\n",
       "      <td>HH</td>\n",
       "      <td>한화</td>\n",
       "      <td>1495600.0</td>\n",
       "    </tr>\n",
       "    <tr>\n",
       "      <th>20</th>\n",
       "      <td>20</td>\n",
       "      <td>2018</td>\n",
       "      <td>NC</td>\n",
       "      <td>NC</td>\n",
       "      <td>722500.0</td>\n",
       "    </tr>\n",
       "    <tr>\n",
       "      <th>21</th>\n",
       "      <td>21</td>\n",
       "      <td>2018</td>\n",
       "      <td>KT</td>\n",
       "      <td>KT</td>\n",
       "      <td>807300.0</td>\n",
       "    </tr>\n",
       "    <tr>\n",
       "      <th>22</th>\n",
       "      <td>22</td>\n",
       "      <td>2018</td>\n",
       "      <td>WO</td>\n",
       "      <td>키움</td>\n",
       "      <td>906800.0</td>\n",
       "    </tr>\n",
       "    <tr>\n",
       "      <th>23</th>\n",
       "      <td>23</td>\n",
       "      <td>2018</td>\n",
       "      <td>SS</td>\n",
       "      <td>삼성</td>\n",
       "      <td>1086300.0</td>\n",
       "    </tr>\n",
       "    <tr>\n",
       "      <th>24</th>\n",
       "      <td>24</td>\n",
       "      <td>2018</td>\n",
       "      <td>HH</td>\n",
       "      <td>한화</td>\n",
       "      <td>1108550.0</td>\n",
       "    </tr>\n",
       "    <tr>\n",
       "      <th>25</th>\n",
       "      <td>25</td>\n",
       "      <td>2018</td>\n",
       "      <td>LG</td>\n",
       "      <td>LG</td>\n",
       "      <td>1140200.0</td>\n",
       "    </tr>\n",
       "    <tr>\n",
       "      <th>26</th>\n",
       "      <td>26</td>\n",
       "      <td>2018</td>\n",
       "      <td>OB</td>\n",
       "      <td>두산</td>\n",
       "      <td>1148900.0</td>\n",
       "    </tr>\n",
       "    <tr>\n",
       "      <th>27</th>\n",
       "      <td>27</td>\n",
       "      <td>2018</td>\n",
       "      <td>SK</td>\n",
       "      <td>SK</td>\n",
       "      <td>1150000.0</td>\n",
       "    </tr>\n",
       "    <tr>\n",
       "      <th>28</th>\n",
       "      <td>28</td>\n",
       "      <td>2018</td>\n",
       "      <td>LT</td>\n",
       "      <td>롯데</td>\n",
       "      <td>1325600.0</td>\n",
       "    </tr>\n",
       "    <tr>\n",
       "      <th>29</th>\n",
       "      <td>29</td>\n",
       "      <td>2018</td>\n",
       "      <td>HT</td>\n",
       "      <td>KIA</td>\n",
       "      <td>1464500.0</td>\n",
       "    </tr>\n",
       "    <tr>\n",
       "      <th>30</th>\n",
       "      <td>30</td>\n",
       "      <td>2019</td>\n",
       "      <td>KT</td>\n",
       "      <td>KT</td>\n",
       "      <td>706700.0</td>\n",
       "    </tr>\n",
       "    <tr>\n",
       "      <th>31</th>\n",
       "      <td>31</td>\n",
       "      <td>2019</td>\n",
       "      <td>WO</td>\n",
       "      <td>키움</td>\n",
       "      <td>780100.0</td>\n",
       "    </tr>\n",
       "    <tr>\n",
       "      <th>32</th>\n",
       "      <td>32</td>\n",
       "      <td>2019</td>\n",
       "      <td>HH</td>\n",
       "      <td>한화</td>\n",
       "      <td>917500.0</td>\n",
       "    </tr>\n",
       "    <tr>\n",
       "      <th>33</th>\n",
       "      <td>33</td>\n",
       "      <td>2019</td>\n",
       "      <td>SS</td>\n",
       "      <td>삼성</td>\n",
       "      <td>1052800.0</td>\n",
       "    </tr>\n",
       "    <tr>\n",
       "      <th>34</th>\n",
       "      <td>34</td>\n",
       "      <td>2019</td>\n",
       "      <td>NC</td>\n",
       "      <td>NC</td>\n",
       "      <td>1082200.0</td>\n",
       "    </tr>\n",
       "    <tr>\n",
       "      <th>35</th>\n",
       "      <td>35</td>\n",
       "      <td>2019</td>\n",
       "      <td>LG</td>\n",
       "      <td>LG</td>\n",
       "      <td>1092500.0</td>\n",
       "    </tr>\n",
       "    <tr>\n",
       "      <th>36</th>\n",
       "      <td>36</td>\n",
       "      <td>2019</td>\n",
       "      <td>HT</td>\n",
       "      <td>KIA</td>\n",
       "      <td>1174400.0</td>\n",
       "    </tr>\n",
       "    <tr>\n",
       "      <th>37</th>\n",
       "      <td>37</td>\n",
       "      <td>2019</td>\n",
       "      <td>OB</td>\n",
       "      <td>두산</td>\n",
       "      <td>1178300.0</td>\n",
       "    </tr>\n",
       "    <tr>\n",
       "      <th>38</th>\n",
       "      <td>38</td>\n",
       "      <td>2019</td>\n",
       "      <td>SK</td>\n",
       "      <td>SK</td>\n",
       "      <td>1227400.0</td>\n",
       "    </tr>\n",
       "    <tr>\n",
       "      <th>39</th>\n",
       "      <td>39</td>\n",
       "      <td>2019</td>\n",
       "      <td>LT</td>\n",
       "      <td>롯데</td>\n",
       "      <td>1428210.0</td>\n",
       "    </tr>\n",
       "    <tr>\n",
       "      <th>40</th>\n",
       "      <td>40</td>\n",
       "      <td>2020</td>\n",
       "      <td>KT</td>\n",
       "      <td>KT</td>\n",
       "      <td>750700.0</td>\n",
       "    </tr>\n",
       "    <tr>\n",
       "      <th>41</th>\n",
       "      <td>41</td>\n",
       "      <td>2020</td>\n",
       "      <td>HH</td>\n",
       "      <td>한화</td>\n",
       "      <td>875100.0</td>\n",
       "    </tr>\n",
       "    <tr>\n",
       "      <th>42</th>\n",
       "      <td>42</td>\n",
       "      <td>2020</td>\n",
       "      <td>WO</td>\n",
       "      <td>키움</td>\n",
       "      <td>885600.0</td>\n",
       "    </tr>\n",
       "    <tr>\n",
       "      <th>43</th>\n",
       "      <td>43</td>\n",
       "      <td>2020</td>\n",
       "      <td>SK</td>\n",
       "      <td>SK</td>\n",
       "      <td>935800.0</td>\n",
       "    </tr>\n",
       "    <tr>\n",
       "      <th>44</th>\n",
       "      <td>44</td>\n",
       "      <td>2020</td>\n",
       "      <td>SS</td>\n",
       "      <td>삼성</td>\n",
       "      <td>970500.0</td>\n",
       "    </tr>\n",
       "    <tr>\n",
       "      <th>45</th>\n",
       "      <td>45</td>\n",
       "      <td>2020</td>\n",
       "      <td>OB</td>\n",
       "      <td>두산</td>\n",
       "      <td>975000.0</td>\n",
       "    </tr>\n",
       "    <tr>\n",
       "      <th>46</th>\n",
       "      <td>46</td>\n",
       "      <td>2020</td>\n",
       "      <td>HT</td>\n",
       "      <td>KIA</td>\n",
       "      <td>998090.0</td>\n",
       "    </tr>\n",
       "    <tr>\n",
       "      <th>47</th>\n",
       "      <td>47</td>\n",
       "      <td>2020</td>\n",
       "      <td>LT</td>\n",
       "      <td>롯데</td>\n",
       "      <td>1067700.0</td>\n",
       "    </tr>\n",
       "    <tr>\n",
       "      <th>48</th>\n",
       "      <td>48</td>\n",
       "      <td>2020</td>\n",
       "      <td>NC</td>\n",
       "      <td>NC</td>\n",
       "      <td>1101000.0</td>\n",
       "    </tr>\n",
       "    <tr>\n",
       "      <th>49</th>\n",
       "      <td>49</td>\n",
       "      <td>2020</td>\n",
       "      <td>LG</td>\n",
       "      <td>LG</td>\n",
       "      <td>1108900.0</td>\n",
       "    </tr>\n",
       "  </tbody>\n",
       "</table>\n",
       "</div>"
      ],
      "text/plain": [
       "    index    시즌 팀코드   팀명         연봉\n",
       "0       0  2016  WO   키움   577200.0\n",
       "1       1  2016  KT   KT   726300.0\n",
       "2       2  2016  NC   NC   872200.0\n",
       "3       3  2016  LG   LG   925700.0\n",
       "4       4  2016  SK   SK   955500.0\n",
       "5       5  2016  OB   두산  1005900.0\n",
       "6       6  2016  HT  KIA  1058700.0\n",
       "7       7  2016  LT   롯데  1088400.0\n",
       "8       8  2016  SS   삼성  1116400.0\n",
       "9       9  2016  HH   한화  1454500.0\n",
       "10     10  2017  KT   KT   639600.0\n",
       "11     11  2017  WO   키움   851900.0\n",
       "12     12  2017  NC   NC   975700.0\n",
       "13     13  2017  LG   LG  1019200.0\n",
       "14     14  2017  SK   SK  1041500.0\n",
       "15     15  2017  SS   삼성  1089800.0\n",
       "16     16  2017  OB   두산  1160000.0\n",
       "17     17  2017  LT   롯데  1243150.0\n",
       "18     18  2017  HT  KIA  1366200.0\n",
       "19     19  2017  HH   한화  1495600.0\n",
       "20     20  2018  NC   NC   722500.0\n",
       "21     21  2018  KT   KT   807300.0\n",
       "22     22  2018  WO   키움   906800.0\n",
       "23     23  2018  SS   삼성  1086300.0\n",
       "24     24  2018  HH   한화  1108550.0\n",
       "25     25  2018  LG   LG  1140200.0\n",
       "26     26  2018  OB   두산  1148900.0\n",
       "27     27  2018  SK   SK  1150000.0\n",
       "28     28  2018  LT   롯데  1325600.0\n",
       "29     29  2018  HT  KIA  1464500.0\n",
       "30     30  2019  KT   KT   706700.0\n",
       "31     31  2019  WO   키움   780100.0\n",
       "32     32  2019  HH   한화   917500.0\n",
       "33     33  2019  SS   삼성  1052800.0\n",
       "34     34  2019  NC   NC  1082200.0\n",
       "35     35  2019  LG   LG  1092500.0\n",
       "36     36  2019  HT  KIA  1174400.0\n",
       "37     37  2019  OB   두산  1178300.0\n",
       "38     38  2019  SK   SK  1227400.0\n",
       "39     39  2019  LT   롯데  1428210.0\n",
       "40     40  2020  KT   KT   750700.0\n",
       "41     41  2020  HH   한화   875100.0\n",
       "42     42  2020  WO   키움   885600.0\n",
       "43     43  2020  SK   SK   935800.0\n",
       "44     44  2020  SS   삼성   970500.0\n",
       "45     45  2020  OB   두산   975000.0\n",
       "46     46  2020  HT  KIA   998090.0\n",
       "47     47  2020  LT   롯데  1067700.0\n",
       "48     48  2020  NC   NC  1101000.0\n",
       "49     49  2020  LG   LG  1108900.0"
      ]
     },
     "execution_count": 84,
     "metadata": {},
     "output_type": "execute_result"
    }
   ],
   "source": [
    "# Line 그래프를 위한 데이터 가공\n",
    "t_df = p_df.groupby(by=[\"팀코드\",\"팀명\",\"시즌\"])\n",
    "t_df_sum_line = t_df.sum()[[\"연봉\"]]\n",
    "t_df_sum_line = t_df_sum.reset_index()\n",
    "t_df_sum_line"
   ]
  },
  {
   "cell_type": "code",
   "execution_count": 86,
   "metadata": {},
   "outputs": [
    {
     "data": {
      "text/html": [
       "<div>\n",
       "<style scoped>\n",
       "    .dataframe tbody tr th:only-of-type {\n",
       "        vertical-align: middle;\n",
       "    }\n",
       "\n",
       "    .dataframe tbody tr th {\n",
       "        vertical-align: top;\n",
       "    }\n",
       "\n",
       "    .dataframe thead th {\n",
       "        text-align: right;\n",
       "    }\n",
       "</style>\n",
       "<table border=\"1\" class=\"dataframe\">\n",
       "  <thead>\n",
       "    <tr style=\"text-align: right;\">\n",
       "      <th></th>\n",
       "      <th>index</th>\n",
       "      <th>시즌</th>\n",
       "      <th>팀코드</th>\n",
       "      <th>팀명</th>\n",
       "      <th>연봉</th>\n",
       "    </tr>\n",
       "  </thead>\n",
       "  <tbody>\n",
       "    <tr>\n",
       "      <th>1</th>\n",
       "      <td>1</td>\n",
       "      <td>2016</td>\n",
       "      <td>KT</td>\n",
       "      <td>KT</td>\n",
       "      <td>726300.0</td>\n",
       "    </tr>\n",
       "    <tr>\n",
       "      <th>10</th>\n",
       "      <td>10</td>\n",
       "      <td>2017</td>\n",
       "      <td>KT</td>\n",
       "      <td>KT</td>\n",
       "      <td>639600.0</td>\n",
       "    </tr>\n",
       "    <tr>\n",
       "      <th>21</th>\n",
       "      <td>21</td>\n",
       "      <td>2018</td>\n",
       "      <td>KT</td>\n",
       "      <td>KT</td>\n",
       "      <td>807300.0</td>\n",
       "    </tr>\n",
       "    <tr>\n",
       "      <th>30</th>\n",
       "      <td>30</td>\n",
       "      <td>2019</td>\n",
       "      <td>KT</td>\n",
       "      <td>KT</td>\n",
       "      <td>706700.0</td>\n",
       "    </tr>\n",
       "    <tr>\n",
       "      <th>40</th>\n",
       "      <td>40</td>\n",
       "      <td>2020</td>\n",
       "      <td>KT</td>\n",
       "      <td>KT</td>\n",
       "      <td>750700.0</td>\n",
       "    </tr>\n",
       "  </tbody>\n",
       "</table>\n",
       "</div>"
      ],
      "text/plain": [
       "    index    시즌 팀코드  팀명        연봉\n",
       "1       1  2016  KT  KT  726300.0\n",
       "10     10  2017  KT  KT  639600.0\n",
       "21     21  2018  KT  KT  807300.0\n",
       "30     30  2019  KT  KT  706700.0\n",
       "40     40  2020  KT  KT  750700.0"
      ]
     },
     "execution_count": 86,
     "metadata": {},
     "output_type": "execute_result"
    }
   ],
   "source": [
    "# Line 그래프를 위한 데이터 가공2\n",
    "tims = [0]*10\n",
    "for i in range(10):\n",
    "    tims[i] = t_df_sum_line[t_df_sum_line[\"팀코드\"]==tim_labels[i]]\n",
    "tims[1]"
   ]
  },
  {
   "cell_type": "code",
   "execution_count": 88,
   "metadata": {},
   "outputs": [
    {
     "data": {
      "application/vnd.plotly.v1+json": {
       "config": {
        "plotlyServerURL": "https://plotly.com"
       },
       "data": [
        {
         "mode": "lines+markers",
         "name": "키움",
         "type": "scatter",
         "x": [
          2016,
          2017,
          2018,
          2019,
          2020
         ],
         "y": [
          577200,
          851900,
          906800,
          780100,
          885600
         ]
        },
        {
         "mode": "lines+markers",
         "name": "KT",
         "type": "scatter",
         "x": [
          2016,
          2017,
          2018,
          2019,
          2020
         ],
         "y": [
          726300,
          639600,
          807300,
          706700,
          750700
         ]
        },
        {
         "mode": "lines+markers",
         "name": "NC",
         "type": "scatter",
         "x": [
          2016,
          2017,
          2018,
          2019,
          2020
         ],
         "y": [
          872200,
          975700,
          722500,
          1082200,
          1101000
         ]
        },
        {
         "mode": "lines+markers",
         "name": "LG",
         "type": "scatter",
         "x": [
          2016,
          2017,
          2018,
          2019,
          2020
         ],
         "y": [
          925700,
          1019200,
          1140200,
          1092500,
          1108900
         ]
        },
        {
         "mode": "lines+markers",
         "name": "SK",
         "type": "scatter",
         "x": [
          2016,
          2017,
          2018,
          2019,
          2020
         ],
         "y": [
          955500,
          1041500,
          1150000,
          1227400,
          935800
         ]
        },
        {
         "mode": "lines+markers",
         "name": "두산",
         "type": "scatter",
         "x": [
          2016,
          2017,
          2018,
          2019,
          2020
         ],
         "y": [
          1005900,
          1160000,
          1148900,
          1178300,
          975000
         ]
        },
        {
         "mode": "lines+markers",
         "name": "KIA",
         "type": "scatter",
         "x": [
          2016,
          2017,
          2018,
          2019,
          2020
         ],
         "y": [
          1058700,
          1366200,
          1464500,
          1174400,
          998090
         ]
        },
        {
         "mode": "lines+markers",
         "name": "롯데",
         "type": "scatter",
         "x": [
          2016,
          2017,
          2018,
          2019,
          2020
         ],
         "y": [
          1088400,
          1243150,
          1325600,
          1428210,
          1067700
         ]
        },
        {
         "mode": "lines+markers",
         "name": "삼성",
         "type": "scatter",
         "x": [
          2016,
          2017,
          2018,
          2019,
          2020
         ],
         "y": [
          1116400,
          1089800,
          1086300,
          1052800,
          970500
         ]
        },
        {
         "mode": "lines+markers",
         "name": "한화",
         "type": "scatter",
         "x": [
          2016,
          2017,
          2018,
          2019,
          2020
         ],
         "y": [
          1454500,
          1495600,
          1108550,
          917500,
          875100
         ]
        }
       ],
       "layout": {
        "showlegend": true,
        "template": {
         "data": {
          "bar": [
           {
            "error_x": {
             "color": "#2a3f5f"
            },
            "error_y": {
             "color": "#2a3f5f"
            },
            "marker": {
             "line": {
              "color": "#E5ECF6",
              "width": 0.5
             }
            },
            "type": "bar"
           }
          ],
          "barpolar": [
           {
            "marker": {
             "line": {
              "color": "#E5ECF6",
              "width": 0.5
             }
            },
            "type": "barpolar"
           }
          ],
          "carpet": [
           {
            "aaxis": {
             "endlinecolor": "#2a3f5f",
             "gridcolor": "white",
             "linecolor": "white",
             "minorgridcolor": "white",
             "startlinecolor": "#2a3f5f"
            },
            "baxis": {
             "endlinecolor": "#2a3f5f",
             "gridcolor": "white",
             "linecolor": "white",
             "minorgridcolor": "white",
             "startlinecolor": "#2a3f5f"
            },
            "type": "carpet"
           }
          ],
          "choropleth": [
           {
            "colorbar": {
             "outlinewidth": 0,
             "ticks": ""
            },
            "type": "choropleth"
           }
          ],
          "contour": [
           {
            "colorbar": {
             "outlinewidth": 0,
             "ticks": ""
            },
            "colorscale": [
             [
              0,
              "#0d0887"
             ],
             [
              0.1111111111111111,
              "#46039f"
             ],
             [
              0.2222222222222222,
              "#7201a8"
             ],
             [
              0.3333333333333333,
              "#9c179e"
             ],
             [
              0.4444444444444444,
              "#bd3786"
             ],
             [
              0.5555555555555556,
              "#d8576b"
             ],
             [
              0.6666666666666666,
              "#ed7953"
             ],
             [
              0.7777777777777778,
              "#fb9f3a"
             ],
             [
              0.8888888888888888,
              "#fdca26"
             ],
             [
              1,
              "#f0f921"
             ]
            ],
            "type": "contour"
           }
          ],
          "contourcarpet": [
           {
            "colorbar": {
             "outlinewidth": 0,
             "ticks": ""
            },
            "type": "contourcarpet"
           }
          ],
          "heatmap": [
           {
            "colorbar": {
             "outlinewidth": 0,
             "ticks": ""
            },
            "colorscale": [
             [
              0,
              "#0d0887"
             ],
             [
              0.1111111111111111,
              "#46039f"
             ],
             [
              0.2222222222222222,
              "#7201a8"
             ],
             [
              0.3333333333333333,
              "#9c179e"
             ],
             [
              0.4444444444444444,
              "#bd3786"
             ],
             [
              0.5555555555555556,
              "#d8576b"
             ],
             [
              0.6666666666666666,
              "#ed7953"
             ],
             [
              0.7777777777777778,
              "#fb9f3a"
             ],
             [
              0.8888888888888888,
              "#fdca26"
             ],
             [
              1,
              "#f0f921"
             ]
            ],
            "type": "heatmap"
           }
          ],
          "heatmapgl": [
           {
            "colorbar": {
             "outlinewidth": 0,
             "ticks": ""
            },
            "colorscale": [
             [
              0,
              "#0d0887"
             ],
             [
              0.1111111111111111,
              "#46039f"
             ],
             [
              0.2222222222222222,
              "#7201a8"
             ],
             [
              0.3333333333333333,
              "#9c179e"
             ],
             [
              0.4444444444444444,
              "#bd3786"
             ],
             [
              0.5555555555555556,
              "#d8576b"
             ],
             [
              0.6666666666666666,
              "#ed7953"
             ],
             [
              0.7777777777777778,
              "#fb9f3a"
             ],
             [
              0.8888888888888888,
              "#fdca26"
             ],
             [
              1,
              "#f0f921"
             ]
            ],
            "type": "heatmapgl"
           }
          ],
          "histogram": [
           {
            "marker": {
             "colorbar": {
              "outlinewidth": 0,
              "ticks": ""
             }
            },
            "type": "histogram"
           }
          ],
          "histogram2d": [
           {
            "colorbar": {
             "outlinewidth": 0,
             "ticks": ""
            },
            "colorscale": [
             [
              0,
              "#0d0887"
             ],
             [
              0.1111111111111111,
              "#46039f"
             ],
             [
              0.2222222222222222,
              "#7201a8"
             ],
             [
              0.3333333333333333,
              "#9c179e"
             ],
             [
              0.4444444444444444,
              "#bd3786"
             ],
             [
              0.5555555555555556,
              "#d8576b"
             ],
             [
              0.6666666666666666,
              "#ed7953"
             ],
             [
              0.7777777777777778,
              "#fb9f3a"
             ],
             [
              0.8888888888888888,
              "#fdca26"
             ],
             [
              1,
              "#f0f921"
             ]
            ],
            "type": "histogram2d"
           }
          ],
          "histogram2dcontour": [
           {
            "colorbar": {
             "outlinewidth": 0,
             "ticks": ""
            },
            "colorscale": [
             [
              0,
              "#0d0887"
             ],
             [
              0.1111111111111111,
              "#46039f"
             ],
             [
              0.2222222222222222,
              "#7201a8"
             ],
             [
              0.3333333333333333,
              "#9c179e"
             ],
             [
              0.4444444444444444,
              "#bd3786"
             ],
             [
              0.5555555555555556,
              "#d8576b"
             ],
             [
              0.6666666666666666,
              "#ed7953"
             ],
             [
              0.7777777777777778,
              "#fb9f3a"
             ],
             [
              0.8888888888888888,
              "#fdca26"
             ],
             [
              1,
              "#f0f921"
             ]
            ],
            "type": "histogram2dcontour"
           }
          ],
          "mesh3d": [
           {
            "colorbar": {
             "outlinewidth": 0,
             "ticks": ""
            },
            "type": "mesh3d"
           }
          ],
          "parcoords": [
           {
            "line": {
             "colorbar": {
              "outlinewidth": 0,
              "ticks": ""
             }
            },
            "type": "parcoords"
           }
          ],
          "pie": [
           {
            "automargin": true,
            "type": "pie"
           }
          ],
          "scatter": [
           {
            "marker": {
             "colorbar": {
              "outlinewidth": 0,
              "ticks": ""
             }
            },
            "type": "scatter"
           }
          ],
          "scatter3d": [
           {
            "line": {
             "colorbar": {
              "outlinewidth": 0,
              "ticks": ""
             }
            },
            "marker": {
             "colorbar": {
              "outlinewidth": 0,
              "ticks": ""
             }
            },
            "type": "scatter3d"
           }
          ],
          "scattercarpet": [
           {
            "marker": {
             "colorbar": {
              "outlinewidth": 0,
              "ticks": ""
             }
            },
            "type": "scattercarpet"
           }
          ],
          "scattergeo": [
           {
            "marker": {
             "colorbar": {
              "outlinewidth": 0,
              "ticks": ""
             }
            },
            "type": "scattergeo"
           }
          ],
          "scattergl": [
           {
            "marker": {
             "colorbar": {
              "outlinewidth": 0,
              "ticks": ""
             }
            },
            "type": "scattergl"
           }
          ],
          "scattermapbox": [
           {
            "marker": {
             "colorbar": {
              "outlinewidth": 0,
              "ticks": ""
             }
            },
            "type": "scattermapbox"
           }
          ],
          "scatterpolar": [
           {
            "marker": {
             "colorbar": {
              "outlinewidth": 0,
              "ticks": ""
             }
            },
            "type": "scatterpolar"
           }
          ],
          "scatterpolargl": [
           {
            "marker": {
             "colorbar": {
              "outlinewidth": 0,
              "ticks": ""
             }
            },
            "type": "scatterpolargl"
           }
          ],
          "scatterternary": [
           {
            "marker": {
             "colorbar": {
              "outlinewidth": 0,
              "ticks": ""
             }
            },
            "type": "scatterternary"
           }
          ],
          "surface": [
           {
            "colorbar": {
             "outlinewidth": 0,
             "ticks": ""
            },
            "colorscale": [
             [
              0,
              "#0d0887"
             ],
             [
              0.1111111111111111,
              "#46039f"
             ],
             [
              0.2222222222222222,
              "#7201a8"
             ],
             [
              0.3333333333333333,
              "#9c179e"
             ],
             [
              0.4444444444444444,
              "#bd3786"
             ],
             [
              0.5555555555555556,
              "#d8576b"
             ],
             [
              0.6666666666666666,
              "#ed7953"
             ],
             [
              0.7777777777777778,
              "#fb9f3a"
             ],
             [
              0.8888888888888888,
              "#fdca26"
             ],
             [
              1,
              "#f0f921"
             ]
            ],
            "type": "surface"
           }
          ],
          "table": [
           {
            "cells": {
             "fill": {
              "color": "#EBF0F8"
             },
             "line": {
              "color": "white"
             }
            },
            "header": {
             "fill": {
              "color": "#C8D4E3"
             },
             "line": {
              "color": "white"
             }
            },
            "type": "table"
           }
          ]
         },
         "layout": {
          "annotationdefaults": {
           "arrowcolor": "#2a3f5f",
           "arrowhead": 0,
           "arrowwidth": 1
          },
          "coloraxis": {
           "colorbar": {
            "outlinewidth": 0,
            "ticks": ""
           }
          },
          "colorscale": {
           "diverging": [
            [
             0,
             "#8e0152"
            ],
            [
             0.1,
             "#c51b7d"
            ],
            [
             0.2,
             "#de77ae"
            ],
            [
             0.3,
             "#f1b6da"
            ],
            [
             0.4,
             "#fde0ef"
            ],
            [
             0.5,
             "#f7f7f7"
            ],
            [
             0.6,
             "#e6f5d0"
            ],
            [
             0.7,
             "#b8e186"
            ],
            [
             0.8,
             "#7fbc41"
            ],
            [
             0.9,
             "#4d9221"
            ],
            [
             1,
             "#276419"
            ]
           ],
           "sequential": [
            [
             0,
             "#0d0887"
            ],
            [
             0.1111111111111111,
             "#46039f"
            ],
            [
             0.2222222222222222,
             "#7201a8"
            ],
            [
             0.3333333333333333,
             "#9c179e"
            ],
            [
             0.4444444444444444,
             "#bd3786"
            ],
            [
             0.5555555555555556,
             "#d8576b"
            ],
            [
             0.6666666666666666,
             "#ed7953"
            ],
            [
             0.7777777777777778,
             "#fb9f3a"
            ],
            [
             0.8888888888888888,
             "#fdca26"
            ],
            [
             1,
             "#f0f921"
            ]
           ],
           "sequentialminus": [
            [
             0,
             "#0d0887"
            ],
            [
             0.1111111111111111,
             "#46039f"
            ],
            [
             0.2222222222222222,
             "#7201a8"
            ],
            [
             0.3333333333333333,
             "#9c179e"
            ],
            [
             0.4444444444444444,
             "#bd3786"
            ],
            [
             0.5555555555555556,
             "#d8576b"
            ],
            [
             0.6666666666666666,
             "#ed7953"
            ],
            [
             0.7777777777777778,
             "#fb9f3a"
            ],
            [
             0.8888888888888888,
             "#fdca26"
            ],
            [
             1,
             "#f0f921"
            ]
           ]
          },
          "colorway": [
           "#636efa",
           "#EF553B",
           "#00cc96",
           "#ab63fa",
           "#FFA15A",
           "#19d3f3",
           "#FF6692",
           "#B6E880",
           "#FF97FF",
           "#FECB52"
          ],
          "font": {
           "color": "#2a3f5f"
          },
          "geo": {
           "bgcolor": "white",
           "lakecolor": "white",
           "landcolor": "#E5ECF6",
           "showlakes": true,
           "showland": true,
           "subunitcolor": "white"
          },
          "hoverlabel": {
           "align": "left"
          },
          "hovermode": "closest",
          "mapbox": {
           "style": "light"
          },
          "paper_bgcolor": "white",
          "plot_bgcolor": "#E5ECF6",
          "polar": {
           "angularaxis": {
            "gridcolor": "white",
            "linecolor": "white",
            "ticks": ""
           },
           "bgcolor": "#E5ECF6",
           "radialaxis": {
            "gridcolor": "white",
            "linecolor": "white",
            "ticks": ""
           }
          },
          "scene": {
           "xaxis": {
            "backgroundcolor": "#E5ECF6",
            "gridcolor": "white",
            "gridwidth": 2,
            "linecolor": "white",
            "showbackground": true,
            "ticks": "",
            "zerolinecolor": "white"
           },
           "yaxis": {
            "backgroundcolor": "#E5ECF6",
            "gridcolor": "white",
            "gridwidth": 2,
            "linecolor": "white",
            "showbackground": true,
            "ticks": "",
            "zerolinecolor": "white"
           },
           "zaxis": {
            "backgroundcolor": "#E5ECF6",
            "gridcolor": "white",
            "gridwidth": 2,
            "linecolor": "white",
            "showbackground": true,
            "ticks": "",
            "zerolinecolor": "white"
           }
          },
          "shapedefaults": {
           "line": {
            "color": "#2a3f5f"
           }
          },
          "ternary": {
           "aaxis": {
            "gridcolor": "white",
            "linecolor": "white",
            "ticks": ""
           },
           "baxis": {
            "gridcolor": "white",
            "linecolor": "white",
            "ticks": ""
           },
           "bgcolor": "#E5ECF6",
           "caxis": {
            "gridcolor": "white",
            "linecolor": "white",
            "ticks": ""
           }
          },
          "title": {
           "x": 0.05
          },
          "xaxis": {
           "automargin": true,
           "gridcolor": "white",
           "linecolor": "white",
           "ticks": "",
           "title": {
            "standoff": 15
           },
           "zerolinecolor": "white",
           "zerolinewidth": 2
          },
          "yaxis": {
           "automargin": true,
           "gridcolor": "white",
           "linecolor": "white",
           "ticks": "",
           "title": {
            "standoff": 15
           },
           "zerolinecolor": "white",
           "zerolinewidth": 2
          }
         }
        },
        "title": {
         "font": {
          "size": 20
         },
         "text": "<b>시즌/팀</b> 별 연봉 그래프 <b><sum></b>",
         "x": 0.5,
         "y": 0.9
        },
        "xaxis": {
         "dtick": 1,
         "showticklabels": true,
         "title": {
          "text": "시즌"
         }
        },
        "yaxis": {
         "title": {
          "text": "수치"
         }
        }
       }
      },
      "text/html": [
       "<div>\n",
       "        \n",
       "        \n",
       "            <div id=\"c84fd489-f284-461e-adff-e6e09c012627\" class=\"plotly-graph-div\" style=\"height:525px; width:100%;\"></div>\n",
       "            <script type=\"text/javascript\">\n",
       "                require([\"plotly\"], function(Plotly) {\n",
       "                    window.PLOTLYENV=window.PLOTLYENV || {};\n",
       "                    \n",
       "                if (document.getElementById(\"c84fd489-f284-461e-adff-e6e09c012627\")) {\n",
       "                    Plotly.newPlot(\n",
       "                        'c84fd489-f284-461e-adff-e6e09c012627',\n",
       "                        [{\"mode\": \"lines+markers\", \"name\": \"\\ud0a4\\uc6c0\", \"type\": \"scatter\", \"x\": [2016, 2017, 2018, 2019, 2020], \"y\": [577200.0, 851900.0, 906800.0, 780100.0, 885600.0]}, {\"mode\": \"lines+markers\", \"name\": \"KT\", \"type\": \"scatter\", \"x\": [2016, 2017, 2018, 2019, 2020], \"y\": [726300.0, 639600.0, 807300.0, 706700.0, 750700.0]}, {\"mode\": \"lines+markers\", \"name\": \"NC\", \"type\": \"scatter\", \"x\": [2016, 2017, 2018, 2019, 2020], \"y\": [872200.0, 975700.0, 722500.0, 1082200.0, 1101000.0]}, {\"mode\": \"lines+markers\", \"name\": \"LG\", \"type\": \"scatter\", \"x\": [2016, 2017, 2018, 2019, 2020], \"y\": [925700.0, 1019200.0, 1140200.0, 1092500.0, 1108900.0]}, {\"mode\": \"lines+markers\", \"name\": \"SK\", \"type\": \"scatter\", \"x\": [2016, 2017, 2018, 2019, 2020], \"y\": [955500.0, 1041500.0, 1150000.0, 1227400.0, 935800.0]}, {\"mode\": \"lines+markers\", \"name\": \"\\ub450\\uc0b0\", \"type\": \"scatter\", \"x\": [2016, 2017, 2018, 2019, 2020], \"y\": [1005900.0, 1160000.0, 1148900.0, 1178300.0, 975000.0]}, {\"mode\": \"lines+markers\", \"name\": \"KIA\", \"type\": \"scatter\", \"x\": [2016, 2017, 2018, 2019, 2020], \"y\": [1058700.0, 1366200.0, 1464500.0, 1174400.0, 998090.0]}, {\"mode\": \"lines+markers\", \"name\": \"\\ub86f\\ub370\", \"type\": \"scatter\", \"x\": [2016, 2017, 2018, 2019, 2020], \"y\": [1088400.0, 1243150.0, 1325600.0, 1428210.0, 1067700.0]}, {\"mode\": \"lines+markers\", \"name\": \"\\uc0bc\\uc131\", \"type\": \"scatter\", \"x\": [2016, 2017, 2018, 2019, 2020], \"y\": [1116400.0, 1089800.0, 1086300.0, 1052800.0, 970500.0]}, {\"mode\": \"lines+markers\", \"name\": \"\\ud55c\\ud654\", \"type\": \"scatter\", \"x\": [2016, 2017, 2018, 2019, 2020], \"y\": [1454500.0, 1495600.0, 1108550.0, 917500.0, 875100.0]}],\n",
       "                        {\"showlegend\": true, \"template\": {\"data\": {\"bar\": [{\"error_x\": {\"color\": \"#2a3f5f\"}, \"error_y\": {\"color\": \"#2a3f5f\"}, \"marker\": {\"line\": {\"color\": \"#E5ECF6\", \"width\": 0.5}}, \"type\": \"bar\"}], \"barpolar\": [{\"marker\": {\"line\": {\"color\": \"#E5ECF6\", \"width\": 0.5}}, \"type\": \"barpolar\"}], \"carpet\": [{\"aaxis\": {\"endlinecolor\": \"#2a3f5f\", \"gridcolor\": \"white\", \"linecolor\": \"white\", \"minorgridcolor\": \"white\", \"startlinecolor\": \"#2a3f5f\"}, \"baxis\": {\"endlinecolor\": \"#2a3f5f\", \"gridcolor\": \"white\", \"linecolor\": \"white\", \"minorgridcolor\": \"white\", \"startlinecolor\": \"#2a3f5f\"}, \"type\": \"carpet\"}], \"choropleth\": [{\"colorbar\": {\"outlinewidth\": 0, \"ticks\": \"\"}, \"type\": \"choropleth\"}], \"contour\": [{\"colorbar\": {\"outlinewidth\": 0, \"ticks\": \"\"}, \"colorscale\": [[0.0, \"#0d0887\"], [0.1111111111111111, \"#46039f\"], [0.2222222222222222, \"#7201a8\"], [0.3333333333333333, \"#9c179e\"], [0.4444444444444444, \"#bd3786\"], [0.5555555555555556, \"#d8576b\"], [0.6666666666666666, \"#ed7953\"], [0.7777777777777778, \"#fb9f3a\"], [0.8888888888888888, \"#fdca26\"], [1.0, \"#f0f921\"]], \"type\": \"contour\"}], \"contourcarpet\": [{\"colorbar\": {\"outlinewidth\": 0, \"ticks\": \"\"}, \"type\": \"contourcarpet\"}], \"heatmap\": [{\"colorbar\": {\"outlinewidth\": 0, \"ticks\": \"\"}, \"colorscale\": [[0.0, \"#0d0887\"], [0.1111111111111111, \"#46039f\"], [0.2222222222222222, \"#7201a8\"], [0.3333333333333333, \"#9c179e\"], [0.4444444444444444, \"#bd3786\"], [0.5555555555555556, \"#d8576b\"], [0.6666666666666666, \"#ed7953\"], [0.7777777777777778, \"#fb9f3a\"], [0.8888888888888888, \"#fdca26\"], [1.0, \"#f0f921\"]], \"type\": \"heatmap\"}], \"heatmapgl\": [{\"colorbar\": {\"outlinewidth\": 0, \"ticks\": \"\"}, \"colorscale\": [[0.0, \"#0d0887\"], [0.1111111111111111, \"#46039f\"], [0.2222222222222222, \"#7201a8\"], [0.3333333333333333, \"#9c179e\"], [0.4444444444444444, \"#bd3786\"], [0.5555555555555556, \"#d8576b\"], [0.6666666666666666, \"#ed7953\"], [0.7777777777777778, \"#fb9f3a\"], [0.8888888888888888, \"#fdca26\"], [1.0, \"#f0f921\"]], \"type\": \"heatmapgl\"}], \"histogram\": [{\"marker\": {\"colorbar\": {\"outlinewidth\": 0, \"ticks\": \"\"}}, \"type\": \"histogram\"}], \"histogram2d\": [{\"colorbar\": {\"outlinewidth\": 0, \"ticks\": \"\"}, \"colorscale\": [[0.0, \"#0d0887\"], [0.1111111111111111, \"#46039f\"], [0.2222222222222222, \"#7201a8\"], [0.3333333333333333, \"#9c179e\"], [0.4444444444444444, \"#bd3786\"], [0.5555555555555556, \"#d8576b\"], [0.6666666666666666, \"#ed7953\"], [0.7777777777777778, \"#fb9f3a\"], [0.8888888888888888, \"#fdca26\"], [1.0, \"#f0f921\"]], \"type\": \"histogram2d\"}], \"histogram2dcontour\": [{\"colorbar\": {\"outlinewidth\": 0, \"ticks\": \"\"}, \"colorscale\": [[0.0, \"#0d0887\"], [0.1111111111111111, \"#46039f\"], [0.2222222222222222, \"#7201a8\"], [0.3333333333333333, \"#9c179e\"], [0.4444444444444444, \"#bd3786\"], [0.5555555555555556, \"#d8576b\"], [0.6666666666666666, \"#ed7953\"], [0.7777777777777778, \"#fb9f3a\"], [0.8888888888888888, \"#fdca26\"], [1.0, \"#f0f921\"]], \"type\": \"histogram2dcontour\"}], \"mesh3d\": [{\"colorbar\": {\"outlinewidth\": 0, \"ticks\": \"\"}, \"type\": \"mesh3d\"}], \"parcoords\": [{\"line\": {\"colorbar\": {\"outlinewidth\": 0, \"ticks\": \"\"}}, \"type\": \"parcoords\"}], \"pie\": [{\"automargin\": true, \"type\": \"pie\"}], \"scatter\": [{\"marker\": {\"colorbar\": {\"outlinewidth\": 0, \"ticks\": \"\"}}, \"type\": \"scatter\"}], \"scatter3d\": [{\"line\": {\"colorbar\": {\"outlinewidth\": 0, \"ticks\": \"\"}}, \"marker\": {\"colorbar\": {\"outlinewidth\": 0, \"ticks\": \"\"}}, \"type\": \"scatter3d\"}], \"scattercarpet\": [{\"marker\": {\"colorbar\": {\"outlinewidth\": 0, \"ticks\": \"\"}}, \"type\": \"scattercarpet\"}], \"scattergeo\": [{\"marker\": {\"colorbar\": {\"outlinewidth\": 0, \"ticks\": \"\"}}, \"type\": \"scattergeo\"}], \"scattergl\": [{\"marker\": {\"colorbar\": {\"outlinewidth\": 0, \"ticks\": \"\"}}, \"type\": \"scattergl\"}], \"scattermapbox\": [{\"marker\": {\"colorbar\": {\"outlinewidth\": 0, \"ticks\": \"\"}}, \"type\": \"scattermapbox\"}], \"scatterpolar\": [{\"marker\": {\"colorbar\": {\"outlinewidth\": 0, \"ticks\": \"\"}}, \"type\": \"scatterpolar\"}], \"scatterpolargl\": [{\"marker\": {\"colorbar\": {\"outlinewidth\": 0, \"ticks\": \"\"}}, \"type\": \"scatterpolargl\"}], \"scatterternary\": [{\"marker\": {\"colorbar\": {\"outlinewidth\": 0, \"ticks\": \"\"}}, \"type\": \"scatterternary\"}], \"surface\": [{\"colorbar\": {\"outlinewidth\": 0, \"ticks\": \"\"}, \"colorscale\": [[0.0, \"#0d0887\"], [0.1111111111111111, \"#46039f\"], [0.2222222222222222, \"#7201a8\"], [0.3333333333333333, \"#9c179e\"], [0.4444444444444444, \"#bd3786\"], [0.5555555555555556, \"#d8576b\"], [0.6666666666666666, \"#ed7953\"], [0.7777777777777778, \"#fb9f3a\"], [0.8888888888888888, \"#fdca26\"], [1.0, \"#f0f921\"]], \"type\": \"surface\"}], \"table\": [{\"cells\": {\"fill\": {\"color\": \"#EBF0F8\"}, \"line\": {\"color\": \"white\"}}, \"header\": {\"fill\": {\"color\": \"#C8D4E3\"}, \"line\": {\"color\": \"white\"}}, \"type\": \"table\"}]}, \"layout\": {\"annotationdefaults\": {\"arrowcolor\": \"#2a3f5f\", \"arrowhead\": 0, \"arrowwidth\": 1}, \"coloraxis\": {\"colorbar\": {\"outlinewidth\": 0, \"ticks\": \"\"}}, \"colorscale\": {\"diverging\": [[0, \"#8e0152\"], [0.1, \"#c51b7d\"], [0.2, \"#de77ae\"], [0.3, \"#f1b6da\"], [0.4, \"#fde0ef\"], [0.5, \"#f7f7f7\"], [0.6, \"#e6f5d0\"], [0.7, \"#b8e186\"], [0.8, \"#7fbc41\"], [0.9, \"#4d9221\"], [1, \"#276419\"]], \"sequential\": [[0.0, \"#0d0887\"], [0.1111111111111111, \"#46039f\"], [0.2222222222222222, \"#7201a8\"], [0.3333333333333333, \"#9c179e\"], [0.4444444444444444, \"#bd3786\"], [0.5555555555555556, \"#d8576b\"], [0.6666666666666666, \"#ed7953\"], [0.7777777777777778, \"#fb9f3a\"], [0.8888888888888888, \"#fdca26\"], [1.0, \"#f0f921\"]], \"sequentialminus\": [[0.0, \"#0d0887\"], [0.1111111111111111, \"#46039f\"], [0.2222222222222222, \"#7201a8\"], [0.3333333333333333, \"#9c179e\"], [0.4444444444444444, \"#bd3786\"], [0.5555555555555556, \"#d8576b\"], [0.6666666666666666, \"#ed7953\"], [0.7777777777777778, \"#fb9f3a\"], [0.8888888888888888, \"#fdca26\"], [1.0, \"#f0f921\"]]}, \"colorway\": [\"#636efa\", \"#EF553B\", \"#00cc96\", \"#ab63fa\", \"#FFA15A\", \"#19d3f3\", \"#FF6692\", \"#B6E880\", \"#FF97FF\", \"#FECB52\"], \"font\": {\"color\": \"#2a3f5f\"}, \"geo\": {\"bgcolor\": \"white\", \"lakecolor\": \"white\", \"landcolor\": \"#E5ECF6\", \"showlakes\": true, \"showland\": true, \"subunitcolor\": \"white\"}, \"hoverlabel\": {\"align\": \"left\"}, \"hovermode\": \"closest\", \"mapbox\": {\"style\": \"light\"}, \"paper_bgcolor\": \"white\", \"plot_bgcolor\": \"#E5ECF6\", \"polar\": {\"angularaxis\": {\"gridcolor\": \"white\", \"linecolor\": \"white\", \"ticks\": \"\"}, \"bgcolor\": \"#E5ECF6\", \"radialaxis\": {\"gridcolor\": \"white\", \"linecolor\": \"white\", \"ticks\": \"\"}}, \"scene\": {\"xaxis\": {\"backgroundcolor\": \"#E5ECF6\", \"gridcolor\": \"white\", \"gridwidth\": 2, \"linecolor\": \"white\", \"showbackground\": true, \"ticks\": \"\", \"zerolinecolor\": \"white\"}, \"yaxis\": {\"backgroundcolor\": \"#E5ECF6\", \"gridcolor\": \"white\", \"gridwidth\": 2, \"linecolor\": \"white\", \"showbackground\": true, \"ticks\": \"\", \"zerolinecolor\": \"white\"}, \"zaxis\": {\"backgroundcolor\": \"#E5ECF6\", \"gridcolor\": \"white\", \"gridwidth\": 2, \"linecolor\": \"white\", \"showbackground\": true, \"ticks\": \"\", \"zerolinecolor\": \"white\"}}, \"shapedefaults\": {\"line\": {\"color\": \"#2a3f5f\"}}, \"ternary\": {\"aaxis\": {\"gridcolor\": \"white\", \"linecolor\": \"white\", \"ticks\": \"\"}, \"baxis\": {\"gridcolor\": \"white\", \"linecolor\": \"white\", \"ticks\": \"\"}, \"bgcolor\": \"#E5ECF6\", \"caxis\": {\"gridcolor\": \"white\", \"linecolor\": \"white\", \"ticks\": \"\"}}, \"title\": {\"x\": 0.05}, \"xaxis\": {\"automargin\": true, \"gridcolor\": \"white\", \"linecolor\": \"white\", \"ticks\": \"\", \"title\": {\"standoff\": 15}, \"zerolinecolor\": \"white\", \"zerolinewidth\": 2}, \"yaxis\": {\"automargin\": true, \"gridcolor\": \"white\", \"linecolor\": \"white\", \"ticks\": \"\", \"title\": {\"standoff\": 15}, \"zerolinecolor\": \"white\", \"zerolinewidth\": 2}}}, \"title\": {\"font\": {\"size\": 20}, \"text\": \"<b>\\uc2dc\\uc98c/\\ud300</b> \\ubcc4 \\uc5f0\\ubd09 \\uadf8\\ub798\\ud504 <b><sum></b>\", \"x\": 0.5, \"y\": 0.9}, \"xaxis\": {\"dtick\": 1, \"showticklabels\": true, \"title\": {\"text\": \"\\uc2dc\\uc98c\"}}, \"yaxis\": {\"title\": {\"text\": \"\\uc218\\uce58\"}}},\n",
       "                        {\"responsive\": true}\n",
       "                    ).then(function(){\n",
       "                            \n",
       "var gd = document.getElementById('c84fd489-f284-461e-adff-e6e09c012627');\n",
       "var x = new MutationObserver(function (mutations, observer) {{\n",
       "        var display = window.getComputedStyle(gd).display;\n",
       "        if (!display || display === 'none') {{\n",
       "            console.log([gd, 'removed!']);\n",
       "            Plotly.purge(gd);\n",
       "            observer.disconnect();\n",
       "        }}\n",
       "}});\n",
       "\n",
       "// Listen for the removal of the full notebook cells\n",
       "var notebookContainer = gd.closest('#notebook-container');\n",
       "if (notebookContainer) {{\n",
       "    x.observe(notebookContainer, {childList: true});\n",
       "}}\n",
       "\n",
       "// Listen for the clearing of the current output cell\n",
       "var outputEl = gd.closest('.output');\n",
       "if (outputEl) {{\n",
       "    x.observe(outputEl, {childList: true});\n",
       "}}\n",
       "\n",
       "                        })\n",
       "                };\n",
       "                });\n",
       "            </script>\n",
       "        </div>"
      ]
     },
     "metadata": {},
     "output_type": "display_data"
    }
   ],
   "source": [
    "# 시즌/팀 별 연봉 그래프<sum> (Line)\n",
    "import plotly.graph_objects as go\n",
    "fig = go.Figure()\n",
    "for i in range(len(tims)):\n",
    "    fig.add_trace(go.Scatter(x=tims[i].iloc[:,1], y=tims[i].iloc[:,4],\n",
    "                             mode='lines+markers',\n",
    "                             name=tims[i].iloc[0,3]))\n",
    "fig.update_layout(\n",
    "    {\n",
    "        \"title\": {\n",
    "            \"text\": \"<b>시즌/팀</b> 별 연봉 그래프 <b><sum></b>\",\n",
    "            \"x\": 0.5,\n",
    "            \"y\": 0.9,\n",
    "            \"font\": {\n",
    "                \"size\": 20\n",
    "            }\n",
    "        },\n",
    "        \"showlegend\": True,\n",
    "        \"xaxis\": {\n",
    "            \"title\": \"시즌\",\n",
    "            \"showticklabels\":True,\n",
    "            \"dtick\":1 \n",
    "            \n",
    "        },\n",
    "        \"yaxis\": {\n",
    "            \"title\": \"수치\"\n",
    "        },\n",
    "\n",
    "    }\n",
    ")\n",
    "\n",
    "fig.show()"
   ]
  },
  {
   "cell_type": "markdown",
   "metadata": {},
   "source": [
    "### load csv [for 승률]"
   ]
  },
  {
   "cell_type": "code",
   "execution_count": 90,
   "metadata": {},
   "outputs": [
    {
     "data": {
      "text/html": [
       "<div>\n",
       "<style scoped>\n",
       "    .dataframe tbody tr th:only-of-type {\n",
       "        vertical-align: middle;\n",
       "    }\n",
       "\n",
       "    .dataframe tbody tr th {\n",
       "        vertical-align: top;\n",
       "    }\n",
       "\n",
       "    .dataframe thead th {\n",
       "        text-align: right;\n",
       "    }\n",
       "</style>\n",
       "<table border=\"1\" class=\"dataframe\">\n",
       "  <thead>\n",
       "    <tr style=\"text-align: right;\">\n",
       "      <th></th>\n",
       "      <th>시즌</th>\n",
       "      <th>팀코드</th>\n",
       "      <th>승패</th>\n",
       "    </tr>\n",
       "  </thead>\n",
       "  <tbody>\n",
       "    <tr>\n",
       "      <th>0</th>\n",
       "      <td>2016</td>\n",
       "      <td>LG</td>\n",
       "      <td>W</td>\n",
       "    </tr>\n",
       "    <tr>\n",
       "      <th>1</th>\n",
       "      <td>2016</td>\n",
       "      <td>HH</td>\n",
       "      <td>L</td>\n",
       "    </tr>\n",
       "    <tr>\n",
       "      <th>2</th>\n",
       "      <td>2016</td>\n",
       "      <td>NC</td>\n",
       "      <td>W</td>\n",
       "    </tr>\n",
       "    <tr>\n",
       "      <th>3</th>\n",
       "      <td>2016</td>\n",
       "      <td>HT</td>\n",
       "      <td>L</td>\n",
       "    </tr>\n",
       "    <tr>\n",
       "      <th>4</th>\n",
       "      <td>2016</td>\n",
       "      <td>SK</td>\n",
       "      <td>L</td>\n",
       "    </tr>\n",
       "    <tr>\n",
       "      <th>...</th>\n",
       "      <td>...</td>\n",
       "      <td>...</td>\n",
       "      <td>...</td>\n",
       "    </tr>\n",
       "    <tr>\n",
       "      <th>6395</th>\n",
       "      <td>2020</td>\n",
       "      <td>LT</td>\n",
       "      <td>W</td>\n",
       "    </tr>\n",
       "    <tr>\n",
       "      <th>6396</th>\n",
       "      <td>2020</td>\n",
       "      <td>HT</td>\n",
       "      <td>L</td>\n",
       "    </tr>\n",
       "    <tr>\n",
       "      <th>6397</th>\n",
       "      <td>2020</td>\n",
       "      <td>OB</td>\n",
       "      <td>W</td>\n",
       "    </tr>\n",
       "    <tr>\n",
       "      <th>6398</th>\n",
       "      <td>2020</td>\n",
       "      <td>SK</td>\n",
       "      <td>W</td>\n",
       "    </tr>\n",
       "    <tr>\n",
       "      <th>6399</th>\n",
       "      <td>2020</td>\n",
       "      <td>WO</td>\n",
       "      <td>L</td>\n",
       "    </tr>\n",
       "  </tbody>\n",
       "</table>\n",
       "<p>6400 rows × 3 columns</p>\n",
       "</div>"
      ],
      "text/plain": [
       "        시즌 팀코드 승패\n",
       "0     2016  LG  W\n",
       "1     2016  HH  L\n",
       "2     2016  NC  W\n",
       "3     2016  HT  L\n",
       "4     2016  SK  L\n",
       "...    ...  .. ..\n",
       "6395  2020  LT  W\n",
       "6396  2020  HT  L\n",
       "6397  2020  OB  W\n",
       "6398  2020  SK  W\n",
       "6399  2020  WO  L\n",
       "\n",
       "[6400 rows x 3 columns]"
      ]
     },
     "execution_count": 90,
     "metadata": {},
     "output_type": "execute_result"
    }
   ],
   "source": [
    "# 팀투수 데이터\n",
    "PATH_TP = \"C:/Users/home/DA(inflearn)/individual_pitcher/2020빅콘테스트 문제데이터(데이터분석분야-퓨처스리그)/2020빅콘테스트 데이터분석분야-퓨쳐스리그_스포츠투아이_제공데이터(.CSV)_시즌별, 시트별 구분/2020빅콘테스트_스포츠투아이_제공데이터_팀투수_\"\n",
    "doc_tp = None\n",
    "for i in [2016, 2017, 2018, 2019, 2020]:\n",
    "    doc_i = pd.read_csv(PATH_TP+str(i)+\".csv\", encoding='CP949')\n",
    "    doc_tp = pd.concat([doc_tp, doc_i], axis=0)\n",
    "tp_df = doc_tp[[\"G_ID\",\"T_ID\",\"WLS\"]]\n",
    "tp_df = tp_df.set_index(pd.Index(range(0,tp_df.shape[0])))\n",
    "\n",
    "# G_ID를 이용하여 년도 데이터 획득\n",
    "for i, row in tp_df.iterrows():\n",
    "    tp_df.at[i,\"G_ID\"] = tp_df.at[i,\"G_ID\"][:4]\n",
    "    \n",
    "tp_df.columns = [\"시즌\",\"팀코드\",\"승패\"]\n",
    "tp_df = tp_df.set_index(pd.Index(range(0,tp_df.shape[0])))\n",
    "tp_df"
   ]
  },
  {
   "cell_type": "markdown",
   "metadata": {},
   "source": [
    "### 데이터 가공"
   ]
  },
  {
   "cell_type": "code",
   "execution_count": 91,
   "metadata": {},
   "outputs": [
    {
     "data": {
      "text/html": [
       "<div>\n",
       "<style scoped>\n",
       "    .dataframe tbody tr th:only-of-type {\n",
       "        vertical-align: middle;\n",
       "    }\n",
       "\n",
       "    .dataframe tbody tr th {\n",
       "        vertical-align: top;\n",
       "    }\n",
       "\n",
       "    .dataframe thead th {\n",
       "        text-align: right;\n",
       "    }\n",
       "</style>\n",
       "<table border=\"1\" class=\"dataframe\">\n",
       "  <thead>\n",
       "    <tr style=\"text-align: right;\">\n",
       "      <th></th>\n",
       "      <th>시즌</th>\n",
       "      <th>팀코드</th>\n",
       "      <th>승패</th>\n",
       "    </tr>\n",
       "  </thead>\n",
       "  <tbody>\n",
       "    <tr>\n",
       "      <th>0</th>\n",
       "      <td>2016</td>\n",
       "      <td>LG</td>\n",
       "      <td>1</td>\n",
       "    </tr>\n",
       "    <tr>\n",
       "      <th>1</th>\n",
       "      <td>2016</td>\n",
       "      <td>HH</td>\n",
       "      <td>0</td>\n",
       "    </tr>\n",
       "    <tr>\n",
       "      <th>2</th>\n",
       "      <td>2016</td>\n",
       "      <td>NC</td>\n",
       "      <td>1</td>\n",
       "    </tr>\n",
       "    <tr>\n",
       "      <th>3</th>\n",
       "      <td>2016</td>\n",
       "      <td>HT</td>\n",
       "      <td>0</td>\n",
       "    </tr>\n",
       "    <tr>\n",
       "      <th>4</th>\n",
       "      <td>2016</td>\n",
       "      <td>SK</td>\n",
       "      <td>0</td>\n",
       "    </tr>\n",
       "    <tr>\n",
       "      <th>...</th>\n",
       "      <td>...</td>\n",
       "      <td>...</td>\n",
       "      <td>...</td>\n",
       "    </tr>\n",
       "    <tr>\n",
       "      <th>6395</th>\n",
       "      <td>2020</td>\n",
       "      <td>LT</td>\n",
       "      <td>1</td>\n",
       "    </tr>\n",
       "    <tr>\n",
       "      <th>6396</th>\n",
       "      <td>2020</td>\n",
       "      <td>HT</td>\n",
       "      <td>0</td>\n",
       "    </tr>\n",
       "    <tr>\n",
       "      <th>6397</th>\n",
       "      <td>2020</td>\n",
       "      <td>OB</td>\n",
       "      <td>1</td>\n",
       "    </tr>\n",
       "    <tr>\n",
       "      <th>6398</th>\n",
       "      <td>2020</td>\n",
       "      <td>SK</td>\n",
       "      <td>1</td>\n",
       "    </tr>\n",
       "    <tr>\n",
       "      <th>6399</th>\n",
       "      <td>2020</td>\n",
       "      <td>WO</td>\n",
       "      <td>0</td>\n",
       "    </tr>\n",
       "  </tbody>\n",
       "</table>\n",
       "<p>6400 rows × 3 columns</p>\n",
       "</div>"
      ],
      "text/plain": [
       "        시즌 팀코드 승패\n",
       "0     2016  LG  1\n",
       "1     2016  HH  0\n",
       "2     2016  NC  1\n",
       "3     2016  HT  0\n",
       "4     2016  SK  0\n",
       "...    ...  .. ..\n",
       "6395  2020  LT  1\n",
       "6396  2020  HT  0\n",
       "6397  2020  OB  1\n",
       "6398  2020  SK  1\n",
       "6399  2020  WO  0\n",
       "\n",
       "[6400 rows x 3 columns]"
      ]
     },
     "execution_count": 91,
     "metadata": {},
     "output_type": "execute_result"
    }
   ],
   "source": [
    "# 승패 데이터를 이진 데이터로 (0/1)\n",
    "for i, row in tp_df.iterrows():\n",
    "    if(tp_df.at[i,\"승패\"]==\"W\"):\n",
    "        tp_df.at[i,\"승패\"] = 1\n",
    "    else:\n",
    "        tp_df.at[i,\"승패\"] = 0\n",
    "tp_df"
   ]
  },
  {
   "cell_type": "code",
   "execution_count": 92,
   "metadata": {},
   "outputs": [
    {
     "data": {
      "text/html": [
       "<div>\n",
       "<style scoped>\n",
       "    .dataframe tbody tr th:only-of-type {\n",
       "        vertical-align: middle;\n",
       "    }\n",
       "\n",
       "    .dataframe tbody tr th {\n",
       "        vertical-align: top;\n",
       "    }\n",
       "\n",
       "    .dataframe thead th {\n",
       "        text-align: right;\n",
       "    }\n",
       "</style>\n",
       "<table border=\"1\" class=\"dataframe\">\n",
       "  <thead>\n",
       "    <tr style=\"text-align: right;\">\n",
       "      <th></th>\n",
       "      <th>시즌</th>\n",
       "      <th>팀코드</th>\n",
       "      <th>승패</th>\n",
       "    </tr>\n",
       "  </thead>\n",
       "  <tbody>\n",
       "    <tr>\n",
       "      <th>0</th>\n",
       "      <td>2016</td>\n",
       "      <td>HH</td>\n",
       "      <td>0.458333</td>\n",
       "    </tr>\n",
       "    <tr>\n",
       "      <th>10</th>\n",
       "      <td>2017</td>\n",
       "      <td>HH</td>\n",
       "      <td>0.423611</td>\n",
       "    </tr>\n",
       "    <tr>\n",
       "      <th>20</th>\n",
       "      <td>2018</td>\n",
       "      <td>HH</td>\n",
       "      <td>0.534722</td>\n",
       "    </tr>\n",
       "    <tr>\n",
       "      <th>30</th>\n",
       "      <td>2019</td>\n",
       "      <td>HH</td>\n",
       "      <td>0.402778</td>\n",
       "    </tr>\n",
       "    <tr>\n",
       "      <th>40</th>\n",
       "      <td>2020</td>\n",
       "      <td>HH</td>\n",
       "      <td>0.261538</td>\n",
       "    </tr>\n",
       "    <tr>\n",
       "      <th>1</th>\n",
       "      <td>2016</td>\n",
       "      <td>HT</td>\n",
       "      <td>0.486111</td>\n",
       "    </tr>\n",
       "    <tr>\n",
       "      <th>11</th>\n",
       "      <td>2017</td>\n",
       "      <td>HT</td>\n",
       "      <td>0.604167</td>\n",
       "    </tr>\n",
       "    <tr>\n",
       "      <th>21</th>\n",
       "      <td>2018</td>\n",
       "      <td>HT</td>\n",
       "      <td>0.486111</td>\n",
       "    </tr>\n",
       "    <tr>\n",
       "      <th>31</th>\n",
       "      <td>2019</td>\n",
       "      <td>HT</td>\n",
       "      <td>0.430556</td>\n",
       "    </tr>\n",
       "    <tr>\n",
       "      <th>41</th>\n",
       "      <td>2020</td>\n",
       "      <td>HT</td>\n",
       "      <td>0.532258</td>\n",
       "    </tr>\n",
       "    <tr>\n",
       "      <th>2</th>\n",
       "      <td>2016</td>\n",
       "      <td>KT</td>\n",
       "      <td>0.368056</td>\n",
       "    </tr>\n",
       "    <tr>\n",
       "      <th>12</th>\n",
       "      <td>2017</td>\n",
       "      <td>KT</td>\n",
       "      <td>0.347222</td>\n",
       "    </tr>\n",
       "    <tr>\n",
       "      <th>22</th>\n",
       "      <td>2018</td>\n",
       "      <td>KT</td>\n",
       "      <td>0.409722</td>\n",
       "    </tr>\n",
       "    <tr>\n",
       "      <th>32</th>\n",
       "      <td>2019</td>\n",
       "      <td>KT</td>\n",
       "      <td>0.493056</td>\n",
       "    </tr>\n",
       "    <tr>\n",
       "      <th>42</th>\n",
       "      <td>2020</td>\n",
       "      <td>KT</td>\n",
       "      <td>0.484375</td>\n",
       "    </tr>\n",
       "    <tr>\n",
       "      <th>3</th>\n",
       "      <td>2016</td>\n",
       "      <td>LG</td>\n",
       "      <td>0.493056</td>\n",
       "    </tr>\n",
       "    <tr>\n",
       "      <th>13</th>\n",
       "      <td>2017</td>\n",
       "      <td>LG</td>\n",
       "      <td>0.479167</td>\n",
       "    </tr>\n",
       "    <tr>\n",
       "      <th>23</th>\n",
       "      <td>2018</td>\n",
       "      <td>LG</td>\n",
       "      <td>0.472222</td>\n",
       "    </tr>\n",
       "    <tr>\n",
       "      <th>33</th>\n",
       "      <td>2019</td>\n",
       "      <td>LG</td>\n",
       "      <td>0.548611</td>\n",
       "    </tr>\n",
       "    <tr>\n",
       "      <th>43</th>\n",
       "      <td>2020</td>\n",
       "      <td>LG</td>\n",
       "      <td>0.531250</td>\n",
       "    </tr>\n",
       "    <tr>\n",
       "      <th>4</th>\n",
       "      <td>2016</td>\n",
       "      <td>LT</td>\n",
       "      <td>0.458333</td>\n",
       "    </tr>\n",
       "    <tr>\n",
       "      <th>14</th>\n",
       "      <td>2017</td>\n",
       "      <td>LT</td>\n",
       "      <td>0.555556</td>\n",
       "    </tr>\n",
       "    <tr>\n",
       "      <th>24</th>\n",
       "      <td>2018</td>\n",
       "      <td>LT</td>\n",
       "      <td>0.472222</td>\n",
       "    </tr>\n",
       "    <tr>\n",
       "      <th>34</th>\n",
       "      <td>2019</td>\n",
       "      <td>LT</td>\n",
       "      <td>0.333333</td>\n",
       "    </tr>\n",
       "    <tr>\n",
       "      <th>44</th>\n",
       "      <td>2020</td>\n",
       "      <td>LT</td>\n",
       "      <td>0.483871</td>\n",
       "    </tr>\n",
       "    <tr>\n",
       "      <th>5</th>\n",
       "      <td>2016</td>\n",
       "      <td>NC</td>\n",
       "      <td>0.576389</td>\n",
       "    </tr>\n",
       "    <tr>\n",
       "      <th>15</th>\n",
       "      <td>2017</td>\n",
       "      <td>NC</td>\n",
       "      <td>0.548611</td>\n",
       "    </tr>\n",
       "    <tr>\n",
       "      <th>25</th>\n",
       "      <td>2018</td>\n",
       "      <td>NC</td>\n",
       "      <td>0.402778</td>\n",
       "    </tr>\n",
       "    <tr>\n",
       "      <th>35</th>\n",
       "      <td>2019</td>\n",
       "      <td>NC</td>\n",
       "      <td>0.506944</td>\n",
       "    </tr>\n",
       "    <tr>\n",
       "      <th>45</th>\n",
       "      <td>2020</td>\n",
       "      <td>NC</td>\n",
       "      <td>0.666667</td>\n",
       "    </tr>\n",
       "    <tr>\n",
       "      <th>6</th>\n",
       "      <td>2016</td>\n",
       "      <td>OB</td>\n",
       "      <td>0.645833</td>\n",
       "    </tr>\n",
       "    <tr>\n",
       "      <th>16</th>\n",
       "      <td>2017</td>\n",
       "      <td>OB</td>\n",
       "      <td>0.583333</td>\n",
       "    </tr>\n",
       "    <tr>\n",
       "      <th>26</th>\n",
       "      <td>2018</td>\n",
       "      <td>OB</td>\n",
       "      <td>0.645833</td>\n",
       "    </tr>\n",
       "    <tr>\n",
       "      <th>36</th>\n",
       "      <td>2019</td>\n",
       "      <td>OB</td>\n",
       "      <td>0.611111</td>\n",
       "    </tr>\n",
       "    <tr>\n",
       "      <th>46</th>\n",
       "      <td>2020</td>\n",
       "      <td>OB</td>\n",
       "      <td>0.593750</td>\n",
       "    </tr>\n",
       "    <tr>\n",
       "      <th>7</th>\n",
       "      <td>2016</td>\n",
       "      <td>SK</td>\n",
       "      <td>0.479167</td>\n",
       "    </tr>\n",
       "    <tr>\n",
       "      <th>17</th>\n",
       "      <td>2017</td>\n",
       "      <td>SK</td>\n",
       "      <td>0.520833</td>\n",
       "    </tr>\n",
       "    <tr>\n",
       "      <th>27</th>\n",
       "      <td>2018</td>\n",
       "      <td>SK</td>\n",
       "      <td>0.541667</td>\n",
       "    </tr>\n",
       "    <tr>\n",
       "      <th>37</th>\n",
       "      <td>2019</td>\n",
       "      <td>SK</td>\n",
       "      <td>0.611111</td>\n",
       "    </tr>\n",
       "    <tr>\n",
       "      <th>47</th>\n",
       "      <td>2020</td>\n",
       "      <td>SK</td>\n",
       "      <td>0.323077</td>\n",
       "    </tr>\n",
       "    <tr>\n",
       "      <th>8</th>\n",
       "      <td>2016</td>\n",
       "      <td>SS</td>\n",
       "      <td>0.451389</td>\n",
       "    </tr>\n",
       "    <tr>\n",
       "      <th>18</th>\n",
       "      <td>2017</td>\n",
       "      <td>SS</td>\n",
       "      <td>0.381944</td>\n",
       "    </tr>\n",
       "    <tr>\n",
       "      <th>28</th>\n",
       "      <td>2018</td>\n",
       "      <td>SS</td>\n",
       "      <td>0.472222</td>\n",
       "    </tr>\n",
       "    <tr>\n",
       "      <th>38</th>\n",
       "      <td>2019</td>\n",
       "      <td>SS</td>\n",
       "      <td>0.416667</td>\n",
       "    </tr>\n",
       "    <tr>\n",
       "      <th>48</th>\n",
       "      <td>2020</td>\n",
       "      <td>SS</td>\n",
       "      <td>0.523077</td>\n",
       "    </tr>\n",
       "    <tr>\n",
       "      <th>9</th>\n",
       "      <td>2016</td>\n",
       "      <td>WO</td>\n",
       "      <td>0.534722</td>\n",
       "    </tr>\n",
       "    <tr>\n",
       "      <th>19</th>\n",
       "      <td>2017</td>\n",
       "      <td>WO</td>\n",
       "      <td>0.479167</td>\n",
       "    </tr>\n",
       "    <tr>\n",
       "      <th>29</th>\n",
       "      <td>2018</td>\n",
       "      <td>WO</td>\n",
       "      <td>0.520833</td>\n",
       "    </tr>\n",
       "    <tr>\n",
       "      <th>39</th>\n",
       "      <td>2019</td>\n",
       "      <td>WO</td>\n",
       "      <td>0.597222</td>\n",
       "    </tr>\n",
       "    <tr>\n",
       "      <th>49</th>\n",
       "      <td>2020</td>\n",
       "      <td>WO</td>\n",
       "      <td>0.575758</td>\n",
       "    </tr>\n",
       "  </tbody>\n",
       "</table>\n",
       "</div>"
      ],
      "text/plain": [
       "      시즌 팀코드        승패\n",
       "0   2016  HH  0.458333\n",
       "10  2017  HH  0.423611\n",
       "20  2018  HH  0.534722\n",
       "30  2019  HH  0.402778\n",
       "40  2020  HH  0.261538\n",
       "1   2016  HT  0.486111\n",
       "11  2017  HT  0.604167\n",
       "21  2018  HT  0.486111\n",
       "31  2019  HT  0.430556\n",
       "41  2020  HT  0.532258\n",
       "2   2016  KT  0.368056\n",
       "12  2017  KT  0.347222\n",
       "22  2018  KT  0.409722\n",
       "32  2019  KT  0.493056\n",
       "42  2020  KT  0.484375\n",
       "3   2016  LG  0.493056\n",
       "13  2017  LG  0.479167\n",
       "23  2018  LG  0.472222\n",
       "33  2019  LG  0.548611\n",
       "43  2020  LG  0.531250\n",
       "4   2016  LT  0.458333\n",
       "14  2017  LT  0.555556\n",
       "24  2018  LT  0.472222\n",
       "34  2019  LT  0.333333\n",
       "44  2020  LT  0.483871\n",
       "5   2016  NC  0.576389\n",
       "15  2017  NC  0.548611\n",
       "25  2018  NC  0.402778\n",
       "35  2019  NC  0.506944\n",
       "45  2020  NC  0.666667\n",
       "6   2016  OB  0.645833\n",
       "16  2017  OB  0.583333\n",
       "26  2018  OB  0.645833\n",
       "36  2019  OB  0.611111\n",
       "46  2020  OB  0.593750\n",
       "7   2016  SK  0.479167\n",
       "17  2017  SK  0.520833\n",
       "27  2018  SK  0.541667\n",
       "37  2019  SK  0.611111\n",
       "47  2020  SK  0.323077\n",
       "8   2016  SS  0.451389\n",
       "18  2017  SS  0.381944\n",
       "28  2018  SS  0.472222\n",
       "38  2019  SS  0.416667\n",
       "48  2020  SS  0.523077\n",
       "9   2016  WO  0.534722\n",
       "19  2017  WO  0.479167\n",
       "29  2018  WO  0.520833\n",
       "39  2019  WO  0.597222\n",
       "49  2020  WO  0.575758"
      ]
     },
     "execution_count": 92,
     "metadata": {},
     "output_type": "execute_result"
    }
   ],
   "source": [
    "# 시즌/팀별로 승률 계산\n",
    "grouped = tp_df.groupby(by=[\"시즌\",\"팀코드\"])\n",
    "win_rate = grouped.agg(np.sum)/grouped.agg(np.size)\n",
    "win_rate = win_rate.reset_index()\n",
    "win_rate = win_rate.sort_values(by=[\"팀코드\",\"시즌\"])\n",
    "win_rate"
   ]
  },
  {
   "cell_type": "markdown",
   "metadata": {},
   "source": [
    "### 시각화"
   ]
  },
  {
   "cell_type": "code",
   "execution_count": 93,
   "metadata": {},
   "outputs": [
    {
     "data": {
      "text/plain": [
       "[      시즌 팀코드        승패\n",
       " 9   2016  WO  0.534722\n",
       " 19  2017  WO  0.479167\n",
       " 29  2018  WO  0.520833\n",
       " 39  2019  WO  0.597222\n",
       " 49  2020  WO  0.575758,\n",
       "       시즌 팀코드        승패\n",
       " 2   2016  KT  0.368056\n",
       " 12  2017  KT  0.347222\n",
       " 22  2018  KT  0.409722\n",
       " 32  2019  KT  0.493056\n",
       " 42  2020  KT  0.484375,\n",
       "       시즌 팀코드        승패\n",
       " 5   2016  NC  0.576389\n",
       " 15  2017  NC  0.548611\n",
       " 25  2018  NC  0.402778\n",
       " 35  2019  NC  0.506944\n",
       " 45  2020  NC  0.666667,\n",
       "       시즌 팀코드        승패\n",
       " 3   2016  LG  0.493056\n",
       " 13  2017  LG  0.479167\n",
       " 23  2018  LG  0.472222\n",
       " 33  2019  LG  0.548611\n",
       " 43  2020  LG  0.531250,\n",
       "       시즌 팀코드        승패\n",
       " 7   2016  SK  0.479167\n",
       " 17  2017  SK  0.520833\n",
       " 27  2018  SK  0.541667\n",
       " 37  2019  SK  0.611111\n",
       " 47  2020  SK  0.323077,\n",
       "       시즌 팀코드        승패\n",
       " 6   2016  OB  0.645833\n",
       " 16  2017  OB  0.583333\n",
       " 26  2018  OB  0.645833\n",
       " 36  2019  OB  0.611111\n",
       " 46  2020  OB  0.593750,\n",
       "       시즌 팀코드        승패\n",
       " 1   2016  HT  0.486111\n",
       " 11  2017  HT  0.604167\n",
       " 21  2018  HT  0.486111\n",
       " 31  2019  HT  0.430556\n",
       " 41  2020  HT  0.532258,\n",
       "       시즌 팀코드        승패\n",
       " 4   2016  LT  0.458333\n",
       " 14  2017  LT  0.555556\n",
       " 24  2018  LT  0.472222\n",
       " 34  2019  LT  0.333333\n",
       " 44  2020  LT  0.483871,\n",
       "       시즌 팀코드        승패\n",
       " 8   2016  SS  0.451389\n",
       " 18  2017  SS  0.381944\n",
       " 28  2018  SS  0.472222\n",
       " 38  2019  SS  0.416667\n",
       " 48  2020  SS  0.523077,\n",
       "       시즌 팀코드        승패\n",
       " 0   2016  HH  0.458333\n",
       " 10  2017  HH  0.423611\n",
       " 20  2018  HH  0.534722\n",
       " 30  2019  HH  0.402778\n",
       " 40  2020  HH  0.261538]"
      ]
     },
     "execution_count": 93,
     "metadata": {},
     "output_type": "execute_result"
    }
   ],
   "source": [
    "# Line 그래프를 위한 데이터 가공\n",
    "tims_bar = [0]*10 #원래 바그래프를 위한 데이터였으나, 좀 더 직관적인 시각화를 위해 라인 그래프로 변경\n",
    "for i in range(10):\n",
    "    tims_bar[i] = win_rate[win_rate[\"팀코드\"]==tim_labels[i]]\n",
    "tims_bar"
   ]
  },
  {
   "cell_type": "code",
   "execution_count": 94,
   "metadata": {},
   "outputs": [
    {
     "data": {
      "application/vnd.plotly.v1+json": {
       "config": {
        "plotlyServerURL": "https://plotly.com"
       },
       "data": [
        {
         "mode": "lines+markers",
         "name": "키움",
         "type": "scatter",
         "x": [
          "2016",
          "2017",
          "2018",
          "2019",
          "2020"
         ],
         "y": [
          0.5347222222222222,
          0.4791666666666667,
          0.5208333333333334,
          0.5972222222222222,
          0.5757575757575758
         ]
        },
        {
         "mode": "lines+markers",
         "name": "KT",
         "type": "scatter",
         "x": [
          "2016",
          "2017",
          "2018",
          "2019",
          "2020"
         ],
         "y": [
          0.3680555555555556,
          0.3472222222222222,
          0.4097222222222222,
          0.4930555555555556,
          0.484375
         ]
        },
        {
         "mode": "lines+markers",
         "name": "NC",
         "type": "scatter",
         "x": [
          "2016",
          "2017",
          "2018",
          "2019",
          "2020"
         ],
         "y": [
          0.5763888888888888,
          0.5486111111111112,
          0.4027777777777778,
          0.5069444444444444,
          0.6666666666666666
         ]
        },
        {
         "mode": "lines+markers",
         "name": "LG",
         "type": "scatter",
         "x": [
          "2016",
          "2017",
          "2018",
          "2019",
          "2020"
         ],
         "y": [
          0.4930555555555556,
          0.4791666666666667,
          0.4722222222222222,
          0.5486111111111112,
          0.53125
         ]
        },
        {
         "mode": "lines+markers",
         "name": "SK",
         "type": "scatter",
         "x": [
          "2016",
          "2017",
          "2018",
          "2019",
          "2020"
         ],
         "y": [
          0.4791666666666667,
          0.5208333333333334,
          0.5416666666666666,
          0.6111111111111112,
          0.3230769230769231
         ]
        },
        {
         "mode": "lines+markers",
         "name": "두산",
         "type": "scatter",
         "x": [
          "2016",
          "2017",
          "2018",
          "2019",
          "2020"
         ],
         "y": [
          0.6458333333333334,
          0.5833333333333334,
          0.6458333333333334,
          0.6111111111111112,
          0.59375
         ]
        },
        {
         "mode": "lines+markers",
         "name": "KIA",
         "type": "scatter",
         "x": [
          "2016",
          "2017",
          "2018",
          "2019",
          "2020"
         ],
         "y": [
          0.4861111111111111,
          0.6041666666666666,
          0.4861111111111111,
          0.4305555555555556,
          0.532258064516129
         ]
        },
        {
         "mode": "lines+markers",
         "name": "롯데",
         "type": "scatter",
         "x": [
          "2016",
          "2017",
          "2018",
          "2019",
          "2020"
         ],
         "y": [
          0.4583333333333333,
          0.5555555555555556,
          0.4722222222222222,
          0.3333333333333333,
          0.4838709677419355
         ]
        },
        {
         "mode": "lines+markers",
         "name": "삼성",
         "type": "scatter",
         "x": [
          "2016",
          "2017",
          "2018",
          "2019",
          "2020"
         ],
         "y": [
          0.4513888888888889,
          0.3819444444444444,
          0.4722222222222222,
          0.4166666666666667,
          0.5230769230769231
         ]
        },
        {
         "mode": "lines+markers",
         "name": "한화",
         "type": "scatter",
         "x": [
          "2016",
          "2017",
          "2018",
          "2019",
          "2020"
         ],
         "y": [
          0.4583333333333333,
          0.4236111111111111,
          0.5347222222222222,
          0.4027777777777778,
          0.26153846153846155
         ]
        }
       ],
       "layout": {
        "showlegend": true,
        "template": {
         "data": {
          "bar": [
           {
            "error_x": {
             "color": "#2a3f5f"
            },
            "error_y": {
             "color": "#2a3f5f"
            },
            "marker": {
             "line": {
              "color": "#E5ECF6",
              "width": 0.5
             }
            },
            "type": "bar"
           }
          ],
          "barpolar": [
           {
            "marker": {
             "line": {
              "color": "#E5ECF6",
              "width": 0.5
             }
            },
            "type": "barpolar"
           }
          ],
          "carpet": [
           {
            "aaxis": {
             "endlinecolor": "#2a3f5f",
             "gridcolor": "white",
             "linecolor": "white",
             "minorgridcolor": "white",
             "startlinecolor": "#2a3f5f"
            },
            "baxis": {
             "endlinecolor": "#2a3f5f",
             "gridcolor": "white",
             "linecolor": "white",
             "minorgridcolor": "white",
             "startlinecolor": "#2a3f5f"
            },
            "type": "carpet"
           }
          ],
          "choropleth": [
           {
            "colorbar": {
             "outlinewidth": 0,
             "ticks": ""
            },
            "type": "choropleth"
           }
          ],
          "contour": [
           {
            "colorbar": {
             "outlinewidth": 0,
             "ticks": ""
            },
            "colorscale": [
             [
              0,
              "#0d0887"
             ],
             [
              0.1111111111111111,
              "#46039f"
             ],
             [
              0.2222222222222222,
              "#7201a8"
             ],
             [
              0.3333333333333333,
              "#9c179e"
             ],
             [
              0.4444444444444444,
              "#bd3786"
             ],
             [
              0.5555555555555556,
              "#d8576b"
             ],
             [
              0.6666666666666666,
              "#ed7953"
             ],
             [
              0.7777777777777778,
              "#fb9f3a"
             ],
             [
              0.8888888888888888,
              "#fdca26"
             ],
             [
              1,
              "#f0f921"
             ]
            ],
            "type": "contour"
           }
          ],
          "contourcarpet": [
           {
            "colorbar": {
             "outlinewidth": 0,
             "ticks": ""
            },
            "type": "contourcarpet"
           }
          ],
          "heatmap": [
           {
            "colorbar": {
             "outlinewidth": 0,
             "ticks": ""
            },
            "colorscale": [
             [
              0,
              "#0d0887"
             ],
             [
              0.1111111111111111,
              "#46039f"
             ],
             [
              0.2222222222222222,
              "#7201a8"
             ],
             [
              0.3333333333333333,
              "#9c179e"
             ],
             [
              0.4444444444444444,
              "#bd3786"
             ],
             [
              0.5555555555555556,
              "#d8576b"
             ],
             [
              0.6666666666666666,
              "#ed7953"
             ],
             [
              0.7777777777777778,
              "#fb9f3a"
             ],
             [
              0.8888888888888888,
              "#fdca26"
             ],
             [
              1,
              "#f0f921"
             ]
            ],
            "type": "heatmap"
           }
          ],
          "heatmapgl": [
           {
            "colorbar": {
             "outlinewidth": 0,
             "ticks": ""
            },
            "colorscale": [
             [
              0,
              "#0d0887"
             ],
             [
              0.1111111111111111,
              "#46039f"
             ],
             [
              0.2222222222222222,
              "#7201a8"
             ],
             [
              0.3333333333333333,
              "#9c179e"
             ],
             [
              0.4444444444444444,
              "#bd3786"
             ],
             [
              0.5555555555555556,
              "#d8576b"
             ],
             [
              0.6666666666666666,
              "#ed7953"
             ],
             [
              0.7777777777777778,
              "#fb9f3a"
             ],
             [
              0.8888888888888888,
              "#fdca26"
             ],
             [
              1,
              "#f0f921"
             ]
            ],
            "type": "heatmapgl"
           }
          ],
          "histogram": [
           {
            "marker": {
             "colorbar": {
              "outlinewidth": 0,
              "ticks": ""
             }
            },
            "type": "histogram"
           }
          ],
          "histogram2d": [
           {
            "colorbar": {
             "outlinewidth": 0,
             "ticks": ""
            },
            "colorscale": [
             [
              0,
              "#0d0887"
             ],
             [
              0.1111111111111111,
              "#46039f"
             ],
             [
              0.2222222222222222,
              "#7201a8"
             ],
             [
              0.3333333333333333,
              "#9c179e"
             ],
             [
              0.4444444444444444,
              "#bd3786"
             ],
             [
              0.5555555555555556,
              "#d8576b"
             ],
             [
              0.6666666666666666,
              "#ed7953"
             ],
             [
              0.7777777777777778,
              "#fb9f3a"
             ],
             [
              0.8888888888888888,
              "#fdca26"
             ],
             [
              1,
              "#f0f921"
             ]
            ],
            "type": "histogram2d"
           }
          ],
          "histogram2dcontour": [
           {
            "colorbar": {
             "outlinewidth": 0,
             "ticks": ""
            },
            "colorscale": [
             [
              0,
              "#0d0887"
             ],
             [
              0.1111111111111111,
              "#46039f"
             ],
             [
              0.2222222222222222,
              "#7201a8"
             ],
             [
              0.3333333333333333,
              "#9c179e"
             ],
             [
              0.4444444444444444,
              "#bd3786"
             ],
             [
              0.5555555555555556,
              "#d8576b"
             ],
             [
              0.6666666666666666,
              "#ed7953"
             ],
             [
              0.7777777777777778,
              "#fb9f3a"
             ],
             [
              0.8888888888888888,
              "#fdca26"
             ],
             [
              1,
              "#f0f921"
             ]
            ],
            "type": "histogram2dcontour"
           }
          ],
          "mesh3d": [
           {
            "colorbar": {
             "outlinewidth": 0,
             "ticks": ""
            },
            "type": "mesh3d"
           }
          ],
          "parcoords": [
           {
            "line": {
             "colorbar": {
              "outlinewidth": 0,
              "ticks": ""
             }
            },
            "type": "parcoords"
           }
          ],
          "pie": [
           {
            "automargin": true,
            "type": "pie"
           }
          ],
          "scatter": [
           {
            "marker": {
             "colorbar": {
              "outlinewidth": 0,
              "ticks": ""
             }
            },
            "type": "scatter"
           }
          ],
          "scatter3d": [
           {
            "line": {
             "colorbar": {
              "outlinewidth": 0,
              "ticks": ""
             }
            },
            "marker": {
             "colorbar": {
              "outlinewidth": 0,
              "ticks": ""
             }
            },
            "type": "scatter3d"
           }
          ],
          "scattercarpet": [
           {
            "marker": {
             "colorbar": {
              "outlinewidth": 0,
              "ticks": ""
             }
            },
            "type": "scattercarpet"
           }
          ],
          "scattergeo": [
           {
            "marker": {
             "colorbar": {
              "outlinewidth": 0,
              "ticks": ""
             }
            },
            "type": "scattergeo"
           }
          ],
          "scattergl": [
           {
            "marker": {
             "colorbar": {
              "outlinewidth": 0,
              "ticks": ""
             }
            },
            "type": "scattergl"
           }
          ],
          "scattermapbox": [
           {
            "marker": {
             "colorbar": {
              "outlinewidth": 0,
              "ticks": ""
             }
            },
            "type": "scattermapbox"
           }
          ],
          "scatterpolar": [
           {
            "marker": {
             "colorbar": {
              "outlinewidth": 0,
              "ticks": ""
             }
            },
            "type": "scatterpolar"
           }
          ],
          "scatterpolargl": [
           {
            "marker": {
             "colorbar": {
              "outlinewidth": 0,
              "ticks": ""
             }
            },
            "type": "scatterpolargl"
           }
          ],
          "scatterternary": [
           {
            "marker": {
             "colorbar": {
              "outlinewidth": 0,
              "ticks": ""
             }
            },
            "type": "scatterternary"
           }
          ],
          "surface": [
           {
            "colorbar": {
             "outlinewidth": 0,
             "ticks": ""
            },
            "colorscale": [
             [
              0,
              "#0d0887"
             ],
             [
              0.1111111111111111,
              "#46039f"
             ],
             [
              0.2222222222222222,
              "#7201a8"
             ],
             [
              0.3333333333333333,
              "#9c179e"
             ],
             [
              0.4444444444444444,
              "#bd3786"
             ],
             [
              0.5555555555555556,
              "#d8576b"
             ],
             [
              0.6666666666666666,
              "#ed7953"
             ],
             [
              0.7777777777777778,
              "#fb9f3a"
             ],
             [
              0.8888888888888888,
              "#fdca26"
             ],
             [
              1,
              "#f0f921"
             ]
            ],
            "type": "surface"
           }
          ],
          "table": [
           {
            "cells": {
             "fill": {
              "color": "#EBF0F8"
             },
             "line": {
              "color": "white"
             }
            },
            "header": {
             "fill": {
              "color": "#C8D4E3"
             },
             "line": {
              "color": "white"
             }
            },
            "type": "table"
           }
          ]
         },
         "layout": {
          "annotationdefaults": {
           "arrowcolor": "#2a3f5f",
           "arrowhead": 0,
           "arrowwidth": 1
          },
          "coloraxis": {
           "colorbar": {
            "outlinewidth": 0,
            "ticks": ""
           }
          },
          "colorscale": {
           "diverging": [
            [
             0,
             "#8e0152"
            ],
            [
             0.1,
             "#c51b7d"
            ],
            [
             0.2,
             "#de77ae"
            ],
            [
             0.3,
             "#f1b6da"
            ],
            [
             0.4,
             "#fde0ef"
            ],
            [
             0.5,
             "#f7f7f7"
            ],
            [
             0.6,
             "#e6f5d0"
            ],
            [
             0.7,
             "#b8e186"
            ],
            [
             0.8,
             "#7fbc41"
            ],
            [
             0.9,
             "#4d9221"
            ],
            [
             1,
             "#276419"
            ]
           ],
           "sequential": [
            [
             0,
             "#0d0887"
            ],
            [
             0.1111111111111111,
             "#46039f"
            ],
            [
             0.2222222222222222,
             "#7201a8"
            ],
            [
             0.3333333333333333,
             "#9c179e"
            ],
            [
             0.4444444444444444,
             "#bd3786"
            ],
            [
             0.5555555555555556,
             "#d8576b"
            ],
            [
             0.6666666666666666,
             "#ed7953"
            ],
            [
             0.7777777777777778,
             "#fb9f3a"
            ],
            [
             0.8888888888888888,
             "#fdca26"
            ],
            [
             1,
             "#f0f921"
            ]
           ],
           "sequentialminus": [
            [
             0,
             "#0d0887"
            ],
            [
             0.1111111111111111,
             "#46039f"
            ],
            [
             0.2222222222222222,
             "#7201a8"
            ],
            [
             0.3333333333333333,
             "#9c179e"
            ],
            [
             0.4444444444444444,
             "#bd3786"
            ],
            [
             0.5555555555555556,
             "#d8576b"
            ],
            [
             0.6666666666666666,
             "#ed7953"
            ],
            [
             0.7777777777777778,
             "#fb9f3a"
            ],
            [
             0.8888888888888888,
             "#fdca26"
            ],
            [
             1,
             "#f0f921"
            ]
           ]
          },
          "colorway": [
           "#636efa",
           "#EF553B",
           "#00cc96",
           "#ab63fa",
           "#FFA15A",
           "#19d3f3",
           "#FF6692",
           "#B6E880",
           "#FF97FF",
           "#FECB52"
          ],
          "font": {
           "color": "#2a3f5f"
          },
          "geo": {
           "bgcolor": "white",
           "lakecolor": "white",
           "landcolor": "#E5ECF6",
           "showlakes": true,
           "showland": true,
           "subunitcolor": "white"
          },
          "hoverlabel": {
           "align": "left"
          },
          "hovermode": "closest",
          "mapbox": {
           "style": "light"
          },
          "paper_bgcolor": "white",
          "plot_bgcolor": "#E5ECF6",
          "polar": {
           "angularaxis": {
            "gridcolor": "white",
            "linecolor": "white",
            "ticks": ""
           },
           "bgcolor": "#E5ECF6",
           "radialaxis": {
            "gridcolor": "white",
            "linecolor": "white",
            "ticks": ""
           }
          },
          "scene": {
           "xaxis": {
            "backgroundcolor": "#E5ECF6",
            "gridcolor": "white",
            "gridwidth": 2,
            "linecolor": "white",
            "showbackground": true,
            "ticks": "",
            "zerolinecolor": "white"
           },
           "yaxis": {
            "backgroundcolor": "#E5ECF6",
            "gridcolor": "white",
            "gridwidth": 2,
            "linecolor": "white",
            "showbackground": true,
            "ticks": "",
            "zerolinecolor": "white"
           },
           "zaxis": {
            "backgroundcolor": "#E5ECF6",
            "gridcolor": "white",
            "gridwidth": 2,
            "linecolor": "white",
            "showbackground": true,
            "ticks": "",
            "zerolinecolor": "white"
           }
          },
          "shapedefaults": {
           "line": {
            "color": "#2a3f5f"
           }
          },
          "ternary": {
           "aaxis": {
            "gridcolor": "white",
            "linecolor": "white",
            "ticks": ""
           },
           "baxis": {
            "gridcolor": "white",
            "linecolor": "white",
            "ticks": ""
           },
           "bgcolor": "#E5ECF6",
           "caxis": {
            "gridcolor": "white",
            "linecolor": "white",
            "ticks": ""
           }
          },
          "title": {
           "x": 0.05
          },
          "xaxis": {
           "automargin": true,
           "gridcolor": "white",
           "linecolor": "white",
           "ticks": "",
           "title": {
            "standoff": 15
           },
           "zerolinecolor": "white",
           "zerolinewidth": 2
          },
          "yaxis": {
           "automargin": true,
           "gridcolor": "white",
           "linecolor": "white",
           "ticks": "",
           "title": {
            "standoff": 15
           },
           "zerolinecolor": "white",
           "zerolinewidth": 2
          }
         }
        },
        "title": {
         "font": {
          "size": 20
         },
         "text": "<b>시즌/팀</b> 별 승률 그래프",
         "x": 0.5,
         "y": 0.9
        },
        "xaxis": {
         "dtick": 1,
         "showticklabels": true,
         "title": {
          "text": "시즌"
         }
        },
        "yaxis": {
         "title": {
          "text": "수치"
         }
        }
       }
      },
      "text/html": [
       "<div>\n",
       "        \n",
       "        \n",
       "            <div id=\"6727a71f-3b04-4699-a032-dd37cee054bf\" class=\"plotly-graph-div\" style=\"height:525px; width:100%;\"></div>\n",
       "            <script type=\"text/javascript\">\n",
       "                require([\"plotly\"], function(Plotly) {\n",
       "                    window.PLOTLYENV=window.PLOTLYENV || {};\n",
       "                    \n",
       "                if (document.getElementById(\"6727a71f-3b04-4699-a032-dd37cee054bf\")) {\n",
       "                    Plotly.newPlot(\n",
       "                        '6727a71f-3b04-4699-a032-dd37cee054bf',\n",
       "                        [{\"mode\": \"lines+markers\", \"name\": \"\\ud0a4\\uc6c0\", \"type\": \"scatter\", \"x\": [\"2016\", \"2017\", \"2018\", \"2019\", \"2020\"], \"y\": [0.5347222222222222, 0.4791666666666667, 0.5208333333333334, 0.5972222222222222, 0.5757575757575758]}, {\"mode\": \"lines+markers\", \"name\": \"KT\", \"type\": \"scatter\", \"x\": [\"2016\", \"2017\", \"2018\", \"2019\", \"2020\"], \"y\": [0.3680555555555556, 0.3472222222222222, 0.4097222222222222, 0.4930555555555556, 0.484375]}, {\"mode\": \"lines+markers\", \"name\": \"NC\", \"type\": \"scatter\", \"x\": [\"2016\", \"2017\", \"2018\", \"2019\", \"2020\"], \"y\": [0.5763888888888888, 0.5486111111111112, 0.4027777777777778, 0.5069444444444444, 0.6666666666666666]}, {\"mode\": \"lines+markers\", \"name\": \"LG\", \"type\": \"scatter\", \"x\": [\"2016\", \"2017\", \"2018\", \"2019\", \"2020\"], \"y\": [0.4930555555555556, 0.4791666666666667, 0.4722222222222222, 0.5486111111111112, 0.53125]}, {\"mode\": \"lines+markers\", \"name\": \"SK\", \"type\": \"scatter\", \"x\": [\"2016\", \"2017\", \"2018\", \"2019\", \"2020\"], \"y\": [0.4791666666666667, 0.5208333333333334, 0.5416666666666666, 0.6111111111111112, 0.3230769230769231]}, {\"mode\": \"lines+markers\", \"name\": \"\\ub450\\uc0b0\", \"type\": \"scatter\", \"x\": [\"2016\", \"2017\", \"2018\", \"2019\", \"2020\"], \"y\": [0.6458333333333334, 0.5833333333333334, 0.6458333333333334, 0.6111111111111112, 0.59375]}, {\"mode\": \"lines+markers\", \"name\": \"KIA\", \"type\": \"scatter\", \"x\": [\"2016\", \"2017\", \"2018\", \"2019\", \"2020\"], \"y\": [0.4861111111111111, 0.6041666666666666, 0.4861111111111111, 0.4305555555555556, 0.532258064516129]}, {\"mode\": \"lines+markers\", \"name\": \"\\ub86f\\ub370\", \"type\": \"scatter\", \"x\": [\"2016\", \"2017\", \"2018\", \"2019\", \"2020\"], \"y\": [0.4583333333333333, 0.5555555555555556, 0.4722222222222222, 0.3333333333333333, 0.4838709677419355]}, {\"mode\": \"lines+markers\", \"name\": \"\\uc0bc\\uc131\", \"type\": \"scatter\", \"x\": [\"2016\", \"2017\", \"2018\", \"2019\", \"2020\"], \"y\": [0.4513888888888889, 0.3819444444444444, 0.4722222222222222, 0.4166666666666667, 0.5230769230769231]}, {\"mode\": \"lines+markers\", \"name\": \"\\ud55c\\ud654\", \"type\": \"scatter\", \"x\": [\"2016\", \"2017\", \"2018\", \"2019\", \"2020\"], \"y\": [0.4583333333333333, 0.4236111111111111, 0.5347222222222222, 0.4027777777777778, 0.26153846153846155]}],\n",
       "                        {\"showlegend\": true, \"template\": {\"data\": {\"bar\": [{\"error_x\": {\"color\": \"#2a3f5f\"}, \"error_y\": {\"color\": \"#2a3f5f\"}, \"marker\": {\"line\": {\"color\": \"#E5ECF6\", \"width\": 0.5}}, \"type\": \"bar\"}], \"barpolar\": [{\"marker\": {\"line\": {\"color\": \"#E5ECF6\", \"width\": 0.5}}, \"type\": \"barpolar\"}], \"carpet\": [{\"aaxis\": {\"endlinecolor\": \"#2a3f5f\", \"gridcolor\": \"white\", \"linecolor\": \"white\", \"minorgridcolor\": \"white\", \"startlinecolor\": \"#2a3f5f\"}, \"baxis\": {\"endlinecolor\": \"#2a3f5f\", \"gridcolor\": \"white\", \"linecolor\": \"white\", \"minorgridcolor\": \"white\", \"startlinecolor\": \"#2a3f5f\"}, \"type\": \"carpet\"}], \"choropleth\": [{\"colorbar\": {\"outlinewidth\": 0, \"ticks\": \"\"}, \"type\": \"choropleth\"}], \"contour\": [{\"colorbar\": {\"outlinewidth\": 0, \"ticks\": \"\"}, \"colorscale\": [[0.0, \"#0d0887\"], [0.1111111111111111, \"#46039f\"], [0.2222222222222222, \"#7201a8\"], [0.3333333333333333, \"#9c179e\"], [0.4444444444444444, \"#bd3786\"], [0.5555555555555556, \"#d8576b\"], [0.6666666666666666, \"#ed7953\"], [0.7777777777777778, \"#fb9f3a\"], [0.8888888888888888, \"#fdca26\"], [1.0, \"#f0f921\"]], \"type\": \"contour\"}], \"contourcarpet\": [{\"colorbar\": {\"outlinewidth\": 0, \"ticks\": \"\"}, \"type\": \"contourcarpet\"}], \"heatmap\": [{\"colorbar\": {\"outlinewidth\": 0, \"ticks\": \"\"}, \"colorscale\": [[0.0, \"#0d0887\"], [0.1111111111111111, \"#46039f\"], [0.2222222222222222, \"#7201a8\"], [0.3333333333333333, \"#9c179e\"], [0.4444444444444444, \"#bd3786\"], [0.5555555555555556, \"#d8576b\"], [0.6666666666666666, \"#ed7953\"], [0.7777777777777778, \"#fb9f3a\"], [0.8888888888888888, \"#fdca26\"], [1.0, \"#f0f921\"]], \"type\": \"heatmap\"}], \"heatmapgl\": [{\"colorbar\": {\"outlinewidth\": 0, \"ticks\": \"\"}, \"colorscale\": [[0.0, \"#0d0887\"], [0.1111111111111111, \"#46039f\"], [0.2222222222222222, \"#7201a8\"], [0.3333333333333333, \"#9c179e\"], [0.4444444444444444, \"#bd3786\"], [0.5555555555555556, \"#d8576b\"], [0.6666666666666666, \"#ed7953\"], [0.7777777777777778, \"#fb9f3a\"], [0.8888888888888888, \"#fdca26\"], [1.0, \"#f0f921\"]], \"type\": \"heatmapgl\"}], \"histogram\": [{\"marker\": {\"colorbar\": {\"outlinewidth\": 0, \"ticks\": \"\"}}, \"type\": \"histogram\"}], \"histogram2d\": [{\"colorbar\": {\"outlinewidth\": 0, \"ticks\": \"\"}, \"colorscale\": [[0.0, \"#0d0887\"], [0.1111111111111111, \"#46039f\"], [0.2222222222222222, \"#7201a8\"], [0.3333333333333333, \"#9c179e\"], [0.4444444444444444, \"#bd3786\"], [0.5555555555555556, \"#d8576b\"], [0.6666666666666666, \"#ed7953\"], [0.7777777777777778, \"#fb9f3a\"], [0.8888888888888888, \"#fdca26\"], [1.0, \"#f0f921\"]], \"type\": \"histogram2d\"}], \"histogram2dcontour\": [{\"colorbar\": {\"outlinewidth\": 0, \"ticks\": \"\"}, \"colorscale\": [[0.0, \"#0d0887\"], [0.1111111111111111, \"#46039f\"], [0.2222222222222222, \"#7201a8\"], [0.3333333333333333, \"#9c179e\"], [0.4444444444444444, \"#bd3786\"], [0.5555555555555556, \"#d8576b\"], [0.6666666666666666, \"#ed7953\"], [0.7777777777777778, \"#fb9f3a\"], [0.8888888888888888, \"#fdca26\"], [1.0, \"#f0f921\"]], \"type\": \"histogram2dcontour\"}], \"mesh3d\": [{\"colorbar\": {\"outlinewidth\": 0, \"ticks\": \"\"}, \"type\": \"mesh3d\"}], \"parcoords\": [{\"line\": {\"colorbar\": {\"outlinewidth\": 0, \"ticks\": \"\"}}, \"type\": \"parcoords\"}], \"pie\": [{\"automargin\": true, \"type\": \"pie\"}], \"scatter\": [{\"marker\": {\"colorbar\": {\"outlinewidth\": 0, \"ticks\": \"\"}}, \"type\": \"scatter\"}], \"scatter3d\": [{\"line\": {\"colorbar\": {\"outlinewidth\": 0, \"ticks\": \"\"}}, \"marker\": {\"colorbar\": {\"outlinewidth\": 0, \"ticks\": \"\"}}, \"type\": \"scatter3d\"}], \"scattercarpet\": [{\"marker\": {\"colorbar\": {\"outlinewidth\": 0, \"ticks\": \"\"}}, \"type\": \"scattercarpet\"}], \"scattergeo\": [{\"marker\": {\"colorbar\": {\"outlinewidth\": 0, \"ticks\": \"\"}}, \"type\": \"scattergeo\"}], \"scattergl\": [{\"marker\": {\"colorbar\": {\"outlinewidth\": 0, \"ticks\": \"\"}}, \"type\": \"scattergl\"}], \"scattermapbox\": [{\"marker\": {\"colorbar\": {\"outlinewidth\": 0, \"ticks\": \"\"}}, \"type\": \"scattermapbox\"}], \"scatterpolar\": [{\"marker\": {\"colorbar\": {\"outlinewidth\": 0, \"ticks\": \"\"}}, \"type\": \"scatterpolar\"}], \"scatterpolargl\": [{\"marker\": {\"colorbar\": {\"outlinewidth\": 0, \"ticks\": \"\"}}, \"type\": \"scatterpolargl\"}], \"scatterternary\": [{\"marker\": {\"colorbar\": {\"outlinewidth\": 0, \"ticks\": \"\"}}, \"type\": \"scatterternary\"}], \"surface\": [{\"colorbar\": {\"outlinewidth\": 0, \"ticks\": \"\"}, \"colorscale\": [[0.0, \"#0d0887\"], [0.1111111111111111, \"#46039f\"], [0.2222222222222222, \"#7201a8\"], [0.3333333333333333, \"#9c179e\"], [0.4444444444444444, \"#bd3786\"], [0.5555555555555556, \"#d8576b\"], [0.6666666666666666, \"#ed7953\"], [0.7777777777777778, \"#fb9f3a\"], [0.8888888888888888, \"#fdca26\"], [1.0, \"#f0f921\"]], \"type\": \"surface\"}], \"table\": [{\"cells\": {\"fill\": {\"color\": \"#EBF0F8\"}, \"line\": {\"color\": \"white\"}}, \"header\": {\"fill\": {\"color\": \"#C8D4E3\"}, \"line\": {\"color\": \"white\"}}, \"type\": \"table\"}]}, \"layout\": {\"annotationdefaults\": {\"arrowcolor\": \"#2a3f5f\", \"arrowhead\": 0, \"arrowwidth\": 1}, \"coloraxis\": {\"colorbar\": {\"outlinewidth\": 0, \"ticks\": \"\"}}, \"colorscale\": {\"diverging\": [[0, \"#8e0152\"], [0.1, \"#c51b7d\"], [0.2, \"#de77ae\"], [0.3, \"#f1b6da\"], [0.4, \"#fde0ef\"], [0.5, \"#f7f7f7\"], [0.6, \"#e6f5d0\"], [0.7, \"#b8e186\"], [0.8, \"#7fbc41\"], [0.9, \"#4d9221\"], [1, \"#276419\"]], \"sequential\": [[0.0, \"#0d0887\"], [0.1111111111111111, \"#46039f\"], [0.2222222222222222, \"#7201a8\"], [0.3333333333333333, \"#9c179e\"], [0.4444444444444444, \"#bd3786\"], [0.5555555555555556, \"#d8576b\"], [0.6666666666666666, \"#ed7953\"], [0.7777777777777778, \"#fb9f3a\"], [0.8888888888888888, \"#fdca26\"], [1.0, \"#f0f921\"]], \"sequentialminus\": [[0.0, \"#0d0887\"], [0.1111111111111111, \"#46039f\"], [0.2222222222222222, \"#7201a8\"], [0.3333333333333333, \"#9c179e\"], [0.4444444444444444, \"#bd3786\"], [0.5555555555555556, \"#d8576b\"], [0.6666666666666666, \"#ed7953\"], [0.7777777777777778, \"#fb9f3a\"], [0.8888888888888888, \"#fdca26\"], [1.0, \"#f0f921\"]]}, \"colorway\": [\"#636efa\", \"#EF553B\", \"#00cc96\", \"#ab63fa\", \"#FFA15A\", \"#19d3f3\", \"#FF6692\", \"#B6E880\", \"#FF97FF\", \"#FECB52\"], \"font\": {\"color\": \"#2a3f5f\"}, \"geo\": {\"bgcolor\": \"white\", \"lakecolor\": \"white\", \"landcolor\": \"#E5ECF6\", \"showlakes\": true, \"showland\": true, \"subunitcolor\": \"white\"}, \"hoverlabel\": {\"align\": \"left\"}, \"hovermode\": \"closest\", \"mapbox\": {\"style\": \"light\"}, \"paper_bgcolor\": \"white\", \"plot_bgcolor\": \"#E5ECF6\", \"polar\": {\"angularaxis\": {\"gridcolor\": \"white\", \"linecolor\": \"white\", \"ticks\": \"\"}, \"bgcolor\": \"#E5ECF6\", \"radialaxis\": {\"gridcolor\": \"white\", \"linecolor\": \"white\", \"ticks\": \"\"}}, \"scene\": {\"xaxis\": {\"backgroundcolor\": \"#E5ECF6\", \"gridcolor\": \"white\", \"gridwidth\": 2, \"linecolor\": \"white\", \"showbackground\": true, \"ticks\": \"\", \"zerolinecolor\": \"white\"}, \"yaxis\": {\"backgroundcolor\": \"#E5ECF6\", \"gridcolor\": \"white\", \"gridwidth\": 2, \"linecolor\": \"white\", \"showbackground\": true, \"ticks\": \"\", \"zerolinecolor\": \"white\"}, \"zaxis\": {\"backgroundcolor\": \"#E5ECF6\", \"gridcolor\": \"white\", \"gridwidth\": 2, \"linecolor\": \"white\", \"showbackground\": true, \"ticks\": \"\", \"zerolinecolor\": \"white\"}}, \"shapedefaults\": {\"line\": {\"color\": \"#2a3f5f\"}}, \"ternary\": {\"aaxis\": {\"gridcolor\": \"white\", \"linecolor\": \"white\", \"ticks\": \"\"}, \"baxis\": {\"gridcolor\": \"white\", \"linecolor\": \"white\", \"ticks\": \"\"}, \"bgcolor\": \"#E5ECF6\", \"caxis\": {\"gridcolor\": \"white\", \"linecolor\": \"white\", \"ticks\": \"\"}}, \"title\": {\"x\": 0.05}, \"xaxis\": {\"automargin\": true, \"gridcolor\": \"white\", \"linecolor\": \"white\", \"ticks\": \"\", \"title\": {\"standoff\": 15}, \"zerolinecolor\": \"white\", \"zerolinewidth\": 2}, \"yaxis\": {\"automargin\": true, \"gridcolor\": \"white\", \"linecolor\": \"white\", \"ticks\": \"\", \"title\": {\"standoff\": 15}, \"zerolinecolor\": \"white\", \"zerolinewidth\": 2}}}, \"title\": {\"font\": {\"size\": 20}, \"text\": \"<b>\\uc2dc\\uc98c/\\ud300</b> \\ubcc4 \\uc2b9\\ub960 \\uadf8\\ub798\\ud504\", \"x\": 0.5, \"y\": 0.9}, \"xaxis\": {\"dtick\": 1, \"showticklabels\": true, \"title\": {\"text\": \"\\uc2dc\\uc98c\"}}, \"yaxis\": {\"title\": {\"text\": \"\\uc218\\uce58\"}}},\n",
       "                        {\"responsive\": true}\n",
       "                    ).then(function(){\n",
       "                            \n",
       "var gd = document.getElementById('6727a71f-3b04-4699-a032-dd37cee054bf');\n",
       "var x = new MutationObserver(function (mutations, observer) {{\n",
       "        var display = window.getComputedStyle(gd).display;\n",
       "        if (!display || display === 'none') {{\n",
       "            console.log([gd, 'removed!']);\n",
       "            Plotly.purge(gd);\n",
       "            observer.disconnect();\n",
       "        }}\n",
       "}});\n",
       "\n",
       "// Listen for the removal of the full notebook cells\n",
       "var notebookContainer = gd.closest('#notebook-container');\n",
       "if (notebookContainer) {{\n",
       "    x.observe(notebookContainer, {childList: true});\n",
       "}}\n",
       "\n",
       "// Listen for the clearing of the current output cell\n",
       "var outputEl = gd.closest('.output');\n",
       "if (outputEl) {{\n",
       "    x.observe(outputEl, {childList: true});\n",
       "}}\n",
       "\n",
       "                        })\n",
       "                };\n",
       "                });\n",
       "            </script>\n",
       "        </div>"
      ]
     },
     "metadata": {},
     "output_type": "display_data"
    }
   ],
   "source": [
    "# 시즌/팀 별 승률 그래프 (Line)\n",
    "import plotly.graph_objects as go\n",
    "fig = go.Figure()\n",
    "for i in range(len(tims)):\n",
    "    fig.add_trace(\n",
    "        go.Scatter(\n",
    "        x=tims_bar[i].iloc[:,0], y=tims_bar[i].iloc[:,2], name=tims[i].iloc[0,3], mode='lines+markers'\n",
    "        )\n",
    "    )\n",
    "fig.update_layout(\n",
    "    {\n",
    "        \"title\": {\n",
    "            \"text\": \"<b>시즌/팀</b> 별 승률 그래프\",\n",
    "            \"x\": 0.5,\n",
    "            \"y\": 0.9,\n",
    "            \"font\": {\n",
    "                \"size\": 20\n",
    "            }\n",
    "        },\n",
    "        \"showlegend\": True,\n",
    "        \"xaxis\": {\n",
    "            \"title\": \"시즌\",\n",
    "            \"showticklabels\":True,\n",
    "            \"dtick\":1 \n",
    "            \n",
    "        },\n",
    "        \"yaxis\": {\n",
    "            \"title\": \"수치\"\n",
    "        },\n",
    "\n",
    "    }\n",
    ")\n",
    "\n",
    "fig.show()"
   ]
  },
  {
   "cell_type": "code",
   "execution_count": 95,
   "metadata": {},
   "outputs": [
    {
     "data": {
      "application/vnd.plotly.v1+json": {
       "config": {
        "plotlyServerURL": "https://plotly.com"
       },
       "data": [
        {
         "name": "키움",
         "text": [
          0.5347222222222222,
          0.4791666666666667,
          0.5208333333333334,
          0.5972222222222222,
          0.5757575757575758
         ],
         "textposition": "auto",
         "texttemplate": "%{y:.2f}",
         "type": "bar",
         "x": [
          "2016",
          "2017",
          "2018",
          "2019",
          "2020"
         ],
         "y": [
          0.5347222222222222,
          0.4791666666666667,
          0.5208333333333334,
          0.5972222222222222,
          0.5757575757575758
         ]
        },
        {
         "name": "KT",
         "text": [
          0.3680555555555556,
          0.3472222222222222,
          0.4097222222222222,
          0.4930555555555556,
          0.484375
         ],
         "textposition": "auto",
         "texttemplate": "%{y:.2f}",
         "type": "bar",
         "x": [
          "2016",
          "2017",
          "2018",
          "2019",
          "2020"
         ],
         "y": [
          0.3680555555555556,
          0.3472222222222222,
          0.4097222222222222,
          0.4930555555555556,
          0.484375
         ]
        },
        {
         "name": "NC",
         "text": [
          0.5763888888888888,
          0.5486111111111112,
          0.4027777777777778,
          0.5069444444444444,
          0.6666666666666666
         ],
         "textposition": "auto",
         "texttemplate": "%{y:.2f}",
         "type": "bar",
         "x": [
          "2016",
          "2017",
          "2018",
          "2019",
          "2020"
         ],
         "y": [
          0.5763888888888888,
          0.5486111111111112,
          0.4027777777777778,
          0.5069444444444444,
          0.6666666666666666
         ]
        },
        {
         "name": "LG",
         "text": [
          0.4930555555555556,
          0.4791666666666667,
          0.4722222222222222,
          0.5486111111111112,
          0.53125
         ],
         "textposition": "auto",
         "texttemplate": "%{y:.2f}",
         "type": "bar",
         "x": [
          "2016",
          "2017",
          "2018",
          "2019",
          "2020"
         ],
         "y": [
          0.4930555555555556,
          0.4791666666666667,
          0.4722222222222222,
          0.5486111111111112,
          0.53125
         ]
        },
        {
         "name": "SK",
         "text": [
          0.4791666666666667,
          0.5208333333333334,
          0.5416666666666666,
          0.6111111111111112,
          0.3230769230769231
         ],
         "textposition": "auto",
         "texttemplate": "%{y:.2f}",
         "type": "bar",
         "x": [
          "2016",
          "2017",
          "2018",
          "2019",
          "2020"
         ],
         "y": [
          0.4791666666666667,
          0.5208333333333334,
          0.5416666666666666,
          0.6111111111111112,
          0.3230769230769231
         ]
        },
        {
         "name": "두산",
         "text": [
          0.6458333333333334,
          0.5833333333333334,
          0.6458333333333334,
          0.6111111111111112,
          0.59375
         ],
         "textposition": "auto",
         "texttemplate": "%{y:.2f}",
         "type": "bar",
         "x": [
          "2016",
          "2017",
          "2018",
          "2019",
          "2020"
         ],
         "y": [
          0.6458333333333334,
          0.5833333333333334,
          0.6458333333333334,
          0.6111111111111112,
          0.59375
         ]
        },
        {
         "name": "KIA",
         "text": [
          0.4861111111111111,
          0.6041666666666666,
          0.4861111111111111,
          0.4305555555555556,
          0.532258064516129
         ],
         "textposition": "auto",
         "texttemplate": "%{y:.2f}",
         "type": "bar",
         "x": [
          "2016",
          "2017",
          "2018",
          "2019",
          "2020"
         ],
         "y": [
          0.4861111111111111,
          0.6041666666666666,
          0.4861111111111111,
          0.4305555555555556,
          0.532258064516129
         ]
        },
        {
         "name": "롯데",
         "text": [
          0.4583333333333333,
          0.5555555555555556,
          0.4722222222222222,
          0.3333333333333333,
          0.4838709677419355
         ],
         "textposition": "auto",
         "texttemplate": "%{y:.2f}",
         "type": "bar",
         "x": [
          "2016",
          "2017",
          "2018",
          "2019",
          "2020"
         ],
         "y": [
          0.4583333333333333,
          0.5555555555555556,
          0.4722222222222222,
          0.3333333333333333,
          0.4838709677419355
         ]
        },
        {
         "name": "삼성",
         "text": [
          0.4513888888888889,
          0.3819444444444444,
          0.4722222222222222,
          0.4166666666666667,
          0.5230769230769231
         ],
         "textposition": "auto",
         "texttemplate": "%{y:.2f}",
         "type": "bar",
         "x": [
          "2016",
          "2017",
          "2018",
          "2019",
          "2020"
         ],
         "y": [
          0.4513888888888889,
          0.3819444444444444,
          0.4722222222222222,
          0.4166666666666667,
          0.5230769230769231
         ]
        },
        {
         "name": "한화",
         "text": [
          0.4583333333333333,
          0.4236111111111111,
          0.5347222222222222,
          0.4027777777777778,
          0.26153846153846155
         ],
         "textposition": "auto",
         "texttemplate": "%{y:.2f}",
         "type": "bar",
         "x": [
          "2016",
          "2017",
          "2018",
          "2019",
          "2020"
         ],
         "y": [
          0.4583333333333333,
          0.4236111111111111,
          0.5347222222222222,
          0.4027777777777778,
          0.26153846153846155
         ]
        }
       ],
       "layout": {
        "showlegend": true,
        "template": {
         "data": {
          "bar": [
           {
            "error_x": {
             "color": "#2a3f5f"
            },
            "error_y": {
             "color": "#2a3f5f"
            },
            "marker": {
             "line": {
              "color": "#E5ECF6",
              "width": 0.5
             }
            },
            "type": "bar"
           }
          ],
          "barpolar": [
           {
            "marker": {
             "line": {
              "color": "#E5ECF6",
              "width": 0.5
             }
            },
            "type": "barpolar"
           }
          ],
          "carpet": [
           {
            "aaxis": {
             "endlinecolor": "#2a3f5f",
             "gridcolor": "white",
             "linecolor": "white",
             "minorgridcolor": "white",
             "startlinecolor": "#2a3f5f"
            },
            "baxis": {
             "endlinecolor": "#2a3f5f",
             "gridcolor": "white",
             "linecolor": "white",
             "minorgridcolor": "white",
             "startlinecolor": "#2a3f5f"
            },
            "type": "carpet"
           }
          ],
          "choropleth": [
           {
            "colorbar": {
             "outlinewidth": 0,
             "ticks": ""
            },
            "type": "choropleth"
           }
          ],
          "contour": [
           {
            "colorbar": {
             "outlinewidth": 0,
             "ticks": ""
            },
            "colorscale": [
             [
              0,
              "#0d0887"
             ],
             [
              0.1111111111111111,
              "#46039f"
             ],
             [
              0.2222222222222222,
              "#7201a8"
             ],
             [
              0.3333333333333333,
              "#9c179e"
             ],
             [
              0.4444444444444444,
              "#bd3786"
             ],
             [
              0.5555555555555556,
              "#d8576b"
             ],
             [
              0.6666666666666666,
              "#ed7953"
             ],
             [
              0.7777777777777778,
              "#fb9f3a"
             ],
             [
              0.8888888888888888,
              "#fdca26"
             ],
             [
              1,
              "#f0f921"
             ]
            ],
            "type": "contour"
           }
          ],
          "contourcarpet": [
           {
            "colorbar": {
             "outlinewidth": 0,
             "ticks": ""
            },
            "type": "contourcarpet"
           }
          ],
          "heatmap": [
           {
            "colorbar": {
             "outlinewidth": 0,
             "ticks": ""
            },
            "colorscale": [
             [
              0,
              "#0d0887"
             ],
             [
              0.1111111111111111,
              "#46039f"
             ],
             [
              0.2222222222222222,
              "#7201a8"
             ],
             [
              0.3333333333333333,
              "#9c179e"
             ],
             [
              0.4444444444444444,
              "#bd3786"
             ],
             [
              0.5555555555555556,
              "#d8576b"
             ],
             [
              0.6666666666666666,
              "#ed7953"
             ],
             [
              0.7777777777777778,
              "#fb9f3a"
             ],
             [
              0.8888888888888888,
              "#fdca26"
             ],
             [
              1,
              "#f0f921"
             ]
            ],
            "type": "heatmap"
           }
          ],
          "heatmapgl": [
           {
            "colorbar": {
             "outlinewidth": 0,
             "ticks": ""
            },
            "colorscale": [
             [
              0,
              "#0d0887"
             ],
             [
              0.1111111111111111,
              "#46039f"
             ],
             [
              0.2222222222222222,
              "#7201a8"
             ],
             [
              0.3333333333333333,
              "#9c179e"
             ],
             [
              0.4444444444444444,
              "#bd3786"
             ],
             [
              0.5555555555555556,
              "#d8576b"
             ],
             [
              0.6666666666666666,
              "#ed7953"
             ],
             [
              0.7777777777777778,
              "#fb9f3a"
             ],
             [
              0.8888888888888888,
              "#fdca26"
             ],
             [
              1,
              "#f0f921"
             ]
            ],
            "type": "heatmapgl"
           }
          ],
          "histogram": [
           {
            "marker": {
             "colorbar": {
              "outlinewidth": 0,
              "ticks": ""
             }
            },
            "type": "histogram"
           }
          ],
          "histogram2d": [
           {
            "colorbar": {
             "outlinewidth": 0,
             "ticks": ""
            },
            "colorscale": [
             [
              0,
              "#0d0887"
             ],
             [
              0.1111111111111111,
              "#46039f"
             ],
             [
              0.2222222222222222,
              "#7201a8"
             ],
             [
              0.3333333333333333,
              "#9c179e"
             ],
             [
              0.4444444444444444,
              "#bd3786"
             ],
             [
              0.5555555555555556,
              "#d8576b"
             ],
             [
              0.6666666666666666,
              "#ed7953"
             ],
             [
              0.7777777777777778,
              "#fb9f3a"
             ],
             [
              0.8888888888888888,
              "#fdca26"
             ],
             [
              1,
              "#f0f921"
             ]
            ],
            "type": "histogram2d"
           }
          ],
          "histogram2dcontour": [
           {
            "colorbar": {
             "outlinewidth": 0,
             "ticks": ""
            },
            "colorscale": [
             [
              0,
              "#0d0887"
             ],
             [
              0.1111111111111111,
              "#46039f"
             ],
             [
              0.2222222222222222,
              "#7201a8"
             ],
             [
              0.3333333333333333,
              "#9c179e"
             ],
             [
              0.4444444444444444,
              "#bd3786"
             ],
             [
              0.5555555555555556,
              "#d8576b"
             ],
             [
              0.6666666666666666,
              "#ed7953"
             ],
             [
              0.7777777777777778,
              "#fb9f3a"
             ],
             [
              0.8888888888888888,
              "#fdca26"
             ],
             [
              1,
              "#f0f921"
             ]
            ],
            "type": "histogram2dcontour"
           }
          ],
          "mesh3d": [
           {
            "colorbar": {
             "outlinewidth": 0,
             "ticks": ""
            },
            "type": "mesh3d"
           }
          ],
          "parcoords": [
           {
            "line": {
             "colorbar": {
              "outlinewidth": 0,
              "ticks": ""
             }
            },
            "type": "parcoords"
           }
          ],
          "pie": [
           {
            "automargin": true,
            "type": "pie"
           }
          ],
          "scatter": [
           {
            "marker": {
             "colorbar": {
              "outlinewidth": 0,
              "ticks": ""
             }
            },
            "type": "scatter"
           }
          ],
          "scatter3d": [
           {
            "line": {
             "colorbar": {
              "outlinewidth": 0,
              "ticks": ""
             }
            },
            "marker": {
             "colorbar": {
              "outlinewidth": 0,
              "ticks": ""
             }
            },
            "type": "scatter3d"
           }
          ],
          "scattercarpet": [
           {
            "marker": {
             "colorbar": {
              "outlinewidth": 0,
              "ticks": ""
             }
            },
            "type": "scattercarpet"
           }
          ],
          "scattergeo": [
           {
            "marker": {
             "colorbar": {
              "outlinewidth": 0,
              "ticks": ""
             }
            },
            "type": "scattergeo"
           }
          ],
          "scattergl": [
           {
            "marker": {
             "colorbar": {
              "outlinewidth": 0,
              "ticks": ""
             }
            },
            "type": "scattergl"
           }
          ],
          "scattermapbox": [
           {
            "marker": {
             "colorbar": {
              "outlinewidth": 0,
              "ticks": ""
             }
            },
            "type": "scattermapbox"
           }
          ],
          "scatterpolar": [
           {
            "marker": {
             "colorbar": {
              "outlinewidth": 0,
              "ticks": ""
             }
            },
            "type": "scatterpolar"
           }
          ],
          "scatterpolargl": [
           {
            "marker": {
             "colorbar": {
              "outlinewidth": 0,
              "ticks": ""
             }
            },
            "type": "scatterpolargl"
           }
          ],
          "scatterternary": [
           {
            "marker": {
             "colorbar": {
              "outlinewidth": 0,
              "ticks": ""
             }
            },
            "type": "scatterternary"
           }
          ],
          "surface": [
           {
            "colorbar": {
             "outlinewidth": 0,
             "ticks": ""
            },
            "colorscale": [
             [
              0,
              "#0d0887"
             ],
             [
              0.1111111111111111,
              "#46039f"
             ],
             [
              0.2222222222222222,
              "#7201a8"
             ],
             [
              0.3333333333333333,
              "#9c179e"
             ],
             [
              0.4444444444444444,
              "#bd3786"
             ],
             [
              0.5555555555555556,
              "#d8576b"
             ],
             [
              0.6666666666666666,
              "#ed7953"
             ],
             [
              0.7777777777777778,
              "#fb9f3a"
             ],
             [
              0.8888888888888888,
              "#fdca26"
             ],
             [
              1,
              "#f0f921"
             ]
            ],
            "type": "surface"
           }
          ],
          "table": [
           {
            "cells": {
             "fill": {
              "color": "#EBF0F8"
             },
             "line": {
              "color": "white"
             }
            },
            "header": {
             "fill": {
              "color": "#C8D4E3"
             },
             "line": {
              "color": "white"
             }
            },
            "type": "table"
           }
          ]
         },
         "layout": {
          "annotationdefaults": {
           "arrowcolor": "#2a3f5f",
           "arrowhead": 0,
           "arrowwidth": 1
          },
          "coloraxis": {
           "colorbar": {
            "outlinewidth": 0,
            "ticks": ""
           }
          },
          "colorscale": {
           "diverging": [
            [
             0,
             "#8e0152"
            ],
            [
             0.1,
             "#c51b7d"
            ],
            [
             0.2,
             "#de77ae"
            ],
            [
             0.3,
             "#f1b6da"
            ],
            [
             0.4,
             "#fde0ef"
            ],
            [
             0.5,
             "#f7f7f7"
            ],
            [
             0.6,
             "#e6f5d0"
            ],
            [
             0.7,
             "#b8e186"
            ],
            [
             0.8,
             "#7fbc41"
            ],
            [
             0.9,
             "#4d9221"
            ],
            [
             1,
             "#276419"
            ]
           ],
           "sequential": [
            [
             0,
             "#0d0887"
            ],
            [
             0.1111111111111111,
             "#46039f"
            ],
            [
             0.2222222222222222,
             "#7201a8"
            ],
            [
             0.3333333333333333,
             "#9c179e"
            ],
            [
             0.4444444444444444,
             "#bd3786"
            ],
            [
             0.5555555555555556,
             "#d8576b"
            ],
            [
             0.6666666666666666,
             "#ed7953"
            ],
            [
             0.7777777777777778,
             "#fb9f3a"
            ],
            [
             0.8888888888888888,
             "#fdca26"
            ],
            [
             1,
             "#f0f921"
            ]
           ],
           "sequentialminus": [
            [
             0,
             "#0d0887"
            ],
            [
             0.1111111111111111,
             "#46039f"
            ],
            [
             0.2222222222222222,
             "#7201a8"
            ],
            [
             0.3333333333333333,
             "#9c179e"
            ],
            [
             0.4444444444444444,
             "#bd3786"
            ],
            [
             0.5555555555555556,
             "#d8576b"
            ],
            [
             0.6666666666666666,
             "#ed7953"
            ],
            [
             0.7777777777777778,
             "#fb9f3a"
            ],
            [
             0.8888888888888888,
             "#fdca26"
            ],
            [
             1,
             "#f0f921"
            ]
           ]
          },
          "colorway": [
           "#636efa",
           "#EF553B",
           "#00cc96",
           "#ab63fa",
           "#FFA15A",
           "#19d3f3",
           "#FF6692",
           "#B6E880",
           "#FF97FF",
           "#FECB52"
          ],
          "font": {
           "color": "#2a3f5f"
          },
          "geo": {
           "bgcolor": "white",
           "lakecolor": "white",
           "landcolor": "#E5ECF6",
           "showlakes": true,
           "showland": true,
           "subunitcolor": "white"
          },
          "hoverlabel": {
           "align": "left"
          },
          "hovermode": "closest",
          "mapbox": {
           "style": "light"
          },
          "paper_bgcolor": "white",
          "plot_bgcolor": "#E5ECF6",
          "polar": {
           "angularaxis": {
            "gridcolor": "white",
            "linecolor": "white",
            "ticks": ""
           },
           "bgcolor": "#E5ECF6",
           "radialaxis": {
            "gridcolor": "white",
            "linecolor": "white",
            "ticks": ""
           }
          },
          "scene": {
           "xaxis": {
            "backgroundcolor": "#E5ECF6",
            "gridcolor": "white",
            "gridwidth": 2,
            "linecolor": "white",
            "showbackground": true,
            "ticks": "",
            "zerolinecolor": "white"
           },
           "yaxis": {
            "backgroundcolor": "#E5ECF6",
            "gridcolor": "white",
            "gridwidth": 2,
            "linecolor": "white",
            "showbackground": true,
            "ticks": "",
            "zerolinecolor": "white"
           },
           "zaxis": {
            "backgroundcolor": "#E5ECF6",
            "gridcolor": "white",
            "gridwidth": 2,
            "linecolor": "white",
            "showbackground": true,
            "ticks": "",
            "zerolinecolor": "white"
           }
          },
          "shapedefaults": {
           "line": {
            "color": "#2a3f5f"
           }
          },
          "ternary": {
           "aaxis": {
            "gridcolor": "white",
            "linecolor": "white",
            "ticks": ""
           },
           "baxis": {
            "gridcolor": "white",
            "linecolor": "white",
            "ticks": ""
           },
           "bgcolor": "#E5ECF6",
           "caxis": {
            "gridcolor": "white",
            "linecolor": "white",
            "ticks": ""
           }
          },
          "title": {
           "x": 0.05
          },
          "xaxis": {
           "automargin": true,
           "gridcolor": "white",
           "linecolor": "white",
           "ticks": "",
           "title": {
            "standoff": 15
           },
           "zerolinecolor": "white",
           "zerolinewidth": 2
          },
          "yaxis": {
           "automargin": true,
           "gridcolor": "white",
           "linecolor": "white",
           "ticks": "",
           "title": {
            "standoff": 15
           },
           "zerolinecolor": "white",
           "zerolinewidth": 2
          }
         }
        },
        "title": {
         "font": {
          "size": 20
         },
         "text": "<b>시즌/팀</b> 별 승률 그래프",
         "x": 0.5,
         "y": 0.9
        },
        "xaxis": {
         "dtick": 1,
         "showticklabels": true,
         "title": {
          "text": "시즌"
         }
        },
        "yaxis": {
         "title": {
          "text": "수치"
         }
        }
       }
      },
      "text/html": [
       "<div>\n",
       "        \n",
       "        \n",
       "            <div id=\"bb2462e5-2b9f-4e6e-a244-8da3d1af8f82\" class=\"plotly-graph-div\" style=\"height:525px; width:100%;\"></div>\n",
       "            <script type=\"text/javascript\">\n",
       "                require([\"plotly\"], function(Plotly) {\n",
       "                    window.PLOTLYENV=window.PLOTLYENV || {};\n",
       "                    \n",
       "                if (document.getElementById(\"bb2462e5-2b9f-4e6e-a244-8da3d1af8f82\")) {\n",
       "                    Plotly.newPlot(\n",
       "                        'bb2462e5-2b9f-4e6e-a244-8da3d1af8f82',\n",
       "                        [{\"name\": \"\\ud0a4\\uc6c0\", \"text\": [0.5347222222222222, 0.4791666666666667, 0.5208333333333334, 0.5972222222222222, 0.5757575757575758], \"textposition\": \"auto\", \"texttemplate\": \"%{y:.2f}\", \"type\": \"bar\", \"x\": [\"2016\", \"2017\", \"2018\", \"2019\", \"2020\"], \"y\": [0.5347222222222222, 0.4791666666666667, 0.5208333333333334, 0.5972222222222222, 0.5757575757575758]}, {\"name\": \"KT\", \"text\": [0.3680555555555556, 0.3472222222222222, 0.4097222222222222, 0.4930555555555556, 0.484375], \"textposition\": \"auto\", \"texttemplate\": \"%{y:.2f}\", \"type\": \"bar\", \"x\": [\"2016\", \"2017\", \"2018\", \"2019\", \"2020\"], \"y\": [0.3680555555555556, 0.3472222222222222, 0.4097222222222222, 0.4930555555555556, 0.484375]}, {\"name\": \"NC\", \"text\": [0.5763888888888888, 0.5486111111111112, 0.4027777777777778, 0.5069444444444444, 0.6666666666666666], \"textposition\": \"auto\", \"texttemplate\": \"%{y:.2f}\", \"type\": \"bar\", \"x\": [\"2016\", \"2017\", \"2018\", \"2019\", \"2020\"], \"y\": [0.5763888888888888, 0.5486111111111112, 0.4027777777777778, 0.5069444444444444, 0.6666666666666666]}, {\"name\": \"LG\", \"text\": [0.4930555555555556, 0.4791666666666667, 0.4722222222222222, 0.5486111111111112, 0.53125], \"textposition\": \"auto\", \"texttemplate\": \"%{y:.2f}\", \"type\": \"bar\", \"x\": [\"2016\", \"2017\", \"2018\", \"2019\", \"2020\"], \"y\": [0.4930555555555556, 0.4791666666666667, 0.4722222222222222, 0.5486111111111112, 0.53125]}, {\"name\": \"SK\", \"text\": [0.4791666666666667, 0.5208333333333334, 0.5416666666666666, 0.6111111111111112, 0.3230769230769231], \"textposition\": \"auto\", \"texttemplate\": \"%{y:.2f}\", \"type\": \"bar\", \"x\": [\"2016\", \"2017\", \"2018\", \"2019\", \"2020\"], \"y\": [0.4791666666666667, 0.5208333333333334, 0.5416666666666666, 0.6111111111111112, 0.3230769230769231]}, {\"name\": \"\\ub450\\uc0b0\", \"text\": [0.6458333333333334, 0.5833333333333334, 0.6458333333333334, 0.6111111111111112, 0.59375], \"textposition\": \"auto\", \"texttemplate\": \"%{y:.2f}\", \"type\": \"bar\", \"x\": [\"2016\", \"2017\", \"2018\", \"2019\", \"2020\"], \"y\": [0.6458333333333334, 0.5833333333333334, 0.6458333333333334, 0.6111111111111112, 0.59375]}, {\"name\": \"KIA\", \"text\": [0.4861111111111111, 0.6041666666666666, 0.4861111111111111, 0.4305555555555556, 0.532258064516129], \"textposition\": \"auto\", \"texttemplate\": \"%{y:.2f}\", \"type\": \"bar\", \"x\": [\"2016\", \"2017\", \"2018\", \"2019\", \"2020\"], \"y\": [0.4861111111111111, 0.6041666666666666, 0.4861111111111111, 0.4305555555555556, 0.532258064516129]}, {\"name\": \"\\ub86f\\ub370\", \"text\": [0.4583333333333333, 0.5555555555555556, 0.4722222222222222, 0.3333333333333333, 0.4838709677419355], \"textposition\": \"auto\", \"texttemplate\": \"%{y:.2f}\", \"type\": \"bar\", \"x\": [\"2016\", \"2017\", \"2018\", \"2019\", \"2020\"], \"y\": [0.4583333333333333, 0.5555555555555556, 0.4722222222222222, 0.3333333333333333, 0.4838709677419355]}, {\"name\": \"\\uc0bc\\uc131\", \"text\": [0.4513888888888889, 0.3819444444444444, 0.4722222222222222, 0.4166666666666667, 0.5230769230769231], \"textposition\": \"auto\", \"texttemplate\": \"%{y:.2f}\", \"type\": \"bar\", \"x\": [\"2016\", \"2017\", \"2018\", \"2019\", \"2020\"], \"y\": [0.4513888888888889, 0.3819444444444444, 0.4722222222222222, 0.4166666666666667, 0.5230769230769231]}, {\"name\": \"\\ud55c\\ud654\", \"text\": [0.4583333333333333, 0.4236111111111111, 0.5347222222222222, 0.4027777777777778, 0.26153846153846155], \"textposition\": \"auto\", \"texttemplate\": \"%{y:.2f}\", \"type\": \"bar\", \"x\": [\"2016\", \"2017\", \"2018\", \"2019\", \"2020\"], \"y\": [0.4583333333333333, 0.4236111111111111, 0.5347222222222222, 0.4027777777777778, 0.26153846153846155]}],\n",
       "                        {\"showlegend\": true, \"template\": {\"data\": {\"bar\": [{\"error_x\": {\"color\": \"#2a3f5f\"}, \"error_y\": {\"color\": \"#2a3f5f\"}, \"marker\": {\"line\": {\"color\": \"#E5ECF6\", \"width\": 0.5}}, \"type\": \"bar\"}], \"barpolar\": [{\"marker\": {\"line\": {\"color\": \"#E5ECF6\", \"width\": 0.5}}, \"type\": \"barpolar\"}], \"carpet\": [{\"aaxis\": {\"endlinecolor\": \"#2a3f5f\", \"gridcolor\": \"white\", \"linecolor\": \"white\", \"minorgridcolor\": \"white\", \"startlinecolor\": \"#2a3f5f\"}, \"baxis\": {\"endlinecolor\": \"#2a3f5f\", \"gridcolor\": \"white\", \"linecolor\": \"white\", \"minorgridcolor\": \"white\", \"startlinecolor\": \"#2a3f5f\"}, \"type\": \"carpet\"}], \"choropleth\": [{\"colorbar\": {\"outlinewidth\": 0, \"ticks\": \"\"}, \"type\": \"choropleth\"}], \"contour\": [{\"colorbar\": {\"outlinewidth\": 0, \"ticks\": \"\"}, \"colorscale\": [[0.0, \"#0d0887\"], [0.1111111111111111, \"#46039f\"], [0.2222222222222222, \"#7201a8\"], [0.3333333333333333, \"#9c179e\"], [0.4444444444444444, \"#bd3786\"], [0.5555555555555556, \"#d8576b\"], [0.6666666666666666, \"#ed7953\"], [0.7777777777777778, \"#fb9f3a\"], [0.8888888888888888, \"#fdca26\"], [1.0, \"#f0f921\"]], \"type\": \"contour\"}], \"contourcarpet\": [{\"colorbar\": {\"outlinewidth\": 0, \"ticks\": \"\"}, \"type\": \"contourcarpet\"}], \"heatmap\": [{\"colorbar\": {\"outlinewidth\": 0, \"ticks\": \"\"}, \"colorscale\": [[0.0, \"#0d0887\"], [0.1111111111111111, \"#46039f\"], [0.2222222222222222, \"#7201a8\"], [0.3333333333333333, \"#9c179e\"], [0.4444444444444444, \"#bd3786\"], [0.5555555555555556, \"#d8576b\"], [0.6666666666666666, \"#ed7953\"], [0.7777777777777778, \"#fb9f3a\"], [0.8888888888888888, \"#fdca26\"], [1.0, \"#f0f921\"]], \"type\": \"heatmap\"}], \"heatmapgl\": [{\"colorbar\": {\"outlinewidth\": 0, \"ticks\": \"\"}, \"colorscale\": [[0.0, \"#0d0887\"], [0.1111111111111111, \"#46039f\"], [0.2222222222222222, \"#7201a8\"], [0.3333333333333333, \"#9c179e\"], [0.4444444444444444, \"#bd3786\"], [0.5555555555555556, \"#d8576b\"], [0.6666666666666666, \"#ed7953\"], [0.7777777777777778, \"#fb9f3a\"], [0.8888888888888888, \"#fdca26\"], [1.0, \"#f0f921\"]], \"type\": \"heatmapgl\"}], \"histogram\": [{\"marker\": {\"colorbar\": {\"outlinewidth\": 0, \"ticks\": \"\"}}, \"type\": \"histogram\"}], \"histogram2d\": [{\"colorbar\": {\"outlinewidth\": 0, \"ticks\": \"\"}, \"colorscale\": [[0.0, \"#0d0887\"], [0.1111111111111111, \"#46039f\"], [0.2222222222222222, \"#7201a8\"], [0.3333333333333333, \"#9c179e\"], [0.4444444444444444, \"#bd3786\"], [0.5555555555555556, \"#d8576b\"], [0.6666666666666666, \"#ed7953\"], [0.7777777777777778, \"#fb9f3a\"], [0.8888888888888888, \"#fdca26\"], [1.0, \"#f0f921\"]], \"type\": \"histogram2d\"}], \"histogram2dcontour\": [{\"colorbar\": {\"outlinewidth\": 0, \"ticks\": \"\"}, \"colorscale\": [[0.0, \"#0d0887\"], [0.1111111111111111, \"#46039f\"], [0.2222222222222222, \"#7201a8\"], [0.3333333333333333, \"#9c179e\"], [0.4444444444444444, \"#bd3786\"], [0.5555555555555556, \"#d8576b\"], [0.6666666666666666, \"#ed7953\"], [0.7777777777777778, \"#fb9f3a\"], [0.8888888888888888, \"#fdca26\"], [1.0, \"#f0f921\"]], \"type\": \"histogram2dcontour\"}], \"mesh3d\": [{\"colorbar\": {\"outlinewidth\": 0, \"ticks\": \"\"}, \"type\": \"mesh3d\"}], \"parcoords\": [{\"line\": {\"colorbar\": {\"outlinewidth\": 0, \"ticks\": \"\"}}, \"type\": \"parcoords\"}], \"pie\": [{\"automargin\": true, \"type\": \"pie\"}], \"scatter\": [{\"marker\": {\"colorbar\": {\"outlinewidth\": 0, \"ticks\": \"\"}}, \"type\": \"scatter\"}], \"scatter3d\": [{\"line\": {\"colorbar\": {\"outlinewidth\": 0, \"ticks\": \"\"}}, \"marker\": {\"colorbar\": {\"outlinewidth\": 0, \"ticks\": \"\"}}, \"type\": \"scatter3d\"}], \"scattercarpet\": [{\"marker\": {\"colorbar\": {\"outlinewidth\": 0, \"ticks\": \"\"}}, \"type\": \"scattercarpet\"}], \"scattergeo\": [{\"marker\": {\"colorbar\": {\"outlinewidth\": 0, \"ticks\": \"\"}}, \"type\": \"scattergeo\"}], \"scattergl\": [{\"marker\": {\"colorbar\": {\"outlinewidth\": 0, \"ticks\": \"\"}}, \"type\": \"scattergl\"}], \"scattermapbox\": [{\"marker\": {\"colorbar\": {\"outlinewidth\": 0, \"ticks\": \"\"}}, \"type\": \"scattermapbox\"}], \"scatterpolar\": [{\"marker\": {\"colorbar\": {\"outlinewidth\": 0, \"ticks\": \"\"}}, \"type\": \"scatterpolar\"}], \"scatterpolargl\": [{\"marker\": {\"colorbar\": {\"outlinewidth\": 0, \"ticks\": \"\"}}, \"type\": \"scatterpolargl\"}], \"scatterternary\": [{\"marker\": {\"colorbar\": {\"outlinewidth\": 0, \"ticks\": \"\"}}, \"type\": \"scatterternary\"}], \"surface\": [{\"colorbar\": {\"outlinewidth\": 0, \"ticks\": \"\"}, \"colorscale\": [[0.0, \"#0d0887\"], [0.1111111111111111, \"#46039f\"], [0.2222222222222222, \"#7201a8\"], [0.3333333333333333, \"#9c179e\"], [0.4444444444444444, \"#bd3786\"], [0.5555555555555556, \"#d8576b\"], [0.6666666666666666, \"#ed7953\"], [0.7777777777777778, \"#fb9f3a\"], [0.8888888888888888, \"#fdca26\"], [1.0, \"#f0f921\"]], \"type\": \"surface\"}], \"table\": [{\"cells\": {\"fill\": {\"color\": \"#EBF0F8\"}, \"line\": {\"color\": \"white\"}}, \"header\": {\"fill\": {\"color\": \"#C8D4E3\"}, \"line\": {\"color\": \"white\"}}, \"type\": \"table\"}]}, \"layout\": {\"annotationdefaults\": {\"arrowcolor\": \"#2a3f5f\", \"arrowhead\": 0, \"arrowwidth\": 1}, \"coloraxis\": {\"colorbar\": {\"outlinewidth\": 0, \"ticks\": \"\"}}, \"colorscale\": {\"diverging\": [[0, \"#8e0152\"], [0.1, \"#c51b7d\"], [0.2, \"#de77ae\"], [0.3, \"#f1b6da\"], [0.4, \"#fde0ef\"], [0.5, \"#f7f7f7\"], [0.6, \"#e6f5d0\"], [0.7, \"#b8e186\"], [0.8, \"#7fbc41\"], [0.9, \"#4d9221\"], [1, \"#276419\"]], \"sequential\": [[0.0, \"#0d0887\"], [0.1111111111111111, \"#46039f\"], [0.2222222222222222, \"#7201a8\"], [0.3333333333333333, \"#9c179e\"], [0.4444444444444444, \"#bd3786\"], [0.5555555555555556, \"#d8576b\"], [0.6666666666666666, \"#ed7953\"], [0.7777777777777778, \"#fb9f3a\"], [0.8888888888888888, \"#fdca26\"], [1.0, \"#f0f921\"]], \"sequentialminus\": [[0.0, \"#0d0887\"], [0.1111111111111111, \"#46039f\"], [0.2222222222222222, \"#7201a8\"], [0.3333333333333333, \"#9c179e\"], [0.4444444444444444, \"#bd3786\"], [0.5555555555555556, \"#d8576b\"], [0.6666666666666666, \"#ed7953\"], [0.7777777777777778, \"#fb9f3a\"], [0.8888888888888888, \"#fdca26\"], [1.0, \"#f0f921\"]]}, \"colorway\": [\"#636efa\", \"#EF553B\", \"#00cc96\", \"#ab63fa\", \"#FFA15A\", \"#19d3f3\", \"#FF6692\", \"#B6E880\", \"#FF97FF\", \"#FECB52\"], \"font\": {\"color\": \"#2a3f5f\"}, \"geo\": {\"bgcolor\": \"white\", \"lakecolor\": \"white\", \"landcolor\": \"#E5ECF6\", \"showlakes\": true, \"showland\": true, \"subunitcolor\": \"white\"}, \"hoverlabel\": {\"align\": \"left\"}, \"hovermode\": \"closest\", \"mapbox\": {\"style\": \"light\"}, \"paper_bgcolor\": \"white\", \"plot_bgcolor\": \"#E5ECF6\", \"polar\": {\"angularaxis\": {\"gridcolor\": \"white\", \"linecolor\": \"white\", \"ticks\": \"\"}, \"bgcolor\": \"#E5ECF6\", \"radialaxis\": {\"gridcolor\": \"white\", \"linecolor\": \"white\", \"ticks\": \"\"}}, \"scene\": {\"xaxis\": {\"backgroundcolor\": \"#E5ECF6\", \"gridcolor\": \"white\", \"gridwidth\": 2, \"linecolor\": \"white\", \"showbackground\": true, \"ticks\": \"\", \"zerolinecolor\": \"white\"}, \"yaxis\": {\"backgroundcolor\": \"#E5ECF6\", \"gridcolor\": \"white\", \"gridwidth\": 2, \"linecolor\": \"white\", \"showbackground\": true, \"ticks\": \"\", \"zerolinecolor\": \"white\"}, \"zaxis\": {\"backgroundcolor\": \"#E5ECF6\", \"gridcolor\": \"white\", \"gridwidth\": 2, \"linecolor\": \"white\", \"showbackground\": true, \"ticks\": \"\", \"zerolinecolor\": \"white\"}}, \"shapedefaults\": {\"line\": {\"color\": \"#2a3f5f\"}}, \"ternary\": {\"aaxis\": {\"gridcolor\": \"white\", \"linecolor\": \"white\", \"ticks\": \"\"}, \"baxis\": {\"gridcolor\": \"white\", \"linecolor\": \"white\", \"ticks\": \"\"}, \"bgcolor\": \"#E5ECF6\", \"caxis\": {\"gridcolor\": \"white\", \"linecolor\": \"white\", \"ticks\": \"\"}}, \"title\": {\"x\": 0.05}, \"xaxis\": {\"automargin\": true, \"gridcolor\": \"white\", \"linecolor\": \"white\", \"ticks\": \"\", \"title\": {\"standoff\": 15}, \"zerolinecolor\": \"white\", \"zerolinewidth\": 2}, \"yaxis\": {\"automargin\": true, \"gridcolor\": \"white\", \"linecolor\": \"white\", \"ticks\": \"\", \"title\": {\"standoff\": 15}, \"zerolinecolor\": \"white\", \"zerolinewidth\": 2}}}, \"title\": {\"font\": {\"size\": 20}, \"text\": \"<b>\\uc2dc\\uc98c/\\ud300</b> \\ubcc4 \\uc2b9\\ub960 \\uadf8\\ub798\\ud504\", \"x\": 0.5, \"y\": 0.9}, \"xaxis\": {\"dtick\": 1, \"showticklabels\": true, \"title\": {\"text\": \"\\uc2dc\\uc98c\"}}, \"yaxis\": {\"title\": {\"text\": \"\\uc218\\uce58\"}}},\n",
       "                        {\"responsive\": true}\n",
       "                    ).then(function(){\n",
       "                            \n",
       "var gd = document.getElementById('bb2462e5-2b9f-4e6e-a244-8da3d1af8f82');\n",
       "var x = new MutationObserver(function (mutations, observer) {{\n",
       "        var display = window.getComputedStyle(gd).display;\n",
       "        if (!display || display === 'none') {{\n",
       "            console.log([gd, 'removed!']);\n",
       "            Plotly.purge(gd);\n",
       "            observer.disconnect();\n",
       "        }}\n",
       "}});\n",
       "\n",
       "// Listen for the removal of the full notebook cells\n",
       "var notebookContainer = gd.closest('#notebook-container');\n",
       "if (notebookContainer) {{\n",
       "    x.observe(notebookContainer, {childList: true});\n",
       "}}\n",
       "\n",
       "// Listen for the clearing of the current output cell\n",
       "var outputEl = gd.closest('.output');\n",
       "if (outputEl) {{\n",
       "    x.observe(outputEl, {childList: true});\n",
       "}}\n",
       "\n",
       "                        })\n",
       "                };\n",
       "                });\n",
       "            </script>\n",
       "        </div>"
      ]
     },
     "metadata": {},
     "output_type": "display_data"
    }
   ],
   "source": [
    "# 시즌/팀 별 승률 그래프 (Bar)\n",
    "import plotly.graph_objects as go\n",
    "fig = go.Figure()\n",
    "for i in range(len(tims)):\n",
    "    fig.add_trace(\n",
    "        go.Bar(\n",
    "        x=tims_bar[i].iloc[:,0], y=tims_bar[i].iloc[:,2], name=tims[i].iloc[0,3], text=tims_bar[i].iloc[:,2], \n",
    "            textposition='auto', texttemplate='%{y:.2f}'\n",
    "        )\n",
    "    )\n",
    "fig.update_layout(\n",
    "    {\n",
    "        \"title\": {\n",
    "            \"text\": \"<b>시즌/팀</b> 별 승률 그래프\",\n",
    "            \"x\": 0.5,\n",
    "            \"y\": 0.9,\n",
    "            \"font\": {\n",
    "                \"size\": 20\n",
    "            }\n",
    "        },\n",
    "        \"showlegend\": True,\n",
    "        \"xaxis\": {\n",
    "            \"title\": \"시즌\",\n",
    "            \"showticklabels\":True,\n",
    "            \"dtick\":1 \n",
    "            \n",
    "        },\n",
    "        \"yaxis\": {\n",
    "            \"title\": \"수치\"\n",
    "        },\n",
    "\n",
    "    }\n",
    ")\n",
    "\n",
    "fig.show()"
   ]
  },
  {
   "cell_type": "code",
   "execution_count": 96,
   "metadata": {},
   "outputs": [
    {
     "data": {
      "text/html": [
       "<div>\n",
       "<style scoped>\n",
       "    .dataframe tbody tr th:only-of-type {\n",
       "        vertical-align: middle;\n",
       "    }\n",
       "\n",
       "    .dataframe tbody tr th {\n",
       "        vertical-align: top;\n",
       "    }\n",
       "\n",
       "    .dataframe thead th {\n",
       "        text-align: right;\n",
       "    }\n",
       "</style>\n",
       "<table border=\"1\" class=\"dataframe\">\n",
       "  <thead>\n",
       "    <tr style=\"text-align: right;\">\n",
       "      <th></th>\n",
       "      <th>팀코드</th>\n",
       "      <th>팀명</th>\n",
       "      <th>시즌</th>\n",
       "      <th>연봉</th>\n",
       "    </tr>\n",
       "  </thead>\n",
       "  <tbody>\n",
       "    <tr>\n",
       "      <th>10</th>\n",
       "      <td>KT</td>\n",
       "      <td>KT</td>\n",
       "      <td>2016</td>\n",
       "      <td>11173.846154</td>\n",
       "    </tr>\n",
       "    <tr>\n",
       "      <th>11</th>\n",
       "      <td>KT</td>\n",
       "      <td>KT</td>\n",
       "      <td>2017</td>\n",
       "      <td>9546.268657</td>\n",
       "    </tr>\n",
       "    <tr>\n",
       "      <th>12</th>\n",
       "      <td>KT</td>\n",
       "      <td>KT</td>\n",
       "      <td>2018</td>\n",
       "      <td>12420.000000</td>\n",
       "    </tr>\n",
       "    <tr>\n",
       "      <th>13</th>\n",
       "      <td>KT</td>\n",
       "      <td>KT</td>\n",
       "      <td>2019</td>\n",
       "      <td>11042.187500</td>\n",
       "    </tr>\n",
       "    <tr>\n",
       "      <th>14</th>\n",
       "      <td>KT</td>\n",
       "      <td>KT</td>\n",
       "      <td>2020</td>\n",
       "      <td>11729.687500</td>\n",
       "    </tr>\n",
       "  </tbody>\n",
       "</table>\n",
       "</div>"
      ],
      "text/plain": [
       "   팀코드  팀명    시즌            연봉\n",
       "10  KT  KT  2016  11173.846154\n",
       "11  KT  KT  2017   9546.268657\n",
       "12  KT  KT  2018  12420.000000\n",
       "13  KT  KT  2019  11042.187500\n",
       "14  KT  KT  2020  11729.687500"
      ]
     },
     "execution_count": 96,
     "metadata": {},
     "output_type": "execute_result"
    }
   ],
   "source": [
    "# Line 그래프<mean>를 위한 데이터 가공\n",
    "t_df = p_df.groupby(by=[\"팀코드\",\"팀명\",\"시즌\"])\n",
    "t_df_mean_line = t_df.mean()[[\"연봉\"]]\n",
    "t_df_mean_line = t_df_mean_line.reset_index()\n",
    "#t_df_sum_line = t_df_sum_line.set_index([\"팀코드\"])\n",
    "\n",
    "tims = [0]*10\n",
    "for i in range(10):\n",
    "    tims[i] = t_df_mean_line[t_df_mean_line[\"팀코드\"]==tim_labels[i]]\n",
    "tims[1]\n",
    "\n"
   ]
  },
  {
   "cell_type": "code",
   "execution_count": 97,
   "metadata": {},
   "outputs": [
    {
     "data": {
      "application/vnd.plotly.v1+json": {
       "config": {
        "plotlyServerURL": "https://plotly.com"
       },
       "data": [
        {
         "mode": "lines+markers",
         "name": "키움",
         "type": "scatter",
         "x": [
          2016,
          2017,
          2018,
          2019,
          2020
         ],
         "y": [
          9018.75,
          12907.575757575758,
          15369.49152542373,
          13222.033898305084,
          14760
         ]
        },
        {
         "mode": "lines+markers",
         "name": "KT",
         "type": "scatter",
         "x": [
          2016,
          2017,
          2018,
          2019,
          2020
         ],
         "y": [
          11173.846153846154,
          9546.268656716418,
          12420,
          11042.1875,
          11729.6875
         ]
        },
        {
         "mode": "lines+markers",
         "name": "NC",
         "type": "scatter",
         "x": [
          2016,
          2017,
          2018,
          2019,
          2020
         ],
         "y": [
          13017.910447761195,
          14783.333333333334,
          10625,
          17454.83870967742,
          18982.758620689656
         ]
        },
        {
         "mode": "lines+markers",
         "name": "LG",
         "type": "scatter",
         "x": [
          2016,
          2017,
          2018,
          2019,
          2020
         ],
         "y": [
          14025.757575757576,
          15680,
          18098.4126984127,
          15833.333333333334,
          18178.688524590165
         ]
        },
        {
         "mode": "lines+markers",
         "name": "SK",
         "type": "scatter",
         "x": [
          2016,
          2017,
          2018,
          2019,
          2020
         ],
         "y": [
          14051.470588235294,
          16798.387096774193,
          17692.30769230769,
          18596.969696969696,
          15093.548387096775
         ]
        },
        {
         "mode": "lines+markers",
         "name": "두산",
         "type": "scatter",
         "x": [
          2016,
          2017,
          2018,
          2019,
          2020
         ],
         "y": [
          15013.432835820895,
          18125,
          16895.58823529412,
          17853.030303030304,
          15476.190476190477
         ]
        },
        {
         "mode": "lines+markers",
         "name": "KIA",
         "type": "scatter",
         "x": [
          2016,
          2017,
          2018,
          2019,
          2020
         ],
         "y": [
          15801.492537313432,
          20091.176470588234,
          21858.20895522388,
          16777.14285714286,
          15842.698412698413
         ]
        },
        {
         "mode": "lines+markers",
         "name": "롯데",
         "type": "scatter",
         "x": [
          2016,
          2017,
          2018,
          2019,
          2020
         ],
         "y": [
          15548.57142857143,
          18554.4776119403,
          20712.5,
          21316.567164179105,
          16682.8125
         ]
        },
        {
         "mode": "lines+markers",
         "name": "삼성",
         "type": "scatter",
         "x": [
          2016,
          2017,
          2018,
          2019,
          2020
         ],
         "y": [
          16662.68656716418,
          16512.121212121212,
          16459.090909090908,
          15713.432835820895,
          15653.225806451614
         ]
        },
        {
         "mode": "lines+markers",
         "name": "한화",
         "type": "scatter",
         "x": [
          2016,
          2017,
          2018,
          2019,
          2020
         ],
         "y": [
          19655.405405405407,
          21365.714285714286,
          16545.5223880597,
          13901.515151515152,
          12501.42857142857
         ]
        }
       ],
       "layout": {
        "showlegend": true,
        "template": {
         "data": {
          "bar": [
           {
            "error_x": {
             "color": "#2a3f5f"
            },
            "error_y": {
             "color": "#2a3f5f"
            },
            "marker": {
             "line": {
              "color": "#E5ECF6",
              "width": 0.5
             }
            },
            "type": "bar"
           }
          ],
          "barpolar": [
           {
            "marker": {
             "line": {
              "color": "#E5ECF6",
              "width": 0.5
             }
            },
            "type": "barpolar"
           }
          ],
          "carpet": [
           {
            "aaxis": {
             "endlinecolor": "#2a3f5f",
             "gridcolor": "white",
             "linecolor": "white",
             "minorgridcolor": "white",
             "startlinecolor": "#2a3f5f"
            },
            "baxis": {
             "endlinecolor": "#2a3f5f",
             "gridcolor": "white",
             "linecolor": "white",
             "minorgridcolor": "white",
             "startlinecolor": "#2a3f5f"
            },
            "type": "carpet"
           }
          ],
          "choropleth": [
           {
            "colorbar": {
             "outlinewidth": 0,
             "ticks": ""
            },
            "type": "choropleth"
           }
          ],
          "contour": [
           {
            "colorbar": {
             "outlinewidth": 0,
             "ticks": ""
            },
            "colorscale": [
             [
              0,
              "#0d0887"
             ],
             [
              0.1111111111111111,
              "#46039f"
             ],
             [
              0.2222222222222222,
              "#7201a8"
             ],
             [
              0.3333333333333333,
              "#9c179e"
             ],
             [
              0.4444444444444444,
              "#bd3786"
             ],
             [
              0.5555555555555556,
              "#d8576b"
             ],
             [
              0.6666666666666666,
              "#ed7953"
             ],
             [
              0.7777777777777778,
              "#fb9f3a"
             ],
             [
              0.8888888888888888,
              "#fdca26"
             ],
             [
              1,
              "#f0f921"
             ]
            ],
            "type": "contour"
           }
          ],
          "contourcarpet": [
           {
            "colorbar": {
             "outlinewidth": 0,
             "ticks": ""
            },
            "type": "contourcarpet"
           }
          ],
          "heatmap": [
           {
            "colorbar": {
             "outlinewidth": 0,
             "ticks": ""
            },
            "colorscale": [
             [
              0,
              "#0d0887"
             ],
             [
              0.1111111111111111,
              "#46039f"
             ],
             [
              0.2222222222222222,
              "#7201a8"
             ],
             [
              0.3333333333333333,
              "#9c179e"
             ],
             [
              0.4444444444444444,
              "#bd3786"
             ],
             [
              0.5555555555555556,
              "#d8576b"
             ],
             [
              0.6666666666666666,
              "#ed7953"
             ],
             [
              0.7777777777777778,
              "#fb9f3a"
             ],
             [
              0.8888888888888888,
              "#fdca26"
             ],
             [
              1,
              "#f0f921"
             ]
            ],
            "type": "heatmap"
           }
          ],
          "heatmapgl": [
           {
            "colorbar": {
             "outlinewidth": 0,
             "ticks": ""
            },
            "colorscale": [
             [
              0,
              "#0d0887"
             ],
             [
              0.1111111111111111,
              "#46039f"
             ],
             [
              0.2222222222222222,
              "#7201a8"
             ],
             [
              0.3333333333333333,
              "#9c179e"
             ],
             [
              0.4444444444444444,
              "#bd3786"
             ],
             [
              0.5555555555555556,
              "#d8576b"
             ],
             [
              0.6666666666666666,
              "#ed7953"
             ],
             [
              0.7777777777777778,
              "#fb9f3a"
             ],
             [
              0.8888888888888888,
              "#fdca26"
             ],
             [
              1,
              "#f0f921"
             ]
            ],
            "type": "heatmapgl"
           }
          ],
          "histogram": [
           {
            "marker": {
             "colorbar": {
              "outlinewidth": 0,
              "ticks": ""
             }
            },
            "type": "histogram"
           }
          ],
          "histogram2d": [
           {
            "colorbar": {
             "outlinewidth": 0,
             "ticks": ""
            },
            "colorscale": [
             [
              0,
              "#0d0887"
             ],
             [
              0.1111111111111111,
              "#46039f"
             ],
             [
              0.2222222222222222,
              "#7201a8"
             ],
             [
              0.3333333333333333,
              "#9c179e"
             ],
             [
              0.4444444444444444,
              "#bd3786"
             ],
             [
              0.5555555555555556,
              "#d8576b"
             ],
             [
              0.6666666666666666,
              "#ed7953"
             ],
             [
              0.7777777777777778,
              "#fb9f3a"
             ],
             [
              0.8888888888888888,
              "#fdca26"
             ],
             [
              1,
              "#f0f921"
             ]
            ],
            "type": "histogram2d"
           }
          ],
          "histogram2dcontour": [
           {
            "colorbar": {
             "outlinewidth": 0,
             "ticks": ""
            },
            "colorscale": [
             [
              0,
              "#0d0887"
             ],
             [
              0.1111111111111111,
              "#46039f"
             ],
             [
              0.2222222222222222,
              "#7201a8"
             ],
             [
              0.3333333333333333,
              "#9c179e"
             ],
             [
              0.4444444444444444,
              "#bd3786"
             ],
             [
              0.5555555555555556,
              "#d8576b"
             ],
             [
              0.6666666666666666,
              "#ed7953"
             ],
             [
              0.7777777777777778,
              "#fb9f3a"
             ],
             [
              0.8888888888888888,
              "#fdca26"
             ],
             [
              1,
              "#f0f921"
             ]
            ],
            "type": "histogram2dcontour"
           }
          ],
          "mesh3d": [
           {
            "colorbar": {
             "outlinewidth": 0,
             "ticks": ""
            },
            "type": "mesh3d"
           }
          ],
          "parcoords": [
           {
            "line": {
             "colorbar": {
              "outlinewidth": 0,
              "ticks": ""
             }
            },
            "type": "parcoords"
           }
          ],
          "pie": [
           {
            "automargin": true,
            "type": "pie"
           }
          ],
          "scatter": [
           {
            "marker": {
             "colorbar": {
              "outlinewidth": 0,
              "ticks": ""
             }
            },
            "type": "scatter"
           }
          ],
          "scatter3d": [
           {
            "line": {
             "colorbar": {
              "outlinewidth": 0,
              "ticks": ""
             }
            },
            "marker": {
             "colorbar": {
              "outlinewidth": 0,
              "ticks": ""
             }
            },
            "type": "scatter3d"
           }
          ],
          "scattercarpet": [
           {
            "marker": {
             "colorbar": {
              "outlinewidth": 0,
              "ticks": ""
             }
            },
            "type": "scattercarpet"
           }
          ],
          "scattergeo": [
           {
            "marker": {
             "colorbar": {
              "outlinewidth": 0,
              "ticks": ""
             }
            },
            "type": "scattergeo"
           }
          ],
          "scattergl": [
           {
            "marker": {
             "colorbar": {
              "outlinewidth": 0,
              "ticks": ""
             }
            },
            "type": "scattergl"
           }
          ],
          "scattermapbox": [
           {
            "marker": {
             "colorbar": {
              "outlinewidth": 0,
              "ticks": ""
             }
            },
            "type": "scattermapbox"
           }
          ],
          "scatterpolar": [
           {
            "marker": {
             "colorbar": {
              "outlinewidth": 0,
              "ticks": ""
             }
            },
            "type": "scatterpolar"
           }
          ],
          "scatterpolargl": [
           {
            "marker": {
             "colorbar": {
              "outlinewidth": 0,
              "ticks": ""
             }
            },
            "type": "scatterpolargl"
           }
          ],
          "scatterternary": [
           {
            "marker": {
             "colorbar": {
              "outlinewidth": 0,
              "ticks": ""
             }
            },
            "type": "scatterternary"
           }
          ],
          "surface": [
           {
            "colorbar": {
             "outlinewidth": 0,
             "ticks": ""
            },
            "colorscale": [
             [
              0,
              "#0d0887"
             ],
             [
              0.1111111111111111,
              "#46039f"
             ],
             [
              0.2222222222222222,
              "#7201a8"
             ],
             [
              0.3333333333333333,
              "#9c179e"
             ],
             [
              0.4444444444444444,
              "#bd3786"
             ],
             [
              0.5555555555555556,
              "#d8576b"
             ],
             [
              0.6666666666666666,
              "#ed7953"
             ],
             [
              0.7777777777777778,
              "#fb9f3a"
             ],
             [
              0.8888888888888888,
              "#fdca26"
             ],
             [
              1,
              "#f0f921"
             ]
            ],
            "type": "surface"
           }
          ],
          "table": [
           {
            "cells": {
             "fill": {
              "color": "#EBF0F8"
             },
             "line": {
              "color": "white"
             }
            },
            "header": {
             "fill": {
              "color": "#C8D4E3"
             },
             "line": {
              "color": "white"
             }
            },
            "type": "table"
           }
          ]
         },
         "layout": {
          "annotationdefaults": {
           "arrowcolor": "#2a3f5f",
           "arrowhead": 0,
           "arrowwidth": 1
          },
          "coloraxis": {
           "colorbar": {
            "outlinewidth": 0,
            "ticks": ""
           }
          },
          "colorscale": {
           "diverging": [
            [
             0,
             "#8e0152"
            ],
            [
             0.1,
             "#c51b7d"
            ],
            [
             0.2,
             "#de77ae"
            ],
            [
             0.3,
             "#f1b6da"
            ],
            [
             0.4,
             "#fde0ef"
            ],
            [
             0.5,
             "#f7f7f7"
            ],
            [
             0.6,
             "#e6f5d0"
            ],
            [
             0.7,
             "#b8e186"
            ],
            [
             0.8,
             "#7fbc41"
            ],
            [
             0.9,
             "#4d9221"
            ],
            [
             1,
             "#276419"
            ]
           ],
           "sequential": [
            [
             0,
             "#0d0887"
            ],
            [
             0.1111111111111111,
             "#46039f"
            ],
            [
             0.2222222222222222,
             "#7201a8"
            ],
            [
             0.3333333333333333,
             "#9c179e"
            ],
            [
             0.4444444444444444,
             "#bd3786"
            ],
            [
             0.5555555555555556,
             "#d8576b"
            ],
            [
             0.6666666666666666,
             "#ed7953"
            ],
            [
             0.7777777777777778,
             "#fb9f3a"
            ],
            [
             0.8888888888888888,
             "#fdca26"
            ],
            [
             1,
             "#f0f921"
            ]
           ],
           "sequentialminus": [
            [
             0,
             "#0d0887"
            ],
            [
             0.1111111111111111,
             "#46039f"
            ],
            [
             0.2222222222222222,
             "#7201a8"
            ],
            [
             0.3333333333333333,
             "#9c179e"
            ],
            [
             0.4444444444444444,
             "#bd3786"
            ],
            [
             0.5555555555555556,
             "#d8576b"
            ],
            [
             0.6666666666666666,
             "#ed7953"
            ],
            [
             0.7777777777777778,
             "#fb9f3a"
            ],
            [
             0.8888888888888888,
             "#fdca26"
            ],
            [
             1,
             "#f0f921"
            ]
           ]
          },
          "colorway": [
           "#636efa",
           "#EF553B",
           "#00cc96",
           "#ab63fa",
           "#FFA15A",
           "#19d3f3",
           "#FF6692",
           "#B6E880",
           "#FF97FF",
           "#FECB52"
          ],
          "font": {
           "color": "#2a3f5f"
          },
          "geo": {
           "bgcolor": "white",
           "lakecolor": "white",
           "landcolor": "#E5ECF6",
           "showlakes": true,
           "showland": true,
           "subunitcolor": "white"
          },
          "hoverlabel": {
           "align": "left"
          },
          "hovermode": "closest",
          "mapbox": {
           "style": "light"
          },
          "paper_bgcolor": "white",
          "plot_bgcolor": "#E5ECF6",
          "polar": {
           "angularaxis": {
            "gridcolor": "white",
            "linecolor": "white",
            "ticks": ""
           },
           "bgcolor": "#E5ECF6",
           "radialaxis": {
            "gridcolor": "white",
            "linecolor": "white",
            "ticks": ""
           }
          },
          "scene": {
           "xaxis": {
            "backgroundcolor": "#E5ECF6",
            "gridcolor": "white",
            "gridwidth": 2,
            "linecolor": "white",
            "showbackground": true,
            "ticks": "",
            "zerolinecolor": "white"
           },
           "yaxis": {
            "backgroundcolor": "#E5ECF6",
            "gridcolor": "white",
            "gridwidth": 2,
            "linecolor": "white",
            "showbackground": true,
            "ticks": "",
            "zerolinecolor": "white"
           },
           "zaxis": {
            "backgroundcolor": "#E5ECF6",
            "gridcolor": "white",
            "gridwidth": 2,
            "linecolor": "white",
            "showbackground": true,
            "ticks": "",
            "zerolinecolor": "white"
           }
          },
          "shapedefaults": {
           "line": {
            "color": "#2a3f5f"
           }
          },
          "ternary": {
           "aaxis": {
            "gridcolor": "white",
            "linecolor": "white",
            "ticks": ""
           },
           "baxis": {
            "gridcolor": "white",
            "linecolor": "white",
            "ticks": ""
           },
           "bgcolor": "#E5ECF6",
           "caxis": {
            "gridcolor": "white",
            "linecolor": "white",
            "ticks": ""
           }
          },
          "title": {
           "x": 0.05
          },
          "xaxis": {
           "automargin": true,
           "gridcolor": "white",
           "linecolor": "white",
           "ticks": "",
           "title": {
            "standoff": 15
           },
           "zerolinecolor": "white",
           "zerolinewidth": 2
          },
          "yaxis": {
           "automargin": true,
           "gridcolor": "white",
           "linecolor": "white",
           "ticks": "",
           "title": {
            "standoff": 15
           },
           "zerolinecolor": "white",
           "zerolinewidth": 2
          }
         }
        },
        "title": {
         "font": {
          "size": 20
         },
         "text": "<b>시즌/팀</b> 별 연봉 그래프 <b><mean></b>",
         "x": 0.5,
         "y": 0.9
        },
        "xaxis": {
         "dtick": 1,
         "showticklabels": true,
         "title": {
          "text": "시즌"
         }
        },
        "yaxis": {
         "title": {
          "text": "수치"
         }
        }
       }
      },
      "text/html": [
       "<div>\n",
       "        \n",
       "        \n",
       "            <div id=\"145ccbf9-cf91-49e0-ae4b-20417ec0a17f\" class=\"plotly-graph-div\" style=\"height:525px; width:100%;\"></div>\n",
       "            <script type=\"text/javascript\">\n",
       "                require([\"plotly\"], function(Plotly) {\n",
       "                    window.PLOTLYENV=window.PLOTLYENV || {};\n",
       "                    \n",
       "                if (document.getElementById(\"145ccbf9-cf91-49e0-ae4b-20417ec0a17f\")) {\n",
       "                    Plotly.newPlot(\n",
       "                        '145ccbf9-cf91-49e0-ae4b-20417ec0a17f',\n",
       "                        [{\"mode\": \"lines+markers\", \"name\": \"\\ud0a4\\uc6c0\", \"type\": \"scatter\", \"x\": [2016, 2017, 2018, 2019, 2020], \"y\": [9018.75, 12907.575757575758, 15369.49152542373, 13222.033898305084, 14760.0]}, {\"mode\": \"lines+markers\", \"name\": \"KT\", \"type\": \"scatter\", \"x\": [2016, 2017, 2018, 2019, 2020], \"y\": [11173.846153846154, 9546.268656716418, 12420.0, 11042.1875, 11729.6875]}, {\"mode\": \"lines+markers\", \"name\": \"NC\", \"type\": \"scatter\", \"x\": [2016, 2017, 2018, 2019, 2020], \"y\": [13017.910447761195, 14783.333333333334, 10625.0, 17454.83870967742, 18982.758620689656]}, {\"mode\": \"lines+markers\", \"name\": \"LG\", \"type\": \"scatter\", \"x\": [2016, 2017, 2018, 2019, 2020], \"y\": [14025.757575757576, 15680.0, 18098.4126984127, 15833.333333333334, 18178.688524590165]}, {\"mode\": \"lines+markers\", \"name\": \"SK\", \"type\": \"scatter\", \"x\": [2016, 2017, 2018, 2019, 2020], \"y\": [14051.470588235294, 16798.387096774193, 17692.30769230769, 18596.969696969696, 15093.548387096775]}, {\"mode\": \"lines+markers\", \"name\": \"\\ub450\\uc0b0\", \"type\": \"scatter\", \"x\": [2016, 2017, 2018, 2019, 2020], \"y\": [15013.432835820895, 18125.0, 16895.58823529412, 17853.030303030304, 15476.190476190477]}, {\"mode\": \"lines+markers\", \"name\": \"KIA\", \"type\": \"scatter\", \"x\": [2016, 2017, 2018, 2019, 2020], \"y\": [15801.492537313432, 20091.176470588234, 21858.20895522388, 16777.14285714286, 15842.698412698413]}, {\"mode\": \"lines+markers\", \"name\": \"\\ub86f\\ub370\", \"type\": \"scatter\", \"x\": [2016, 2017, 2018, 2019, 2020], \"y\": [15548.57142857143, 18554.4776119403, 20712.5, 21316.567164179105, 16682.8125]}, {\"mode\": \"lines+markers\", \"name\": \"\\uc0bc\\uc131\", \"type\": \"scatter\", \"x\": [2016, 2017, 2018, 2019, 2020], \"y\": [16662.68656716418, 16512.121212121212, 16459.090909090908, 15713.432835820895, 15653.225806451614]}, {\"mode\": \"lines+markers\", \"name\": \"\\ud55c\\ud654\", \"type\": \"scatter\", \"x\": [2016, 2017, 2018, 2019, 2020], \"y\": [19655.405405405407, 21365.714285714286, 16545.5223880597, 13901.515151515152, 12501.42857142857]}],\n",
       "                        {\"showlegend\": true, \"template\": {\"data\": {\"bar\": [{\"error_x\": {\"color\": \"#2a3f5f\"}, \"error_y\": {\"color\": \"#2a3f5f\"}, \"marker\": {\"line\": {\"color\": \"#E5ECF6\", \"width\": 0.5}}, \"type\": \"bar\"}], \"barpolar\": [{\"marker\": {\"line\": {\"color\": \"#E5ECF6\", \"width\": 0.5}}, \"type\": \"barpolar\"}], \"carpet\": [{\"aaxis\": {\"endlinecolor\": \"#2a3f5f\", \"gridcolor\": \"white\", \"linecolor\": \"white\", \"minorgridcolor\": \"white\", \"startlinecolor\": \"#2a3f5f\"}, \"baxis\": {\"endlinecolor\": \"#2a3f5f\", \"gridcolor\": \"white\", \"linecolor\": \"white\", \"minorgridcolor\": \"white\", \"startlinecolor\": \"#2a3f5f\"}, \"type\": \"carpet\"}], \"choropleth\": [{\"colorbar\": {\"outlinewidth\": 0, \"ticks\": \"\"}, \"type\": \"choropleth\"}], \"contour\": [{\"colorbar\": {\"outlinewidth\": 0, \"ticks\": \"\"}, \"colorscale\": [[0.0, \"#0d0887\"], [0.1111111111111111, \"#46039f\"], [0.2222222222222222, \"#7201a8\"], [0.3333333333333333, \"#9c179e\"], [0.4444444444444444, \"#bd3786\"], [0.5555555555555556, \"#d8576b\"], [0.6666666666666666, \"#ed7953\"], [0.7777777777777778, \"#fb9f3a\"], [0.8888888888888888, \"#fdca26\"], [1.0, \"#f0f921\"]], \"type\": \"contour\"}], \"contourcarpet\": [{\"colorbar\": {\"outlinewidth\": 0, \"ticks\": \"\"}, \"type\": \"contourcarpet\"}], \"heatmap\": [{\"colorbar\": {\"outlinewidth\": 0, \"ticks\": \"\"}, \"colorscale\": [[0.0, \"#0d0887\"], [0.1111111111111111, \"#46039f\"], [0.2222222222222222, \"#7201a8\"], [0.3333333333333333, \"#9c179e\"], [0.4444444444444444, \"#bd3786\"], [0.5555555555555556, \"#d8576b\"], [0.6666666666666666, \"#ed7953\"], [0.7777777777777778, \"#fb9f3a\"], [0.8888888888888888, \"#fdca26\"], [1.0, \"#f0f921\"]], \"type\": \"heatmap\"}], \"heatmapgl\": [{\"colorbar\": {\"outlinewidth\": 0, \"ticks\": \"\"}, \"colorscale\": [[0.0, \"#0d0887\"], [0.1111111111111111, \"#46039f\"], [0.2222222222222222, \"#7201a8\"], [0.3333333333333333, \"#9c179e\"], [0.4444444444444444, \"#bd3786\"], [0.5555555555555556, \"#d8576b\"], [0.6666666666666666, \"#ed7953\"], [0.7777777777777778, \"#fb9f3a\"], [0.8888888888888888, \"#fdca26\"], [1.0, \"#f0f921\"]], \"type\": \"heatmapgl\"}], \"histogram\": [{\"marker\": {\"colorbar\": {\"outlinewidth\": 0, \"ticks\": \"\"}}, \"type\": \"histogram\"}], \"histogram2d\": [{\"colorbar\": {\"outlinewidth\": 0, \"ticks\": \"\"}, \"colorscale\": [[0.0, \"#0d0887\"], [0.1111111111111111, \"#46039f\"], [0.2222222222222222, \"#7201a8\"], [0.3333333333333333, \"#9c179e\"], [0.4444444444444444, \"#bd3786\"], [0.5555555555555556, \"#d8576b\"], [0.6666666666666666, \"#ed7953\"], [0.7777777777777778, \"#fb9f3a\"], [0.8888888888888888, \"#fdca26\"], [1.0, \"#f0f921\"]], \"type\": \"histogram2d\"}], \"histogram2dcontour\": [{\"colorbar\": {\"outlinewidth\": 0, \"ticks\": \"\"}, \"colorscale\": [[0.0, \"#0d0887\"], [0.1111111111111111, \"#46039f\"], [0.2222222222222222, \"#7201a8\"], [0.3333333333333333, \"#9c179e\"], [0.4444444444444444, \"#bd3786\"], [0.5555555555555556, \"#d8576b\"], [0.6666666666666666, \"#ed7953\"], [0.7777777777777778, \"#fb9f3a\"], [0.8888888888888888, \"#fdca26\"], [1.0, \"#f0f921\"]], \"type\": \"histogram2dcontour\"}], \"mesh3d\": [{\"colorbar\": {\"outlinewidth\": 0, \"ticks\": \"\"}, \"type\": \"mesh3d\"}], \"parcoords\": [{\"line\": {\"colorbar\": {\"outlinewidth\": 0, \"ticks\": \"\"}}, \"type\": \"parcoords\"}], \"pie\": [{\"automargin\": true, \"type\": \"pie\"}], \"scatter\": [{\"marker\": {\"colorbar\": {\"outlinewidth\": 0, \"ticks\": \"\"}}, \"type\": \"scatter\"}], \"scatter3d\": [{\"line\": {\"colorbar\": {\"outlinewidth\": 0, \"ticks\": \"\"}}, \"marker\": {\"colorbar\": {\"outlinewidth\": 0, \"ticks\": \"\"}}, \"type\": \"scatter3d\"}], \"scattercarpet\": [{\"marker\": {\"colorbar\": {\"outlinewidth\": 0, \"ticks\": \"\"}}, \"type\": \"scattercarpet\"}], \"scattergeo\": [{\"marker\": {\"colorbar\": {\"outlinewidth\": 0, \"ticks\": \"\"}}, \"type\": \"scattergeo\"}], \"scattergl\": [{\"marker\": {\"colorbar\": {\"outlinewidth\": 0, \"ticks\": \"\"}}, \"type\": \"scattergl\"}], \"scattermapbox\": [{\"marker\": {\"colorbar\": {\"outlinewidth\": 0, \"ticks\": \"\"}}, \"type\": \"scattermapbox\"}], \"scatterpolar\": [{\"marker\": {\"colorbar\": {\"outlinewidth\": 0, \"ticks\": \"\"}}, \"type\": \"scatterpolar\"}], \"scatterpolargl\": [{\"marker\": {\"colorbar\": {\"outlinewidth\": 0, \"ticks\": \"\"}}, \"type\": \"scatterpolargl\"}], \"scatterternary\": [{\"marker\": {\"colorbar\": {\"outlinewidth\": 0, \"ticks\": \"\"}}, \"type\": \"scatterternary\"}], \"surface\": [{\"colorbar\": {\"outlinewidth\": 0, \"ticks\": \"\"}, \"colorscale\": [[0.0, \"#0d0887\"], [0.1111111111111111, \"#46039f\"], [0.2222222222222222, \"#7201a8\"], [0.3333333333333333, \"#9c179e\"], [0.4444444444444444, \"#bd3786\"], [0.5555555555555556, \"#d8576b\"], [0.6666666666666666, \"#ed7953\"], [0.7777777777777778, \"#fb9f3a\"], [0.8888888888888888, \"#fdca26\"], [1.0, \"#f0f921\"]], \"type\": \"surface\"}], \"table\": [{\"cells\": {\"fill\": {\"color\": \"#EBF0F8\"}, \"line\": {\"color\": \"white\"}}, \"header\": {\"fill\": {\"color\": \"#C8D4E3\"}, \"line\": {\"color\": \"white\"}}, \"type\": \"table\"}]}, \"layout\": {\"annotationdefaults\": {\"arrowcolor\": \"#2a3f5f\", \"arrowhead\": 0, \"arrowwidth\": 1}, \"coloraxis\": {\"colorbar\": {\"outlinewidth\": 0, \"ticks\": \"\"}}, \"colorscale\": {\"diverging\": [[0, \"#8e0152\"], [0.1, \"#c51b7d\"], [0.2, \"#de77ae\"], [0.3, \"#f1b6da\"], [0.4, \"#fde0ef\"], [0.5, \"#f7f7f7\"], [0.6, \"#e6f5d0\"], [0.7, \"#b8e186\"], [0.8, \"#7fbc41\"], [0.9, \"#4d9221\"], [1, \"#276419\"]], \"sequential\": [[0.0, \"#0d0887\"], [0.1111111111111111, \"#46039f\"], [0.2222222222222222, \"#7201a8\"], [0.3333333333333333, \"#9c179e\"], [0.4444444444444444, \"#bd3786\"], [0.5555555555555556, \"#d8576b\"], [0.6666666666666666, \"#ed7953\"], [0.7777777777777778, \"#fb9f3a\"], [0.8888888888888888, \"#fdca26\"], [1.0, \"#f0f921\"]], \"sequentialminus\": [[0.0, \"#0d0887\"], [0.1111111111111111, \"#46039f\"], [0.2222222222222222, \"#7201a8\"], [0.3333333333333333, \"#9c179e\"], [0.4444444444444444, \"#bd3786\"], [0.5555555555555556, \"#d8576b\"], [0.6666666666666666, \"#ed7953\"], [0.7777777777777778, \"#fb9f3a\"], [0.8888888888888888, \"#fdca26\"], [1.0, \"#f0f921\"]]}, \"colorway\": [\"#636efa\", \"#EF553B\", \"#00cc96\", \"#ab63fa\", \"#FFA15A\", \"#19d3f3\", \"#FF6692\", \"#B6E880\", \"#FF97FF\", \"#FECB52\"], \"font\": {\"color\": \"#2a3f5f\"}, \"geo\": {\"bgcolor\": \"white\", \"lakecolor\": \"white\", \"landcolor\": \"#E5ECF6\", \"showlakes\": true, \"showland\": true, \"subunitcolor\": \"white\"}, \"hoverlabel\": {\"align\": \"left\"}, \"hovermode\": \"closest\", \"mapbox\": {\"style\": \"light\"}, \"paper_bgcolor\": \"white\", \"plot_bgcolor\": \"#E5ECF6\", \"polar\": {\"angularaxis\": {\"gridcolor\": \"white\", \"linecolor\": \"white\", \"ticks\": \"\"}, \"bgcolor\": \"#E5ECF6\", \"radialaxis\": {\"gridcolor\": \"white\", \"linecolor\": \"white\", \"ticks\": \"\"}}, \"scene\": {\"xaxis\": {\"backgroundcolor\": \"#E5ECF6\", \"gridcolor\": \"white\", \"gridwidth\": 2, \"linecolor\": \"white\", \"showbackground\": true, \"ticks\": \"\", \"zerolinecolor\": \"white\"}, \"yaxis\": {\"backgroundcolor\": \"#E5ECF6\", \"gridcolor\": \"white\", \"gridwidth\": 2, \"linecolor\": \"white\", \"showbackground\": true, \"ticks\": \"\", \"zerolinecolor\": \"white\"}, \"zaxis\": {\"backgroundcolor\": \"#E5ECF6\", \"gridcolor\": \"white\", \"gridwidth\": 2, \"linecolor\": \"white\", \"showbackground\": true, \"ticks\": \"\", \"zerolinecolor\": \"white\"}}, \"shapedefaults\": {\"line\": {\"color\": \"#2a3f5f\"}}, \"ternary\": {\"aaxis\": {\"gridcolor\": \"white\", \"linecolor\": \"white\", \"ticks\": \"\"}, \"baxis\": {\"gridcolor\": \"white\", \"linecolor\": \"white\", \"ticks\": \"\"}, \"bgcolor\": \"#E5ECF6\", \"caxis\": {\"gridcolor\": \"white\", \"linecolor\": \"white\", \"ticks\": \"\"}}, \"title\": {\"x\": 0.05}, \"xaxis\": {\"automargin\": true, \"gridcolor\": \"white\", \"linecolor\": \"white\", \"ticks\": \"\", \"title\": {\"standoff\": 15}, \"zerolinecolor\": \"white\", \"zerolinewidth\": 2}, \"yaxis\": {\"automargin\": true, \"gridcolor\": \"white\", \"linecolor\": \"white\", \"ticks\": \"\", \"title\": {\"standoff\": 15}, \"zerolinecolor\": \"white\", \"zerolinewidth\": 2}}}, \"title\": {\"font\": {\"size\": 20}, \"text\": \"<b>\\uc2dc\\uc98c/\\ud300</b> \\ubcc4 \\uc5f0\\ubd09 \\uadf8\\ub798\\ud504 <b><mean></b>\", \"x\": 0.5, \"y\": 0.9}, \"xaxis\": {\"dtick\": 1, \"showticklabels\": true, \"title\": {\"text\": \"\\uc2dc\\uc98c\"}}, \"yaxis\": {\"title\": {\"text\": \"\\uc218\\uce58\"}}},\n",
       "                        {\"responsive\": true}\n",
       "                    ).then(function(){\n",
       "                            \n",
       "var gd = document.getElementById('145ccbf9-cf91-49e0-ae4b-20417ec0a17f');\n",
       "var x = new MutationObserver(function (mutations, observer) {{\n",
       "        var display = window.getComputedStyle(gd).display;\n",
       "        if (!display || display === 'none') {{\n",
       "            console.log([gd, 'removed!']);\n",
       "            Plotly.purge(gd);\n",
       "            observer.disconnect();\n",
       "        }}\n",
       "}});\n",
       "\n",
       "// Listen for the removal of the full notebook cells\n",
       "var notebookContainer = gd.closest('#notebook-container');\n",
       "if (notebookContainer) {{\n",
       "    x.observe(notebookContainer, {childList: true});\n",
       "}}\n",
       "\n",
       "// Listen for the clearing of the current output cell\n",
       "var outputEl = gd.closest('.output');\n",
       "if (outputEl) {{\n",
       "    x.observe(outputEl, {childList: true});\n",
       "}}\n",
       "\n",
       "                        })\n",
       "                };\n",
       "                });\n",
       "            </script>\n",
       "        </div>"
      ]
     },
     "metadata": {},
     "output_type": "display_data"
    }
   ],
   "source": [
    "# 시즌/팀 별 연봉 그래프<mean> (Line)\n",
    "import plotly.graph_objects as go\n",
    "fig = go.Figure()\n",
    "for i in range(len(tims)):\n",
    "    fig.add_trace(go.Scatter(x=tims[i].iloc[:,2], y=tims[i].iloc[:,3],\n",
    "                             mode='lines+markers',\n",
    "                             name=tims[i].iloc[0,1]))\n",
    "fig.update_layout(\n",
    "    {\n",
    "        \"title\": {\n",
    "            \"text\": \"<b>시즌/팀</b> 별 연봉 그래프 <b><mean></b>\",\n",
    "            \"x\": 0.5,\n",
    "            \"y\": 0.9,\n",
    "            \"font\": {\n",
    "                \"size\": 20\n",
    "            }\n",
    "        },\n",
    "        \"showlegend\": True,\n",
    "        \"xaxis\": {\n",
    "            \"title\": \"시즌\",\n",
    "            \"showticklabels\":True,\n",
    "            \"dtick\":1 \n",
    "            \n",
    "        },\n",
    "        \"yaxis\": {\n",
    "            \"title\": \"수치\"\n",
    "        },\n",
    "\n",
    "    }\n",
    ")\n",
    "\n",
    "fig.show()"
   ]
  },
  {
   "cell_type": "code",
   "execution_count": 30,
   "metadata": {},
   "outputs": [
    {
     "data": {
      "text/html": [
       "<div>\n",
       "<style scoped>\n",
       "    .dataframe tbody tr th:only-of-type {\n",
       "        vertical-align: middle;\n",
       "    }\n",
       "\n",
       "    .dataframe tbody tr th {\n",
       "        vertical-align: top;\n",
       "    }\n",
       "\n",
       "    .dataframe thead th {\n",
       "        text-align: right;\n",
       "    }\n",
       "</style>\n",
       "<table border=\"1\" class=\"dataframe\">\n",
       "  <thead>\n",
       "    <tr style=\"text-align: right;\">\n",
       "      <th></th>\n",
       "      <th>팀코드</th>\n",
       "      <th>팀명</th>\n",
       "      <th>시즌</th>\n",
       "      <th>연봉</th>\n",
       "    </tr>\n",
       "  </thead>\n",
       "  <tbody>\n",
       "    <tr>\n",
       "      <th>0</th>\n",
       "      <td>HH</td>\n",
       "      <td>한화</td>\n",
       "      <td>2016</td>\n",
       "      <td>19655.405405</td>\n",
       "    </tr>\n",
       "    <tr>\n",
       "      <th>1</th>\n",
       "      <td>HH</td>\n",
       "      <td>한화</td>\n",
       "      <td>2017</td>\n",
       "      <td>21365.714286</td>\n",
       "    </tr>\n",
       "    <tr>\n",
       "      <th>2</th>\n",
       "      <td>HH</td>\n",
       "      <td>한화</td>\n",
       "      <td>2018</td>\n",
       "      <td>16545.522388</td>\n",
       "    </tr>\n",
       "    <tr>\n",
       "      <th>3</th>\n",
       "      <td>HH</td>\n",
       "      <td>한화</td>\n",
       "      <td>2019</td>\n",
       "      <td>13901.515152</td>\n",
       "    </tr>\n",
       "    <tr>\n",
       "      <th>4</th>\n",
       "      <td>HH</td>\n",
       "      <td>한화</td>\n",
       "      <td>2020</td>\n",
       "      <td>12501.428571</td>\n",
       "    </tr>\n",
       "    <tr>\n",
       "      <th>5</th>\n",
       "      <td>HT</td>\n",
       "      <td>KIA</td>\n",
       "      <td>2016</td>\n",
       "      <td>15801.492537</td>\n",
       "    </tr>\n",
       "    <tr>\n",
       "      <th>6</th>\n",
       "      <td>HT</td>\n",
       "      <td>KIA</td>\n",
       "      <td>2017</td>\n",
       "      <td>20091.176471</td>\n",
       "    </tr>\n",
       "    <tr>\n",
       "      <th>7</th>\n",
       "      <td>HT</td>\n",
       "      <td>KIA</td>\n",
       "      <td>2018</td>\n",
       "      <td>21858.208955</td>\n",
       "    </tr>\n",
       "    <tr>\n",
       "      <th>8</th>\n",
       "      <td>HT</td>\n",
       "      <td>KIA</td>\n",
       "      <td>2019</td>\n",
       "      <td>16777.142857</td>\n",
       "    </tr>\n",
       "    <tr>\n",
       "      <th>9</th>\n",
       "      <td>HT</td>\n",
       "      <td>KIA</td>\n",
       "      <td>2020</td>\n",
       "      <td>15842.698413</td>\n",
       "    </tr>\n",
       "    <tr>\n",
       "      <th>10</th>\n",
       "      <td>KT</td>\n",
       "      <td>KT</td>\n",
       "      <td>2016</td>\n",
       "      <td>11173.846154</td>\n",
       "    </tr>\n",
       "    <tr>\n",
       "      <th>11</th>\n",
       "      <td>KT</td>\n",
       "      <td>KT</td>\n",
       "      <td>2017</td>\n",
       "      <td>9546.268657</td>\n",
       "    </tr>\n",
       "    <tr>\n",
       "      <th>12</th>\n",
       "      <td>KT</td>\n",
       "      <td>KT</td>\n",
       "      <td>2018</td>\n",
       "      <td>12420.000000</td>\n",
       "    </tr>\n",
       "    <tr>\n",
       "      <th>13</th>\n",
       "      <td>KT</td>\n",
       "      <td>KT</td>\n",
       "      <td>2019</td>\n",
       "      <td>11042.187500</td>\n",
       "    </tr>\n",
       "    <tr>\n",
       "      <th>14</th>\n",
       "      <td>KT</td>\n",
       "      <td>KT</td>\n",
       "      <td>2020</td>\n",
       "      <td>11729.687500</td>\n",
       "    </tr>\n",
       "    <tr>\n",
       "      <th>15</th>\n",
       "      <td>LG</td>\n",
       "      <td>LG</td>\n",
       "      <td>2016</td>\n",
       "      <td>14025.757576</td>\n",
       "    </tr>\n",
       "    <tr>\n",
       "      <th>16</th>\n",
       "      <td>LG</td>\n",
       "      <td>LG</td>\n",
       "      <td>2017</td>\n",
       "      <td>15680.000000</td>\n",
       "    </tr>\n",
       "    <tr>\n",
       "      <th>17</th>\n",
       "      <td>LG</td>\n",
       "      <td>LG</td>\n",
       "      <td>2018</td>\n",
       "      <td>18098.412698</td>\n",
       "    </tr>\n",
       "    <tr>\n",
       "      <th>18</th>\n",
       "      <td>LG</td>\n",
       "      <td>LG</td>\n",
       "      <td>2019</td>\n",
       "      <td>15833.333333</td>\n",
       "    </tr>\n",
       "    <tr>\n",
       "      <th>19</th>\n",
       "      <td>LG</td>\n",
       "      <td>LG</td>\n",
       "      <td>2020</td>\n",
       "      <td>18178.688525</td>\n",
       "    </tr>\n",
       "    <tr>\n",
       "      <th>20</th>\n",
       "      <td>LT</td>\n",
       "      <td>롯데</td>\n",
       "      <td>2016</td>\n",
       "      <td>15548.571429</td>\n",
       "    </tr>\n",
       "    <tr>\n",
       "      <th>21</th>\n",
       "      <td>LT</td>\n",
       "      <td>롯데</td>\n",
       "      <td>2017</td>\n",
       "      <td>18554.477612</td>\n",
       "    </tr>\n",
       "    <tr>\n",
       "      <th>22</th>\n",
       "      <td>LT</td>\n",
       "      <td>롯데</td>\n",
       "      <td>2018</td>\n",
       "      <td>20712.500000</td>\n",
       "    </tr>\n",
       "    <tr>\n",
       "      <th>23</th>\n",
       "      <td>LT</td>\n",
       "      <td>롯데</td>\n",
       "      <td>2019</td>\n",
       "      <td>21316.567164</td>\n",
       "    </tr>\n",
       "    <tr>\n",
       "      <th>24</th>\n",
       "      <td>LT</td>\n",
       "      <td>롯데</td>\n",
       "      <td>2020</td>\n",
       "      <td>16682.812500</td>\n",
       "    </tr>\n",
       "    <tr>\n",
       "      <th>25</th>\n",
       "      <td>NC</td>\n",
       "      <td>NC</td>\n",
       "      <td>2016</td>\n",
       "      <td>13017.910448</td>\n",
       "    </tr>\n",
       "    <tr>\n",
       "      <th>26</th>\n",
       "      <td>NC</td>\n",
       "      <td>NC</td>\n",
       "      <td>2017</td>\n",
       "      <td>14783.333333</td>\n",
       "    </tr>\n",
       "    <tr>\n",
       "      <th>27</th>\n",
       "      <td>NC</td>\n",
       "      <td>NC</td>\n",
       "      <td>2018</td>\n",
       "      <td>10625.000000</td>\n",
       "    </tr>\n",
       "    <tr>\n",
       "      <th>28</th>\n",
       "      <td>NC</td>\n",
       "      <td>NC</td>\n",
       "      <td>2019</td>\n",
       "      <td>17454.838710</td>\n",
       "    </tr>\n",
       "    <tr>\n",
       "      <th>29</th>\n",
       "      <td>NC</td>\n",
       "      <td>NC</td>\n",
       "      <td>2020</td>\n",
       "      <td>18982.758621</td>\n",
       "    </tr>\n",
       "    <tr>\n",
       "      <th>30</th>\n",
       "      <td>OB</td>\n",
       "      <td>두산</td>\n",
       "      <td>2016</td>\n",
       "      <td>15013.432836</td>\n",
       "    </tr>\n",
       "    <tr>\n",
       "      <th>31</th>\n",
       "      <td>OB</td>\n",
       "      <td>두산</td>\n",
       "      <td>2017</td>\n",
       "      <td>18125.000000</td>\n",
       "    </tr>\n",
       "    <tr>\n",
       "      <th>32</th>\n",
       "      <td>OB</td>\n",
       "      <td>두산</td>\n",
       "      <td>2018</td>\n",
       "      <td>16895.588235</td>\n",
       "    </tr>\n",
       "    <tr>\n",
       "      <th>33</th>\n",
       "      <td>OB</td>\n",
       "      <td>두산</td>\n",
       "      <td>2019</td>\n",
       "      <td>17853.030303</td>\n",
       "    </tr>\n",
       "    <tr>\n",
       "      <th>34</th>\n",
       "      <td>OB</td>\n",
       "      <td>두산</td>\n",
       "      <td>2020</td>\n",
       "      <td>15476.190476</td>\n",
       "    </tr>\n",
       "    <tr>\n",
       "      <th>35</th>\n",
       "      <td>SK</td>\n",
       "      <td>SK</td>\n",
       "      <td>2016</td>\n",
       "      <td>14051.470588</td>\n",
       "    </tr>\n",
       "    <tr>\n",
       "      <th>36</th>\n",
       "      <td>SK</td>\n",
       "      <td>SK</td>\n",
       "      <td>2017</td>\n",
       "      <td>16798.387097</td>\n",
       "    </tr>\n",
       "    <tr>\n",
       "      <th>37</th>\n",
       "      <td>SK</td>\n",
       "      <td>SK</td>\n",
       "      <td>2018</td>\n",
       "      <td>17692.307692</td>\n",
       "    </tr>\n",
       "    <tr>\n",
       "      <th>38</th>\n",
       "      <td>SK</td>\n",
       "      <td>SK</td>\n",
       "      <td>2019</td>\n",
       "      <td>18596.969697</td>\n",
       "    </tr>\n",
       "    <tr>\n",
       "      <th>39</th>\n",
       "      <td>SK</td>\n",
       "      <td>SK</td>\n",
       "      <td>2020</td>\n",
       "      <td>15093.548387</td>\n",
       "    </tr>\n",
       "    <tr>\n",
       "      <th>40</th>\n",
       "      <td>SS</td>\n",
       "      <td>삼성</td>\n",
       "      <td>2016</td>\n",
       "      <td>16662.686567</td>\n",
       "    </tr>\n",
       "    <tr>\n",
       "      <th>41</th>\n",
       "      <td>SS</td>\n",
       "      <td>삼성</td>\n",
       "      <td>2017</td>\n",
       "      <td>16512.121212</td>\n",
       "    </tr>\n",
       "    <tr>\n",
       "      <th>42</th>\n",
       "      <td>SS</td>\n",
       "      <td>삼성</td>\n",
       "      <td>2018</td>\n",
       "      <td>16459.090909</td>\n",
       "    </tr>\n",
       "    <tr>\n",
       "      <th>43</th>\n",
       "      <td>SS</td>\n",
       "      <td>삼성</td>\n",
       "      <td>2019</td>\n",
       "      <td>15713.432836</td>\n",
       "    </tr>\n",
       "    <tr>\n",
       "      <th>44</th>\n",
       "      <td>SS</td>\n",
       "      <td>삼성</td>\n",
       "      <td>2020</td>\n",
       "      <td>15653.225806</td>\n",
       "    </tr>\n",
       "    <tr>\n",
       "      <th>45</th>\n",
       "      <td>WO</td>\n",
       "      <td>키움</td>\n",
       "      <td>2016</td>\n",
       "      <td>9018.750000</td>\n",
       "    </tr>\n",
       "    <tr>\n",
       "      <th>46</th>\n",
       "      <td>WO</td>\n",
       "      <td>키움</td>\n",
       "      <td>2017</td>\n",
       "      <td>12907.575758</td>\n",
       "    </tr>\n",
       "    <tr>\n",
       "      <th>47</th>\n",
       "      <td>WO</td>\n",
       "      <td>키움</td>\n",
       "      <td>2018</td>\n",
       "      <td>15369.491525</td>\n",
       "    </tr>\n",
       "    <tr>\n",
       "      <th>48</th>\n",
       "      <td>WO</td>\n",
       "      <td>키움</td>\n",
       "      <td>2019</td>\n",
       "      <td>13222.033898</td>\n",
       "    </tr>\n",
       "    <tr>\n",
       "      <th>49</th>\n",
       "      <td>WO</td>\n",
       "      <td>키움</td>\n",
       "      <td>2020</td>\n",
       "      <td>14760.000000</td>\n",
       "    </tr>\n",
       "  </tbody>\n",
       "</table>\n",
       "</div>"
      ],
      "text/plain": [
       "   팀코드   팀명    시즌            연봉\n",
       "0   HH   한화  2016  19655.405405\n",
       "1   HH   한화  2017  21365.714286\n",
       "2   HH   한화  2018  16545.522388\n",
       "3   HH   한화  2019  13901.515152\n",
       "4   HH   한화  2020  12501.428571\n",
       "5   HT  KIA  2016  15801.492537\n",
       "6   HT  KIA  2017  20091.176471\n",
       "7   HT  KIA  2018  21858.208955\n",
       "8   HT  KIA  2019  16777.142857\n",
       "9   HT  KIA  2020  15842.698413\n",
       "10  KT   KT  2016  11173.846154\n",
       "11  KT   KT  2017   9546.268657\n",
       "12  KT   KT  2018  12420.000000\n",
       "13  KT   KT  2019  11042.187500\n",
       "14  KT   KT  2020  11729.687500\n",
       "15  LG   LG  2016  14025.757576\n",
       "16  LG   LG  2017  15680.000000\n",
       "17  LG   LG  2018  18098.412698\n",
       "18  LG   LG  2019  15833.333333\n",
       "19  LG   LG  2020  18178.688525\n",
       "20  LT   롯데  2016  15548.571429\n",
       "21  LT   롯데  2017  18554.477612\n",
       "22  LT   롯데  2018  20712.500000\n",
       "23  LT   롯데  2019  21316.567164\n",
       "24  LT   롯데  2020  16682.812500\n",
       "25  NC   NC  2016  13017.910448\n",
       "26  NC   NC  2017  14783.333333\n",
       "27  NC   NC  2018  10625.000000\n",
       "28  NC   NC  2019  17454.838710\n",
       "29  NC   NC  2020  18982.758621\n",
       "30  OB   두산  2016  15013.432836\n",
       "31  OB   두산  2017  18125.000000\n",
       "32  OB   두산  2018  16895.588235\n",
       "33  OB   두산  2019  17853.030303\n",
       "34  OB   두산  2020  15476.190476\n",
       "35  SK   SK  2016  14051.470588\n",
       "36  SK   SK  2017  16798.387097\n",
       "37  SK   SK  2018  17692.307692\n",
       "38  SK   SK  2019  18596.969697\n",
       "39  SK   SK  2020  15093.548387\n",
       "40  SS   삼성  2016  16662.686567\n",
       "41  SS   삼성  2017  16512.121212\n",
       "42  SS   삼성  2018  16459.090909\n",
       "43  SS   삼성  2019  15713.432836\n",
       "44  SS   삼성  2020  15653.225806\n",
       "45  WO   키움  2016   9018.750000\n",
       "46  WO   키움  2017  12907.575758\n",
       "47  WO   키움  2018  15369.491525\n",
       "48  WO   키움  2019  13222.033898\n",
       "49  WO   키움  2020  14760.000000"
      ]
     },
     "execution_count": 30,
     "metadata": {},
     "output_type": "execute_result"
    }
   ],
   "source": [
    "t_df_mean_line "
   ]
  },
  {
   "cell_type": "code",
   "execution_count": 31,
   "metadata": {},
   "outputs": [
    {
     "data": {
      "text/html": [
       "<div>\n",
       "<style scoped>\n",
       "    .dataframe tbody tr th:only-of-type {\n",
       "        vertical-align: middle;\n",
       "    }\n",
       "\n",
       "    .dataframe tbody tr th {\n",
       "        vertical-align: top;\n",
       "    }\n",
       "\n",
       "    .dataframe thead th {\n",
       "        text-align: right;\n",
       "    }\n",
       "</style>\n",
       "<table border=\"1\" class=\"dataframe\">\n",
       "  <thead>\n",
       "    <tr style=\"text-align: right;\">\n",
       "      <th></th>\n",
       "      <th>index</th>\n",
       "      <th>시즌</th>\n",
       "      <th>팀코드</th>\n",
       "      <th>팀명</th>\n",
       "      <th>연봉</th>\n",
       "    </tr>\n",
       "  </thead>\n",
       "  <tbody>\n",
       "    <tr>\n",
       "      <th>0</th>\n",
       "      <td>0</td>\n",
       "      <td>2016</td>\n",
       "      <td>WO</td>\n",
       "      <td>키움</td>\n",
       "      <td>577200.0</td>\n",
       "    </tr>\n",
       "    <tr>\n",
       "      <th>1</th>\n",
       "      <td>1</td>\n",
       "      <td>2016</td>\n",
       "      <td>KT</td>\n",
       "      <td>KT</td>\n",
       "      <td>726300.0</td>\n",
       "    </tr>\n",
       "    <tr>\n",
       "      <th>2</th>\n",
       "      <td>2</td>\n",
       "      <td>2016</td>\n",
       "      <td>NC</td>\n",
       "      <td>NC</td>\n",
       "      <td>872200.0</td>\n",
       "    </tr>\n",
       "    <tr>\n",
       "      <th>3</th>\n",
       "      <td>3</td>\n",
       "      <td>2016</td>\n",
       "      <td>LG</td>\n",
       "      <td>LG</td>\n",
       "      <td>925700.0</td>\n",
       "    </tr>\n",
       "    <tr>\n",
       "      <th>4</th>\n",
       "      <td>4</td>\n",
       "      <td>2016</td>\n",
       "      <td>SK</td>\n",
       "      <td>SK</td>\n",
       "      <td>955500.0</td>\n",
       "    </tr>\n",
       "    <tr>\n",
       "      <th>5</th>\n",
       "      <td>5</td>\n",
       "      <td>2016</td>\n",
       "      <td>OB</td>\n",
       "      <td>두산</td>\n",
       "      <td>1005900.0</td>\n",
       "    </tr>\n",
       "    <tr>\n",
       "      <th>6</th>\n",
       "      <td>6</td>\n",
       "      <td>2016</td>\n",
       "      <td>HT</td>\n",
       "      <td>KIA</td>\n",
       "      <td>1058700.0</td>\n",
       "    </tr>\n",
       "    <tr>\n",
       "      <th>7</th>\n",
       "      <td>7</td>\n",
       "      <td>2016</td>\n",
       "      <td>LT</td>\n",
       "      <td>롯데</td>\n",
       "      <td>1088400.0</td>\n",
       "    </tr>\n",
       "    <tr>\n",
       "      <th>8</th>\n",
       "      <td>8</td>\n",
       "      <td>2016</td>\n",
       "      <td>SS</td>\n",
       "      <td>삼성</td>\n",
       "      <td>1116400.0</td>\n",
       "    </tr>\n",
       "    <tr>\n",
       "      <th>9</th>\n",
       "      <td>9</td>\n",
       "      <td>2016</td>\n",
       "      <td>HH</td>\n",
       "      <td>한화</td>\n",
       "      <td>1454500.0</td>\n",
       "    </tr>\n",
       "    <tr>\n",
       "      <th>10</th>\n",
       "      <td>10</td>\n",
       "      <td>2017</td>\n",
       "      <td>KT</td>\n",
       "      <td>KT</td>\n",
       "      <td>639600.0</td>\n",
       "    </tr>\n",
       "    <tr>\n",
       "      <th>11</th>\n",
       "      <td>11</td>\n",
       "      <td>2017</td>\n",
       "      <td>WO</td>\n",
       "      <td>키움</td>\n",
       "      <td>851900.0</td>\n",
       "    </tr>\n",
       "    <tr>\n",
       "      <th>12</th>\n",
       "      <td>12</td>\n",
       "      <td>2017</td>\n",
       "      <td>NC</td>\n",
       "      <td>NC</td>\n",
       "      <td>975700.0</td>\n",
       "    </tr>\n",
       "    <tr>\n",
       "      <th>13</th>\n",
       "      <td>13</td>\n",
       "      <td>2017</td>\n",
       "      <td>LG</td>\n",
       "      <td>LG</td>\n",
       "      <td>1019200.0</td>\n",
       "    </tr>\n",
       "    <tr>\n",
       "      <th>14</th>\n",
       "      <td>14</td>\n",
       "      <td>2017</td>\n",
       "      <td>SK</td>\n",
       "      <td>SK</td>\n",
       "      <td>1041500.0</td>\n",
       "    </tr>\n",
       "    <tr>\n",
       "      <th>15</th>\n",
       "      <td>15</td>\n",
       "      <td>2017</td>\n",
       "      <td>SS</td>\n",
       "      <td>삼성</td>\n",
       "      <td>1089800.0</td>\n",
       "    </tr>\n",
       "    <tr>\n",
       "      <th>16</th>\n",
       "      <td>16</td>\n",
       "      <td>2017</td>\n",
       "      <td>OB</td>\n",
       "      <td>두산</td>\n",
       "      <td>1160000.0</td>\n",
       "    </tr>\n",
       "    <tr>\n",
       "      <th>17</th>\n",
       "      <td>17</td>\n",
       "      <td>2017</td>\n",
       "      <td>LT</td>\n",
       "      <td>롯데</td>\n",
       "      <td>1243150.0</td>\n",
       "    </tr>\n",
       "    <tr>\n",
       "      <th>18</th>\n",
       "      <td>18</td>\n",
       "      <td>2017</td>\n",
       "      <td>HT</td>\n",
       "      <td>KIA</td>\n",
       "      <td>1366200.0</td>\n",
       "    </tr>\n",
       "    <tr>\n",
       "      <th>19</th>\n",
       "      <td>19</td>\n",
       "      <td>2017</td>\n",
       "      <td>HH</td>\n",
       "      <td>한화</td>\n",
       "      <td>1495600.0</td>\n",
       "    </tr>\n",
       "    <tr>\n",
       "      <th>20</th>\n",
       "      <td>20</td>\n",
       "      <td>2018</td>\n",
       "      <td>NC</td>\n",
       "      <td>NC</td>\n",
       "      <td>722500.0</td>\n",
       "    </tr>\n",
       "    <tr>\n",
       "      <th>21</th>\n",
       "      <td>21</td>\n",
       "      <td>2018</td>\n",
       "      <td>KT</td>\n",
       "      <td>KT</td>\n",
       "      <td>807300.0</td>\n",
       "    </tr>\n",
       "    <tr>\n",
       "      <th>22</th>\n",
       "      <td>22</td>\n",
       "      <td>2018</td>\n",
       "      <td>WO</td>\n",
       "      <td>키움</td>\n",
       "      <td>906800.0</td>\n",
       "    </tr>\n",
       "    <tr>\n",
       "      <th>23</th>\n",
       "      <td>23</td>\n",
       "      <td>2018</td>\n",
       "      <td>SS</td>\n",
       "      <td>삼성</td>\n",
       "      <td>1086300.0</td>\n",
       "    </tr>\n",
       "    <tr>\n",
       "      <th>24</th>\n",
       "      <td>24</td>\n",
       "      <td>2018</td>\n",
       "      <td>HH</td>\n",
       "      <td>한화</td>\n",
       "      <td>1108550.0</td>\n",
       "    </tr>\n",
       "    <tr>\n",
       "      <th>25</th>\n",
       "      <td>25</td>\n",
       "      <td>2018</td>\n",
       "      <td>LG</td>\n",
       "      <td>LG</td>\n",
       "      <td>1140200.0</td>\n",
       "    </tr>\n",
       "    <tr>\n",
       "      <th>26</th>\n",
       "      <td>26</td>\n",
       "      <td>2018</td>\n",
       "      <td>OB</td>\n",
       "      <td>두산</td>\n",
       "      <td>1148900.0</td>\n",
       "    </tr>\n",
       "    <tr>\n",
       "      <th>27</th>\n",
       "      <td>27</td>\n",
       "      <td>2018</td>\n",
       "      <td>SK</td>\n",
       "      <td>SK</td>\n",
       "      <td>1150000.0</td>\n",
       "    </tr>\n",
       "    <tr>\n",
       "      <th>28</th>\n",
       "      <td>28</td>\n",
       "      <td>2018</td>\n",
       "      <td>LT</td>\n",
       "      <td>롯데</td>\n",
       "      <td>1325600.0</td>\n",
       "    </tr>\n",
       "    <tr>\n",
       "      <th>29</th>\n",
       "      <td>29</td>\n",
       "      <td>2018</td>\n",
       "      <td>HT</td>\n",
       "      <td>KIA</td>\n",
       "      <td>1464500.0</td>\n",
       "    </tr>\n",
       "    <tr>\n",
       "      <th>30</th>\n",
       "      <td>30</td>\n",
       "      <td>2019</td>\n",
       "      <td>KT</td>\n",
       "      <td>KT</td>\n",
       "      <td>706700.0</td>\n",
       "    </tr>\n",
       "    <tr>\n",
       "      <th>31</th>\n",
       "      <td>31</td>\n",
       "      <td>2019</td>\n",
       "      <td>WO</td>\n",
       "      <td>키움</td>\n",
       "      <td>780100.0</td>\n",
       "    </tr>\n",
       "    <tr>\n",
       "      <th>32</th>\n",
       "      <td>32</td>\n",
       "      <td>2019</td>\n",
       "      <td>HH</td>\n",
       "      <td>한화</td>\n",
       "      <td>917500.0</td>\n",
       "    </tr>\n",
       "    <tr>\n",
       "      <th>33</th>\n",
       "      <td>33</td>\n",
       "      <td>2019</td>\n",
       "      <td>SS</td>\n",
       "      <td>삼성</td>\n",
       "      <td>1052800.0</td>\n",
       "    </tr>\n",
       "    <tr>\n",
       "      <th>34</th>\n",
       "      <td>34</td>\n",
       "      <td>2019</td>\n",
       "      <td>NC</td>\n",
       "      <td>NC</td>\n",
       "      <td>1082200.0</td>\n",
       "    </tr>\n",
       "    <tr>\n",
       "      <th>35</th>\n",
       "      <td>35</td>\n",
       "      <td>2019</td>\n",
       "      <td>LG</td>\n",
       "      <td>LG</td>\n",
       "      <td>1092500.0</td>\n",
       "    </tr>\n",
       "    <tr>\n",
       "      <th>36</th>\n",
       "      <td>36</td>\n",
       "      <td>2019</td>\n",
       "      <td>HT</td>\n",
       "      <td>KIA</td>\n",
       "      <td>1174400.0</td>\n",
       "    </tr>\n",
       "    <tr>\n",
       "      <th>37</th>\n",
       "      <td>37</td>\n",
       "      <td>2019</td>\n",
       "      <td>OB</td>\n",
       "      <td>두산</td>\n",
       "      <td>1178300.0</td>\n",
       "    </tr>\n",
       "    <tr>\n",
       "      <th>38</th>\n",
       "      <td>38</td>\n",
       "      <td>2019</td>\n",
       "      <td>SK</td>\n",
       "      <td>SK</td>\n",
       "      <td>1227400.0</td>\n",
       "    </tr>\n",
       "    <tr>\n",
       "      <th>39</th>\n",
       "      <td>39</td>\n",
       "      <td>2019</td>\n",
       "      <td>LT</td>\n",
       "      <td>롯데</td>\n",
       "      <td>1428210.0</td>\n",
       "    </tr>\n",
       "    <tr>\n",
       "      <th>40</th>\n",
       "      <td>40</td>\n",
       "      <td>2020</td>\n",
       "      <td>KT</td>\n",
       "      <td>KT</td>\n",
       "      <td>750700.0</td>\n",
       "    </tr>\n",
       "    <tr>\n",
       "      <th>41</th>\n",
       "      <td>41</td>\n",
       "      <td>2020</td>\n",
       "      <td>HH</td>\n",
       "      <td>한화</td>\n",
       "      <td>875100.0</td>\n",
       "    </tr>\n",
       "    <tr>\n",
       "      <th>42</th>\n",
       "      <td>42</td>\n",
       "      <td>2020</td>\n",
       "      <td>WO</td>\n",
       "      <td>키움</td>\n",
       "      <td>885600.0</td>\n",
       "    </tr>\n",
       "    <tr>\n",
       "      <th>43</th>\n",
       "      <td>43</td>\n",
       "      <td>2020</td>\n",
       "      <td>SK</td>\n",
       "      <td>SK</td>\n",
       "      <td>935800.0</td>\n",
       "    </tr>\n",
       "    <tr>\n",
       "      <th>44</th>\n",
       "      <td>44</td>\n",
       "      <td>2020</td>\n",
       "      <td>SS</td>\n",
       "      <td>삼성</td>\n",
       "      <td>970500.0</td>\n",
       "    </tr>\n",
       "    <tr>\n",
       "      <th>45</th>\n",
       "      <td>45</td>\n",
       "      <td>2020</td>\n",
       "      <td>OB</td>\n",
       "      <td>두산</td>\n",
       "      <td>975000.0</td>\n",
       "    </tr>\n",
       "    <tr>\n",
       "      <th>46</th>\n",
       "      <td>46</td>\n",
       "      <td>2020</td>\n",
       "      <td>HT</td>\n",
       "      <td>KIA</td>\n",
       "      <td>998090.0</td>\n",
       "    </tr>\n",
       "    <tr>\n",
       "      <th>47</th>\n",
       "      <td>47</td>\n",
       "      <td>2020</td>\n",
       "      <td>LT</td>\n",
       "      <td>롯데</td>\n",
       "      <td>1067700.0</td>\n",
       "    </tr>\n",
       "    <tr>\n",
       "      <th>48</th>\n",
       "      <td>48</td>\n",
       "      <td>2020</td>\n",
       "      <td>NC</td>\n",
       "      <td>NC</td>\n",
       "      <td>1101000.0</td>\n",
       "    </tr>\n",
       "    <tr>\n",
       "      <th>49</th>\n",
       "      <td>49</td>\n",
       "      <td>2020</td>\n",
       "      <td>LG</td>\n",
       "      <td>LG</td>\n",
       "      <td>1108900.0</td>\n",
       "    </tr>\n",
       "  </tbody>\n",
       "</table>\n",
       "</div>"
      ],
      "text/plain": [
       "    index    시즌 팀코드   팀명         연봉\n",
       "0       0  2016  WO   키움   577200.0\n",
       "1       1  2016  KT   KT   726300.0\n",
       "2       2  2016  NC   NC   872200.0\n",
       "3       3  2016  LG   LG   925700.0\n",
       "4       4  2016  SK   SK   955500.0\n",
       "5       5  2016  OB   두산  1005900.0\n",
       "6       6  2016  HT  KIA  1058700.0\n",
       "7       7  2016  LT   롯데  1088400.0\n",
       "8       8  2016  SS   삼성  1116400.0\n",
       "9       9  2016  HH   한화  1454500.0\n",
       "10     10  2017  KT   KT   639600.0\n",
       "11     11  2017  WO   키움   851900.0\n",
       "12     12  2017  NC   NC   975700.0\n",
       "13     13  2017  LG   LG  1019200.0\n",
       "14     14  2017  SK   SK  1041500.0\n",
       "15     15  2017  SS   삼성  1089800.0\n",
       "16     16  2017  OB   두산  1160000.0\n",
       "17     17  2017  LT   롯데  1243150.0\n",
       "18     18  2017  HT  KIA  1366200.0\n",
       "19     19  2017  HH   한화  1495600.0\n",
       "20     20  2018  NC   NC   722500.0\n",
       "21     21  2018  KT   KT   807300.0\n",
       "22     22  2018  WO   키움   906800.0\n",
       "23     23  2018  SS   삼성  1086300.0\n",
       "24     24  2018  HH   한화  1108550.0\n",
       "25     25  2018  LG   LG  1140200.0\n",
       "26     26  2018  OB   두산  1148900.0\n",
       "27     27  2018  SK   SK  1150000.0\n",
       "28     28  2018  LT   롯데  1325600.0\n",
       "29     29  2018  HT  KIA  1464500.0\n",
       "30     30  2019  KT   KT   706700.0\n",
       "31     31  2019  WO   키움   780100.0\n",
       "32     32  2019  HH   한화   917500.0\n",
       "33     33  2019  SS   삼성  1052800.0\n",
       "34     34  2019  NC   NC  1082200.0\n",
       "35     35  2019  LG   LG  1092500.0\n",
       "36     36  2019  HT  KIA  1174400.0\n",
       "37     37  2019  OB   두산  1178300.0\n",
       "38     38  2019  SK   SK  1227400.0\n",
       "39     39  2019  LT   롯데  1428210.0\n",
       "40     40  2020  KT   KT   750700.0\n",
       "41     41  2020  HH   한화   875100.0\n",
       "42     42  2020  WO   키움   885600.0\n",
       "43     43  2020  SK   SK   935800.0\n",
       "44     44  2020  SS   삼성   970500.0\n",
       "45     45  2020  OB   두산   975000.0\n",
       "46     46  2020  HT  KIA   998090.0\n",
       "47     47  2020  LT   롯데  1067700.0\n",
       "48     48  2020  NC   NC  1101000.0\n",
       "49     49  2020  LG   LG  1108900.0"
      ]
     },
     "execution_count": 31,
     "metadata": {},
     "output_type": "execute_result"
    }
   ],
   "source": [
    "t_df_sum_line"
   ]
  },
  {
   "cell_type": "markdown",
   "metadata": {},
   "source": [
    "### load csv [for 상대승률](by dojin)"
   ]
  },
  {
   "cell_type": "code",
   "execution_count": 100,
   "metadata": {},
   "outputs": [
    {
     "data": {
      "text/html": [
       "<div>\n",
       "<style scoped>\n",
       "    .dataframe tbody tr th:only-of-type {\n",
       "        vertical-align: middle;\n",
       "    }\n",
       "\n",
       "    .dataframe tbody tr th {\n",
       "        vertical-align: top;\n",
       "    }\n",
       "\n",
       "    .dataframe thead th {\n",
       "        text-align: right;\n",
       "    }\n",
       "</style>\n",
       "<table border=\"1\" class=\"dataframe\">\n",
       "  <thead>\n",
       "    <tr style=\"text-align: right;\">\n",
       "      <th></th>\n",
       "      <th>T_ID</th>\n",
       "      <th>VS_T_ID</th>\n",
       "      <th>WLS_2016</th>\n",
       "      <th>WLS_2017</th>\n",
       "      <th>WLS_2018</th>\n",
       "      <th>WLS_2019</th>\n",
       "    </tr>\n",
       "  </thead>\n",
       "  <tbody>\n",
       "    <tr>\n",
       "      <th>0</th>\n",
       "      <td>HH</td>\n",
       "      <td>HT</td>\n",
       "      <td>0.43750</td>\n",
       "      <td>0.31250</td>\n",
       "      <td>0.5625</td>\n",
       "      <td>0.2500</td>\n",
       "    </tr>\n",
       "    <tr>\n",
       "      <th>1</th>\n",
       "      <td>HH</td>\n",
       "      <td>KT</td>\n",
       "      <td>0.46875</td>\n",
       "      <td>0.75000</td>\n",
       "      <td>0.6250</td>\n",
       "      <td>0.5000</td>\n",
       "    </tr>\n",
       "    <tr>\n",
       "      <th>2</th>\n",
       "      <td>HH</td>\n",
       "      <td>LG</td>\n",
       "      <td>0.43750</td>\n",
       "      <td>0.56250</td>\n",
       "      <td>0.5625</td>\n",
       "      <td>0.4375</td>\n",
       "    </tr>\n",
       "    <tr>\n",
       "      <th>3</th>\n",
       "      <td>HH</td>\n",
       "      <td>LT</td>\n",
       "      <td>0.50000</td>\n",
       "      <td>0.31250</td>\n",
       "      <td>0.6250</td>\n",
       "      <td>0.5000</td>\n",
       "    </tr>\n",
       "    <tr>\n",
       "      <th>4</th>\n",
       "      <td>HH</td>\n",
       "      <td>NC</td>\n",
       "      <td>0.46875</td>\n",
       "      <td>0.40625</td>\n",
       "      <td>0.5625</td>\n",
       "      <td>0.4375</td>\n",
       "    </tr>\n",
       "    <tr>\n",
       "      <th>...</th>\n",
       "      <td>...</td>\n",
       "      <td>...</td>\n",
       "      <td>...</td>\n",
       "      <td>...</td>\n",
       "      <td>...</td>\n",
       "      <td>...</td>\n",
       "    </tr>\n",
       "    <tr>\n",
       "      <th>85</th>\n",
       "      <td>WO</td>\n",
       "      <td>LT</td>\n",
       "      <td>0.56250</td>\n",
       "      <td>0.37500</td>\n",
       "      <td>0.4375</td>\n",
       "      <td>0.8125</td>\n",
       "    </tr>\n",
       "    <tr>\n",
       "      <th>86</th>\n",
       "      <td>WO</td>\n",
       "      <td>NC</td>\n",
       "      <td>0.50000</td>\n",
       "      <td>0.25000</td>\n",
       "      <td>0.5625</td>\n",
       "      <td>0.6250</td>\n",
       "    </tr>\n",
       "    <tr>\n",
       "      <th>87</th>\n",
       "      <td>WO</td>\n",
       "      <td>OB</td>\n",
       "      <td>0.40625</td>\n",
       "      <td>0.50000</td>\n",
       "      <td>0.5000</td>\n",
       "      <td>0.5625</td>\n",
       "    </tr>\n",
       "    <tr>\n",
       "      <th>88</th>\n",
       "      <td>WO</td>\n",
       "      <td>SK</td>\n",
       "      <td>0.37500</td>\n",
       "      <td>0.59375</td>\n",
       "      <td>0.5625</td>\n",
       "      <td>0.5000</td>\n",
       "    </tr>\n",
       "    <tr>\n",
       "      <th>89</th>\n",
       "      <td>WO</td>\n",
       "      <td>SS</td>\n",
       "      <td>0.50000</td>\n",
       "      <td>0.68750</td>\n",
       "      <td>0.6875</td>\n",
       "      <td>0.6250</td>\n",
       "    </tr>\n",
       "  </tbody>\n",
       "</table>\n",
       "<p>90 rows × 6 columns</p>\n",
       "</div>"
      ],
      "text/plain": [
       "   T_ID VS_T_ID  WLS_2016  WLS_2017  WLS_2018  WLS_2019\n",
       "0    HH      HT   0.43750   0.31250    0.5625    0.2500\n",
       "1    HH      KT   0.46875   0.75000    0.6250    0.5000\n",
       "2    HH      LG   0.43750   0.56250    0.5625    0.4375\n",
       "3    HH      LT   0.50000   0.31250    0.6250    0.5000\n",
       "4    HH      NC   0.46875   0.40625    0.5625    0.4375\n",
       "..  ...     ...       ...       ...       ...       ...\n",
       "85   WO      LT   0.56250   0.37500    0.4375    0.8125\n",
       "86   WO      NC   0.50000   0.25000    0.5625    0.6250\n",
       "87   WO      OB   0.40625   0.50000    0.5000    0.5625\n",
       "88   WO      SK   0.37500   0.59375    0.5625    0.5000\n",
       "89   WO      SS   0.50000   0.68750    0.6875    0.6250\n",
       "\n",
       "[90 rows x 6 columns]"
      ]
     },
     "execution_count": 100,
     "metadata": {},
     "output_type": "execute_result"
    }
   ],
   "source": [
    "# 상대 승률 데이터(출처: 도진이형)\n",
    "from Win_rate_by_season_EDA_3 import win_rate as wr\n",
    "wr"
   ]
  },
  {
   "cell_type": "markdown",
   "metadata": {},
   "source": [
    "### 데이터 가공"
   ]
  },
  {
   "cell_type": "code",
   "execution_count": 101,
   "metadata": {},
   "outputs": [
    {
     "data": {
      "text/html": [
       "<div>\n",
       "<style scoped>\n",
       "    .dataframe tbody tr th:only-of-type {\n",
       "        vertical-align: middle;\n",
       "    }\n",
       "\n",
       "    .dataframe tbody tr th {\n",
       "        vertical-align: top;\n",
       "    }\n",
       "\n",
       "    .dataframe thead th {\n",
       "        text-align: right;\n",
       "    }\n",
       "</style>\n",
       "<table border=\"1\" class=\"dataframe\">\n",
       "  <thead>\n",
       "    <tr style=\"text-align: right;\">\n",
       "      <th></th>\n",
       "      <th>팀코드</th>\n",
       "      <th>VS_T_ID</th>\n",
       "      <th>WLS_2016</th>\n",
       "      <th>WLS_2017</th>\n",
       "      <th>WLS_2018</th>\n",
       "      <th>WLS_2019</th>\n",
       "    </tr>\n",
       "  </thead>\n",
       "  <tbody>\n",
       "    <tr>\n",
       "      <th>0</th>\n",
       "      <td>HH</td>\n",
       "      <td>HT</td>\n",
       "      <td>0.43750</td>\n",
       "      <td>0.31250</td>\n",
       "      <td>0.5625</td>\n",
       "      <td>0.2500</td>\n",
       "    </tr>\n",
       "    <tr>\n",
       "      <th>1</th>\n",
       "      <td>HH</td>\n",
       "      <td>KT</td>\n",
       "      <td>0.46875</td>\n",
       "      <td>0.75000</td>\n",
       "      <td>0.6250</td>\n",
       "      <td>0.5000</td>\n",
       "    </tr>\n",
       "    <tr>\n",
       "      <th>2</th>\n",
       "      <td>HH</td>\n",
       "      <td>LG</td>\n",
       "      <td>0.43750</td>\n",
       "      <td>0.56250</td>\n",
       "      <td>0.5625</td>\n",
       "      <td>0.4375</td>\n",
       "    </tr>\n",
       "    <tr>\n",
       "      <th>3</th>\n",
       "      <td>HH</td>\n",
       "      <td>LT</td>\n",
       "      <td>0.50000</td>\n",
       "      <td>0.31250</td>\n",
       "      <td>0.6250</td>\n",
       "      <td>0.5000</td>\n",
       "    </tr>\n",
       "    <tr>\n",
       "      <th>4</th>\n",
       "      <td>HH</td>\n",
       "      <td>NC</td>\n",
       "      <td>0.46875</td>\n",
       "      <td>0.40625</td>\n",
       "      <td>0.5625</td>\n",
       "      <td>0.4375</td>\n",
       "    </tr>\n",
       "    <tr>\n",
       "      <th>...</th>\n",
       "      <td>...</td>\n",
       "      <td>...</td>\n",
       "      <td>...</td>\n",
       "      <td>...</td>\n",
       "      <td>...</td>\n",
       "      <td>...</td>\n",
       "    </tr>\n",
       "    <tr>\n",
       "      <th>85</th>\n",
       "      <td>WO</td>\n",
       "      <td>LT</td>\n",
       "      <td>0.56250</td>\n",
       "      <td>0.37500</td>\n",
       "      <td>0.4375</td>\n",
       "      <td>0.8125</td>\n",
       "    </tr>\n",
       "    <tr>\n",
       "      <th>86</th>\n",
       "      <td>WO</td>\n",
       "      <td>NC</td>\n",
       "      <td>0.50000</td>\n",
       "      <td>0.25000</td>\n",
       "      <td>0.5625</td>\n",
       "      <td>0.6250</td>\n",
       "    </tr>\n",
       "    <tr>\n",
       "      <th>87</th>\n",
       "      <td>WO</td>\n",
       "      <td>OB</td>\n",
       "      <td>0.40625</td>\n",
       "      <td>0.50000</td>\n",
       "      <td>0.5000</td>\n",
       "      <td>0.5625</td>\n",
       "    </tr>\n",
       "    <tr>\n",
       "      <th>88</th>\n",
       "      <td>WO</td>\n",
       "      <td>SK</td>\n",
       "      <td>0.37500</td>\n",
       "      <td>0.59375</td>\n",
       "      <td>0.5625</td>\n",
       "      <td>0.5000</td>\n",
       "    </tr>\n",
       "    <tr>\n",
       "      <th>89</th>\n",
       "      <td>WO</td>\n",
       "      <td>SS</td>\n",
       "      <td>0.50000</td>\n",
       "      <td>0.68750</td>\n",
       "      <td>0.6875</td>\n",
       "      <td>0.6250</td>\n",
       "    </tr>\n",
       "  </tbody>\n",
       "</table>\n",
       "<p>90 rows × 6 columns</p>\n",
       "</div>"
      ],
      "text/plain": [
       "   팀코드 VS_T_ID  WLS_2016  WLS_2017  WLS_2018  WLS_2019\n",
       "0   HH      HT   0.43750   0.31250    0.5625    0.2500\n",
       "1   HH      KT   0.46875   0.75000    0.6250    0.5000\n",
       "2   HH      LG   0.43750   0.56250    0.5625    0.4375\n",
       "3   HH      LT   0.50000   0.31250    0.6250    0.5000\n",
       "4   HH      NC   0.46875   0.40625    0.5625    0.4375\n",
       "..  ..     ...       ...       ...       ...       ...\n",
       "85  WO      LT   0.56250   0.37500    0.4375    0.8125\n",
       "86  WO      NC   0.50000   0.25000    0.5625    0.6250\n",
       "87  WO      OB   0.40625   0.50000    0.5000    0.5625\n",
       "88  WO      SK   0.37500   0.59375    0.5625    0.5000\n",
       "89  WO      SS   0.50000   0.68750    0.6875    0.6250\n",
       "\n",
       "[90 rows x 6 columns]"
      ]
     },
     "execution_count": 101,
     "metadata": {},
     "output_type": "execute_result"
    }
   ],
   "source": [
    "wr = wr.rename({\"T_ID\":\"팀코드\"},axis=\"columns\")\n",
    "wr\n"
   ]
  },
  {
   "cell_type": "code",
   "execution_count": 102,
   "metadata": {},
   "outputs": [
    {
     "data": {
      "text/html": [
       "<div>\n",
       "<style scoped>\n",
       "    .dataframe tbody tr th:only-of-type {\n",
       "        vertical-align: middle;\n",
       "    }\n",
       "\n",
       "    .dataframe tbody tr th {\n",
       "        vertical-align: top;\n",
       "    }\n",
       "\n",
       "    .dataframe thead th {\n",
       "        text-align: right;\n",
       "    }\n",
       "</style>\n",
       "<table border=\"1\" class=\"dataframe\">\n",
       "  <thead>\n",
       "    <tr style=\"text-align: right;\">\n",
       "      <th></th>\n",
       "      <th>팀코드_x</th>\n",
       "      <th>VS_T_ID</th>\n",
       "      <th>WLS_2016</th>\n",
       "      <th>WLS_2017</th>\n",
       "      <th>WLS_2018</th>\n",
       "      <th>WLS_2019</th>\n",
       "      <th>2016_x</th>\n",
       "      <th>2017_x</th>\n",
       "      <th>2018_x</th>\n",
       "      <th>2019_x</th>\n",
       "      <th>2020_x</th>\n",
       "      <th>2016_y</th>\n",
       "      <th>2017_y</th>\n",
       "      <th>2018_y</th>\n",
       "      <th>2019_y</th>\n",
       "      <th>2020_y</th>\n",
       "      <th>팀코드_y</th>\n",
       "    </tr>\n",
       "  </thead>\n",
       "  <tbody>\n",
       "    <tr>\n",
       "      <th>0</th>\n",
       "      <td>HH</td>\n",
       "      <td>HT</td>\n",
       "      <td>0.43750</td>\n",
       "      <td>0.31250</td>\n",
       "      <td>0.5625</td>\n",
       "      <td>0.2500</td>\n",
       "      <td>19655.4</td>\n",
       "      <td>21365.7</td>\n",
       "      <td>16545.5</td>\n",
       "      <td>13901.5</td>\n",
       "      <td>12501.4</td>\n",
       "      <td>15801.5</td>\n",
       "      <td>20091.2</td>\n",
       "      <td>21858.2</td>\n",
       "      <td>16777.1</td>\n",
       "      <td>15842.7</td>\n",
       "      <td>HT</td>\n",
       "    </tr>\n",
       "    <tr>\n",
       "      <th>1</th>\n",
       "      <td>HH</td>\n",
       "      <td>KT</td>\n",
       "      <td>0.46875</td>\n",
       "      <td>0.75000</td>\n",
       "      <td>0.6250</td>\n",
       "      <td>0.5000</td>\n",
       "      <td>19655.4</td>\n",
       "      <td>21365.7</td>\n",
       "      <td>16545.5</td>\n",
       "      <td>13901.5</td>\n",
       "      <td>12501.4</td>\n",
       "      <td>11173.8</td>\n",
       "      <td>9546.27</td>\n",
       "      <td>12420</td>\n",
       "      <td>11042.2</td>\n",
       "      <td>11729.7</td>\n",
       "      <td>KT</td>\n",
       "    </tr>\n",
       "    <tr>\n",
       "      <th>2</th>\n",
       "      <td>HH</td>\n",
       "      <td>LG</td>\n",
       "      <td>0.43750</td>\n",
       "      <td>0.56250</td>\n",
       "      <td>0.5625</td>\n",
       "      <td>0.4375</td>\n",
       "      <td>19655.4</td>\n",
       "      <td>21365.7</td>\n",
       "      <td>16545.5</td>\n",
       "      <td>13901.5</td>\n",
       "      <td>12501.4</td>\n",
       "      <td>14025.8</td>\n",
       "      <td>15680</td>\n",
       "      <td>18098.4</td>\n",
       "      <td>15833.3</td>\n",
       "      <td>18178.7</td>\n",
       "      <td>LG</td>\n",
       "    </tr>\n",
       "    <tr>\n",
       "      <th>3</th>\n",
       "      <td>HH</td>\n",
       "      <td>LT</td>\n",
       "      <td>0.50000</td>\n",
       "      <td>0.31250</td>\n",
       "      <td>0.6250</td>\n",
       "      <td>0.5000</td>\n",
       "      <td>19655.4</td>\n",
       "      <td>21365.7</td>\n",
       "      <td>16545.5</td>\n",
       "      <td>13901.5</td>\n",
       "      <td>12501.4</td>\n",
       "      <td>15548.6</td>\n",
       "      <td>18554.5</td>\n",
       "      <td>20712.5</td>\n",
       "      <td>21316.6</td>\n",
       "      <td>16682.8</td>\n",
       "      <td>LT</td>\n",
       "    </tr>\n",
       "    <tr>\n",
       "      <th>4</th>\n",
       "      <td>HH</td>\n",
       "      <td>NC</td>\n",
       "      <td>0.46875</td>\n",
       "      <td>0.40625</td>\n",
       "      <td>0.5625</td>\n",
       "      <td>0.4375</td>\n",
       "      <td>19655.4</td>\n",
       "      <td>21365.7</td>\n",
       "      <td>16545.5</td>\n",
       "      <td>13901.5</td>\n",
       "      <td>12501.4</td>\n",
       "      <td>13017.9</td>\n",
       "      <td>14783.3</td>\n",
       "      <td>10625</td>\n",
       "      <td>17454.8</td>\n",
       "      <td>18982.8</td>\n",
       "      <td>NC</td>\n",
       "    </tr>\n",
       "    <tr>\n",
       "      <th>...</th>\n",
       "      <td>...</td>\n",
       "      <td>...</td>\n",
       "      <td>...</td>\n",
       "      <td>...</td>\n",
       "      <td>...</td>\n",
       "      <td>...</td>\n",
       "      <td>...</td>\n",
       "      <td>...</td>\n",
       "      <td>...</td>\n",
       "      <td>...</td>\n",
       "      <td>...</td>\n",
       "      <td>...</td>\n",
       "      <td>...</td>\n",
       "      <td>...</td>\n",
       "      <td>...</td>\n",
       "      <td>...</td>\n",
       "      <td>...</td>\n",
       "    </tr>\n",
       "    <tr>\n",
       "      <th>85</th>\n",
       "      <td>WO</td>\n",
       "      <td>LT</td>\n",
       "      <td>0.56250</td>\n",
       "      <td>0.37500</td>\n",
       "      <td>0.4375</td>\n",
       "      <td>0.8125</td>\n",
       "      <td>9018.75</td>\n",
       "      <td>12907.6</td>\n",
       "      <td>15369.5</td>\n",
       "      <td>13222</td>\n",
       "      <td>14760</td>\n",
       "      <td>15548.6</td>\n",
       "      <td>18554.5</td>\n",
       "      <td>20712.5</td>\n",
       "      <td>21316.6</td>\n",
       "      <td>16682.8</td>\n",
       "      <td>LT</td>\n",
       "    </tr>\n",
       "    <tr>\n",
       "      <th>86</th>\n",
       "      <td>WO</td>\n",
       "      <td>NC</td>\n",
       "      <td>0.50000</td>\n",
       "      <td>0.25000</td>\n",
       "      <td>0.5625</td>\n",
       "      <td>0.6250</td>\n",
       "      <td>9018.75</td>\n",
       "      <td>12907.6</td>\n",
       "      <td>15369.5</td>\n",
       "      <td>13222</td>\n",
       "      <td>14760</td>\n",
       "      <td>13017.9</td>\n",
       "      <td>14783.3</td>\n",
       "      <td>10625</td>\n",
       "      <td>17454.8</td>\n",
       "      <td>18982.8</td>\n",
       "      <td>NC</td>\n",
       "    </tr>\n",
       "    <tr>\n",
       "      <th>87</th>\n",
       "      <td>WO</td>\n",
       "      <td>OB</td>\n",
       "      <td>0.40625</td>\n",
       "      <td>0.50000</td>\n",
       "      <td>0.5000</td>\n",
       "      <td>0.5625</td>\n",
       "      <td>9018.75</td>\n",
       "      <td>12907.6</td>\n",
       "      <td>15369.5</td>\n",
       "      <td>13222</td>\n",
       "      <td>14760</td>\n",
       "      <td>15013.4</td>\n",
       "      <td>18125</td>\n",
       "      <td>16895.6</td>\n",
       "      <td>17853</td>\n",
       "      <td>15476.2</td>\n",
       "      <td>OB</td>\n",
       "    </tr>\n",
       "    <tr>\n",
       "      <th>88</th>\n",
       "      <td>WO</td>\n",
       "      <td>SK</td>\n",
       "      <td>0.37500</td>\n",
       "      <td>0.59375</td>\n",
       "      <td>0.5625</td>\n",
       "      <td>0.5000</td>\n",
       "      <td>9018.75</td>\n",
       "      <td>12907.6</td>\n",
       "      <td>15369.5</td>\n",
       "      <td>13222</td>\n",
       "      <td>14760</td>\n",
       "      <td>14051.5</td>\n",
       "      <td>16798.4</td>\n",
       "      <td>17692.3</td>\n",
       "      <td>18597</td>\n",
       "      <td>15093.5</td>\n",
       "      <td>SK</td>\n",
       "    </tr>\n",
       "    <tr>\n",
       "      <th>89</th>\n",
       "      <td>WO</td>\n",
       "      <td>SS</td>\n",
       "      <td>0.50000</td>\n",
       "      <td>0.68750</td>\n",
       "      <td>0.6875</td>\n",
       "      <td>0.6250</td>\n",
       "      <td>9018.75</td>\n",
       "      <td>12907.6</td>\n",
       "      <td>15369.5</td>\n",
       "      <td>13222</td>\n",
       "      <td>14760</td>\n",
       "      <td>16662.7</td>\n",
       "      <td>16512.1</td>\n",
       "      <td>16459.1</td>\n",
       "      <td>15713.4</td>\n",
       "      <td>15653.2</td>\n",
       "      <td>SS</td>\n",
       "    </tr>\n",
       "  </tbody>\n",
       "</table>\n",
       "<p>90 rows × 17 columns</p>\n",
       "</div>"
      ],
      "text/plain": [
       "   팀코드_x VS_T_ID  WLS_2016  WLS_2017  WLS_2018  WLS_2019   2016_x   2017_x  \\\n",
       "0     HH      HT   0.43750   0.31250    0.5625    0.2500  19655.4  21365.7   \n",
       "1     HH      KT   0.46875   0.75000    0.6250    0.5000  19655.4  21365.7   \n",
       "2     HH      LG   0.43750   0.56250    0.5625    0.4375  19655.4  21365.7   \n",
       "3     HH      LT   0.50000   0.31250    0.6250    0.5000  19655.4  21365.7   \n",
       "4     HH      NC   0.46875   0.40625    0.5625    0.4375  19655.4  21365.7   \n",
       "..   ...     ...       ...       ...       ...       ...      ...      ...   \n",
       "85    WO      LT   0.56250   0.37500    0.4375    0.8125  9018.75  12907.6   \n",
       "86    WO      NC   0.50000   0.25000    0.5625    0.6250  9018.75  12907.6   \n",
       "87    WO      OB   0.40625   0.50000    0.5000    0.5625  9018.75  12907.6   \n",
       "88    WO      SK   0.37500   0.59375    0.5625    0.5000  9018.75  12907.6   \n",
       "89    WO      SS   0.50000   0.68750    0.6875    0.6250  9018.75  12907.6   \n",
       "\n",
       "     2018_x   2019_x   2020_x   2016_y   2017_y   2018_y   2019_y   2020_y  \\\n",
       "0   16545.5  13901.5  12501.4  15801.5  20091.2  21858.2  16777.1  15842.7   \n",
       "1   16545.5  13901.5  12501.4  11173.8  9546.27    12420  11042.2  11729.7   \n",
       "2   16545.5  13901.5  12501.4  14025.8    15680  18098.4  15833.3  18178.7   \n",
       "3   16545.5  13901.5  12501.4  15548.6  18554.5  20712.5  21316.6  16682.8   \n",
       "4   16545.5  13901.5  12501.4  13017.9  14783.3    10625  17454.8  18982.8   \n",
       "..      ...      ...      ...      ...      ...      ...      ...      ...   \n",
       "85  15369.5    13222    14760  15548.6  18554.5  20712.5  21316.6  16682.8   \n",
       "86  15369.5    13222    14760  13017.9  14783.3    10625  17454.8  18982.8   \n",
       "87  15369.5    13222    14760  15013.4    18125  16895.6    17853  15476.2   \n",
       "88  15369.5    13222    14760  14051.5  16798.4  17692.3    18597  15093.5   \n",
       "89  15369.5    13222    14760  16662.7  16512.1  16459.1  15713.4  15653.2   \n",
       "\n",
       "   팀코드_y  \n",
       "0     HT  \n",
       "1     KT  \n",
       "2     LG  \n",
       "3     LT  \n",
       "4     NC  \n",
       "..   ...  \n",
       "85    LT  \n",
       "86    NC  \n",
       "87    OB  \n",
       "88    SK  \n",
       "89    SS  \n",
       "\n",
       "[90 rows x 17 columns]"
      ]
     },
     "execution_count": 102,
     "metadata": {},
     "output_type": "execute_result"
    }
   ],
   "source": [
    "# 팀연봉 데이터(출처: 동준)\n",
    "import pandas as pd\n",
    "PATH_TS = \"C:/Users/home/DA(inflearn)/individual_pitcher/팀연봉.csv\"\n",
    "ts = pd.read_csv(PATH_TS)\n",
    "\n",
    "# 필요한 데이터만 추출해서 상대승률 데이터에 합치기\n",
    "re_ts = None\n",
    "for i in tim_labels:\n",
    "    sub = ts[ts['팀코드']==i].set_index('시즌').T.drop([\"Unnamed: 0\",\"팀코드\",\"팀명\",\"총합연봉\"])\n",
    "    sub[\"팀코드\"] = i\n",
    "    re_ts = pd.concat([re_ts, sub])\n",
    "wr = pd.merge(wr, re_ts, on=\"팀코드\", how=\"left\")\n",
    "wr = pd.merge(wr, re_ts, left_on=\"VS_T_ID\", right_on=\"팀코드\", how=\"left\")\n",
    "wr # _x: 자기팀 데이터, _y: 상대팀 데이터        "
   ]
  },
  {
   "cell_type": "code",
   "execution_count": 103,
   "metadata": {},
   "outputs": [
    {
     "name": "stderr",
     "output_type": "stream",
     "text": [
      "C:\\Users\\home\\anaconda3\\lib\\site-packages\\ipykernel_launcher.py:5: SettingWithCopyWarning:\n",
      "\n",
      "\n",
      "A value is trying to be set on a copy of a slice from a DataFrame\n",
      "\n",
      "See the caveats in the documentation: https://pandas.pydata.org/pandas-docs/stable/user_guide/indexing.html#returning-a-view-versus-a-copy\n",
      "\n",
      "C:\\Users\\home\\anaconda3\\lib\\site-packages\\ipykernel_launcher.py:6: SettingWithCopyWarning:\n",
      "\n",
      "\n",
      "A value is trying to be set on a copy of a slice from a DataFrame\n",
      "\n",
      "See the caveats in the documentation: https://pandas.pydata.org/pandas-docs/stable/user_guide/indexing.html#returning-a-view-versus-a-copy\n",
      "\n",
      "C:\\Users\\home\\anaconda3\\lib\\site-packages\\ipykernel_launcher.py:8: SettingWithCopyWarning:\n",
      "\n",
      "\n",
      "A value is trying to be set on a copy of a slice from a DataFrame\n",
      "\n",
      "See the caveats in the documentation: https://pandas.pydata.org/pandas-docs/stable/user_guide/indexing.html#returning-a-view-versus-a-copy\n",
      "\n",
      "C:\\Users\\home\\anaconda3\\lib\\site-packages\\ipykernel_launcher.py:9: SettingWithCopyWarning:\n",
      "\n",
      "\n",
      "A value is trying to be set on a copy of a slice from a DataFrame\n",
      "\n",
      "See the caveats in the documentation: https://pandas.pydata.org/pandas-docs/stable/user_guide/indexing.html#returning-a-view-versus-a-copy\n",
      "\n"
     ]
    },
    {
     "data": {
      "text/html": [
       "<div>\n",
       "<style scoped>\n",
       "    .dataframe tbody tr th:only-of-type {\n",
       "        vertical-align: middle;\n",
       "    }\n",
       "\n",
       "    .dataframe tbody tr th {\n",
       "        vertical-align: top;\n",
       "    }\n",
       "\n",
       "    .dataframe thead th {\n",
       "        text-align: right;\n",
       "    }\n",
       "</style>\n",
       "<table border=\"1\" class=\"dataframe\">\n",
       "  <thead>\n",
       "    <tr style=\"text-align: right;\">\n",
       "      <th></th>\n",
       "      <th>팀코드_x</th>\n",
       "      <th>VS_T_ID</th>\n",
       "      <th>WLS_2016</th>\n",
       "      <th>WLS_2017</th>\n",
       "      <th>WLS_2018</th>\n",
       "      <th>WLS_2019</th>\n",
       "      <th>2016_x</th>\n",
       "      <th>2017_x</th>\n",
       "      <th>2018_x</th>\n",
       "      <th>2019_x</th>\n",
       "      <th>2020_x</th>\n",
       "      <th>2016_y</th>\n",
       "      <th>2017_y</th>\n",
       "      <th>2018_y</th>\n",
       "      <th>2019_y</th>\n",
       "      <th>2020_y</th>\n",
       "      <th>팀코드_y</th>\n",
       "    </tr>\n",
       "  </thead>\n",
       "  <tbody>\n",
       "    <tr>\n",
       "      <th>0</th>\n",
       "      <td>HH</td>\n",
       "      <td>HT</td>\n",
       "      <td>0.43750</td>\n",
       "      <td>0.31250</td>\n",
       "      <td>0.5625</td>\n",
       "      <td>0.2500</td>\n",
       "      <td>1</td>\n",
       "      <td>1</td>\n",
       "      <td>0</td>\n",
       "      <td>0</td>\n",
       "      <td>0</td>\n",
       "      <td>0</td>\n",
       "      <td>0</td>\n",
       "      <td>1</td>\n",
       "      <td>1</td>\n",
       "      <td>1</td>\n",
       "      <td>HT</td>\n",
       "    </tr>\n",
       "    <tr>\n",
       "      <th>1</th>\n",
       "      <td>HH</td>\n",
       "      <td>KT</td>\n",
       "      <td>0.46875</td>\n",
       "      <td>0.75000</td>\n",
       "      <td>0.6250</td>\n",
       "      <td>0.5000</td>\n",
       "      <td>1</td>\n",
       "      <td>1</td>\n",
       "      <td>1</td>\n",
       "      <td>1</td>\n",
       "      <td>1</td>\n",
       "      <td>0</td>\n",
       "      <td>0</td>\n",
       "      <td>0</td>\n",
       "      <td>0</td>\n",
       "      <td>0</td>\n",
       "      <td>KT</td>\n",
       "    </tr>\n",
       "    <tr>\n",
       "      <th>2</th>\n",
       "      <td>HH</td>\n",
       "      <td>LG</td>\n",
       "      <td>0.43750</td>\n",
       "      <td>0.56250</td>\n",
       "      <td>0.5625</td>\n",
       "      <td>0.4375</td>\n",
       "      <td>1</td>\n",
       "      <td>1</td>\n",
       "      <td>0</td>\n",
       "      <td>0</td>\n",
       "      <td>0</td>\n",
       "      <td>0</td>\n",
       "      <td>0</td>\n",
       "      <td>1</td>\n",
       "      <td>1</td>\n",
       "      <td>1</td>\n",
       "      <td>LG</td>\n",
       "    </tr>\n",
       "    <tr>\n",
       "      <th>3</th>\n",
       "      <td>HH</td>\n",
       "      <td>LT</td>\n",
       "      <td>0.50000</td>\n",
       "      <td>0.31250</td>\n",
       "      <td>0.6250</td>\n",
       "      <td>0.5000</td>\n",
       "      <td>1</td>\n",
       "      <td>1</td>\n",
       "      <td>0</td>\n",
       "      <td>0</td>\n",
       "      <td>0</td>\n",
       "      <td>0</td>\n",
       "      <td>0</td>\n",
       "      <td>1</td>\n",
       "      <td>1</td>\n",
       "      <td>1</td>\n",
       "      <td>LT</td>\n",
       "    </tr>\n",
       "    <tr>\n",
       "      <th>4</th>\n",
       "      <td>HH</td>\n",
       "      <td>NC</td>\n",
       "      <td>0.46875</td>\n",
       "      <td>0.40625</td>\n",
       "      <td>0.5625</td>\n",
       "      <td>0.4375</td>\n",
       "      <td>1</td>\n",
       "      <td>1</td>\n",
       "      <td>1</td>\n",
       "      <td>0</td>\n",
       "      <td>0</td>\n",
       "      <td>0</td>\n",
       "      <td>0</td>\n",
       "      <td>0</td>\n",
       "      <td>1</td>\n",
       "      <td>1</td>\n",
       "      <td>NC</td>\n",
       "    </tr>\n",
       "    <tr>\n",
       "      <th>...</th>\n",
       "      <td>...</td>\n",
       "      <td>...</td>\n",
       "      <td>...</td>\n",
       "      <td>...</td>\n",
       "      <td>...</td>\n",
       "      <td>...</td>\n",
       "      <td>...</td>\n",
       "      <td>...</td>\n",
       "      <td>...</td>\n",
       "      <td>...</td>\n",
       "      <td>...</td>\n",
       "      <td>...</td>\n",
       "      <td>...</td>\n",
       "      <td>...</td>\n",
       "      <td>...</td>\n",
       "      <td>...</td>\n",
       "      <td>...</td>\n",
       "    </tr>\n",
       "    <tr>\n",
       "      <th>85</th>\n",
       "      <td>WO</td>\n",
       "      <td>LT</td>\n",
       "      <td>0.56250</td>\n",
       "      <td>0.37500</td>\n",
       "      <td>0.4375</td>\n",
       "      <td>0.8125</td>\n",
       "      <td>0</td>\n",
       "      <td>0</td>\n",
       "      <td>0</td>\n",
       "      <td>0</td>\n",
       "      <td>0</td>\n",
       "      <td>1</td>\n",
       "      <td>1</td>\n",
       "      <td>1</td>\n",
       "      <td>1</td>\n",
       "      <td>1</td>\n",
       "      <td>LT</td>\n",
       "    </tr>\n",
       "    <tr>\n",
       "      <th>86</th>\n",
       "      <td>WO</td>\n",
       "      <td>NC</td>\n",
       "      <td>0.50000</td>\n",
       "      <td>0.25000</td>\n",
       "      <td>0.5625</td>\n",
       "      <td>0.6250</td>\n",
       "      <td>0</td>\n",
       "      <td>0</td>\n",
       "      <td>1</td>\n",
       "      <td>0</td>\n",
       "      <td>0</td>\n",
       "      <td>1</td>\n",
       "      <td>1</td>\n",
       "      <td>0</td>\n",
       "      <td>1</td>\n",
       "      <td>1</td>\n",
       "      <td>NC</td>\n",
       "    </tr>\n",
       "    <tr>\n",
       "      <th>87</th>\n",
       "      <td>WO</td>\n",
       "      <td>OB</td>\n",
       "      <td>0.40625</td>\n",
       "      <td>0.50000</td>\n",
       "      <td>0.5000</td>\n",
       "      <td>0.5625</td>\n",
       "      <td>0</td>\n",
       "      <td>0</td>\n",
       "      <td>0</td>\n",
       "      <td>0</td>\n",
       "      <td>0</td>\n",
       "      <td>1</td>\n",
       "      <td>1</td>\n",
       "      <td>1</td>\n",
       "      <td>1</td>\n",
       "      <td>1</td>\n",
       "      <td>OB</td>\n",
       "    </tr>\n",
       "    <tr>\n",
       "      <th>88</th>\n",
       "      <td>WO</td>\n",
       "      <td>SK</td>\n",
       "      <td>0.37500</td>\n",
       "      <td>0.59375</td>\n",
       "      <td>0.5625</td>\n",
       "      <td>0.5000</td>\n",
       "      <td>0</td>\n",
       "      <td>0</td>\n",
       "      <td>0</td>\n",
       "      <td>0</td>\n",
       "      <td>0</td>\n",
       "      <td>1</td>\n",
       "      <td>1</td>\n",
       "      <td>1</td>\n",
       "      <td>1</td>\n",
       "      <td>1</td>\n",
       "      <td>SK</td>\n",
       "    </tr>\n",
       "    <tr>\n",
       "      <th>89</th>\n",
       "      <td>WO</td>\n",
       "      <td>SS</td>\n",
       "      <td>0.50000</td>\n",
       "      <td>0.68750</td>\n",
       "      <td>0.6875</td>\n",
       "      <td>0.6250</td>\n",
       "      <td>0</td>\n",
       "      <td>0</td>\n",
       "      <td>0</td>\n",
       "      <td>0</td>\n",
       "      <td>0</td>\n",
       "      <td>1</td>\n",
       "      <td>1</td>\n",
       "      <td>1</td>\n",
       "      <td>1</td>\n",
       "      <td>1</td>\n",
       "      <td>SS</td>\n",
       "    </tr>\n",
       "  </tbody>\n",
       "</table>\n",
       "<p>90 rows × 17 columns</p>\n",
       "</div>"
      ],
      "text/plain": [
       "   팀코드_x VS_T_ID  WLS_2016  WLS_2017  WLS_2018  WLS_2019 2016_x 2017_x 2018_x  \\\n",
       "0     HH      HT   0.43750   0.31250    0.5625    0.2500      1      1      0   \n",
       "1     HH      KT   0.46875   0.75000    0.6250    0.5000      1      1      1   \n",
       "2     HH      LG   0.43750   0.56250    0.5625    0.4375      1      1      0   \n",
       "3     HH      LT   0.50000   0.31250    0.6250    0.5000      1      1      0   \n",
       "4     HH      NC   0.46875   0.40625    0.5625    0.4375      1      1      1   \n",
       "..   ...     ...       ...       ...       ...       ...    ...    ...    ...   \n",
       "85    WO      LT   0.56250   0.37500    0.4375    0.8125      0      0      0   \n",
       "86    WO      NC   0.50000   0.25000    0.5625    0.6250      0      0      1   \n",
       "87    WO      OB   0.40625   0.50000    0.5000    0.5625      0      0      0   \n",
       "88    WO      SK   0.37500   0.59375    0.5625    0.5000      0      0      0   \n",
       "89    WO      SS   0.50000   0.68750    0.6875    0.6250      0      0      0   \n",
       "\n",
       "   2019_x 2020_x 2016_y 2017_y 2018_y 2019_y 2020_y 팀코드_y  \n",
       "0       0      0      0      0      1      1      1    HT  \n",
       "1       1      1      0      0      0      0      0    KT  \n",
       "2       0      0      0      0      1      1      1    LG  \n",
       "3       0      0      0      0      1      1      1    LT  \n",
       "4       0      0      0      0      0      1      1    NC  \n",
       "..    ...    ...    ...    ...    ...    ...    ...   ...  \n",
       "85      0      0      1      1      1      1      1    LT  \n",
       "86      0      0      1      1      0      1      1    NC  \n",
       "87      0      0      1      1      1      1      1    OB  \n",
       "88      0      0      1      1      1      1      1    SK  \n",
       "89      0      0      1      1      1      1      1    SS  \n",
       "\n",
       "[90 rows x 17 columns]"
      ]
     },
     "execution_count": 103,
     "metadata": {},
     "output_type": "execute_result"
    }
   ],
   "source": [
    "# 연봉데이터를 이진데이터로: 높은 쪽이 1, 낮은 쪽 0\n",
    "def compare(col1, col2):\n",
    "    for i in range(len(col1)):\n",
    "        if col1[i]>col2[i]:\n",
    "            col1[i] = 1\n",
    "            col2[i] = 0\n",
    "        else:\n",
    "            col1[i] = 0\n",
    "            col2[i] = 1\n",
    "for i in [2016,2017,2018,2019,2020]:\n",
    "    compare(wr[str(i)+\"_x\"],wr[str(i)+\"_y\"])\n",
    "wr"
   ]
  },
  {
   "cell_type": "code",
   "execution_count": 104,
   "metadata": {},
   "outputs": [
    {
     "data": {
      "text/html": [
       "<div>\n",
       "<style scoped>\n",
       "    .dataframe tbody tr th:only-of-type {\n",
       "        vertical-align: middle;\n",
       "    }\n",
       "\n",
       "    .dataframe tbody tr th {\n",
       "        vertical-align: top;\n",
       "    }\n",
       "\n",
       "    .dataframe thead th {\n",
       "        text-align: right;\n",
       "    }\n",
       "</style>\n",
       "<table border=\"1\" class=\"dataframe\">\n",
       "  <thead>\n",
       "    <tr style=\"text-align: right;\">\n",
       "      <th></th>\n",
       "      <th>팀코드_x</th>\n",
       "      <th>VS_T_ID</th>\n",
       "      <th>WLS_2016</th>\n",
       "      <th>WLS_2017</th>\n",
       "      <th>WLS_2018</th>\n",
       "      <th>WLS_2019</th>\n",
       "      <th>2016_x</th>\n",
       "      <th>2017_x</th>\n",
       "      <th>2018_x</th>\n",
       "      <th>2019_x</th>\n",
       "      <th>2020_x</th>\n",
       "      <th>2016_y</th>\n",
       "      <th>2017_y</th>\n",
       "      <th>2018_y</th>\n",
       "      <th>2019_y</th>\n",
       "      <th>2020_y</th>\n",
       "      <th>팀코드_y</th>\n",
       "    </tr>\n",
       "  </thead>\n",
       "  <tbody>\n",
       "    <tr>\n",
       "      <th>0</th>\n",
       "      <td>HH</td>\n",
       "      <td>HT</td>\n",
       "      <td>0.0</td>\n",
       "      <td>0.0</td>\n",
       "      <td>1.0</td>\n",
       "      <td>0.0</td>\n",
       "      <td>1</td>\n",
       "      <td>1</td>\n",
       "      <td>0</td>\n",
       "      <td>0</td>\n",
       "      <td>0</td>\n",
       "      <td>0</td>\n",
       "      <td>0</td>\n",
       "      <td>1</td>\n",
       "      <td>1</td>\n",
       "      <td>1</td>\n",
       "      <td>HT</td>\n",
       "    </tr>\n",
       "    <tr>\n",
       "      <th>1</th>\n",
       "      <td>HH</td>\n",
       "      <td>KT</td>\n",
       "      <td>0.0</td>\n",
       "      <td>1.0</td>\n",
       "      <td>1.0</td>\n",
       "      <td>0.0</td>\n",
       "      <td>1</td>\n",
       "      <td>1</td>\n",
       "      <td>1</td>\n",
       "      <td>1</td>\n",
       "      <td>1</td>\n",
       "      <td>0</td>\n",
       "      <td>0</td>\n",
       "      <td>0</td>\n",
       "      <td>0</td>\n",
       "      <td>0</td>\n",
       "      <td>KT</td>\n",
       "    </tr>\n",
       "    <tr>\n",
       "      <th>2</th>\n",
       "      <td>HH</td>\n",
       "      <td>LG</td>\n",
       "      <td>0.0</td>\n",
       "      <td>1.0</td>\n",
       "      <td>1.0</td>\n",
       "      <td>0.0</td>\n",
       "      <td>1</td>\n",
       "      <td>1</td>\n",
       "      <td>0</td>\n",
       "      <td>0</td>\n",
       "      <td>0</td>\n",
       "      <td>0</td>\n",
       "      <td>0</td>\n",
       "      <td>1</td>\n",
       "      <td>1</td>\n",
       "      <td>1</td>\n",
       "      <td>LG</td>\n",
       "    </tr>\n",
       "    <tr>\n",
       "      <th>3</th>\n",
       "      <td>HH</td>\n",
       "      <td>LT</td>\n",
       "      <td>0.0</td>\n",
       "      <td>0.0</td>\n",
       "      <td>1.0</td>\n",
       "      <td>0.0</td>\n",
       "      <td>1</td>\n",
       "      <td>1</td>\n",
       "      <td>0</td>\n",
       "      <td>0</td>\n",
       "      <td>0</td>\n",
       "      <td>0</td>\n",
       "      <td>0</td>\n",
       "      <td>1</td>\n",
       "      <td>1</td>\n",
       "      <td>1</td>\n",
       "      <td>LT</td>\n",
       "    </tr>\n",
       "    <tr>\n",
       "      <th>4</th>\n",
       "      <td>HH</td>\n",
       "      <td>NC</td>\n",
       "      <td>0.0</td>\n",
       "      <td>0.0</td>\n",
       "      <td>1.0</td>\n",
       "      <td>0.0</td>\n",
       "      <td>1</td>\n",
       "      <td>1</td>\n",
       "      <td>1</td>\n",
       "      <td>0</td>\n",
       "      <td>0</td>\n",
       "      <td>0</td>\n",
       "      <td>0</td>\n",
       "      <td>0</td>\n",
       "      <td>1</td>\n",
       "      <td>1</td>\n",
       "      <td>NC</td>\n",
       "    </tr>\n",
       "    <tr>\n",
       "      <th>...</th>\n",
       "      <td>...</td>\n",
       "      <td>...</td>\n",
       "      <td>...</td>\n",
       "      <td>...</td>\n",
       "      <td>...</td>\n",
       "      <td>...</td>\n",
       "      <td>...</td>\n",
       "      <td>...</td>\n",
       "      <td>...</td>\n",
       "      <td>...</td>\n",
       "      <td>...</td>\n",
       "      <td>...</td>\n",
       "      <td>...</td>\n",
       "      <td>...</td>\n",
       "      <td>...</td>\n",
       "      <td>...</td>\n",
       "      <td>...</td>\n",
       "    </tr>\n",
       "    <tr>\n",
       "      <th>85</th>\n",
       "      <td>WO</td>\n",
       "      <td>LT</td>\n",
       "      <td>1.0</td>\n",
       "      <td>0.0</td>\n",
       "      <td>0.0</td>\n",
       "      <td>1.0</td>\n",
       "      <td>0</td>\n",
       "      <td>0</td>\n",
       "      <td>0</td>\n",
       "      <td>0</td>\n",
       "      <td>0</td>\n",
       "      <td>1</td>\n",
       "      <td>1</td>\n",
       "      <td>1</td>\n",
       "      <td>1</td>\n",
       "      <td>1</td>\n",
       "      <td>LT</td>\n",
       "    </tr>\n",
       "    <tr>\n",
       "      <th>86</th>\n",
       "      <td>WO</td>\n",
       "      <td>NC</td>\n",
       "      <td>0.0</td>\n",
       "      <td>0.0</td>\n",
       "      <td>1.0</td>\n",
       "      <td>1.0</td>\n",
       "      <td>0</td>\n",
       "      <td>0</td>\n",
       "      <td>1</td>\n",
       "      <td>0</td>\n",
       "      <td>0</td>\n",
       "      <td>1</td>\n",
       "      <td>1</td>\n",
       "      <td>0</td>\n",
       "      <td>1</td>\n",
       "      <td>1</td>\n",
       "      <td>NC</td>\n",
       "    </tr>\n",
       "    <tr>\n",
       "      <th>87</th>\n",
       "      <td>WO</td>\n",
       "      <td>OB</td>\n",
       "      <td>0.0</td>\n",
       "      <td>0.0</td>\n",
       "      <td>0.0</td>\n",
       "      <td>1.0</td>\n",
       "      <td>0</td>\n",
       "      <td>0</td>\n",
       "      <td>0</td>\n",
       "      <td>0</td>\n",
       "      <td>0</td>\n",
       "      <td>1</td>\n",
       "      <td>1</td>\n",
       "      <td>1</td>\n",
       "      <td>1</td>\n",
       "      <td>1</td>\n",
       "      <td>OB</td>\n",
       "    </tr>\n",
       "    <tr>\n",
       "      <th>88</th>\n",
       "      <td>WO</td>\n",
       "      <td>SK</td>\n",
       "      <td>0.0</td>\n",
       "      <td>1.0</td>\n",
       "      <td>1.0</td>\n",
       "      <td>0.0</td>\n",
       "      <td>0</td>\n",
       "      <td>0</td>\n",
       "      <td>0</td>\n",
       "      <td>0</td>\n",
       "      <td>0</td>\n",
       "      <td>1</td>\n",
       "      <td>1</td>\n",
       "      <td>1</td>\n",
       "      <td>1</td>\n",
       "      <td>1</td>\n",
       "      <td>SK</td>\n",
       "    </tr>\n",
       "    <tr>\n",
       "      <th>89</th>\n",
       "      <td>WO</td>\n",
       "      <td>SS</td>\n",
       "      <td>0.0</td>\n",
       "      <td>1.0</td>\n",
       "      <td>1.0</td>\n",
       "      <td>1.0</td>\n",
       "      <td>0</td>\n",
       "      <td>0</td>\n",
       "      <td>0</td>\n",
       "      <td>0</td>\n",
       "      <td>0</td>\n",
       "      <td>1</td>\n",
       "      <td>1</td>\n",
       "      <td>1</td>\n",
       "      <td>1</td>\n",
       "      <td>1</td>\n",
       "      <td>SS</td>\n",
       "    </tr>\n",
       "  </tbody>\n",
       "</table>\n",
       "<p>90 rows × 17 columns</p>\n",
       "</div>"
      ],
      "text/plain": [
       "   팀코드_x VS_T_ID  WLS_2016  WLS_2017  WLS_2018  WLS_2019 2016_x 2017_x 2018_x  \\\n",
       "0     HH      HT       0.0       0.0       1.0       0.0      1      1      0   \n",
       "1     HH      KT       0.0       1.0       1.0       0.0      1      1      1   \n",
       "2     HH      LG       0.0       1.0       1.0       0.0      1      1      0   \n",
       "3     HH      LT       0.0       0.0       1.0       0.0      1      1      0   \n",
       "4     HH      NC       0.0       0.0       1.0       0.0      1      1      1   \n",
       "..   ...     ...       ...       ...       ...       ...    ...    ...    ...   \n",
       "85    WO      LT       1.0       0.0       0.0       1.0      0      0      0   \n",
       "86    WO      NC       0.0       0.0       1.0       1.0      0      0      1   \n",
       "87    WO      OB       0.0       0.0       0.0       1.0      0      0      0   \n",
       "88    WO      SK       0.0       1.0       1.0       0.0      0      0      0   \n",
       "89    WO      SS       0.0       1.0       1.0       1.0      0      0      0   \n",
       "\n",
       "   2019_x 2020_x 2016_y 2017_y 2018_y 2019_y 2020_y 팀코드_y  \n",
       "0       0      0      0      0      1      1      1    HT  \n",
       "1       1      1      0      0      0      0      0    KT  \n",
       "2       0      0      0      0      1      1      1    LG  \n",
       "3       0      0      0      0      1      1      1    LT  \n",
       "4       0      0      0      0      0      1      1    NC  \n",
       "..    ...    ...    ...    ...    ...    ...    ...   ...  \n",
       "85      0      0      1      1      1      1      1    LT  \n",
       "86      0      0      1      1      0      1      1    NC  \n",
       "87      0      0      1      1      1      1      1    OB  \n",
       "88      0      0      1      1      1      1      1    SK  \n",
       "89      0      0      1      1      1      1      1    SS  \n",
       "\n",
       "[90 rows x 17 columns]"
      ]
     },
     "execution_count": 104,
     "metadata": {},
     "output_type": "execute_result"
    }
   ],
   "source": [
    "# 승률 데이터를 이진데이터로: 반올림\n",
    "wr = round(wr)\n",
    "wr"
   ]
  },
  {
   "cell_type": "code",
   "execution_count": 105,
   "metadata": {},
   "outputs": [
    {
     "data": {
      "text/html": [
       "<div>\n",
       "<style scoped>\n",
       "    .dataframe tbody tr th:only-of-type {\n",
       "        vertical-align: middle;\n",
       "    }\n",
       "\n",
       "    .dataframe tbody tr th {\n",
       "        vertical-align: top;\n",
       "    }\n",
       "\n",
       "    .dataframe thead th {\n",
       "        text-align: right;\n",
       "    }\n",
       "</style>\n",
       "<table border=\"1\" class=\"dataframe\">\n",
       "  <thead>\n",
       "    <tr style=\"text-align: right;\">\n",
       "      <th></th>\n",
       "      <th>높은 연봉</th>\n",
       "      <th>낮은 연봉</th>\n",
       "    </tr>\n",
       "  </thead>\n",
       "  <tbody>\n",
       "    <tr>\n",
       "      <th>높은 승률</th>\n",
       "      <td>0</td>\n",
       "      <td>0</td>\n",
       "    </tr>\n",
       "    <tr>\n",
       "      <th>낮은 승률</th>\n",
       "      <td>0</td>\n",
       "      <td>0</td>\n",
       "    </tr>\n",
       "  </tbody>\n",
       "</table>\n",
       "</div>"
      ],
      "text/plain": [
       "       높은 연봉  낮은 연봉\n",
       "높은 승률      0      0\n",
       "낮은 승률      0      0"
      ]
     },
     "execution_count": 105,
     "metadata": {},
     "output_type": "execute_result"
    }
   ],
   "source": [
    "# 빈도수 데이터 프레임\n",
    "wlhl = pd.DataFrame([[0,0],[0,0]], columns=[\"높은 연봉\",\"낮은 연봉\"], index=[\"높은 승률\",\"낮은 승률\"])\n",
    "wlhl"
   ]
  },
  {
   "cell_type": "code",
   "execution_count": 106,
   "metadata": {},
   "outputs": [
    {
     "data": {
      "text/html": [
       "<div>\n",
       "<style scoped>\n",
       "    .dataframe tbody tr th:only-of-type {\n",
       "        vertical-align: middle;\n",
       "    }\n",
       "\n",
       "    .dataframe tbody tr th {\n",
       "        vertical-align: top;\n",
       "    }\n",
       "\n",
       "    .dataframe thead th {\n",
       "        text-align: right;\n",
       "    }\n",
       "</style>\n",
       "<table border=\"1\" class=\"dataframe\">\n",
       "  <thead>\n",
       "    <tr style=\"text-align: right;\">\n",
       "      <th></th>\n",
       "      <th>높은 연봉</th>\n",
       "      <th>낮은 연봉</th>\n",
       "    </tr>\n",
       "  </thead>\n",
       "  <tbody>\n",
       "    <tr>\n",
       "      <th>높은 승률</th>\n",
       "      <td>87</td>\n",
       "      <td>65</td>\n",
       "    </tr>\n",
       "    <tr>\n",
       "      <th>낮은 승률</th>\n",
       "      <td>93</td>\n",
       "      <td>115</td>\n",
       "    </tr>\n",
       "  </tbody>\n",
       "</table>\n",
       "</div>"
      ],
      "text/plain": [
       "       높은 연봉  낮은 연봉\n",
       "높은 승률     87     65\n",
       "낮은 승률     93    115"
      ]
     },
     "execution_count": 106,
     "metadata": {},
     "output_type": "execute_result"
    }
   ],
   "source": [
    "# 데이터 프레임 채우기\n",
    "def calculate(row,wlhl):\n",
    "    for i in range(2,6):\n",
    "        if row[i]==1 and row[4+i]==1:\n",
    "            wlhl.at[\"높은 승률\",\"높은 연봉\"] += 1\n",
    "        elif row[i]==1 and row[4+i]==0:\n",
    "            wlhl.at[\"높은 승률\",\"낮은 연봉\"] += 1\n",
    "        elif row[i]==0 and row[4+i]==1:\n",
    "            wlhl.at[\"낮은 승률\",\"높은 연봉\"] += 1\n",
    "        elif row[i]==0 and row[4+i]==0:\n",
    "            wlhl.at[\"낮은 승률\",\"낮은 연봉\"] += 1\n",
    "    return wlhl\n",
    "for i, row in wr.iterrows():\n",
    "    wlhl = calculate(row,wlhl)\n",
    "wlhl"
   ]
  },
  {
   "cell_type": "markdown",
   "metadata": {},
   "source": [
    "### 데이터 분석(Chi-square)"
   ]
  },
  {
   "cell_type": "code",
   "execution_count": 53,
   "metadata": {},
   "outputs": [
    {
     "data": {
      "text/plain": [
       "(5.021508097165992,\n",
       " 0.02503435619792018,\n",
       " 1,\n",
       " array([[ 76.,  76.],\n",
       "        [104., 104.]]))"
      ]
     },
     "execution_count": 53,
     "metadata": {},
     "output_type": "execute_result"
    }
   ],
   "source": [
    "# 카이제곱 독립성 검정\n",
    "from scipy.stats import chi2_contingency\n",
    "\n",
    "chi2_contingency(wlhl) #p-value = 0.025... < 0.05 => 두 변인은 관련이 있다."
   ]
  },
  {
   "cell_type": "code",
   "execution_count": null,
   "metadata": {},
   "outputs": [],
   "source": [
    "# create csv\n",
    "salary_t = t_df_sum\n",
    "salary_t.columns = [\"시즌\",\"팀코드\",\"팀명\",\"총합연봉\"]\n",
    "salary_t"
   ]
  },
  {
   "cell_type": "code",
   "execution_count": null,
   "metadata": {},
   "outputs": [],
   "source": [
    "salary_t = pd.merge(salary_t,t_df_mean_line,on=[\"시즌\",\"팀코드\",\"팀명\"], how=\"left\")\n",
    "salary_t.columns = [\"시즌\",\"팀코드\",\"팀명\",\"총합연봉\",\"평균연봉\"]\n",
    "salary_t"
   ]
  },
  {
   "cell_type": "code",
   "execution_count": 50,
   "metadata": {},
   "outputs": [
    {
     "ename": "NameError",
     "evalue": "name 'salary_t' is not defined",
     "output_type": "error",
     "traceback": [
      "\u001b[1;31m---------------------------------------------------------------------------\u001b[0m",
      "\u001b[1;31mNameError\u001b[0m                                 Traceback (most recent call last)",
      "\u001b[1;32m<ipython-input-50-9f162180b513>\u001b[0m in \u001b[0;36m<module>\u001b[1;34m\u001b[0m\n\u001b[1;32m----> 1\u001b[1;33m \u001b[0msalary_t\u001b[0m\u001b[1;33m.\u001b[0m\u001b[0mto_csv\u001b[0m\u001b[1;33m(\u001b[0m\u001b[1;34m\"팀연봉.csv\"\u001b[0m\u001b[1;33m,\u001b[0m\u001b[0mmode\u001b[0m\u001b[1;33m=\u001b[0m\u001b[1;34m\"w\"\u001b[0m\u001b[1;33m)\u001b[0m\u001b[1;33m\u001b[0m\u001b[1;33m\u001b[0m\u001b[0m\n\u001b[0m\u001b[0;32m      2\u001b[0m \u001b[0msalary\u001b[0m\u001b[1;33m.\u001b[0m\u001b[0mto_csv\u001b[0m\u001b[1;33m(\u001b[0m\u001b[1;34m\"선수연봉.csv\"\u001b[0m\u001b[1;33m,\u001b[0m\u001b[0mmode\u001b[0m\u001b[1;33m=\u001b[0m\u001b[1;34m\"w\"\u001b[0m\u001b[1;33m)\u001b[0m\u001b[1;33m\u001b[0m\u001b[1;33m\u001b[0m\u001b[0m\n",
      "\u001b[1;31mNameError\u001b[0m: name 'salary_t' is not defined"
     ]
    }
   ],
   "source": [
    "salary_t.to_csv(\"팀연봉.csv\",mode=\"w\")\n",
    "salary.to_csv(\"선수연봉.csv\",mode=\"w\")"
   ]
  },
  {
   "cell_type": "code",
   "execution_count": null,
   "metadata": {},
   "outputs": [],
   "source": []
  }
 ],
 "metadata": {
  "kernelspec": {
   "display_name": "Python 3",
   "language": "python",
   "name": "python3"
  },
  "language_info": {
   "codemirror_mode": {
    "name": "ipython",
    "version": 3
   },
   "file_extension": ".py",
   "mimetype": "text/x-python",
   "name": "python",
   "nbconvert_exporter": "python",
   "pygments_lexer": "ipython3",
   "version": "3.7.6"
  }
 },
 "nbformat": 4,
 "nbformat_minor": 4
}
