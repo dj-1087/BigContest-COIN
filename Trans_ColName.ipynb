{
  "nbformat": 4,
  "nbformat_minor": 0,
  "metadata": {
    "colab": {
      "name": "Trans_ColName",
      "provenance": [],
      "collapsed_sections": [],
      "toc_visible": true,
      "authorship_tag": "ABX9TyPjvmo8PgwnoE4Yrh55mH3J",
      "include_colab_link": true
    },
    "kernelspec": {
      "name": "python3",
      "display_name": "Python 3"
    }
  },
  "cells": [
    {
      "cell_type": "markdown",
      "metadata": {
        "id": "view-in-github",
        "colab_type": "text"
      },
      "source": [
        "<a href=\"https://colab.research.google.com/github/dj-1087/BigContest-COIN/blob/master/Trans_ColName.ipynb\" target=\"_parent\"><img src=\"https://colab.research.google.com/assets/colab-badge.svg\" alt=\"Open In Colab\"/></a>"
      ]
    },
    {
      "cell_type": "code",
      "metadata": {
        "id": "9pAgDyWWOc1d",
        "colab_type": "code",
        "colab": {
          "base_uri": "https://localhost:8080/",
          "height": 54
        },
        "outputId": "1d667dcd-4fc7-46d6-9a28-527b164503eb"
      },
      "source": [
        "from google.colab import auth\n",
        "auth.authenticate_user()\n",
        "\n",
        "from google.colab import drive\n",
        "drive.mount('/content/gdrive')"
      ],
      "execution_count": null,
      "outputs": [
        {
          "output_type": "stream",
          "text": [
            "Drive already mounted at /content/gdrive; to attempt to forcibly remount, call drive.mount(\"/content/gdrive\", force_remount=True).\n"
          ],
          "name": "stdout"
        }
      ]
    },
    {
      "cell_type": "code",
      "metadata": {
        "id": "coiY1C5IQGDf",
        "colab_type": "code",
        "colab": {}
      },
      "source": [
        "import pandas as pd\n",
        "PATH = \"/content/gdrive/My Drive/Colab Notebooks/1차_최종_데이터/\"\n",
        "team_pitcher = pd.read_csv(PATH+\"1차_최종_팀투수.csv\", encoding=\"CP949\")\n",
        "team_hitter = pd.read_csv(PATH+\"1차_최종_팀타자.csv\")\n",
        "per_pitcher = pd.read_csv(PATH+\"1차_최종_개인투수.csv\")\n",
        "per_hitter = pd.read_csv(PATH+\"1차_최종_개인타자.csv\")\n",
        "team_pitcher_r = pd.read_csv(PATH+\"1차_최종_최근_팀투수.csv\")\n",
        "team_hitter_r = pd.read_csv(PATH+\"1차_최종_최근_팀타자.csv\")\n",
        "team_pitcher_vs = pd.read_csv(PATH+\"1차_최종_상대_팀투수.csv\")\n",
        "team_hitter_vs = pd.read_csv(PATH+\"1차_최종_상대_팀타자.csv\")\n",
        "final_common = pd.read_csv(PATH+\"1차_최종_공통.csv\")"
      ],
      "execution_count": null,
      "outputs": []
    },
    {
      "cell_type": "code",
      "metadata": {
        "id": "O_rTuI65S91W",
        "colab_type": "code",
        "colab": {
          "base_uri": "https://localhost:8080/",
          "height": 178
        },
        "outputId": "150bae88-cd8e-4884-b1cd-fee16c11821d"
      },
      "source": [
        "team_pitcher.columns"
      ],
      "execution_count": null,
      "outputs": [
        {
          "output_type": "execute_result",
          "data": {
            "text/plain": [
              "Index(['게임키', '일자', '팀코드', '상대팀코드', '더블헤더코드', '초말', '완투', '결과', '홀드', '이닝3',\n",
              "       '투구수', '타자', '타수', '안타', '루타2', '3루타', '홈런', '도루', '도루실패', '희타', '희비',\n",
              "       '4구', '고4', '사구', '삼진', '병살타', '폭투', '보크', '실책', '실점', '자책점', '득점권WHIP',\n",
              "       '2점차이하WHIP', '345번타자WHIP', '시즌', '평균자책점', 'RA/9', 'ERC', 'FIP', 'kwERA',\n",
              "       'LOB', 'HR%', 'K%', 'BB%', 'K9', 'BB9', 'HR9', 'KBB', 'whip', 'P/G',\n",
              "       'P/IP', 'P/PA', 'PFR', 'CYP', 'F-E', 'R-E', 'OAVG', 'OOBP', 'OSLG',\n",
              "       'OOPS'],\n",
              "      dtype='object')"
            ]
          },
          "metadata": {
            "tags": []
          },
          "execution_count": 30
        }
      ]
    },
    {
      "cell_type": "code",
      "metadata": {
        "id": "7vKbf727YlBQ",
        "colab_type": "code",
        "colab": {
          "base_uri": "https://localhost:8080/",
          "height": 142
        },
        "outputId": "3bba78a6-1e5c-4cb4-cceb-cc4accadf98f"
      },
      "source": [
        "team_hitter.columns"
      ],
      "execution_count": null,
      "outputs": [
        {
          "output_type": "execute_result",
          "data": {
            "text/plain": [
              "Index(['게임키', '일자', '팀코드', '상대팀코드', '더블헤더코드', '초말', '타자', '타수', '타점', '득점',\n",
              "       '안타', '2루타', '3루타', '홈런', '도루', '도루실패', '희타', '희비', '4구', '고4', '사구',\n",
              "       '삼진', '병살타', '실책', '잔루', '득점권타율', '득점권타수', '득점권안타', '시즌', '단타', 'OBP',\n",
              "       'SLG', 'OPS', 'GPA', '타율', 'BABIP', 'ISO', 'HR%', 'K%', 'BB%', 'BBK',\n",
              "       'wOBA', 'wRAA', 'wRC', 'RC', 'RC27', 'XR', 'SPD', 'SECA', 'PSN'],\n",
              "      dtype='object')"
            ]
          },
          "metadata": {
            "tags": []
          },
          "execution_count": 31
        }
      ]
    },
    {
      "cell_type": "code",
      "metadata": {
        "id": "5DHlT87IaeTq",
        "colab_type": "code",
        "colab": {
          "base_uri": "https://localhost:8080/",
          "height": 178
        },
        "outputId": "fc0426c2-dac6-4417-9a8d-c4c3850dfd48"
      },
      "source": [
        "per_pitcher.columns"
      ],
      "execution_count": null,
      "outputs": [
        {
          "output_type": "execute_result",
          "data": {
            "text/plain": [
              "Index(['게임키', '일자', '팀코드', '상대팀코드', '더블헤더코드', '초말', '선수코드', '선발', '구원', '완투',\n",
              "       '종료', '결과', '홀드', '이닝*3', '투구수', '타자', '타수', '안타', '2루타', '3루타', '홈런',\n",
              "       '도루', '도루실패', '희타', '희비', '4구', '고4', '사구', '삼진', '병살', '폭투', '보크',\n",
              "       '실책', '실점', '자책점', '득점권WHIP', '2점차이하WHIP', '345번타자WHIP', '시즌', '평균자책점',\n",
              "       'RA/9', 'ERC', 'FIP', 'kwERA', 'LOB', 'HR%', 'K%', 'perBB%', 'K9',\n",
              "       'BB9', 'HR9', 'KBB', 'whip', 'P/G', 'P/IP', 'P/PA', 'PFR', 'CYP', 'F-E',\n",
              "       'R-E', '연봉', 'OAVG', 'OOBP', 'OSLG', 'OOPS'],\n",
              "      dtype='object')"
            ]
          },
          "metadata": {
            "tags": []
          },
          "execution_count": 32
        }
      ]
    },
    {
      "cell_type": "code",
      "metadata": {
        "id": "ISULCny7cPJB",
        "colab_type": "code",
        "colab": {
          "base_uri": "https://localhost:8080/",
          "height": 160
        },
        "outputId": "8e967ce1-8e36-41d5-eb5f-348e921dea3f"
      },
      "source": [
        "per_hitter.columns"
      ],
      "execution_count": null,
      "outputs": [
        {
          "output_type": "execute_result",
          "data": {
            "text/plain": [
              "Index(['게임키', '일자', '팀코드', '상대팀코드', '더블헤더코드', '초말', '선수코드', '선발', '타순', '타자',\n",
              "       '타수', '타점', '득점', '안타', '2루타', '3루타', '홈런', '도루', '도루실패', '희타', '희비',\n",
              "       '4구', '고4', '사구', '삼진', '병살타', '실책', '잔루', '득점권타율', '득점권타수', '득점권안타',\n",
              "       '시즌', '단타', 'OBP', 'SLG', 'OPS', 'GPA', '타율', 'BABIP', 'ISO', 'HR%',\n",
              "       'K%', 'BB%', 'BB/K', 'wOBA', 'wRAA', 'wRC', 'RC', 'XR', 'RC27', 'SPD',\n",
              "       'SECA', 'PSN', '연봉'],\n",
              "      dtype='object')"
            ]
          },
          "metadata": {
            "tags": []
          },
          "execution_count": 33
        }
      ]
    },
    {
      "cell_type": "code",
      "metadata": {
        "id": "IP3tqJYNcf1u",
        "colab_type": "code",
        "colab": {
          "base_uri": "https://localhost:8080/",
          "height": 178
        },
        "outputId": "5b3f3a94-aeb2-4c1f-ac1c-f2cf41b016a7"
      },
      "source": [
        "team_pitcher_r.columns"
      ],
      "execution_count": null,
      "outputs": [
        {
          "output_type": "execute_result",
          "data": {
            "text/plain": [
              "Index(['게임키', '일자', '팀코드', '상대팀코드', '더블헤더코드', '초말', '완투', '결과', '홀드', '이닝*3',\n",
              "       '투구수', '타자', '타수', '안타', '2루타', '3루타', '홈런', '도루', '도루실패', '희타', '희비',\n",
              "       '4구', '고4', '사구', '삼진', '병살타', '폭투', '보크', '실책', '실점', '자책점', '득점권WHIP',\n",
              "       '2점차이하WHIP', '345번타자WHIP', '시즌', '최근평균자책점', '최근RA/9', '최근ERC', '최근FIP',\n",
              "       '최근kwERA', '최근LOB', '최근HR%', '최근K%', '최근BB%', '최근K9', '최근BB9', '최근HR9',\n",
              "       '최근KBB', '최근whip', '최근PFR', '최근P/G', '최근P/IP', '최근P/PA', '최근CYP',\n",
              "       '최근F-E', '최근R-E', '최근OAVG', '최근OOBP', '최근OSLG', '최근OOPS'],\n",
              "      dtype='object')"
            ]
          },
          "metadata": {
            "tags": []
          },
          "execution_count": 34
        }
      ]
    },
    {
      "cell_type": "code",
      "metadata": {
        "id": "yDLf4oBDVqx5",
        "colab_type": "code",
        "colab": {
          "base_uri": "https://localhost:8080/",
          "height": 160
        },
        "outputId": "8ded47ca-79ee-4f22-d0a6-b9d12c270bbb"
      },
      "source": [
        "team_hitter_r.columns"
      ],
      "execution_count": null,
      "outputs": [
        {
          "output_type": "execute_result",
          "data": {
            "text/plain": [
              "Index(['게임키', '일자', '팀코드', '상대팀코드', '더블헤더코드', '초말', '타자', '타수', '타점', '득점',\n",
              "       '안타', '2루타', '3루타', '홈런', '도루', '도루실패', '희타', '희비', '4구', '고4', '사구',\n",
              "       '삼진', '병살타', '실책', '잔루', '득점권타율', '득점권타수', '득점권안타', '시즌', '단타', '최근OBP',\n",
              "       '최근SLG', '최근OPS', '최근GPA', '최근타율', '최근ISO', '최근BABIP', '최근HR%', '최근K%',\n",
              "       '최근BB%', '최근BBK', '최근wOBA', '최근wRAA', '최근wRC', '최근RC', '최근RC27', '최근XR',\n",
              "       '최근SPD', '최근SECA', '최근PSN'],\n",
              "      dtype='object')"
            ]
          },
          "metadata": {
            "tags": []
          },
          "execution_count": 35
        }
      ]
    },
    {
      "cell_type": "code",
      "metadata": {
        "id": "Z3qZJFtIXREq",
        "colab_type": "code",
        "colab": {
          "base_uri": "https://localhost:8080/",
          "height": 178
        },
        "outputId": "79fe78a0-03e8-4479-f732-dbf5345179a4"
      },
      "source": [
        "team_pitcher_vs.columns"
      ],
      "execution_count": null,
      "outputs": [
        {
          "output_type": "execute_result",
          "data": {
            "text/plain": [
              "Index(['게임키', '일자', '팀코드', '상대팀코드', '더블헤더코드', '초말', '완투', '결과', '홀드', '이닝*3',\n",
              "       '투구수', '타자', '타수', '안타', '2루타', '3루타', '홈런', '도루', '도루실패', '희타', '희비',\n",
              "       '4구', '고4', '사구', '삼진', '병살타', '폭투', '보크', '실책', '실점', '자책점', '득점권WHIP',\n",
              "       '2점차이하WHIP', '345번타자WHIP', '시즌', '상대평균자책점', '상대RA/9', '상대ERC', '상대FIP',\n",
              "       '상대kwERA', '상대LOB', '상대HR%', '상대K%', '상대BB%', '상대K9', '상대BB9', '상대HR9',\n",
              "       '상대KBB', '상대whip', '상대PFR', '상대P/G', '상대P/IP', '상대P/PA', '상대CYP',\n",
              "       '상대F-E', '상대R-E', '상대OAVG', '상대OOBP', '상대OSLG', '상대OOPS'],\n",
              "      dtype='object')"
            ]
          },
          "metadata": {
            "tags": []
          },
          "execution_count": 36
        }
      ]
    },
    {
      "cell_type": "code",
      "metadata": {
        "id": "G3Ob1JnqZSUF",
        "colab_type": "code",
        "colab": {
          "base_uri": "https://localhost:8080/",
          "height": 160
        },
        "outputId": "e5cba248-8154-4b5a-8a6d-c30fde016130"
      },
      "source": [
        "team_hitter_vs.columns"
      ],
      "execution_count": null,
      "outputs": [
        {
          "output_type": "execute_result",
          "data": {
            "text/plain": [
              "Index(['게임키', '일자', '팀코드', '상대팀코드', '더블헤더코드', '초말', '타자', '타수', '타점', '득점',\n",
              "       '안타', '2루타', '3루타', '홈런', '도루', '도루실패', '희타', '희비', '4구', '고4', '사구',\n",
              "       '삼진', '병살타', '실책', '잔루', '득점권타율', '득점권타수', '득점권안타', '시즌', '단타', '상대OBP',\n",
              "       '상대SLG', '상대OPS', '상대GPA', '상대타율', '상대ISO', '상대BABIP', '상대HR%', '상대K%',\n",
              "       '상대BB%', '상대BBK', '상대wOBA', '상대wRAA', '상대wRC', '상대RC', '상대RC27', '상대XR',\n",
              "       '상대SPD', '상대SECA', '상대PSN'],\n",
              "      dtype='object')"
            ]
          },
          "metadata": {
            "tags": []
          },
          "execution_count": 37
        }
      ]
    },
    {
      "cell_type": "code",
      "metadata": {
        "id": "GDrLCJWwa3ST",
        "colab_type": "code",
        "colab": {
          "base_uri": "https://localhost:8080/",
          "height": 140
        },
        "outputId": "ff24e3a6-11ad-432f-a84c-cb4ef58d8f6f"
      },
      "source": [
        "final_common.columns"
      ],
      "execution_count": null,
      "outputs": [
        {
          "output_type": "execute_result",
          "data": {
            "text/plain": [
              "Index(['게임키', '일자', '팀코드', '상대팀코드', '더블헤더코드', '초말', '결과', '시즌', '경기간간격', '월',\n",
              "       'NC', 'OB', 'WO', 'HT', 'LG', 'SS', 'KT', 'LT', 'SK', 'HH', '이닝*3',\n",
              "       '실점', '우취', '연장', '득점', '총득점', '총실점', '평균득점', '평균실점', '승수', '패배수', '승률',\n",
              "       '피타고리안기대승률', '상대총득점', '상대총실점', '상대평균득점', '상대평균실점', '상대승률',\n",
              "       '상대피타고리안기대승률', '최근총득점', '최근총실점', '최근평균득점', '최근평균실점', '최근승률',\n",
              "       '최근피타고리안기대승률', '총합연봉', '평균연봉'],\n",
              "      dtype='object')"
            ]
          },
          "metadata": {
            "tags": []
          },
          "execution_count": 38
        }
      ]
    },
    {
      "cell_type": "code",
      "metadata": {
        "id": "mO67FWH2UBxd",
        "colab_type": "code",
        "colab": {}
      },
      "source": [
        "abbreviation = {\"게임키\":\"G_ID\", \"일자\":\"GDAY_DS\", \"팀코드\":\"T_ID\", '상대팀코드':\"VS_T_ID\", '더블헤더코드':'HEADER_NO', '초말':'TB_SC ', '완투':'CG_CK',\n",
        "                '결과':'WLS','홀드':\"HOLD\", '이닝3':\"INN2\", '이닝*3':\"INN2\", '투구수':\"BF\", '타자':\"PA\", '타수':\"AB\", '안타':\"HIT\", '루타2':\"H2\", \"2루타\":\"H2\", '3루타':\"H3\", '홈런':\"HR\",\n",
        "                '도루':\"SB\",'도루실패':\"CS\",'희타':\"SH\",'희비':\"SF\",'4구':\"BB\",'고4':\"IB\",'사구':\"HP\",'삼진':\"KK\",'병살타':\"GD\", '폭투':\"WP\", '보크':\"BK\",\n",
        "                '실책':\"ERR\",'실점':\"R\",'자책점':\"ER\",'득점권WHIP':\"P_WHIP_RT\", '2점차이하WHIP':\"P2_WHIP_RT\",'345번타자WHIP':\"CB_WHIP_RT\", '시즌':\"GYEAR\",\n",
        "                '평균자책점':\"ERA\", 'RA/9':\"RA9\", 'HR%':\"HR_PCT\", 'K%':\"K_PCT\", 'BB%':\"BB_PCT\", 'P/G':\"P_G\", 'P/IP':\"P_IP\", 'P/PA':\"P_PA\", 'F-E':\"F_E\", \n",
        "                'R-E':\"R_E\",'잔루':\"LOB\",'득점권타율':\"P_HRA_RT \",'득점권타수':\"P_AB_CN\",'득점권안타':\"P_HIT_CN\",'단타':\"H1\",'타율':\"AVG\",'선수코드':\"P_ID\", \n",
        "                '선발':\"START_CK\", '구원':\"RELIEF_CK\", \"종료\":\"QUIT_CK\",'perBB%':\"perBB_PCT\", '연봉':\"MONEY\", '최근평균자책점':\"r_ERA\", '최근RA/9':\"r_RA9\",\n",
        "                '최근ERC':\"r_ERC\",'최근FIP':\"r_FIP\",'최근kwERA':\"r_kwERA\",'최근LOB':\"r_LOB\",'최근HR%':\"r_HR_PCT\", '최근K%':\"r_K_PCT\", '최근BB%':\"r_BB_PCT\",\n",
        "                '최근K9':\"r_K9\", '최근BB9':\"r_BB9\", '최근HR9':\"r_HR9\", '최근KBB':\"r_KBB\", '최근whip':\"r_whip\", '최근PFR':\"r_PFR\", '최근P/G':\"r_P_G\", \n",
        "                '최근P/IP':\"r_P_IP\",'최근P/PA':\"r_P_PA\", '최근CYP':\"r_CYP\", '최근F-E':\"r_F_E\", '최근R-E':\"r_R_E\", '최근OAVG':\"r_OAVG\", '최근OOBP':\"r_OOBP\", \n",
        "                '최근OSLG':\"r_OSLG\", '최근OOPS':\"r_OOPS\", '최근OBP':\"r_OBP\", '최근SLG':\"r_SLG\", '최근OPS':\"r_OPS\", '최근GPA':\"r_GPA\", '최근타율':\"r_AVG\", \n",
        "                '최근ISO':\"r_ISO\", '최근BABIP':\"r_BABIP\", '최근BBK':\"r_BBK\", '최근wOBA':\"r_wOBA\", '최근wRAA':\"r_wRAA\", '최근wRC':\"r_wRC\", '최근RC':\"r_RC\",\n",
        "                '최근RC27':\"r_RC27\",'최근XR':\"r_XR\",'최근SPD':\"r_SPD\",'최근SECA':\"r_SECA\",'최근PSN':\"r_PSN\",'상대평균자책점':\"vs_ERA\",'상대RA/9':\"vs_RA9\", \n",
        "                '상대ERC':\"vs_ERC\",'상대FIP':\"vs_FIP\",'상대kwERA':\"vs_kwERA\",'상대LOB':\"vsLOB\",'상대HR%':\"vs_HR_PCT\",'상대K%':\"vs_K_PCT\",'상대BB%':\"vs_BB_PCT\",\n",
        "                '상대K9':\"vs_K9\", '상대BB9':\"vs_BB9\", '상대HR9':\"vs_HR9\", '상대KBB':\"vs_KBB\", '상대whip':\"vs_whip\", '상대PFR':\"vs_PFR\", '상대P/G':\"vs_P_G\",\n",
        "                '상대P/IP':\"vs_P_IP\",'상대P/PA':\"vs_P_PA\",'상대CYP':\"vs_CYP\",'상대F-E':\"vs_F_E\", '상대R-E':\"vs_R_E\", '상대OAVG':\"vs_OAVG\", '상대OOBP':\"vs_OOBP\",\n",
        "                '상대OSLG':\"vs_OSLG\", '상대OOPS':\"vs_OOPS\", '상대OBP':\"vs_OBP\",'상대SLG':\"vs_SLG\",'상대OPS':\"vs_OPS\", '상대GPA':\"vs_GPA\", '상대타율':\"vs_AVG\",\n",
        "                '상대ISO':\"vs_ISO\", '상대BABIP':\"vs_BABIP\", '상대BBK':\"vs_BBK\",'상대wOBA':\"vs_wOBA\", '상대wRAA':\"vs_wRAA\", '상대wRC':\"vs_wRC\", '상대RC':\"vs_RC\", \n",
        "                '상대RC27':\"vs_RC27\", '상대XR':\"vs_XR\",'상대SPD':\"vs_sPD\", '상대SECA':\"vs_SECA\", '상대PSN':\"vs_PSN\", '경기간간격':\"INTERVAL\", '월':\"MM\",\n",
        "                '실점':\"R\", '우취':\"RAINOUT\", '연장':\"OVERTIME\", '득점':\"RUN\", '총득점':\"tRUN\", '총실점':\"tR\", '평균득점':\"aRUN\", '평균실점':\"aR\", '승수':\"W\",\n",
        "                '패배수':\"L\", '승률':\"WPCT\",'피타고리안기대승률':\"PE\", '상대총득점':\"vs_tRUN\", '상대총실점':\"vs_tR\", '상대평균득점':\"vs_aRUN\",\"타순\":\"BAT_ORDER_NO\",\n",
        "                '상대평균실점':\"vs_aR\", '상대승률':\"vs_WPCT\",'상대피타고리안기대승률':\"vs_PE\", '최근총득점':\"r_tRUN\", '최근총실점':\"r_tR\", \"타점\":\"RBI\",\n",
        "                '최근평균득점':\"r_aRUN\", '최근평균실점':\"r_aR\", '최근승률':\"r_WPCT\",'최근피타고리안기대승률':\"r_PE\", '총합연봉':\"tMONEY\", '평균연봉':\"aMONEY\"}"
      ],
      "execution_count": null,
      "outputs": []
    },
    {
      "cell_type": "code",
      "metadata": {
        "id": "t1KZnuYDiafO",
        "colab_type": "code",
        "colab": {}
      },
      "source": [
        "def translate(col_list, dictionary):\n",
        "    result = []\n",
        "    for i in col_list:\n",
        "        if dictionary.get(i) != None:\n",
        "            result.append(dictionary.get(i))\n",
        "        else:\n",
        "            result.append(i)\n",
        "    return result"
      ],
      "execution_count": null,
      "outputs": []
    },
    {
      "cell_type": "code",
      "metadata": {
        "id": "LJoBLE7hj5s0",
        "colab_type": "code",
        "colab": {
          "base_uri": "https://localhost:8080/",
          "height": 158
        },
        "outputId": "e2c999c8-19e2-4bf4-ef25-480ddb8b8e21"
      },
      "source": [
        "team_pitcher.columns = translate(team_pitcher.columns, abbreviation)\n",
        "team_pitcher.columns"
      ],
      "execution_count": null,
      "outputs": [
        {
          "output_type": "execute_result",
          "data": {
            "text/plain": [
              "Index(['G_ID', 'GDAY_DS', 'T_ID', 'VS_T_ID', 'HEADER_NO', 'TB_SC ', 'CG_CK',\n",
              "       'WLS', 'HOLD', 'INN2', 'BF', 'PA', 'AB', 'HIT', 'H2', 'H3', 'HR', 'SB',\n",
              "       'CS', 'SH', 'SF', 'BB', 'IB', 'HP', 'KK', 'GD', 'WP', 'BK', 'ERR', 'R',\n",
              "       'ER', 'P_WHIP_RT', 'P2_WHIP_RT', 'CB_WHIP_RT', 'GYEAR', 'ERA', 'RA9',\n",
              "       'ERC', 'FIP', 'kwERA', 'LOB', 'HR_PCT', 'K_PCT', 'BB_PCT', 'K9', 'BB9',\n",
              "       'HR9', 'KBB', 'whip', 'P_G', 'P_IP', 'P_PA', 'PFR', 'CYP', 'F_E', 'R_E',\n",
              "       'OAVG', 'OOBP', 'OSLG', 'OOPS'],\n",
              "      dtype='object')"
            ]
          },
          "metadata": {
            "tags": []
          },
          "execution_count": 51
        }
      ]
    },
    {
      "cell_type": "code",
      "metadata": {
        "id": "A8R0aC6jleTc",
        "colab_type": "code",
        "colab": {
          "base_uri": "https://localhost:8080/",
          "height": 175
        },
        "outputId": "b3956495-d197-4d6d-eb2c-9a1c9d9e9949"
      },
      "source": [
        "team_pitcher_r.columns = translate(team_pitcher_r.columns, abbreviation)\n",
        "team_pitcher_r.columns"
      ],
      "execution_count": null,
      "outputs": [
        {
          "output_type": "execute_result",
          "data": {
            "text/plain": [
              "Index(['G_ID', 'GDAY_DS', 'T_ID', 'VS_T_ID', 'HEADER_NO', 'TB_SC ', 'CG_CK',\n",
              "       'WLS', 'HOLD', 'INN2', 'BF', 'PA', 'AB', 'HIT', 'H2', 'H3', 'HR', 'SB',\n",
              "       'CS', 'SH', 'SF', 'BB', 'IB', 'HP', 'KK', 'GD', 'WP', 'BK', 'ERR', 'R',\n",
              "       'ER', 'P_WHIP_RT', 'P2_WHIP_RT', 'CB_WHIP_RT', 'GYEAR', 'r_ERA',\n",
              "       'r_RA9', 'r_ERC', 'r_FIP', 'r_kwERA', 'r_LOB', 'r_HR_PCT', 'r_K_PCT',\n",
              "       'r_BB_PCT', 'r_K9', 'r_BB9', 'r_HR9', 'r_KBB', 'r_whip', 'r_PFR',\n",
              "       'r_P_G', 'r_P_IP', 'r_P_PA', 'r_CYP', 'r_F_E', 'r_R_E', 'r_OAVG',\n",
              "       'r_OOBP', 'r_OSLG', 'r_OOPS'],\n",
              "      dtype='object')"
            ]
          },
          "metadata": {
            "tags": []
          },
          "execution_count": 52
        }
      ]
    },
    {
      "cell_type": "code",
      "metadata": {
        "id": "mjRWCk3RlpfO",
        "colab_type": "code",
        "colab": {
          "base_uri": "https://localhost:8080/",
          "height": 175
        },
        "outputId": "4949c3c5-cd2a-4fc7-c918-7c26c0c77eb1"
      },
      "source": [
        "team_pitcher_vs.columns = translate(team_pitcher_vs.columns, abbreviation)\n",
        "team_pitcher_vs.columns"
      ],
      "execution_count": null,
      "outputs": [
        {
          "output_type": "execute_result",
          "data": {
            "text/plain": [
              "Index(['G_ID', 'GDAY_DS', 'T_ID', 'VS_T_ID', 'HEADER_NO', 'TB_SC ', 'CG_CK',\n",
              "       'WLS', 'HOLD', 'INN2', 'BF', 'PA', 'AB', 'HIT', 'H2', 'H3', 'HR', 'SB',\n",
              "       'CS', 'SH', 'SF', 'BB', 'IB', 'HP', 'KK', 'GD', 'WP', 'BK', 'ERR', 'R',\n",
              "       'ER', 'P_WHIP_RT', 'P2_WHIP_RT', 'CB_WHIP_RT', 'GYEAR', 'vs_ERA',\n",
              "       'vs_RA9', 'vs_ERC', 'vs_FIP', 'vs_kwERA', 'vsLOB', 'vs_HR_PCT',\n",
              "       'vs_K_PCT', 'vs_BB_PCT', 'vs_K9', 'vs_BB9', 'vs_HR9', 'vs_KBB',\n",
              "       'vs_whip', 'vs_PFR', 'vs_P_G', 'vs_P_IP', 'vs_P_PA', 'vs_CYP', 'vs_F_E',\n",
              "       'vs_R_E', 'vs_OAVG', 'vs_OOBP', 'vs_OSLG', 'vs_OOPS'],\n",
              "      dtype='object')"
            ]
          },
          "metadata": {
            "tags": []
          },
          "execution_count": 53
        }
      ]
    },
    {
      "cell_type": "code",
      "metadata": {
        "id": "3q1HT7cHl2Gg",
        "colab_type": "code",
        "colab": {
          "base_uri": "https://localhost:8080/",
          "height": 175
        },
        "outputId": "545ca370-201c-4967-fc5d-0be1026f06e4"
      },
      "source": [
        "per_pitcher.columns = translate(per_pitcher.columns, abbreviation)\n",
        "per_pitcher.columns"
      ],
      "execution_count": null,
      "outputs": [
        {
          "output_type": "execute_result",
          "data": {
            "text/plain": [
              "Index(['G_ID', 'GDAY_DS', 'T_ID', 'VS_T_ID', 'HEADER_NO', 'TB_SC ', 'P_ID',\n",
              "       'START_CK', 'RELIEF_CK', 'CG_CK', 'QUIT_CK', 'WLS', 'HOLD', 'INN2',\n",
              "       'BF', 'PA', 'AB', 'HIT', 'H2', 'H3', 'HR', 'SB', 'CS', 'SH', 'SF', 'BB',\n",
              "       'IB', 'HP', 'KK', '병살', 'WP', 'BK', 'ERR', 'R', 'ER', 'P_WHIP_RT',\n",
              "       'P2_WHIP_RT', 'CB_WHIP_RT', 'GYEAR', 'ERA', 'RA9', 'ERC', 'FIP',\n",
              "       'kwERA', 'LOB', 'HR_PCT', 'K_PCT', 'perBB_PCT', 'K9', 'BB9', 'HR9',\n",
              "       'KBB', 'whip', 'P_G', 'P_IP', 'P_PA', 'PFR', 'CYP', 'F_E', 'R_E',\n",
              "       'MONEY', 'OAVG', 'OOBP', 'OSLG', 'OOPS'],\n",
              "      dtype='object')"
            ]
          },
          "metadata": {
            "tags": []
          },
          "execution_count": 54
        }
      ]
    },
    {
      "cell_type": "code",
      "metadata": {
        "id": "dGFdbXskk5lL",
        "colab_type": "code",
        "colab": {
          "base_uri": "https://localhost:8080/",
          "height": 140
        },
        "outputId": "5d47944c-0df0-4718-ae4b-bbb49defe36a"
      },
      "source": [
        "team_hitter.columns = translate(team_hitter.columns, abbreviation)\n",
        "team_hitter.columns"
      ],
      "execution_count": null,
      "outputs": [
        {
          "output_type": "execute_result",
          "data": {
            "text/plain": [
              "Index(['G_ID', 'GDAY_DS', 'T_ID', 'VS_T_ID', 'HEADER_NO', 'TB_SC ', 'PA', 'AB',\n",
              "       'RBI', 'RUN', 'HIT', 'H2', 'H3', 'HR', 'SB', 'CS', 'SH', 'SF', 'BB',\n",
              "       'IB', 'HP', 'KK', 'GD', 'ERR', 'LOB', 'P_HRA_RT ', 'P_AB_CN',\n",
              "       'P_HIT_CN', 'GYEAR', 'H1', 'OBP', 'SLG', 'OPS', 'GPA', 'AVG', 'BABIP',\n",
              "       'ISO', 'HR_PCT', 'K_PCT', 'BB_PCT', 'BBK', 'wOBA', 'wRAA', 'wRC', 'RC',\n",
              "       'RC27', 'XR', 'SPD', 'SECA', 'PSN'],\n",
              "      dtype='object')"
            ]
          },
          "metadata": {
            "tags": []
          },
          "execution_count": 55
        }
      ]
    },
    {
      "cell_type": "code",
      "metadata": {
        "id": "PKq4yKzLlaCu",
        "colab_type": "code",
        "colab": {
          "base_uri": "https://localhost:8080/",
          "height": 158
        },
        "outputId": "f7870953-6236-4b6c-83dd-9b9ffd96a250"
      },
      "source": [
        "team_hitter_r.columns = translate(team_hitter_r.columns, abbreviation)\n",
        "team_hitter_r.columns"
      ],
      "execution_count": null,
      "outputs": [
        {
          "output_type": "execute_result",
          "data": {
            "text/plain": [
              "Index(['G_ID', 'GDAY_DS', 'T_ID', 'VS_T_ID', 'HEADER_NO', 'TB_SC ', 'PA', 'AB',\n",
              "       'RBI', 'RUN', 'HIT', 'H2', 'H3', 'HR', 'SB', 'CS', 'SH', 'SF', 'BB',\n",
              "       'IB', 'HP', 'KK', 'GD', 'ERR', 'LOB', 'P_HRA_RT ', 'P_AB_CN',\n",
              "       'P_HIT_CN', 'GYEAR', 'H1', 'r_OBP', 'r_SLG', 'r_OPS', 'r_GPA', 'r_AVG',\n",
              "       'r_ISO', 'r_BABIP', 'r_HR_PCT', 'r_K_PCT', 'r_BB_PCT', 'r_BBK',\n",
              "       'r_wOBA', 'r_wRAA', 'r_wRC', 'r_RC', 'r_RC27', 'r_XR', 'r_SPD',\n",
              "       'r_SECA', 'r_PSN'],\n",
              "      dtype='object')"
            ]
          },
          "metadata": {
            "tags": []
          },
          "execution_count": 56
        }
      ]
    },
    {
      "cell_type": "code",
      "metadata": {
        "id": "NV9YNU8cmSKw",
        "colab_type": "code",
        "colab": {
          "base_uri": "https://localhost:8080/",
          "height": 158
        },
        "outputId": "4804e30d-a7d8-498c-847d-8a609228529a"
      },
      "source": [
        "team_hitter_vs.columns = translate(team_hitter_vs.columns, abbreviation)\n",
        "team_hitter_vs.columns"
      ],
      "execution_count": null,
      "outputs": [
        {
          "output_type": "execute_result",
          "data": {
            "text/plain": [
              "Index(['G_ID', 'GDAY_DS', 'T_ID', 'VS_T_ID', 'HEADER_NO', 'TB_SC ', 'PA', 'AB',\n",
              "       'RBI', 'RUN', 'HIT', 'H2', 'H3', 'HR', 'SB', 'CS', 'SH', 'SF', 'BB',\n",
              "       'IB', 'HP', 'KK', 'GD', 'ERR', 'LOB', 'P_HRA_RT ', 'P_AB_CN',\n",
              "       'P_HIT_CN', 'GYEAR', 'H1', 'vs_OBP', 'vs_SLG', 'vs_OPS', 'vs_GPA',\n",
              "       'vs_AVG', 'vs_ISO', 'vs_BABIP', 'vs_HR_PCT', 'vs_K_PCT', 'vs_BB_PCT',\n",
              "       'vs_BBK', 'vs_wOBA', 'vs_wRAA', 'vs_wRC', 'vs_RC', 'vs_RC27', 'vs_XR',\n",
              "       'vs_sPD', 'vs_SECA', 'vs_PSN'],\n",
              "      dtype='object')"
            ]
          },
          "metadata": {
            "tags": []
          },
          "execution_count": 57
        }
      ]
    },
    {
      "cell_type": "code",
      "metadata": {
        "id": "byYqKo1NmdOK",
        "colab_type": "code",
        "colab": {
          "base_uri": "https://localhost:8080/",
          "height": 158
        },
        "outputId": "b9160f5f-b5d7-480c-e42f-7a3a31f72e78"
      },
      "source": [
        "per_hitter.columns = translate(per_hitter.columns,abbreviation)\n",
        "per_hitter.columns"
      ],
      "execution_count": null,
      "outputs": [
        {
          "output_type": "execute_result",
          "data": {
            "text/plain": [
              "Index(['G_ID', 'GDAY_DS', 'T_ID', 'VS_T_ID', 'HEADER_NO', 'TB_SC ', 'P_ID',\n",
              "       'START_CK', 'BAT_ORDER_NO', 'PA', 'AB', 'RBI', 'RUN', 'HIT', 'H2', 'H3',\n",
              "       'HR', 'SB', 'CS', 'SH', 'SF', 'BB', 'IB', 'HP', 'KK', 'GD', 'ERR',\n",
              "       'LOB', 'P_HRA_RT ', 'P_AB_CN', 'P_HIT_CN', 'GYEAR', 'H1', 'OBP', 'SLG',\n",
              "       'OPS', 'GPA', 'AVG', 'BABIP', 'ISO', 'HR_PCT', 'K_PCT', 'BB_PCT',\n",
              "       'BB/K', 'wOBA', 'wRAA', 'wRC', 'RC', 'XR', 'RC27', 'SPD', 'SECA', 'PSN',\n",
              "       'MONEY'],\n",
              "      dtype='object')"
            ]
          },
          "metadata": {
            "tags": []
          },
          "execution_count": 58
        }
      ]
    },
    {
      "cell_type": "code",
      "metadata": {
        "id": "ojCrC5-fm1OH",
        "colab_type": "code",
        "colab": {
          "base_uri": "https://localhost:8080/",
          "height": 140
        },
        "outputId": "cc2a93e3-c2d7-4c1d-a73f-be22f40f555d"
      },
      "source": [
        "final_common.columns = translate(final_common.columns,abbreviation)\n",
        "final_common.columns"
      ],
      "execution_count": null,
      "outputs": [
        {
          "output_type": "execute_result",
          "data": {
            "text/plain": [
              "Index(['G_ID', 'GDAY_DS', 'T_ID', 'VS_T_ID', 'HEADER_NO', 'TB_SC ', 'WLS',\n",
              "       'GYEAR', 'INTERVAL', 'MM', 'NC', 'OB', 'WO', 'HT', 'LG', 'SS', 'KT',\n",
              "       'LT', 'SK', 'HH', 'INN2', 'R', 'RAINOUT', 'OVERTIME', 'RUN', 'tRUN',\n",
              "       'tR', 'aRUN', 'aR', 'W', 'L', 'WPCT', 'PE', 'vs_tRUN', 'vs_tR',\n",
              "       'vs_aRUN', 'vs_aR', 'vs_WPCT', 'vs_PE', 'r_tRUN', 'r_tR', 'r_aRUN',\n",
              "       'r_aR', 'r_WPCT', 'r_PE', 'tMONEY', 'aMONEY'],\n",
              "      dtype='object')"
            ]
          },
          "metadata": {
            "tags": []
          },
          "execution_count": 59
        }
      ]
    },
    {
      "cell_type": "code",
      "metadata": {
        "id": "p4naaAIWnjr8",
        "colab_type": "code",
        "colab": {
          "base_uri": "https://localhost:8080/",
          "height": 590
        },
        "outputId": "d8965f9b-8d52-4eea-e671-33f2275b85d2"
      },
      "source": [
        "team_hitter"
      ],
      "execution_count": null,
      "outputs": [
        {
          "output_type": "execute_result",
          "data": {
            "text/html": [
              "<div>\n",
              "<style scoped>\n",
              "    .dataframe tbody tr th:only-of-type {\n",
              "        vertical-align: middle;\n",
              "    }\n",
              "\n",
              "    .dataframe tbody tr th {\n",
              "        vertical-align: top;\n",
              "    }\n",
              "\n",
              "    .dataframe thead th {\n",
              "        text-align: right;\n",
              "    }\n",
              "</style>\n",
              "<table border=\"1\" class=\"dataframe\">\n",
              "  <thead>\n",
              "    <tr style=\"text-align: right;\">\n",
              "      <th></th>\n",
              "      <th>G_ID</th>\n",
              "      <th>GDAY_DS</th>\n",
              "      <th>T_ID</th>\n",
              "      <th>VS_T_ID</th>\n",
              "      <th>HEADER_NO</th>\n",
              "      <th>TB_SC</th>\n",
              "      <th>PA</th>\n",
              "      <th>AB</th>\n",
              "      <th>RBI</th>\n",
              "      <th>RUN</th>\n",
              "      <th>HIT</th>\n",
              "      <th>H2</th>\n",
              "      <th>H3</th>\n",
              "      <th>HR</th>\n",
              "      <th>SB</th>\n",
              "      <th>CS</th>\n",
              "      <th>SH</th>\n",
              "      <th>SF</th>\n",
              "      <th>BB</th>\n",
              "      <th>IB</th>\n",
              "      <th>HP</th>\n",
              "      <th>KK</th>\n",
              "      <th>GD</th>\n",
              "      <th>ERR</th>\n",
              "      <th>LOB</th>\n",
              "      <th>P_HRA_RT</th>\n",
              "      <th>P_AB_CN</th>\n",
              "      <th>P_HIT_CN</th>\n",
              "      <th>GYEAR</th>\n",
              "      <th>H1</th>\n",
              "      <th>OBP</th>\n",
              "      <th>SLG</th>\n",
              "      <th>OPS</th>\n",
              "      <th>GPA</th>\n",
              "      <th>AVG</th>\n",
              "      <th>BABIP</th>\n",
              "      <th>ISO</th>\n",
              "      <th>HR_PCT</th>\n",
              "      <th>K_PCT</th>\n",
              "      <th>BB_PCT</th>\n",
              "      <th>BBK</th>\n",
              "      <th>wOBA</th>\n",
              "      <th>wRAA</th>\n",
              "      <th>wRC</th>\n",
              "      <th>RC</th>\n",
              "      <th>RC27</th>\n",
              "      <th>XR</th>\n",
              "      <th>SPD</th>\n",
              "      <th>SECA</th>\n",
              "      <th>PSN</th>\n",
              "    </tr>\n",
              "  </thead>\n",
              "  <tbody>\n",
              "    <tr>\n",
              "      <th>0</th>\n",
              "      <td>20160401HHLG0</td>\n",
              "      <td>2016-04-01</td>\n",
              "      <td>LG</td>\n",
              "      <td>HH</td>\n",
              "      <td>0</td>\n",
              "      <td>B</td>\n",
              "      <td>47</td>\n",
              "      <td>42</td>\n",
              "      <td>4</td>\n",
              "      <td>5</td>\n",
              "      <td>9</td>\n",
              "      <td>2</td>\n",
              "      <td>0</td>\n",
              "      <td>1</td>\n",
              "      <td>2</td>\n",
              "      <td>1</td>\n",
              "      <td>1</td>\n",
              "      <td>0</td>\n",
              "      <td>4</td>\n",
              "      <td>0</td>\n",
              "      <td>0</td>\n",
              "      <td>11</td>\n",
              "      <td>0</td>\n",
              "      <td>0</td>\n",
              "      <td>8</td>\n",
              "      <td>0.333</td>\n",
              "      <td>12</td>\n",
              "      <td>4</td>\n",
              "      <td>2016</td>\n",
              "      <td>6</td>\n",
              "      <td>0.000</td>\n",
              "      <td>0.000</td>\n",
              "      <td>0.000</td>\n",
              "      <td>0.000</td>\n",
              "      <td>0.000</td>\n",
              "      <td>0.000</td>\n",
              "      <td>0.000</td>\n",
              "      <td>0.000</td>\n",
              "      <td>0.000</td>\n",
              "      <td>0.000</td>\n",
              "      <td>0.000</td>\n",
              "      <td>0.000</td>\n",
              "      <td>0.000</td>\n",
              "      <td>0.000</td>\n",
              "      <td>0.000</td>\n",
              "      <td>0.000</td>\n",
              "      <td>0.000</td>\n",
              "      <td>0.000</td>\n",
              "      <td>0.000</td>\n",
              "      <td>0.000</td>\n",
              "    </tr>\n",
              "    <tr>\n",
              "      <th>1</th>\n",
              "      <td>20160401HHLG0</td>\n",
              "      <td>2016-04-01</td>\n",
              "      <td>HH</td>\n",
              "      <td>LG</td>\n",
              "      <td>0</td>\n",
              "      <td>T</td>\n",
              "      <td>52</td>\n",
              "      <td>46</td>\n",
              "      <td>4</td>\n",
              "      <td>4</td>\n",
              "      <td>13</td>\n",
              "      <td>2</td>\n",
              "      <td>0</td>\n",
              "      <td>0</td>\n",
              "      <td>0</td>\n",
              "      <td>0</td>\n",
              "      <td>3</td>\n",
              "      <td>0</td>\n",
              "      <td>3</td>\n",
              "      <td>0</td>\n",
              "      <td>0</td>\n",
              "      <td>10</td>\n",
              "      <td>1</td>\n",
              "      <td>2</td>\n",
              "      <td>12</td>\n",
              "      <td>0.200</td>\n",
              "      <td>15</td>\n",
              "      <td>3</td>\n",
              "      <td>2016</td>\n",
              "      <td>11</td>\n",
              "      <td>0.000</td>\n",
              "      <td>0.000</td>\n",
              "      <td>0.000</td>\n",
              "      <td>0.000</td>\n",
              "      <td>0.000</td>\n",
              "      <td>0.000</td>\n",
              "      <td>0.000</td>\n",
              "      <td>0.000</td>\n",
              "      <td>0.000</td>\n",
              "      <td>0.000</td>\n",
              "      <td>0.000</td>\n",
              "      <td>0.000</td>\n",
              "      <td>0.000</td>\n",
              "      <td>0.000</td>\n",
              "      <td>0.000</td>\n",
              "      <td>0.000</td>\n",
              "      <td>0.000</td>\n",
              "      <td>0.000</td>\n",
              "      <td>0.000</td>\n",
              "      <td>0.000</td>\n",
              "    </tr>\n",
              "    <tr>\n",
              "      <th>2</th>\n",
              "      <td>20160401HTNC0</td>\n",
              "      <td>2016-04-01</td>\n",
              "      <td>NC</td>\n",
              "      <td>HT</td>\n",
              "      <td>0</td>\n",
              "      <td>B</td>\n",
              "      <td>36</td>\n",
              "      <td>30</td>\n",
              "      <td>5</td>\n",
              "      <td>5</td>\n",
              "      <td>9</td>\n",
              "      <td>2</td>\n",
              "      <td>0</td>\n",
              "      <td>2</td>\n",
              "      <td>0</td>\n",
              "      <td>0</td>\n",
              "      <td>1</td>\n",
              "      <td>0</td>\n",
              "      <td>5</td>\n",
              "      <td>0</td>\n",
              "      <td>0</td>\n",
              "      <td>9</td>\n",
              "      <td>1</td>\n",
              "      <td>1</td>\n",
              "      <td>7</td>\n",
              "      <td>0.143</td>\n",
              "      <td>7</td>\n",
              "      <td>1</td>\n",
              "      <td>2016</td>\n",
              "      <td>5</td>\n",
              "      <td>0.000</td>\n",
              "      <td>0.000</td>\n",
              "      <td>0.000</td>\n",
              "      <td>0.000</td>\n",
              "      <td>0.000</td>\n",
              "      <td>0.000</td>\n",
              "      <td>0.000</td>\n",
              "      <td>0.000</td>\n",
              "      <td>0.000</td>\n",
              "      <td>0.000</td>\n",
              "      <td>0.000</td>\n",
              "      <td>0.000</td>\n",
              "      <td>0.000</td>\n",
              "      <td>0.000</td>\n",
              "      <td>0.000</td>\n",
              "      <td>0.000</td>\n",
              "      <td>0.000</td>\n",
              "      <td>0.000</td>\n",
              "      <td>0.000</td>\n",
              "      <td>0.000</td>\n",
              "    </tr>\n",
              "    <tr>\n",
              "      <th>3</th>\n",
              "      <td>20160401HTNC0</td>\n",
              "      <td>2016-04-01</td>\n",
              "      <td>HT</td>\n",
              "      <td>NC</td>\n",
              "      <td>0</td>\n",
              "      <td>T</td>\n",
              "      <td>38</td>\n",
              "      <td>34</td>\n",
              "      <td>3</td>\n",
              "      <td>4</td>\n",
              "      <td>8</td>\n",
              "      <td>3</td>\n",
              "      <td>0</td>\n",
              "      <td>1</td>\n",
              "      <td>0</td>\n",
              "      <td>0</td>\n",
              "      <td>0</td>\n",
              "      <td>0</td>\n",
              "      <td>3</td>\n",
              "      <td>0</td>\n",
              "      <td>1</td>\n",
              "      <td>10</td>\n",
              "      <td>1</td>\n",
              "      <td>0</td>\n",
              "      <td>7</td>\n",
              "      <td>0.100</td>\n",
              "      <td>10</td>\n",
              "      <td>1</td>\n",
              "      <td>2016</td>\n",
              "      <td>4</td>\n",
              "      <td>0.000</td>\n",
              "      <td>0.000</td>\n",
              "      <td>0.000</td>\n",
              "      <td>0.000</td>\n",
              "      <td>0.000</td>\n",
              "      <td>0.000</td>\n",
              "      <td>0.000</td>\n",
              "      <td>0.000</td>\n",
              "      <td>0.000</td>\n",
              "      <td>0.000</td>\n",
              "      <td>0.000</td>\n",
              "      <td>0.000</td>\n",
              "      <td>0.000</td>\n",
              "      <td>0.000</td>\n",
              "      <td>0.000</td>\n",
              "      <td>0.000</td>\n",
              "      <td>0.000</td>\n",
              "      <td>0.000</td>\n",
              "      <td>0.000</td>\n",
              "      <td>0.000</td>\n",
              "    </tr>\n",
              "    <tr>\n",
              "      <th>4</th>\n",
              "      <td>20160401KTSK0</td>\n",
              "      <td>2016-04-01</td>\n",
              "      <td>SK</td>\n",
              "      <td>KT</td>\n",
              "      <td>0</td>\n",
              "      <td>B</td>\n",
              "      <td>36</td>\n",
              "      <td>36</td>\n",
              "      <td>4</td>\n",
              "      <td>4</td>\n",
              "      <td>10</td>\n",
              "      <td>5</td>\n",
              "      <td>0</td>\n",
              "      <td>1</td>\n",
              "      <td>0</td>\n",
              "      <td>0</td>\n",
              "      <td>0</td>\n",
              "      <td>0</td>\n",
              "      <td>0</td>\n",
              "      <td>0</td>\n",
              "      <td>0</td>\n",
              "      <td>7</td>\n",
              "      <td>1</td>\n",
              "      <td>1</td>\n",
              "      <td>5</td>\n",
              "      <td>0.375</td>\n",
              "      <td>8</td>\n",
              "      <td>3</td>\n",
              "      <td>2016</td>\n",
              "      <td>4</td>\n",
              "      <td>0.000</td>\n",
              "      <td>0.000</td>\n",
              "      <td>0.000</td>\n",
              "      <td>0.000</td>\n",
              "      <td>0.000</td>\n",
              "      <td>0.000</td>\n",
              "      <td>0.000</td>\n",
              "      <td>0.000</td>\n",
              "      <td>0.000</td>\n",
              "      <td>0.000</td>\n",
              "      <td>0.000</td>\n",
              "      <td>0.000</td>\n",
              "      <td>0.000</td>\n",
              "      <td>0.000</td>\n",
              "      <td>0.000</td>\n",
              "      <td>0.000</td>\n",
              "      <td>0.000</td>\n",
              "      <td>0.000</td>\n",
              "      <td>0.000</td>\n",
              "      <td>0.000</td>\n",
              "    </tr>\n",
              "    <tr>\n",
              "      <th>...</th>\n",
              "      <td>...</td>\n",
              "      <td>...</td>\n",
              "      <td>...</td>\n",
              "      <td>...</td>\n",
              "      <td>...</td>\n",
              "      <td>...</td>\n",
              "      <td>...</td>\n",
              "      <td>...</td>\n",
              "      <td>...</td>\n",
              "      <td>...</td>\n",
              "      <td>...</td>\n",
              "      <td>...</td>\n",
              "      <td>...</td>\n",
              "      <td>...</td>\n",
              "      <td>...</td>\n",
              "      <td>...</td>\n",
              "      <td>...</td>\n",
              "      <td>...</td>\n",
              "      <td>...</td>\n",
              "      <td>...</td>\n",
              "      <td>...</td>\n",
              "      <td>...</td>\n",
              "      <td>...</td>\n",
              "      <td>...</td>\n",
              "      <td>...</td>\n",
              "      <td>...</td>\n",
              "      <td>...</td>\n",
              "      <td>...</td>\n",
              "      <td>...</td>\n",
              "      <td>...</td>\n",
              "      <td>...</td>\n",
              "      <td>...</td>\n",
              "      <td>...</td>\n",
              "      <td>...</td>\n",
              "      <td>...</td>\n",
              "      <td>...</td>\n",
              "      <td>...</td>\n",
              "      <td>...</td>\n",
              "      <td>...</td>\n",
              "      <td>...</td>\n",
              "      <td>...</td>\n",
              "      <td>...</td>\n",
              "      <td>...</td>\n",
              "      <td>...</td>\n",
              "      <td>...</td>\n",
              "      <td>...</td>\n",
              "      <td>...</td>\n",
              "      <td>...</td>\n",
              "      <td>...</td>\n",
              "      <td>...</td>\n",
              "    </tr>\n",
              "    <tr>\n",
              "      <th>6395</th>\n",
              "      <td>20200719LTSS0</td>\n",
              "      <td>2020-07-19</td>\n",
              "      <td>LT</td>\n",
              "      <td>SS</td>\n",
              "      <td>0</td>\n",
              "      <td>T</td>\n",
              "      <td>31</td>\n",
              "      <td>29</td>\n",
              "      <td>2</td>\n",
              "      <td>2</td>\n",
              "      <td>6</td>\n",
              "      <td>1</td>\n",
              "      <td>0</td>\n",
              "      <td>1</td>\n",
              "      <td>0</td>\n",
              "      <td>0</td>\n",
              "      <td>1</td>\n",
              "      <td>0</td>\n",
              "      <td>1</td>\n",
              "      <td>0</td>\n",
              "      <td>0</td>\n",
              "      <td>7</td>\n",
              "      <td>3</td>\n",
              "      <td>0</td>\n",
              "      <td>2</td>\n",
              "      <td>0.000</td>\n",
              "      <td>2</td>\n",
              "      <td>0</td>\n",
              "      <td>2020</td>\n",
              "      <td>4</td>\n",
              "      <td>0.345</td>\n",
              "      <td>0.402</td>\n",
              "      <td>0.747</td>\n",
              "      <td>0.256</td>\n",
              "      <td>0.275</td>\n",
              "      <td>0.311</td>\n",
              "      <td>0.127</td>\n",
              "      <td>0.022</td>\n",
              "      <td>0.158</td>\n",
              "      <td>0.084</td>\n",
              "      <td>0.559</td>\n",
              "      <td>0.341</td>\n",
              "      <td>-9.244</td>\n",
              "      <td>174.281</td>\n",
              "      <td>292.073</td>\n",
              "      <td>4.768</td>\n",
              "      <td>298.168</td>\n",
              "      <td>4.490</td>\n",
              "      <td>0.241</td>\n",
              "      <td>48.816</td>\n",
              "    </tr>\n",
              "    <tr>\n",
              "      <th>6396</th>\n",
              "      <td>20200719OBHT0</td>\n",
              "      <td>2020-07-19</td>\n",
              "      <td>HT</td>\n",
              "      <td>OB</td>\n",
              "      <td>0</td>\n",
              "      <td>B</td>\n",
              "      <td>38</td>\n",
              "      <td>32</td>\n",
              "      <td>4</td>\n",
              "      <td>4</td>\n",
              "      <td>8</td>\n",
              "      <td>0</td>\n",
              "      <td>1</td>\n",
              "      <td>0</td>\n",
              "      <td>0</td>\n",
              "      <td>0</td>\n",
              "      <td>0</td>\n",
              "      <td>0</td>\n",
              "      <td>6</td>\n",
              "      <td>0</td>\n",
              "      <td>0</td>\n",
              "      <td>5</td>\n",
              "      <td>1</td>\n",
              "      <td>0</td>\n",
              "      <td>7</td>\n",
              "      <td>0.571</td>\n",
              "      <td>7</td>\n",
              "      <td>4</td>\n",
              "      <td>2020</td>\n",
              "      <td>7</td>\n",
              "      <td>0.350</td>\n",
              "      <td>0.422</td>\n",
              "      <td>0.773</td>\n",
              "      <td>0.263</td>\n",
              "      <td>0.276</td>\n",
              "      <td>0.311</td>\n",
              "      <td>0.146</td>\n",
              "      <td>0.028</td>\n",
              "      <td>0.167</td>\n",
              "      <td>0.090</td>\n",
              "      <td>0.548</td>\n",
              "      <td>0.351</td>\n",
              "      <td>11.913</td>\n",
              "      <td>190.645</td>\n",
              "      <td>300.651</td>\n",
              "      <td>5.080</td>\n",
              "      <td>302.194</td>\n",
              "      <td>3.836</td>\n",
              "      <td>0.256</td>\n",
              "      <td>29.506</td>\n",
              "    </tr>\n",
              "    <tr>\n",
              "      <th>6397</th>\n",
              "      <td>20200719OBHT0</td>\n",
              "      <td>2020-07-19</td>\n",
              "      <td>OB</td>\n",
              "      <td>HT</td>\n",
              "      <td>0</td>\n",
              "      <td>T</td>\n",
              "      <td>41</td>\n",
              "      <td>37</td>\n",
              "      <td>8</td>\n",
              "      <td>8</td>\n",
              "      <td>11</td>\n",
              "      <td>3</td>\n",
              "      <td>0</td>\n",
              "      <td>1</td>\n",
              "      <td>2</td>\n",
              "      <td>1</td>\n",
              "      <td>0</td>\n",
              "      <td>0</td>\n",
              "      <td>2</td>\n",
              "      <td>1</td>\n",
              "      <td>2</td>\n",
              "      <td>4</td>\n",
              "      <td>0</td>\n",
              "      <td>0</td>\n",
              "      <td>6</td>\n",
              "      <td>0.364</td>\n",
              "      <td>11</td>\n",
              "      <td>4</td>\n",
              "      <td>2020</td>\n",
              "      <td>7</td>\n",
              "      <td>0.370</td>\n",
              "      <td>0.445</td>\n",
              "      <td>0.815</td>\n",
              "      <td>0.278</td>\n",
              "      <td>0.302</td>\n",
              "      <td>0.333</td>\n",
              "      <td>0.143</td>\n",
              "      <td>0.024</td>\n",
              "      <td>0.143</td>\n",
              "      <td>0.087</td>\n",
              "      <td>0.626</td>\n",
              "      <td>0.368</td>\n",
              "      <td>50.648</td>\n",
              "      <td>245.359</td>\n",
              "      <td>361.204</td>\n",
              "      <td>5.750</td>\n",
              "      <td>364.052</td>\n",
              "      <td>4.500</td>\n",
              "      <td>0.252</td>\n",
              "      <td>40.220</td>\n",
              "    </tr>\n",
              "    <tr>\n",
              "      <th>6398</th>\n",
              "      <td>20200719WOSK0</td>\n",
              "      <td>2020-07-19</td>\n",
              "      <td>SK</td>\n",
              "      <td>WO</td>\n",
              "      <td>0</td>\n",
              "      <td>B</td>\n",
              "      <td>37</td>\n",
              "      <td>30</td>\n",
              "      <td>3</td>\n",
              "      <td>4</td>\n",
              "      <td>6</td>\n",
              "      <td>0</td>\n",
              "      <td>0</td>\n",
              "      <td>0</td>\n",
              "      <td>0</td>\n",
              "      <td>0</td>\n",
              "      <td>0</td>\n",
              "      <td>0</td>\n",
              "      <td>7</td>\n",
              "      <td>0</td>\n",
              "      <td>0</td>\n",
              "      <td>10</td>\n",
              "      <td>0</td>\n",
              "      <td>0</td>\n",
              "      <td>9</td>\n",
              "      <td>0.250</td>\n",
              "      <td>8</td>\n",
              "      <td>2</td>\n",
              "      <td>2020</td>\n",
              "      <td>6</td>\n",
              "      <td>0.315</td>\n",
              "      <td>0.360</td>\n",
              "      <td>0.676</td>\n",
              "      <td>0.232</td>\n",
              "      <td>0.243</td>\n",
              "      <td>0.284</td>\n",
              "      <td>0.117</td>\n",
              "      <td>0.023</td>\n",
              "      <td>0.191</td>\n",
              "      <td>0.083</td>\n",
              "      <td>0.451</td>\n",
              "      <td>0.310</td>\n",
              "      <td>-72.776</td>\n",
              "      <td>111.206</td>\n",
              "      <td>239.382</td>\n",
              "      <td>3.719</td>\n",
              "      <td>246.632</td>\n",
              "      <td>4.065</td>\n",
              "      <td>0.220</td>\n",
              "      <td>41.528</td>\n",
              "    </tr>\n",
              "    <tr>\n",
              "      <th>6399</th>\n",
              "      <td>20200719WOSK0</td>\n",
              "      <td>2020-07-19</td>\n",
              "      <td>WO</td>\n",
              "      <td>SK</td>\n",
              "      <td>0</td>\n",
              "      <td>T</td>\n",
              "      <td>37</td>\n",
              "      <td>33</td>\n",
              "      <td>3</td>\n",
              "      <td>3</td>\n",
              "      <td>7</td>\n",
              "      <td>0</td>\n",
              "      <td>0</td>\n",
              "      <td>1</td>\n",
              "      <td>1</td>\n",
              "      <td>0</td>\n",
              "      <td>0</td>\n",
              "      <td>0</td>\n",
              "      <td>3</td>\n",
              "      <td>0</td>\n",
              "      <td>1</td>\n",
              "      <td>4</td>\n",
              "      <td>1</td>\n",
              "      <td>0</td>\n",
              "      <td>7</td>\n",
              "      <td>0.333</td>\n",
              "      <td>3</td>\n",
              "      <td>1</td>\n",
              "      <td>2020</td>\n",
              "      <td>6</td>\n",
              "      <td>0.357</td>\n",
              "      <td>0.435</td>\n",
              "      <td>0.793</td>\n",
              "      <td>0.270</td>\n",
              "      <td>0.272</td>\n",
              "      <td>0.313</td>\n",
              "      <td>0.164</td>\n",
              "      <td>0.029</td>\n",
              "      <td>0.188</td>\n",
              "      <td>0.107</td>\n",
              "      <td>0.582</td>\n",
              "      <td>0.358</td>\n",
              "      <td>28.518</td>\n",
              "      <td>224.674</td>\n",
              "      <td>348.339</td>\n",
              "      <td>5.468</td>\n",
              "      <td>358.756</td>\n",
              "      <td>5.753</td>\n",
              "      <td>0.307</td>\n",
              "      <td>58.959</td>\n",
              "    </tr>\n",
              "  </tbody>\n",
              "</table>\n",
              "<p>6400 rows × 50 columns</p>\n",
              "</div>"
            ],
            "text/plain": [
              "               G_ID     GDAY_DS T_ID VS_T_ID  ...       XR    SPD   SECA     PSN\n",
              "0     20160401HHLG0  2016-04-01   LG      HH  ...    0.000  0.000  0.000   0.000\n",
              "1     20160401HHLG0  2016-04-01   HH      LG  ...    0.000  0.000  0.000   0.000\n",
              "2     20160401HTNC0  2016-04-01   NC      HT  ...    0.000  0.000  0.000   0.000\n",
              "3     20160401HTNC0  2016-04-01   HT      NC  ...    0.000  0.000  0.000   0.000\n",
              "4     20160401KTSK0  2016-04-01   SK      KT  ...    0.000  0.000  0.000   0.000\n",
              "...             ...         ...  ...     ...  ...      ...    ...    ...     ...\n",
              "6395  20200719LTSS0  2020-07-19   LT      SS  ...  298.168  4.490  0.241  48.816\n",
              "6396  20200719OBHT0  2020-07-19   HT      OB  ...  302.194  3.836  0.256  29.506\n",
              "6397  20200719OBHT0  2020-07-19   OB      HT  ...  364.052  4.500  0.252  40.220\n",
              "6398  20200719WOSK0  2020-07-19   SK      WO  ...  246.632  4.065  0.220  41.528\n",
              "6399  20200719WOSK0  2020-07-19   WO      SK  ...  358.756  5.753  0.307  58.959\n",
              "\n",
              "[6400 rows x 50 columns]"
            ]
          },
          "metadata": {
            "tags": []
          },
          "execution_count": 60
        }
      ]
    },
    {
      "cell_type": "code",
      "metadata": {
        "id": "5woftqIxn8bW",
        "colab_type": "code",
        "colab": {}
      },
      "source": [
        "NEW_PATH = \"/content/gdrive/My Drive/Colab Notebooks/1차_최종_데이터(08_29)/1차_최종_\"\n",
        "team_hitter.to_csv(NEW_PATH+\"팀타자.csv\",index=False)\n",
        "team_hitter_r.to_csv(NEW_PATH+\"최근_팀타자.csv\",index=False)\n",
        "team_hitter_vs.to_csv(NEW_PATH+\"상대_팀타자.csv\",index=False)\n",
        "team_pitcher.to_csv(NEW_PATH+\"팀투수.csv\",index=False)\n",
        "team_pitcher_r.to_csv(NEW_PATH+\"최근_팀투수.csv\",index=False)\n",
        "team_pitcher_vs.to_csv(NEW_PATH+\"상대_팀투수.csv\",index=False)\n",
        "per_hitter.to_csv(NEW_PATH+\"개인타자.csv\",index=False)\n",
        "per_pitcher.to_csv(NEW_PATH+\"개인투수.csv\",index=False)\n",
        "final_common.to_csv(NEW_PATH+\"공통.csv\",index=False)"
      ],
      "execution_count": null,
      "outputs": []
    },
    {
      "cell_type": "code",
      "metadata": {
        "id": "_v4wrZAmPxxm",
        "colab_type": "code",
        "colab": {}
      },
      "source": [
        ""
      ],
      "execution_count": null,
      "outputs": []
    }
  ]
}